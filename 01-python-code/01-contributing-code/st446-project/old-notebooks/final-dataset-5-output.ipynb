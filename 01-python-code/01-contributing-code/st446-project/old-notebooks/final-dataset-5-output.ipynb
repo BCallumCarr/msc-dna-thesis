{
 "cells": [
  {
   "cell_type": "markdown",
   "metadata": {},
   "source": [
    "# Exploring Community Engagement with StackExchange Fora"
   ]
  },
  {
   "cell_type": "markdown",
   "metadata": {},
   "source": [
    "## Table of Contents"
   ]
  },
  {
   "cell_type": "markdown",
   "metadata": {},
   "source": [
    "* Abstract\n",
    "* Introduction\n",
    "* Datasets: StackExchange\n",
    "* Distributed Computing Technology\n",
    "* Conclusion\n",
    "* References\n",
    "* Appendix"
   ]
  },
  {
   "cell_type": "markdown",
   "metadata": {},
   "source": [
    "## Abstract"
   ]
  },
  {
   "cell_type": "markdown",
   "metadata": {},
   "source": [
    "Developing high-quality questions and procuring answers to these questions is not only fundamental to learning and information gathering, but to scientific and progress as a whole. Online question-answer communities and fora have given internet-users the unprecendented ability of presenting questions to the world, and while much attention has been given to finding the right answers (ask Google), relatively little attention has been dedicated to how we can improve questions. \n",
    "\n",
    "Having users produce relevant, legible and previously-researched questions is particularly valuable in communities where expert resources are often scarce. One way in which to promote this would be to **predict a question's quality/community engagement so that users can be nudged to improve aspects of their questions before adding demand to the community.** With this end-goal in mind, this analysis explores a group of **large online question-answer communities**... **critiques, validates and extends the methodology in previous research that has been focused on questions in question-answer communities.** By harnessing the capability of distributed cloud computing, I am able to analyse datasets much larger than what is capable by a single, commercial laptop."
   ]
  },
  {
   "cell_type": "markdown",
   "metadata": {},
   "source": [
    "## Introduction"
   ]
  },
  {
   "cell_type": "markdown",
   "metadata": {},
   "source": [
    "The aim of the project is to being an exploration of how the online question-answer communities interact with questions and how users can be nudged to improve questions before adding demand to expert resources in a community. \n",
    "\n",
    "This work follows a line of research aimed at predicting question quality - more specifically, my analysis will build on methodology developed in @Ravi2014. **Before Ravi however**, Research has looked at question quality using Yahoo! Answers (@Agichtein2008, @Bian2009, and @Li2012),\n",
    "\n",
    "The ability to use cloud computing is cool because...\n",
    "\n",
    "\n",
    "\n",
    "The layout of the analysis is as follows. Firstly and secondly I give a brief discussion of the distributed computing technologies and datasets used. This is followed by an explanation of setup code and the specific architecture of the computing capabilities I used. I then query and perform Exploratory Data Analysis on the chosen datasets. **I consequently build a model to predict and predict on the datasets.** Lastly I conclude with a discussion of the results and recommend further research."
   ]
  },
  {
   "cell_type": "markdown",
   "metadata": {},
   "source": [
    "## Distributed Computing Technologies"
   ]
  },
  {
   "cell_type": "markdown",
   "metadata": {},
   "source": [
    "### SQL"
   ]
  },
  {
   "cell_type": "markdown",
   "metadata": {},
   "source": [
    "A discussion of more advanced distributed computing techniques necessetates at least an introduction to Structured Query Languages"
   ]
  },
  {
   "cell_type": "markdown",
   "metadata": {},
   "source": [
    "### Apache Spark"
   ]
  },
  {
   "cell_type": "markdown",
   "metadata": {},
   "source": [
    "Now you can use PySpark"
   ]
  },
  {
   "cell_type": "markdown",
   "metadata": {},
   "source": [
    "You can invoke SparkContext as `sc`. `pyspark.SparkContext` is the main entry point for Spark functionality.\n",
    "\n",
    "`pyspark.RDD` is the novel concept of Resilient Distributed Dataset (RDD) which is the basic abstraction in Spark.\n",
    "\n",
    "The design for RDDs was intended to ensure fault-tolerance, distribution across **....** and in-memory computing.\n",
    "\n"
   ]
  },
  {
   "cell_type": "markdown",
   "metadata": {},
   "source": [
    "You are also able to work with streaming data with `pyspark.streaming.StreamingContext` being the main entry point for the Spark Streaming capability.\n",
    "\n",
    "`pyspark.streaming.DStream` is a Discretized Stream (DStream) which is the basic abstraction in Spark Streaming.\n",
    "\n",
    "For the use of DataFrames and SQL, `pyspark.sql.SparkSession` is used where `pyspark.sql.DataFrame` serves as a distributed collection of data that grouped into named columns.\n",
    "\n",
    "Since we will not be working with streaming data, I will mostly be using `pyspark.sql.DataFrame` objects, the user guide for which can be found [here](https://spark.apache.org/docs/latest/api/python/pyspark.sql.html#).\n",
    "\n",
    "\n",
    "\n",
    "\n",
    "sqlContext is also automatically created in the PySpark session."
   ]
  },
  {
   "cell_type": "markdown",
   "metadata": {},
   "source": [
    "### Comparison to other BigData tech"
   ]
  },
  {
   "cell_type": "markdown",
   "metadata": {},
   "source": [
    "Although a rule of thumb is that Spark is best-suited for real-time or streaming data processing where a large amount of RAM is accessible and Hadoop is more suitable for batch processing using commodity hardware, I chose to use Spark owing to the ease of use of PySpark and the SQL like API, **over some** imperative programming like Mapreduce."
   ]
  },
  {
   "cell_type": "markdown",
   "metadata": {},
   "source": [
    "### Google Cloud Platform"
   ]
  },
  {
   "cell_type": "markdown",
   "metadata": {},
   "source": [
    "Specifically the Compute Engine on the Google Cloud Platform (GCP) gives the ability to rent different types of masters/workers with CPU values of 1, 2, 4, 8, 16, 32, 64 and 96 with the option of having lower memory per Compute Instance (highcpu) or higher (highmem)."
   ]
  },
  {
   "cell_type": "markdown",
   "metadata": {},
   "source": [
    "## Datasets: StackExchange Family"
   ]
  },
  {
   "cell_type": "markdown",
   "metadata": {},
   "source": [
    "[StackExchange](https://stackexchange.com/sites#traffic) is a group of over 170 dedicated question-answer websites covering topics ranging from vegetarianism to robotics to science-fiction world building. The largest forum is programming site StackOverflow, now home to more than 10 million registered users and 18 million questions at the time of writing.\n",
    "\n",
    "The data across all StackExchange sites are publicly available in XML format (zipped by 7-zip with bzip2 compression) at [archive.org](https://archive.org/download/stackexchange) and are regularly updated (the last update being 4 March 2019). For each site, the following files are available:"
   ]
  },
  {
   "cell_type": "markdown",
   "metadata": {},
   "source": [
    "* `PostHistory.xml`: A history of the versions of each question and answer posted (questions can be edited)\n",
    "* `Posts.xml`: The final, up to date version of each question and answer posted\n",
    "* `Users.xml`: Data on registered users \n",
    "* `Votes.xml`: Data on different votes cast (moderator-related, offensive, spam, votes to close, delete etc.)\n",
    "* `Comments.xml`: The final, up to date version of each comment posted\n",
    "* `Badges.xml`: Log of when badges (an incentive mechanism) are awarded to users for specific achievements\n",
    "* `PostLinks.xml`: Connects posts marked as linked or duplicated\n",
    "* `Tags.xml`: Data on the tags put forth with each question posted"
   ]
  },
  {
   "cell_type": "markdown",
   "metadata": {},
   "source": [
    "As this is an initial analysis, I will only be using the `Posts.xml` data for each forum. In this file, the following variables are recorded per post:\n",
    "\n",
    "* `Id`: A chronological post identity variable\n",
    "* `PostTypeId`: Mainly an indicator of whether the post is an question (==1) or an answer (==2)\n",
    "* `ParentId`: An indicator of which question and answer belongs to (only answers)\n",
    "* `AcceptedAnswerId`: An indicator of which answer the original question poster selected as accepted (only questions)\n",
    "* `CreationDate`: A date variable relating to when the post was made\n",
    "* `Score`: The difference between up-votes and down-votes for posts\n",
    "* `ViewCount`: The number of times that a post has been viewed by registered and non-registered users alike\n",
    "* `Body`: The main post content\n",
    "* `OwnerUserId`: A identity variable for the post owner\n",
    "* `LastEditorUserId`: A identity number for the last registered user that edited the post\n",
    "* `LastEditDate`: A date variable relating to when the post was last edited\n",
    "* `LastActivityDate`: A date variable relating to when last there was activity on the post\n",
    "* `Title`: The post title for questions only\n",
    "* `Tags`: The collection of tags linked to a question\n",
    "* `AnswerCount`: The number of answers that a question receives (questions only)\n",
    "* `CommentCount`: The number of comments that a post receives\n",
    "* `FavoriteCount`: The number of times that users have favourited a question (questions only)\n",
    "* `ClosedDate`: A boolean relating to whether a question has been closed or not (questions only)"
   ]
  },
  {
   "cell_type": "markdown",
   "metadata": {},
   "source": [
    "**Note:** The word \"post\" above refers to both questions and answers."
   ]
  },
  {
   "cell_type": "markdown",
   "metadata": {},
   "source": [
    "**Other aspects of the data**"
   ]
  },
  {
   "cell_type": "markdown",
   "metadata": {},
   "source": [
    "It is worth mentioning the following:\n",
    "\n",
    "* Not everyone who views a question (and thus adds to the `ViewCount`) can vote since you have to be a registered user to vote (the sites are open to the public) and you also need a certain amount of reputation to vote\n",
    "* A [reputation](https://meta.stackexchange.com/questions/7237/how-does-reputation-work) level of 15 allows you to up-vote, whereas a level of 125 allows you to down-vote, thus the distribution of the `Score` variable is highly negatively skewed (more highly-scored questions and answers)\n",
    "* Only a handful of the above variables will be used in this initial analysis"
   ]
  },
  {
   "cell_type": "markdown",
   "metadata": {},
   "source": [
    "**Downloading the data**"
   ]
  },
  {
   "cell_type": "markdown",
   "metadata": {},
   "source": [
    "The datasets were downloaded with the following bash script, run when the GCP cluster is created:"
   ]
  },
  {
   "cell_type": "markdown",
   "metadata": {},
   "source": [
    "```bash\n",
    "## install htop to monitor CPUs later\n",
    "sudo apt-get install htop\n",
    "\n",
    "## install unzipper\n",
    "sudo apt-get install --yes p7zip-full\n",
    "\n",
    "## create folder and datasets array (separate approach for stackoverflow.com-Posts.7z)\n",
    "mkdir datasets && cd datasets\n",
    "\n",
    "declare -a arr=(\n",
    "\"askubuntu.com\"\n",
    "\"codegolf.stackexchange.com\"\n",
    "\"codereview.stackexchange.com\"\n",
    "\"es.stackoverflow.com\"\n",
    "\"math.stackexchange.com\"\n",
    "\"physics.stackexchange.com\"\n",
    "\"ru.stackoverflow.com\"\n",
    "\"stackoverflow.com-Posts\"\n",
    "\"superuser.com\"\n",
    "\"unix.stackexchange.com\"\n",
    ")\n",
    "\n",
    "## loop downloading, unzipping and extracting all XML data\n",
    "for i in \"${arr[@]}\"\n",
    "do\n",
    "   mkdir \"$i\" && cd \"$i\"\n",
    "   wget https://archive.org/download/stackexchange/\"$i\".7z\n",
    "   p7zip -d \"$i\".7z\n",
    "   find . -type f ! -name 'Posts.xml' -delete # delete everything except Posts.xml\n",
    "   cd ..\n",
    "   echo \"On to next dataset!\"\n",
    "done\n",
    "\n",
    "## rename folders for ease of import later\n",
    "mv stackoverflow.com-Posts stackoverflow.stackexchange.com\n",
    "mv superuser.com superuser.stackexchange.com\n",
    "mv askubuntu.com askubuntu.stackexchange.com\n",
    "mv ru.stackoverflow.com rus_stackoverflow.stackexchange.com\n",
    "mv es.stackoverflow.com es_stackoverflow.stackexchange.com\n",
    "\n",
    "cd\n",
    "\n",
    "## copy datasets folder over to bucket\n",
    "gsutil cp -r datasets gs://bucket-brad-project/datasets/large-datasets\n",
    "```"
   ]
  },
  {
   "cell_type": "markdown",
   "metadata": {},
   "source": [
    "**Cluster and Environment Setup**"
   ]
  },
  {
   "cell_type": "markdown",
   "metadata": {},
   "source": [
    "I used the following code entered into my terminal to spin up a custom dataproc cluster on GCP:"
   ]
  },
  {
   "cell_type": "markdown",
   "metadata": {},
   "source": [
    "```bash\n",
    "## set project beforehand\n",
    "gcloud config list\n",
    "export PROJECT=\"stack-exchange-project\"\n",
    "gcloud config set project ${PROJECT}\n",
    "\n",
    "## set variables beforehand\n",
    "export NUM_WORKERS=\"2\"\n",
    "export BUCKET=\"bucket-brad-project\"\n",
    "export CLUSTER=\"cluster-brad\"\n",
    "\n",
    "## spin up cluster\n",
    "gcloud dataproc clusters create ${CLUSTER} \\\n",
    "--properties=^#^spark:spark.jars.packages=com.databricks:spark-xml_2.11:0.4.1 \\\n",
    " --subnet default --zone europe-west2-a --master-machine-type n1-highmem-96 \\\n",
    " --master-boot-disk-size 500 --num-workers=${NUM_WORKERS} --worker-machine-type n1-highmem-16 \\\n",
    " --worker-boot-disk-size 500 --image-version 1.3-deb9 --project=${PROJECT} --bucket=${BUCKET} \\\n",
    " --initialization-actions 'gs://dataproc-initialization-actions/jupyter/jupyter.sh',\\\n",
    "'gs://dataproc-initialization-actions/python/pip-install.sh','gs://bucket-brad-project/my-actions.sh' \\\n",
    "--metadata 'PIP_PACKAGES=sklearn nltk pandas'\n",
    "\n",
    "## connect to jupyter notebook\n",
    "export PORT=8123\n",
    "export ZONE=\"europe-west2-a\"\n",
    "export HOSTNAME=cluster-brad-m\n",
    "\n",
    "gcloud compute ssh ${HOSTNAME} \\\n",
    "    --project=${PROJECT} --zone=${ZONE}  -- \\\n",
    "    -D ${PORT} -N &\n",
    "\n",
    "\"/Applications/Google Chrome.app/Contents/MacOS/Google Chrome\" \\\n",
    "      --proxy-server=\"socks5://localhost:${PORT}\" \\\n",
    "      --user-data-dir=/tmp/${HOSTNAME}\n",
    "```\n",
    "```bash\n",
    "## delete clusters after use\n",
    "gcloud dataproc clusters delete cluster-brad\n",
    "```"
   ]
  },
  {
   "cell_type": "markdown",
   "metadata": {},
   "source": [
    "**Note:** The analysis required substantial testing and optimising in the interest of increasing speed and thus I had to request increases in my computing quotas from Google."
   ]
  },
  {
   "cell_type": "markdown",
   "metadata": {},
   "source": [
    "---"
   ]
  },
  {
   "cell_type": "markdown",
   "metadata": {},
   "source": [
    "# Analysis"
   ]
  },
  {
   "cell_type": "markdown",
   "metadata": {},
   "source": [
    "## Importing and Setup"
   ]
  },
  {
   "cell_type": "code",
   "execution_count": 5,
   "metadata": {},
   "outputs": [
    {
     "name": "stdout",
     "output_type": "stream",
     "text": [
      "b'\"Welcome to my notebook\"\\n'\n"
     ]
    }
   ],
   "source": [
    "## testing printing output from console\n",
    "import subprocess\n",
    "cmd = [ 'echo', '\"Welcome to my notebook\"' ]\n",
    "output = subprocess.Popen( cmd, stdout=subprocess.PIPE ).communicate()[0]\n",
    "print(output)"
   ]
  },
  {
   "cell_type": "code",
   "execution_count": 6,
   "metadata": {},
   "outputs": [],
   "source": [
    "## use com.databricks package specified when spinning up cluster\n",
    "import os ## restart kernel\n",
    "#os._exit(00)\n",
    "os.environ['PYSPARK_SUBMIT_ARGS'] = '--packages com.databricks:spark-xml_2.11:0.4.1 pyspark-shell'"
   ]
  },
  {
   "cell_type": "code",
   "execution_count": 7,
   "metadata": {},
   "outputs": [
    {
     "data": {
      "text/plain": [
       "8"
      ]
     },
     "execution_count": 7,
     "metadata": {},
     "output_type": "execute_result"
    }
   ],
   "source": [
    "## check default number of partitions\n",
    "sc.defaultParallelism"
   ]
  },
  {
   "cell_type": "code",
   "execution_count": 9,
   "metadata": {},
   "outputs": [],
   "source": [
    "## import standard libraries\n",
    "import re\n",
    "import time\n",
    "import numpy as np\n",
    "import matplotlib.pyplot as plt\n",
    "%matplotlib inline\n",
    "from datetime import datetime\n",
    "\n",
    "## import pyspark elements\n",
    "from pyspark.sql import SQLContext\n",
    "sqlContext = SQLContext(sc)\n",
    "from pyspark.sql.functions import col, lit, when\n",
    "from pyspark.sql import Row\n",
    "\n",
    "## import natural language processing elements\n",
    "import nltk\n",
    "#nltk.download('all') # uncomment first run as admin check\n",
    "from nltk.tokenize import sent_tokenize, word_tokenize\n",
    "from nltk.corpus import stopwords\n",
    "from nltk.stem.wordnet import WordNetLemmatizer\n",
    "import string\n",
    "stop_words = set(stopwords.words('english'))\n",
    "table = str.maketrans('', '', string.punctuation)\n",
    "lmtzr = WordNetLemmatizer()\n",
    "\n",
    "## function to tokenise and lemmatise\n",
    "def get_tokens(line):\n",
    "    ###\n",
    "    tokens = word_tokenize(line)\n",
    "    # convert to lower case\n",
    "    tokens = [w.lower() for w in tokens]\n",
    "    # remove punctuations from each word\n",
    "    stripped = [w.translate(table) for w in tokens]\n",
    "    # remove remaining tokens that are not alphabetic\n",
    "    words = [word for word in stripped if word.isalpha()]\n",
    "    # filter out stop words\n",
    "    words = [w for w in words if not w in stop_words]\n",
    "    # lemmatizing the words, see https://en.wikipedia.org/wiki/Lemmatisation\n",
    "    words = [lmtzr.lemmatize(w) for w in words]\n",
    "    return (words)\n",
    "\n",
    "## set checkpoint directory\n",
    "sc.setCheckpointDir(\"gs://bucket-brad-project/tmp/\")"
   ]
  },
  {
   "cell_type": "markdown",
   "metadata": {},
   "source": [
    "## Loading Data"
   ]
  },
  {
   "cell_type": "code",
   "execution_count": 14,
   "metadata": {},
   "outputs": [],
   "source": [
    "## choose datasets to compare\n",
    "data_array = [\n",
    "\"codegolf\",\n",
    "\"codereview\",\n",
    "\"es_stackoverflow\",\n",
    "\"physics\",\n",
    "\"unix\"\n",
    "]"
   ]
  },
  {
   "cell_type": "markdown",
   "metadata": {},
   "source": [
    "Owing to difficulties in processing speeds that will be detailed later, I chose to analyse only the above datasets, information on which is displayed below:"
   ]
  },
  {
   "cell_type": "markdown",
   "metadata": {},
   "source": [
    "| Fora | Registered Users | Questions | Answers | Posts.xml Size | Description |\n",
    "| --- | --- | --- | --- | --- | --- |\n",
    "| codegolf | 68k | 11k | 137k | 272.74 MB | Programming puzzles |\n",
    "| codereview | 171k | 59k | 94k | 596.56  MB | Peer programmer code reviews |\n",
    "| es_stackoverflow | 115k | 89k | 100k | 420.67 MB | Spanish StackOverflow |\n",
    "| physics | 167k | 137k | 202k | 509.59 MB | Physics related |\n",
    "| unix | 311k | 159k | 242k | 577.06 MB | Linux, FreeBSD and other Un*x-like operating systems"
   ]
  },
  {
   "cell_type": "code",
   "execution_count": 15,
   "metadata": {},
   "outputs": [],
   "source": [
    "## point to right directory\n",
    "fpath = 'gs://bucket-brad-project/datasets/large-datasets/'\n",
    "\n",
    "## function to extract data from xml files\n",
    "def load_all_xml(table_name):\n",
    "    # create dataframe list skeleton\n",
    "    dfs = {}\n",
    "    xml_name = table_name.capitalize()\n",
    "    for i in data_array:\n",
    "        table = sqlContext.read.format('com.databricks.spark.xml').options(rowTag=table_name).load(fpath+i+'.stackexchange.com/'+xml_name+'.xml')\n",
    "        rdd_table = table.rdd.flatMap(lambda x: x).flatMap(lambda x: x).repartition(96) # key step\n",
    "        # assign dataframe to list entry\n",
    "        dfs[i] = sqlContext.createDataFrame(rdd_table, table.schema.fields[0].dataType.elementType)\n",
    "        dfs[i].createOrReplaceTempView(table_name)\n",
    "    return dfs"
   ]
  },
  {
   "cell_type": "code",
   "execution_count": 16,
   "metadata": {},
   "outputs": [
    {
     "name": "stdout",
     "output_type": "stream",
     "text": [
      "Number of CPUs master node: 96\n",
      "b'MemTotal:       643995876 kB\\n'\n"
     ]
    }
   ],
   "source": [
    "## display architecture (must find workers as well)\n",
    "import multiprocessing\n",
    "print(\"Number of CPUs master node:\", multiprocessing.cpu_count())\n",
    "\n",
    "## testing printing output from console\n",
    "import subprocess\n",
    "cmd = [ 'grep', 'MemTotal', '/proc/meminfo' ]\n",
    "output = subprocess.Popen( cmd, stdout=subprocess.PIPE ).communicate()[0]\n",
    "print(output)"
   ]
  },
  {
   "cell_type": "markdown",
   "metadata": {},
   "source": [
    "Much time was spent testing out cluster architectures since just the loading-in of the smallest of the 10 datasets was taking a substantial amount of time. Eventually due to time and GCP budget constraints, despite only exploring the 5 smallest datasets downloaded (a total of just over 2gb of data) I decided scale vertically as opposed to horizontally, resulting in a high-memory master node with 96 CPUs."
   ]
  },
  {
   "cell_type": "code",
   "execution_count": 39,
   "metadata": {},
   "outputs": [
    {
     "name": "stdout",
     "output_type": "stream",
     "text": [
      "Start time: 09:29:12.115888\n",
      "Time taken: 17 minutes.\n"
     ]
    }
   ],
   "source": [
    "## start time\n",
    "t0 = time.time()\n",
    "print(\"Start time:\", datetime.now().time())\n",
    "\n",
    "## extract all datasets and store in list of dataframes\n",
    "posts_dfs = load_all_xml(\"posts\")\n",
    "\n",
    "## end time\n",
    "T = time.time() - t0;\n",
    "print(\"Time taken:\", round(T/60), \"minutes.\") "
   ]
  },
  {
   "cell_type": "markdown",
   "metadata": {},
   "source": [
    "Examples of the times taken to read in only the respective forums are displayed below (the read-in times are proportional to computation time later in the analysis):"
   ]
  },
  {
   "cell_type": "markdown",
   "metadata": {},
   "source": [
    "| Master Node | Workers | Read-In Time | Fora |\n",
    "| --- | --- | --- | --- |\n",
    "| n1-highcpu-32 | 4 x n1-highcpu-8 | > 7 min | codereview |\n",
    "| n1-highcpu-32 | 7 x n1-standard-4 | 7 min | codereview |\n",
    "| n1-highmem-32 | 2 x n1-standard-8 | 4 min | codereview |\n",
    "| n1-highmem-96 | 2 x n1-highmem-96 | 4 min | codereview |\n",
    "| n1-standard-32 | 2 x n1-standard-4 | 4 min | codereview |\n",
    "| n1-highcpu-32 | 2 x n1-standard-4 | 4 min | codereview |\n",
    "| n1-standard-64 | 2 x n1-standard-4 | 4 min | codereview |\n",
    "| n1-highmem-32 | 2 x n1-standard-4 | 4 min | codereview |\n",
    "| n1-highmem-32 | 2 x n1-highmem-4 | failed | es_stackoverflow, codereview, physics, unix |\n",
    "| n1-highmem-96 | 2 x n1-highmem-16 | 12 min | codereview, physics, unix |\n",
    "| n1-highmem-32 | 2 x n1-highmem-4 | 11 min | codereview, physics, unix |\n",
    "| n1-highmem-96 | 0  | 17 min | es_stackoverflow, codegolf, codereview, physics, unix |\n"
   ]
  },
  {
   "cell_type": "markdown",
   "metadata": {},
   "source": [
    "From the table we can see that increasing the workers doesn't appear to increase speed, increasing the memory helps slightly and increasing the CPUs of the master node apparently matters the most (although the gain in speed for using so many CPUs leaves much to be desired). While this may indicate resource bottlenecking on the master CPUs, a much more likely explanation is that the full capacity of the cores of the master and workers is not being used when issuing PySpark commands, and htop provides evidence for this:"
   ]
  },
  {
   "cell_type": "markdown",
   "metadata": {},
   "source": [
    "[PIC OF HTOP]"
   ]
  },
  {
   "cell_type": "markdown",
   "metadata": {},
   "source": [
    "This is a common theme throughout the analysis with PySpark commands failing if there aren't enough cores on the master worker. Initially it was thought that this was due to the original data being stored in XML format [as this appears to be an issue in some cases](https://community.hortonworks.com/questions/78024/comdatabrickssparkxml-parsing-xml-takes-a-very-lon.html), but my hypothesis is that the underlying Spark installation beneath PySpark is having trouble using the cores across the master and workers effectively, resulting in very high computation times for basic queries on very small datasets. While much was tried to address this problem, it remained throughout the analysis and hence why not all 10 largest StackExchange datasets (let alone 20) were analysed. Nevertheless, this notebook allows for the reproducibility of the analysis with larger datasets if this particular obstacle is overcome."
   ]
  },
  {
   "cell_type": "code",
   "execution_count": 8,
   "metadata": {},
   "outputs": [],
   "source": [
    "## spark commands to ascertain reason for slow computation speed\n",
    "#sc._conf.getAll()\n",
    "#sc.stop()\n",
    "#sc = SparkContext(\"local[*]\", \"Test\")\n",
    "#sc._conf.getAll()"
   ]
  },
  {
   "cell_type": "markdown",
   "metadata": {},
   "source": [
    "**A note on the data**"
   ]
  },
  {
   "cell_type": "markdown",
   "metadata": {},
   "source": [
    "An interesting aspect of the data is that while it is initially in raw XML format which is considered **semi-structured** since it contains tags/markers to enforce hierarchy of entries, I read-in the data to a `pyspark.sql.DataFrame` which has a schema and is thus **structured**. The final `Body` variable I work with is completely **unstructured** since as text it is not organised in any manner."
   ]
  },
  {
   "cell_type": "markdown",
   "metadata": {},
   "source": [
    "**Testing to see if repartitioning data speeds up analysis**"
   ]
  },
  {
   "cell_type": "code",
   "execution_count": 41,
   "metadata": {},
   "outputs": [
    {
     "name": "stdout",
     "output_type": "stream",
     "text": [
      "Start time: 09:46:37.584317\n",
      "145539\n",
      "Time taken: 3.021807797749837 minutes.\n"
     ]
    }
   ],
   "source": [
    "## start time\n",
    "t0 = time.time()\n",
    "print(\"Start time:\", datetime.now().time())\n",
    "\n",
    "## count rows of first dataset\n",
    "print(posts_dfs[\"codegolf\"].count())\n",
    "    \n",
    "## end time\n",
    "T = time.time() - t0;\n",
    "print(\"Time taken:\", T/60, \"minutes.\") "
   ]
  },
  {
   "cell_type": "code",
   "execution_count": 46,
   "metadata": {},
   "outputs": [
    {
     "name": "stdout",
     "output_type": "stream",
     "text": [
      "384\n",
      "384\n",
      "384\n",
      "384\n",
      "384\n"
     ]
    }
   ],
   "source": [
    "## repartition\n",
    "for i in data_array:\n",
    "    posts_dfs[i] = posts_dfs[i].repartition(384)\n",
    "    print(posts_dfs[i].rdd.getNumPartitions())"
   ]
  },
  {
   "cell_type": "code",
   "execution_count": 47,
   "metadata": {},
   "outputs": [
    {
     "name": "stdout",
     "output_type": "stream",
     "text": [
      "Start time: 09:57:32.823280\n",
      "145539\n",
      "Time taken: 3.1331292430559796 minutes.\n"
     ]
    }
   ],
   "source": [
    "## start time\n",
    "t0 = time.time()\n",
    "print(\"Start time:\", datetime.now().time())\n",
    "\n",
    "## count rows of first dataset\n",
    "print(posts_dfs[\"codegolf\"].count())\n",
    "    \n",
    "## end time\n",
    "T = time.time() - t0;\n",
    "print(\"Time taken:\", T/60, \"minutes.\") "
   ]
  },
  {
   "cell_type": "markdown",
   "metadata": {},
   "source": [
    "After trying a number of partitions from 4 to 384, it appears that this has little to no effect on computation speed. Again, the issue of only a few cores being used is present:"
   ]
  },
  {
   "cell_type": "markdown",
   "metadata": {},
   "source": [
    "[PIC 2 OF HTOP]"
   ]
  },
  {
   "cell_type": "markdown",
   "metadata": {},
   "source": [
    "# Exploratory Data Analysis"
   ]
  },
  {
   "cell_type": "code",
   "execution_count": 48,
   "metadata": {},
   "outputs": [
    {
     "name": "stdout",
     "output_type": "stream",
     "text": [
      "<class 'dict'>\n",
      "\n",
      "\n",
      "<class 'pyspark.sql.dataframe.DataFrame'>\n",
      "\n",
      "\n",
      "root\n",
      " |-- _AcceptedAnswerId: long (nullable = true)\n",
      " |-- _AnswerCount: long (nullable = true)\n",
      " |-- _Body: string (nullable = true)\n",
      " |-- _ClosedDate: string (nullable = true)\n",
      " |-- _CommentCount: long (nullable = true)\n",
      " |-- _CommunityOwnedDate: string (nullable = true)\n",
      " |-- _CreationDate: string (nullable = true)\n",
      " |-- _FavoriteCount: long (nullable = true)\n",
      " |-- _Id: long (nullable = true)\n",
      " |-- _LastActivityDate: string (nullable = true)\n",
      " |-- _LastEditDate: string (nullable = true)\n",
      " |-- _LastEditorDisplayName: string (nullable = true)\n",
      " |-- _LastEditorUserId: long (nullable = true)\n",
      " |-- _OwnerDisplayName: string (nullable = true)\n",
      " |-- _OwnerUserId: long (nullable = true)\n",
      " |-- _ParentId: long (nullable = true)\n",
      " |-- _PostTypeId: long (nullable = true)\n",
      " |-- _Score: long (nullable = true)\n",
      " |-- _Tags: string (nullable = true)\n",
      " |-- _Title: string (nullable = true)\n",
      " |-- _VALUE: string (nullable = true)\n",
      " |-- _ViewCount: long (nullable = true)\n",
      "\n"
     ]
    }
   ],
   "source": [
    "# print type of posts_dfs\n",
    "print(type(posts_dfs))\n",
    "print('\\n')\n",
    "\n",
    "# print type of first dataframe\n",
    "print(type(posts_dfs[\"codereview\"]))\n",
    "print('\\n')\n",
    "\n",
    "# schema of first dataframe\n",
    "posts_dfs[\"codereview\"].printSchema()"
   ]
  },
  {
   "cell_type": "markdown",
   "metadata": {},
   "source": [
    "To save computation time, we drop columns we don't need:"
   ]
  },
  {
   "cell_type": "code",
   "execution_count": 50,
   "metadata": {},
   "outputs": [
    {
     "name": "stdout",
     "output_type": "stream",
     "text": [
      "Start time: 10:02:51.643357\n",
      "Time taken: 0 minutes.\n"
     ]
    }
   ],
   "source": [
    "## start time\n",
    "t0 = time.time()\n",
    "print(\"Start time:\", datetime.now().time())\n",
    "\n",
    "for i in data_array:\n",
    "    posts_dfs[i] = posts_dfs[i].select('_AnswerCount', '_Body', '_CommentCount', '_PostTypeId', '_Score', '_ViewCount')\n",
    "    \n",
    "## end time\n",
    "T = time.time() - t0;\n",
    "print(\"Time taken:\", round(T/60), \"minutes.\") "
   ]
  },
  {
   "cell_type": "markdown",
   "metadata": {},
   "source": [
    "We can see how PySpark commands are lazily evaluated since the above command is almost instantaneous."
   ]
  },
  {
   "cell_type": "code",
   "execution_count": 52,
   "metadata": {},
   "outputs": [
    {
     "name": "stdout",
     "output_type": "stream",
     "text": [
      "Garbage collector: collected 473 objects.\n"
     ]
    }
   ],
   "source": [
    "## garbage collector to speed up computation\n",
    "import gc\n",
    "collected = gc.collect()\n",
    "print(\"Garbage collector: collected %d objects.\" % collected)"
   ]
  },
  {
   "cell_type": "code",
   "execution_count": 54,
   "metadata": {},
   "outputs": [
    {
     "name": "stdout",
     "output_type": "stream",
     "text": [
      "10:10:21.740725\n",
      "\n",
      "------------------\n",
      " codegolf \n",
      "------------------\n",
      "\n",
      "+-------+------------------+-----------------+------------------+-----------------+------------------+\n",
      "|summary|      _AnswerCount|    _CommentCount|       _PostTypeId|           _Score|        _ViewCount|\n",
      "+-------+------------------+-----------------+------------------+-----------------+------------------+\n",
      "|  count|             10389|           145539|            145539|           145539|             10389|\n",
      "|   mean|12.940128982577727|1.915184246147081|1.9412322470265702|5.129518548292897|2338.6605063047455|\n",
      "| stddev| 20.86264087761769|3.375810436163644|0.3194763857462286| 13.6708923054352|7544.9500355821165|\n",
      "|    min|                 0|                0|                 1|              -35|                17|\n",
      "|    max|               733|               94|                 7|             1277|            433789|\n",
      "+-------+------------------+-----------------+------------------+-----------------+------------------+\n",
      "\n",
      "None\n",
      "\n",
      "------------------\n",
      " codereview \n",
      "------------------\n",
      "\n",
      "+-------+------------------+------------------+------------------+------------------+------------------+\n",
      "|summary|      _AnswerCount|     _CommentCount|       _PostTypeId|            _Score|        _ViewCount|\n",
      "+-------+------------------+------------------+------------------+------------------+------------------+\n",
      "|  count|             58153|            152724|            152724|            152724|             58153|\n",
      "|   mean| 1.583839182845253|1.6570807469683875|1.6599290222885728|3.6971399387129726|1916.6440252437535|\n",
      "| stddev|1.1548009989132488| 2.391880841550801|0.6101637016995894| 4.965972167765562| 6913.314886161953|\n",
      "|    min|                 0|                 0|                 1|               -45|                 2|\n",
      "|    max|                17|                41|                 7|               373|            359645|\n",
      "+-------+------------------+------------------+------------------+------------------+------------------+\n",
      "\n",
      "None\n",
      "\n",
      "------------------\n",
      " es_stackoverflow \n",
      "------------------\n",
      "\n",
      "+-------+------------------+------------------+------------------+------------------+-----------------+\n",
      "|summary|      _AnswerCount|     _CommentCount|       _PostTypeId|            _Score|       _ViewCount|\n",
      "+-------+------------------+------------------+------------------+------------------+-----------------+\n",
      "|  count|             83203|            180640|            180640|            180640|            83203|\n",
      "|   mean|1.1379277189524417| 1.688142161204606|1.5776959698848538|0.9966286536758193|504.2272153648306|\n",
      "| stddev|0.9447816971115666|2.4544046564766497|0.6183365755779354|2.2834344918624065|2396.119224905493|\n",
      "|    min|                 0|                 0|                 1|               -17|                2|\n",
      "|    max|                15|                32|                 7|               173|           217311|\n",
      "+-------+------------------+------------------+------------------+------------------+-----------------+\n",
      "\n",
      "None\n",
      "\n",
      "------------------\n",
      " physics \n",
      "------------------\n",
      "\n",
      "+-------+------------------+------------------+------------------+------------------+------------------+\n",
      "|summary|      _AnswerCount|     _CommentCount|       _PostTypeId|            _Score|        _ViewCount|\n",
      "+-------+------------------+------------------+------------------+------------------+------------------+\n",
      "|  count|            134365|            332864|            332864|            332864|            134365|\n",
      "|   mean| 1.467405946489041| 1.963345390309556|1.6064729138627187|2.7195130744087677|1285.4935139359209|\n",
      "| stddev|1.3104840799797113|2.8358640251907494|0.5251176645284285| 7.496793364639878| 6245.426105354347|\n",
      "|    min|                 0|                 0|                 1|               -25|                 3|\n",
      "|    max|                49|               114|                 7|               708|            762653|\n",
      "+-------+------------------+------------------+------------------+------------------+------------------+\n",
      "\n",
      "None\n",
      "\n",
      "------------------\n",
      " unix \n",
      "------------------\n",
      "\n",
      "+-------+------------------+------------------+------------------+------------------+------------------+\n",
      "|summary|      _AnswerCount|     _CommentCount|       _PostTypeId|            _Score|        _ViewCount|\n",
      "+-------+------------------+------------------+------------------+------------------+------------------+\n",
      "|  count|            157013|            397332|            397332|            397332|            157013|\n",
      "|   mean|1.5087795278097993|1.6287739220601412|1.6263854912264806|3.7249051171312657| 4187.956302981282|\n",
      "| stddev|1.3585797158422392|2.4403033949613557|0.5584592617751752|14.494083832295507|24311.372989929998|\n",
      "|    min|                 0|                 0|                 1|               -33|                 3|\n",
      "|    max|                63|                56|                 7|              2088|           2298602|\n",
      "+-------+------------------+------------------+------------------+------------------+------------------+\n",
      "\n",
      "None\n",
      "Time taken: 36 minutes.\n"
     ]
    }
   ],
   "source": [
    "## start time\n",
    "t0 = time.time()\n",
    "print(datetime.now().time())\n",
    "\n",
    "for i in data_array:\n",
    "    print(\"\\n------------------\\n\", i, \"\\n------------------\\n\")\n",
    "    print(posts_dfs[i].select('_AnswerCount', '_CommentCount', '_PostTypeId', '_Score', '_ViewCount').describe().show())\n",
    "    \n",
    "## end time\n",
    "T = time.time() - t0;\n",
    "print(\"Time taken:\", round(T/60), \"minutes.\") # hm96 - 36 minutes all-5"
   ]
  },
  {
   "cell_type": "code",
   "execution_count": 55,
   "metadata": {},
   "outputs": [
    {
     "name": "stdout",
     "output_type": "stream",
     "text": [
      "10:46:30.316033\n",
      "Time taken: 32 minutes.\n"
     ]
    },
    {
     "data": {
      "image/png": "[encoded data removed]",
      "text/plain": [
       "<Figure size 432x288 with 1 Axes>"
      ]
     },
     "metadata": {
      "needs_background": "light"
     },
     "output_type": "display_data"
    }
   ],
   "source": [
    "## empty dictionary of df skeleton\n",
    "plot_data = {}\n",
    "\n",
    "## start time\n",
    "t0 = time.time()\n",
    "print(datetime.now().time())\n",
    "\n",
    "## total number of posts of fora\n",
    "for i in data_array:\n",
    "    plot_data[i] = posts_dfs[i].count()\n",
    "\n",
    "## end time\n",
    "T = time.time() - t0;\n",
    "print(\"Time taken:\", round(T/60), \"minutes.\") \n",
    "# hm96;2xhm16 - 24 minutes codereview, physics, unix\n",
    "# hm96 - 32 minutes all-5\n",
    "    \n",
    "## bar plot of post counts in descending order\n",
    "import operator\n",
    "plot_list = sorted(plot_data.items(), key=operator.itemgetter(1), reverse=True)\n",
    "x, y = zip(*plot_list) # unpack a list of pairs into two tuples\n",
    "plt.bar(x, y, align='center', alpha=.8)\n",
    "plt.xticks(range(len(plot_list)), list([i[0] for i in plot_list]), rotation=90)\n",
    "plt.title('The total number of posts')\n",
    "plt.show()"
   ]
  },
  {
   "cell_type": "code",
   "execution_count": 56,
   "metadata": {},
   "outputs": [
    {
     "name": "stdout",
     "output_type": "stream",
     "text": [
      "11:21:32.118604\n",
      "Time taken: 30 minutes.\n"
     ]
    },
    {
     "data": {
      "image/png": "[encoded data removed]",
      "text/plain": [
       "<Figure size 432x288 with 1 Axes>"
      ]
     },
     "metadata": {
      "needs_background": "light"
     },
     "output_type": "display_data"
    }
   ],
   "source": [
    "## empty dictionary of df skeleton\n",
    "plot_data = {}\n",
    "\n",
    "## start time\n",
    "t0 = time.time()\n",
    "print(datetime.now().time())\n",
    "\n",
    "## total number of answers per post of fora\n",
    "for i in data_array:\n",
    "    plot_data[i] = posts_dfs[i].groupBy().avg('_AnswerCount').collect()[0][0]\n",
    "\n",
    "## end time\n",
    "T = time.time() - t0;\n",
    "print(\"Time taken:\", round(T/60), \"minutes.\")\n",
    "# hm96;2xhm16 - 24 minutes codereview, physics, unix\n",
    "# hm96 - 30 minutes all-5\n",
    "\n",
    "## bar plot of answers per post in descending order\n",
    "import operator\n",
    "plot_list = sorted(plot_data.items(), key=operator.itemgetter(1), reverse=True)\n",
    "x, y = zip(*plot_list) # unpack a list of pairs into two tuples\n",
    "plt.bar(x, y, align='center', alpha=.8)\n",
    "plt.xticks(range(len(plot_list)), list([i[0] for i in plot_list]), rotation=90)\n",
    "plt.title('Average number of answers per post')\n",
    "plt.show()"
   ]
  },
  {
   "cell_type": "code",
   "execution_count": 57,
   "metadata": {
    "scrolled": true
   },
   "outputs": [
    {
     "name": "stdout",
     "output_type": "stream",
     "text": [
      "11:51:50.519251\n",
      "Time taken: 28 minutes.\n"
     ]
    },
    {
     "data": {
      "image/png": "[encoded data removed]",
      "text/plain": [
       "<Figure size 432x288 with 1 Axes>"
      ]
     },
     "metadata": {
      "needs_background": "light"
     },
     "output_type": "display_data"
    }
   ],
   "source": [
    "## empty dictionary of df skeleton\n",
    "plot_data = {}\n",
    "\n",
    "## start time\n",
    "t0 = time.time()\n",
    "print(datetime.now().time())\n",
    "\n",
    "## total number of comments per post of fora\n",
    "for i in data_array:\n",
    "    plot_data[i] = posts_dfs[i].groupBy().avg('_CommentCount').collect()[0][0]\n",
    "\n",
    "## end time\n",
    "T = time.time() - t0;\n",
    "print(\"Time taken:\", round(T/60), \"minutes.\")\n",
    "# hm96;2xhm16 - 24 minutes codereview, physics, unix\n",
    "# hm96 - 28 minutes all-5\n",
    "\n",
    "\n",
    "## bar plot of comments per post in descending order\n",
    "import operator\n",
    "plot_list = sorted(plot_data.items(), key=operator.itemgetter(1), reverse=True)\n",
    "x, y = zip(*plot_list) # unpack a list of pairs into two tuples\n",
    "plt.bar(x, y, align='center', alpha=.8)\n",
    "plt.xticks(range(len(plot_list)), list([i[0] for i in plot_list]), rotation=90)\n",
    "plt.title('Average number of comments per post')\n",
    "plt.show()"
   ]
  },
  {
   "cell_type": "code",
   "execution_count": 58,
   "metadata": {
    "scrolled": true
   },
   "outputs": [
    {
     "name": "stdout",
     "output_type": "stream",
     "text": [
      "12:20:03.116557\n",
      "Time taken: 29 minutes.\n"
     ]
    },
    {
     "data": {
      "image/png": "[encoded data removed]",
      "text/plain": [
       "<Figure size 432x288 with 1 Axes>"
      ]
     },
     "metadata": {
      "needs_background": "light"
     },
     "output_type": "display_data"
    }
   ],
   "source": [
    "## empty dictionary of df skeleton\n",
    "plot_data = {}\n",
    "\n",
    "## start time\n",
    "t0 = time.time()\n",
    "print(datetime.now().time())\n",
    "\n",
    "## average score per post across fora\n",
    "for i in data_array:\n",
    "    plot_data[i] = posts_dfs[i].groupBy().avg('_Score').collect()[0][0]\n",
    "\n",
    "## end time\n",
    "T = time.time() - t0;\n",
    "print(\"Time taken:\", round(T/60), \"minutes.\")\n",
    "# hm96;2xhm16 - 23 minutes codereview, physics, unix\n",
    "# hm96 - 29 minutes all-5\n",
    "    \n",
    "## bar plot of score per post in descending order\n",
    "import operator\n",
    "plot_list = sorted(plot_data.items(), key=operator.itemgetter(1), reverse=True)\n",
    "x, y = zip(*plot_list) # unpack a list of pairs into two tuples\n",
    "plt.bar(x, y, align='center', alpha=.8)\n",
    "plt.xticks(range(len(plot_list)), list([i[0] for i in plot_list]), rotation=90)\n",
    "plt.title('Average score per post')\n",
    "plt.show()"
   ]
  },
  {
   "cell_type": "code",
   "execution_count": 59,
   "metadata": {
    "scrolled": true
   },
   "outputs": [
    {
     "name": "stdout",
     "output_type": "stream",
     "text": [
      "12:48:58.930877\n",
      "Time taken: 29 minutes.\n"
     ]
    },
    {
     "data": {
      "image/png": "[encoded data removed]",
      "text/plain": [
       "<Figure size 432x288 with 1 Axes>"
      ]
     },
     "metadata": {
      "needs_background": "light"
     },
     "output_type": "display_data"
    }
   ],
   "source": [
    "## empty dictionary of df skeleton\n",
    "plot_data = {}\n",
    "\n",
    "## start time\n",
    "t0 = time.time()\n",
    "print(datetime.now().time())\n",
    "\n",
    "## average viewcount per post across fora\n",
    "for i in data_array:\n",
    "    plot_data[i] = posts_dfs[i].groupBy().avg('_ViewCount').collect()[0][0]\n",
    "\n",
    "## end time\n",
    "T = time.time() - t0;\n",
    "print(\"Time taken:\", round(T/60), \"minutes.\")\n",
    "# hm96;2xhm16 - 24 minutes codereview, physics, unix\n",
    "# hm96 - 29 minutes all-5\n",
    "    \n",
    "## bar plot of viewcount per post in descending order\n",
    "import operator\n",
    "plot_list = sorted(plot_data.items(), key=operator.itemgetter(1), reverse=True)\n",
    "x, y = zip(*plot_list) # unpack a list of pairs into two tuples\n",
    "plt.bar(x, y, align='center', alpha=.8)\n",
    "plt.xticks(range(len(plot_list)), list([i[0] for i in plot_list]), rotation=90)\n",
    "plt.title('Viewcount per post')\n",
    "plt.show()"
   ]
  },
  {
   "cell_type": "code",
   "execution_count": 60,
   "metadata": {},
   "outputs": [
    {
     "name": "stdout",
     "output_type": "stream",
     "text": [
      "13:18:16.806485\n",
      "Time taken: 29 minutes.\n"
     ]
    },
    {
     "data": {
      "image/png": "[encoded data removed]",
      "text/plain": [
       "<Figure size 1152x576 with 1 Axes>"
      ]
     },
     "metadata": {
      "needs_background": "light"
     },
     "output_type": "display_data"
    }
   ],
   "source": [
    "## start time\n",
    "t0 = time.time()\n",
    "print(datetime.now().time())\n",
    "\n",
    "## create plot data for cumulative viewcount\n",
    "plot_data = {}\n",
    "for i in data_array:\n",
    "    plot_data[i] = posts_dfs[i].select('_ViewCount').rdd.flatMap(lambda x: x).collect()\n",
    "    plot_data[i] = [x for x in plot_data[i] if x is not None]\n",
    "    \n",
    "## end time\n",
    "T = time.time() - t0;\n",
    "print(\"Time taken:\", round(T/60), \"minutes.\")\n",
    "# hm96;2xhm16 - 23 minutes codereview, physics, unix\n",
    "# hm96 - 29 minutes all-5\n",
    "\n",
    "## plot cumulative distribution of viewcount across fora\n",
    "n_bins = 500000\n",
    "fig, ax = plt.subplots(figsize=(16, 8))\n",
    "for i in data_array:\n",
    "    n, bins, patches = ax.hist(plot_data[i], n_bins, density=True, histtype='step',\n",
    "                               cumulative=True, label=i)\n",
    "ax.grid(True)\n",
    "ax.set_xscale('log')\n",
    "ax.legend(loc='right')\n",
    "ax.set_title('Cumulative step histograms')\n",
    "ax.set_xlabel('ViewCount')\n",
    "ax.set_ylabel('Cumulative percentage of question posts')\n",
    "plt.show()"
   ]
  },
  {
   "cell_type": "markdown",
   "metadata": {},
   "source": [
    "# Natural Language Processing"
   ]
  },
  {
   "cell_type": "code",
   "execution_count": null,
   "metadata": {},
   "outputs": [],
   "source": [
    "## garbage collector to speed up computation\n",
    "import gc\n",
    "collected = gc.collect()\n",
    "print(\"Garbage collector: collected %d objects.\" % collected)"
   ]
  },
  {
   "cell_type": "code",
   "execution_count": 61,
   "metadata": {},
   "outputs": [],
   "source": [
    "## extract Body from fora\n",
    "body_data = {}\n",
    "for i in data_array:\n",
    "    body_data[i] = posts_dfs[i].select(\"_Body\").rdd.flatMap(lambda r: r)"
   ]
  },
  {
   "cell_type": "code",
   "execution_count": 69,
   "metadata": {},
   "outputs": [
    {
     "name": "stdout",
     "output_type": "stream",
     "text": [
      "14:02:10.136339\n",
      "['<p>We live in the age of measurements and observations and specific mathematical theories that fit measurements and observations beyond any doubt.</p>\\n\\n<p>Photons are <a href=\"https://en.wikipedia.org/wiki/Elementary_particle\" rel=\"nofollow\">elementary particles.</a> . They have zero mass, and other characteristics which separate them from other elementary particles .  </p>\\n\\n<blockquote>\\n  <p>Can photons lose a small amount of energy over time when traveling large distances due to either weak interactions with magnetic fields (Faraday Effect) </p>\\n</blockquote>\\n\\n<p>This is an electromagnetic vertex for a photon, the faraday effect is for the emergent light beam from innumerable photons. </p>\\n\\n<blockquote>\\n  <p>or due to the way all objects cool and give off thermal radiation (Second law of Thermodynamics)</p>\\n</blockquote>\\n\\n<p>No elementary particles behave thermodynamically. Thermodynamics is an emergent theory over many particles (statistical mechanics). Energy is gained or lost through interactions.</p>\\n\\n<blockquote>\\n  <p>or gravitational interaction with nearby dust particles?</p>\\n</blockquote>\\n\\n<p>gravitational interactions with a <a href=\"https://en.wikipedia.org/wiki/Gravitational_redshift\" rel=\"nofollow\">strong gravity well,</a> yes. Dust particles do not have enough gravitational potential for a measurable difference.</p>\\n\\n<p>In all cases the photon would lose energy by interacting randomly. Random interactions would destroy the spectra coming from stars and galaxies that show a redshift, (loss of energy). After all it is from the <a href=\"https://en.wikipedia.org/wiki/Astronomical_spectroscopy\" rel=\"nofollow\">displacement of spectral</a> lines of known atoms that the study of observational astronomy took off.</p>\\n\\n<p>That the universe is expanding we know from measurements of the velocities of clusters of galaxies. None are moving towards us. They are all moving away, and the <a href=\"http://cmb.physics.wisc.edu/pub/tutorial/hubble.html\" rel=\"nofollow\">raisin bread</a> analogy might give an intuition how this can happen.</p>\\n\\n<p>So the time when one could think up alternate models for the universe by handwaving is long gone. One needs hard measurements and concise mathematical models. </p>\\n']\n",
      "Time taken: 0 minutes.\n"
     ]
    }
   ],
   "source": [
    "## start time\n",
    "t0 = time.time()\n",
    "print(datetime.now().time())\n",
    "\n",
    "## look at first post from physics\n",
    "print(body_data['physics'].take(1))\n",
    "\n",
    "## end time\n",
    "T = time.time() - t0;\n",
    "print(\"Time taken:\", round(T/60), \"minutes.\") # hm96 - 8 minutes all-5"
   ]
  },
  {
   "cell_type": "markdown",
   "metadata": {},
   "source": [
    "### Tokenise and lemmatise"
   ]
  },
  {
   "cell_type": "code",
   "execution_count": 63,
   "metadata": {},
   "outputs": [],
   "source": [
    "## tokenise and lemmatise using nltk function from import step\n",
    "body_rdd = {}\n",
    "for i in data_array:\n",
    "    body_rdd[i] = body_data[i].map(lambda line: (1, get_tokens(line)))"
   ]
  },
  {
   "cell_type": "code",
   "execution_count": 67,
   "metadata": {},
   "outputs": [
    {
     "name": "stdout",
     "output_type": "stream",
     "text": [
      "384\n",
      "384\n",
      "384\n",
      "384\n",
      "384\n"
     ]
    }
   ],
   "source": [
    "## check partitions for body_rdd\n",
    "for i in data_array:\n",
    "    print(body_rdd[i].getNumPartitions())"
   ]
  },
  {
   "cell_type": "code",
   "execution_count": 71,
   "metadata": {},
   "outputs": [
    {
     "name": "stdout",
     "output_type": "stream",
     "text": [
      "14:03:16.873793\n",
      "['p', 'live', 'age', 'measurement', 'observation', 'specific', 'mathematical', 'theory', 'fit', 'measurement']\n",
      "Time taken: 0 minutes.\n"
     ]
    }
   ],
   "source": [
    "## start time\n",
    "t0 = time.time()\n",
    "print(datetime.now().time())\n",
    "\n",
    "## look at first 10 terms from first post in physics\n",
    "print(body_rdd['physics'].take(1)[0][1][:10])\n",
    "\n",
    "## end time\n",
    "T = time.time() - t0;\n",
    "print(\"Time taken:\", round(T/60), \"minutes.\") # hm96 - 8 minutes all-5"
   ]
  },
  {
   "cell_type": "code",
   "execution_count": 75,
   "metadata": {},
   "outputs": [
    {
     "name": "stdout",
     "output_type": "stream",
     "text": [
      "14:08:25.248992\n",
      "Time taken: 21 minutes.\n"
     ]
    }
   ],
   "source": [
    "## start time\n",
    "t0 = time.time()\n",
    "print(datetime.now().time())\n",
    "\n",
    "# get rid of stop words\n",
    "doc_stop_words = {}\n",
    "for i in data_array:\n",
    "    doc_stop_words[i] = body_rdd[i].flatMap(lambda r: r[1]).map(lambda r: (r,1)).reduceByKey(lambda a,b: a+b)\n",
    "    # here we assume that words that appear very frequently are stop words. We use 3000 as a threshold #£\n",
    "    doc_stop_words[i] = doc_stop_words[i].filter(lambda a: a[1]>3000).map(lambda r: r[0]).collect()\n",
    "    body_rdd[i] = body_rdd[i].map(lambda r: (r[0],[w for w in r[1] if not w in doc_stop_words[i] and not len(w)==1]))\n",
    "    \n",
    "## end time\n",
    "T = time.time() - t0;\n",
    "print(\"Time taken:\", round(T/60), \"minutes.\") # hm96 - 21 minutes all-5"
   ]
  },
  {
   "cell_type": "markdown",
   "metadata": {},
   "source": [
    "### Convert tokens into sparse vectors"
   ]
  },
  {
   "cell_type": "code",
   "execution_count": 77,
   "metadata": {},
   "outputs": [],
   "source": [
    "from pyspark.ml.feature import CountVectorizer\n",
    "from pyspark.sql.functions import monotonically_increasing_id\n",
    "\n",
    "## convert tokens into sparse vectors\n",
    "body_df = {}\n",
    "for i in data_array:\n",
    "    body_df[i] = spark.createDataFrame(body_rdd[i], [\"dummy\",\"words\"])\n",
    "    body_df[i].cache()  "
   ]
  },
  {
   "cell_type": "code",
   "execution_count": 79,
   "metadata": {},
   "outputs": [
    {
     "name": "stdout",
     "output_type": "stream",
     "text": [
      "14:33:15.015997\n",
      "[Row(dummy=1, words=['wwwrprojectorg', 'giuseppe', 'langr', 'scan', 'rc', 'colsums', 'ggg'])]\n",
      "Time taken: 0 minutes.\n"
     ]
    }
   ],
   "source": [
    "## start time\n",
    "t0 = time.time()\n",
    "print(datetime.now().time())\n",
    "\n",
    "## check 10 first codegolf vector\n",
    "print(body_df['codegolf'].take(1))\n",
    "\n",
    "## end time\n",
    "T = time.time() - t0;\n",
    "print(\"Time taken:\", round(T/60), \"minutes.\") # hm96 - 8 minutes all-5  "
   ]
  },
  {
   "cell_type": "markdown",
   "metadata": {},
   "source": [
    "### Now, we generate vectors that are histograms of word counts associated with each message"
   ]
  },
  {
   "cell_type": "code",
   "execution_count": 82,
   "metadata": {},
   "outputs": [
    {
     "name": "stdout",
     "output_type": "stream",
     "text": [
      "14:43:50.132139\n",
      "\n",
      "------------------\n",
      " codegolf \n",
      "------------------\n",
      "\n",
      "+-----+--------------------+--------------------+\n",
      "|dummy|               words|            features|\n",
      "+-----+--------------------+--------------------+\n",
      "|    1|[wwwrprojectorg, ...|(91392,[307,375,7...|\n",
      "|    1|       [batch, seta]|(91392,[604,4107]...|\n",
      "|    1|[nodejs, repl, la...|(91392,[176,182,6...|\n",
      "|    1|[igsub, stranger,...|(91392,[17,23,100...|\n",
      "|    1|[efil, thought, f...|(91392,[105,209,3...|\n",
      "|    1|[csystemconsole, ...|(91392,[225,5940,...|\n",
      "|    1|[carriage, cr, br...|(91392,[430,1208,...|\n",
      "|    1|[slug, jmz, jmp, ...|(91392,[0,95,607,...|\n",
      "|    1|[githubcomstevenh...|(91392,[291,1705,...|\n",
      "|    1|[нœiмà, нœiмà, ex...|(91392,[773,2217,...|\n",
      "+-----+--------------------+--------------------+\n",
      "only showing top 10 rows\n",
      "\n",
      "\n",
      "------------------\n",
      " codereview \n",
      "------------------\n",
      "\n",
      "+-----+--------------------+--------------------+\n",
      "|dummy|               words|            features|\n",
      "+-----+--------------------+--------------------+\n",
      "|    1|[displayerror, xh...|(262144,[60,1669,...|\n",
      "|    1|[production, barr...|(262144,[438,504,...|\n",
      "|    1|[noticed, globall...|(262144,[52,181,2...|\n",
      "|    1|[saying, nlog, pr...|(262144,[24,64,45...|\n",
      "|    1|[abstracted, conc...|(262144,[50,258,2...|\n",
      "|    1|[apriori, itertoo...|(262144,[73,369,5...|\n",
      "|    1|[tl, dr, weird, p...|(262144,[24,54,57...|\n",
      "|    1|[keeping, piecere...|(262144,[117,996,...|\n",
      "|    1|[nifty, initqueue...|(262144,[16,435,4...|\n",
      "|    1|[helping, editing...|(262144,[29,30,65...|\n",
      "+-----+--------------------+--------------------+\n",
      "only showing top 10 rows\n",
      "\n",
      "\n",
      "------------------\n",
      " es_stackoverflow \n",
      "------------------\n",
      "\n",
      "+-----+--------------------+--------------------+\n",
      "|dummy|               words|            features|\n",
      "+-----+--------------------+--------------------+\n",
      "|    1|[mime, settype, e...|(262144,[338,865,...|\n",
      "|    1|[procura, us, bib...|(262144,[155,226,...|\n",
      "|    1|[recibo, pensando...|(262144,[57,175,3...|\n",
      "|    1|[kendou, ui, basa...|(262144,[198,289,...|\n",
      "|    1|[impresión, subir...|(262144,[20,1328,...|\n",
      "|    1|[contexto, prueba...|(262144,[74,91,11...|\n",
      "|    1|[efectivamente, d...|(262144,[169,193,...|\n",
      "|    1|[ingresa, carácte...|(262144,[188,381,...|\n",
      "|    1|[realmente, softw...|(262144,[11,18,36...|\n",
      "|    1|[buenos, consider...|(262144,[7,67,126...|\n",
      "+-----+--------------------+--------------------+\n",
      "only showing top 10 rows\n",
      "\n",
      "\n",
      "------------------\n",
      " physics \n",
      "------------------\n",
      "\n",
      "+-----+--------------------+--------------------+\n",
      "|dummy|               words|            features|\n",
      "+-----+--------------------+--------------------+\n",
      "|    1|[live, age, enwik...|(109986,[1,121,16...|\n",
      "|    1|[interacts, bounc...|(109986,[181,577,...|\n",
      "|    1|[veneziano, famou...|(109986,[324,447,...|\n",
      "|    1|[mechanicallyswit...|(109986,[129,269,...|\n",
      "|    1|[pointwise, conve...|(109986,[936,965,...|\n",
      "|    1|[saw, testing, su...|(109986,[81,105,1...|\n",
      "|    1|[misunderstand, r...|(109986,[489,1180...|\n",
      "|    1|[numerically, imp...|(109986,[289,324,...|\n",
      "|    1|[sorry, reply, ho...|(109986,[16,69,92...|\n",
      "|    1| [disc, disc, watch]|(109986,[339,650]...|\n",
      "+-----+--------------------+--------------------+\n",
      "only showing top 10 rows\n",
      "\n",
      "\n",
      "------------------\n",
      " unix \n",
      "------------------\n",
      "\n",
      "+-----+--------------------+--------------------+\n",
      "|dummy|               words|            features|\n",
      "+-----+--------------------+--------------------+\n",
      "|    1|[principal, enabl...|(197742,[441,500,...|\n",
      "|    1|[storing, netrc, ...|(197742,[113,235,...|\n",
      "|    1|[hp, pavilion, pu...|(197742,[41,101,1...|\n",
      "|    1|[thomas, ward, aw...|(197742,[12,53,55...|\n",
      "|    1|[workspace, works...|(197742,[495,5043...|\n",
      "|    1|[mistake, sqlplus...|(197742,[30,507,7...|\n",
      "|    1|[discrepancy, unc...|(197742,[713,880,...|\n",
      "|    1|[etclinuxmintinfo...|(197742,[304,1240...|\n",
      "|    1|                  []|      (197742,[],[])|\n",
      "|    1|[pcmanfm, android...|(197742,[48,5048,...|\n",
      "+-----+--------------------+--------------------+\n",
      "only showing top 10 rows\n",
      "\n",
      "Time taken: 0 minutes.\n"
     ]
    }
   ],
   "source": [
    "## start time\n",
    "t0 = time.time()\n",
    "print(datetime.now().time())\n",
    "\n",
    "cntvcr = CountVectorizer(inputCol=\"words\", outputCol=\"features\", minDF=2)\n",
    "\n",
    "cntvcr_models = {}\n",
    "word_feat_list = {}\n",
    "for i in data_array:\n",
    "    cntvcr_models[i] = cntvcr.fit(body_df[i])\n",
    "    word_feat_list[i] = cntvcr_models[i].transform(body_df[i])\n",
    "    word_feat_list[i].cache()\n",
    "\n",
    "## show word vectors and feature counts for fora:\n",
    "for i in data_array:\n",
    "    print(\"\\n------------------\\n\", i, \"\\n------------------\\n\")\n",
    "    word_feat_list[i].show(10)\n",
    "\n",
    "\n",
    "## end time\n",
    "T = time.time() - t0;\n",
    "print(\"Time taken:\", round(T/60), \"minutes.\") # hm96 - 4 minutes all-5  "
   ]
  },
  {
   "cell_type": "markdown",
   "metadata": {},
   "source": [
    "### Convert pyspark.ml vectors to pyspark.mllib vectors"
   ]
  },
  {
   "cell_type": "code",
   "execution_count": 84,
   "metadata": {},
   "outputs": [
    {
     "name": "stdout",
     "output_type": "stream",
     "text": [
      "\n",
      "------------------\n",
      " codegolf \n",
      "------------------\n",
      "\n",
      "[SparseVector(91392, {307: 1.0, 375: 1.0, 731: 1.0, 1578: 1.0, 2643: 1.0, 6604: 1.0, 9392: 1.0})]\n",
      "\n",
      "------------------\n",
      " codereview \n",
      "------------------\n",
      "\n",
      "[SparseVector(262144, {60: 6.0, 1669: 3.0, 2694: 3.0, 3692: 4.0, 5618: 3.0, 6921: 3.0, 11805: 3.0, 14240: 2.0, 25446: 1.0, 52424: 2.0, 170345: 3.0, 171994: 3.0, 213282: 2.0, 222969: 2.0})]\n",
      "\n",
      "------------------\n",
      " es_stackoverflow \n",
      "------------------\n",
      "\n",
      "[SparseVector(262144, {338: 1.0, 865: 1.0, 2974: 1.0, 6867: 1.0, 11137: 1.0, 11471: 1.0, 12215: 3.0, 17204: 2.0, 19730: 1.0, 21019: 1.0, 22044: 1.0, 31778: 1.0})]\n",
      "\n",
      "------------------\n",
      " physics \n",
      "------------------\n",
      "\n",
      "[SparseVector(109986, {1: 1.0, 121: 1.0, 168: 1.0, 176: 1.0, 248: 1.0, 314: 2.0, 358: 2.0, 406: 1.0, 501: 1.0, 894: 1.0, 944: 1.0, 1302: 1.0, 1680: 1.0, 1803: 1.0, 2071: 2.0, 2407: 1.0, 2809: 1.0, 4292: 1.0, 4356: 1.0, 4498: 1.0, 6028: 1.0, 6999: 1.0, 9405: 1.0, 10236: 1.0, 14423: 1.0, 77164: 1.0, 83876: 1.0})]\n",
      "\n",
      "------------------\n",
      " unix \n",
      "------------------\n",
      "\n",
      "[SparseVector(197742, {441: 1.0, 500: 1.0, 622: 1.0, 1270: 1.0, 1620: 2.0, 2112: 1.0, 2551: 1.0, 5150: 1.0, 5954: 1.0, 6121: 1.0, 6481: 4.0, 8559: 1.0, 11709: 3.0, 12450: 1.0, 23919: 4.0, 24675: 1.0, 26275: 6.0, 52005: 4.0, 91602: 2.0, 136593: 2.0})]\n"
     ]
    }
   ],
   "source": [
    "from pyspark.mllib.linalg import Vectors\n",
    "#from pyspark.ml import linalg as ml_linalg\n",
    "def as_mllib_vector(v):\n",
    "    return Vectors.sparse(v.size, v.indices, v.values)\n",
    "\n",
    "features = {}\n",
    "feature_vec_list = {}\n",
    "for i in data_array:\n",
    "    features[i] = word_feat_list[i].select(\"features\")\n",
    "    feature_vec_list[i] = features[i].rdd.map(lambda r: as_mllib_vector(r[0]))\n",
    "    feature_vec_list[i].cache()\n",
    "\n",
    "## print first pyspark.mllib vectors for fora:\n",
    "for i in data_array:\n",
    "    print(\"\\n------------------\\n\", i, \"\\n------------------\\n\")\n",
    "    print(feature_vec_list[i].take(1))"
   ]
  },
  {
   "cell_type": "markdown",
   "metadata": {},
   "source": [
    "### Take a look at the vocabulary"
   ]
  },
  {
   "cell_type": "code",
   "execution_count": 86,
   "metadata": {},
   "outputs": [
    {
     "name": "stdout",
     "output_type": "stream",
     "text": [
      "\n",
      "------------------\n",
      " codegolf \n",
      "------------------\n",
      "\n",
      "Vocabulary from CountVectorizerModel is:\n",
      "\n",
      "['throw', 'leading', 'questionstaggedcodegolf', 'action', 'compute', 'trick', 'old', 'anonymous', 'quite', 'plus', 'update', 'builtin', 'wall', 'powershell', 'target', 'bonus', 'quot', 'symbol', 'containing', 'ho', 'programming', 'corresponding', 'infinite', 'separated', 'lower', 'half', 'draw', 'tbody', 'twice', 'level', 'third', 'written', 'xy', 'defined', 'minute', 'fact', 'stop', 'condition', 'invalid', 'dyalog', 'num', 'lowercase', 'continue', 'self', 'blue', 'modulo', 'jump', 'via', 'printing', 'ord', 'japt', 'basic', 'tp', 'message', 'remaining', 'actual', 'little', 'shift', 'adding', 'nn', 'requires', 'hodor', 'real', 'choose', 'circle', 'able', 'instance', 'concatenate', 'sign', 'expected', 'later', 'formula', 'alphabet', 'beginning', 'body', 'search', 'abc', 'including', 'io', 'support', 'big', 'help', 'tree', 'encoding', 'ba', 'langhtml', 'inside', 'within', 'yes', 'choice', 'due', 'division', 'whole', 'golfscript', 'ip', 'far', 'snippetcodehtml', 'prefix', 'rotate', 'minimum']\n",
      "\n",
      "---\n",
      "\n",
      "Number of terms M =  91392\n",
      "\n",
      "------------------\n",
      " codereview \n",
      "------------------\n",
      "\n",
      "Vocabulary from CountVectorizerModel is:\n",
      "\n",
      "['kwargs', 'uint', 'acc', 'diff', 'division', 'mostly', 'rawinput', 'visited', 'mysql', 'nn', 'suggested', 'del', 'manually', 'security', 'phone', 'sf', 'ifndef', 'sharedptr', 'singleton', 'descriptive', 'uri', 'langjs', 'permutation', 'df', 'whenever', 'leaf', 'collect', 'known', 'mask', 'appears', 'moved', 'temporary', 'quantity', 'strict', 'nums', 'sound', 'constraint', 'signal', 'encoding', 'definitely', 'sleep', 'focus', 'iterable', 'starttime', 'life', 'thanks', 'varchar', 'onclick', 'closed', 'kbd', 'logging', 'relevant', 'radius', 'dt', 'incorrect', 'intent', 'regarding', 'builtin', 'deleted', 'formula', 'visible', 'nbsp', 'sn', 'divide', 'executed', 'specifically', 'absolute', 'sentence', 'balance', 'degree', 'manager', 'oop', 'period', 'numpy', 'individual', 'allocate', 'ajax', 'developer', 'xrange', 'datalang', 'systemin', 'datahide', 'biginteger', 'snippetcode', 'website', 'refactoring', 'meaningful', 'dx', 'progress', 'partial', 'appreciated', 'consumer', 'press', 'meta', 'obviously', 'environment', 'flow', 'bracket', 'harder', 'desired']\n",
      "\n",
      "---\n",
      "\n",
      "Number of terms M =  262144\n",
      "\n",
      "------------------\n",
      " es_stackoverflow \n",
      "------------------\n",
      "\n",
      "Vocabulary from CountVectorizerModel is:\n",
      "\n",
      "['sirve', 'comentarios', 'btnprimary', 'teniendo', 'segundos', 'hilo', 'dicha', 'haber', 'sean', 'datatoggle', 'linearlayout', 'sencillo', 'borrar', 'dependiendo', 'seleccione', 'desc', 'node', 'empresa', 'framework', 'msg', 'resource', 'ciudad', 'ioexception', 'cin', 'indexphp', 'asignar', 'eprintstacktrace', 'resolver', 'lang', 'equal', 'dialog', 'muestro', 'apellidos', 'quieras', 'kbd', 'innerhtml', 'visual', 'iniciar', 'ipsum', 'decimal', 'hide', 'sabe', 'super', 'excepción', 'articulo', 'hacia', 'edit', 'deben', 'dependency', 'child', 'implement', 'listview', 'esté', 'datatype', 'realmente', 'state', 'contacto', 'cedula', 'trabajar', 'instalar', 'borderradius', 'equipo', 'fontweight', 'volver', 'intenta', 'userid', 'canvas', 'build', 'po', 'sintaxis', 'visible', 'render', 'internet', 'config', 'angular', 'dolor', 'prop', 'component', 'blanco', 'transform', 'imprime', 'product', 'textbox', 'verificar', 'probar', 'saludo', 'quiere', 'cont', 'ellos', 'buscando', 'existen', 'pruebas', 'darle', 'sup', 'tab', 'rango', 'empleado', 'scroll', 'realidad', 'deseo']\n",
      "\n",
      "---\n",
      "\n",
      "Number of terms M =  262144\n",
      "\n",
      "------------------\n",
      " physics \n",
      "------------------\n",
      "\n",
      "Vocabulary from CountVectorizerModel is:\n",
      "\n",
      "['linked', 'none', 'barrier', 'incoming', 'stand', 'provides', 'particularly', 'content', 'telescope', 'includes', 'geometric', 'hypothesis', 'diagonal', 'strongly', 'deep', 'microscopic', 'simpler', 'alice', 'reduces', 'upward', 'told', 'avoid', 'quantized', 'sufficiently', 'multiply', 'filled', 'capacitance', 'nonrelativistic', 'chance', 'downward', 'mixed', 'varies', 'squared', 'interface', 'apparently', 'behaviour', 'title', 'simultaneously', 'ev', 'integrating', 'null', 'affected', 'confusing', 'discus', 'odd', 'bigg', 'universal', 'literature', 'xmu', 'slope', 'filter', 'interest', 'aspect', 'furthermore', 'search', 'impulse', 'aware', 'parity', 'polarized', 'among', 'naturally', 'orbitals', 'vanish', 'dense', 'creating', 'north', 'arrow', 'simplicity', 'varying', 'linearly', 'list', 'vanishes', 'pump', 'arises', 'vapor', 'conjugate', 'framework', 'tangential', 'replace', 'dealing', 'dispersion', 'happened', 'interpret', 'uv', 'dtau', 'involving', 'history', 'divided', 'discussed', 'satisfies', 'introduced', 'supply', 'sorry', 'formation', 'bring', 'school', 'conducting', 'boost', 'exercise', 'adagger']\n",
      "\n",
      "---\n",
      "\n",
      "Number of terms M =  109986\n",
      "\n",
      "------------------\n",
      " unix \n",
      "------------------\n",
      "\n",
      "Vocabulary from CountVectorizerModel is:\n",
      "\n",
      "['clone', 'uefi', 'mtu', 'gzip', 'scsi', 'locate', 'attempting', 'tue', 'nc', 'dash', 'mon', 'understanding', 'override', 'gpt', 'ascii', 'newlines', 'usr', 'causing', 'moving', 'trigger', 'nonfree', 'wed', 'bootloader', 'magic', 'lower', 'anymore', 'strange', 'lsof', 'thinking', 'hence', 'expanded', 'proto', 'pair', 'ro', 'exception', 'associated', 'uniq', 'slightly', 'caused', 'oracle', 'variant', 'reserved', 'encoding', 'mask', 'hub', 'increase', 'seeing', 'past', 'android', 'utc', 'low', 'soon', 'pressing', 'mapping', 'equal', 'successful', 'indeed', 'conflict', 'taking', 'redirection', 'interrupt', 'putting', 'symlinks', 'deal', 'pam', 'perfectly', 'entering', 'zfs', 'complex', 'relative', 'refer', 'etcpasswd', 'min', 'finding', 'delay', 'major', 'scenario', 'portable', 'logfile', 'area', 'sends', 'recovery', 'axis', 'completed', 'pe', 'onto', 'stuck', 'encryption', 'leading', 'trailing', 'hi', 'xfce', 'bunch', 'listing', 'pool', 'num', 'pv', 'shopt', 'gentoo', 'behind']\n",
      "\n",
      "---\n",
      "\n",
      "Number of terms M =  197742\n"
     ]
    }
   ],
   "source": [
    "## print first 100 words \n",
    "for i in data_array:\n",
    "    print(\"\\n------------------\\n\", i, \"\\n------------------\\n\")\n",
    "    print (\"Vocabulary from CountVectorizerModel is:\\n\")\n",
    "    print(cntvcr_models[i].vocabulary[:100])\n",
    "    print(\"\\n---\\n\")\n",
    "\n",
    "    M = len(cntvcr_models[i].vocabulary)\n",
    "    print(\"Number of terms M = \", M)"
   ]
  },
  {
   "cell_type": "markdown",
   "metadata": {},
   "source": [
    "###  Latent Semantic Analysis"
   ]
  },
  {
   "cell_type": "code",
   "execution_count": 88,
   "metadata": {},
   "outputs": [
    {
     "name": "stdout",
     "output_type": "stream",
     "text": [
      "14:56:02.296046\n",
      "Time taken: 5 minutes.\n"
     ]
    }
   ],
   "source": [
    "## start time\n",
    "t0 = time.time()\n",
    "print(datetime.now().time())\n",
    "\n",
    "from pyspark.mllib.linalg.distributed import RowMatrix\n",
    "\n",
    "feature_mat_list = {}\n",
    "for i in data_array:\n",
    "    feature_mat_list[i] = RowMatrix(feature_vec_list[i])\n",
    "\n",
    "# Here we use the dimension of latent factors to be k\n",
    "k = 5\n",
    "feature_svd_list = {}\n",
    "U_list = {}\n",
    "s_list = {}\n",
    "V_list = {}\n",
    "for i in data_array:\n",
    "    feature_svd_list[i] = feature_mat_list[i].computeSVD(5, computeU=True)\n",
    "    U_list[i] = feature_svd_list[i].U       # The U factor is a RowMatrix.\n",
    "    s_list[i] = feature_svd_list[i].s       # The singular values are stored in a local dense vector.\n",
    "    V_list[i] = feature_svd_list[i].V       # The V factor is a local dense matrix.\n",
    "    \n",
    "## end time\n",
    "T = time.time() - t0;\n",
    "print(\"Time taken:\", round(T/60), \"minutes.\") # hm96 - 5 minutes all-5  "
   ]
  },
  {
   "cell_type": "code",
   "execution_count": 89,
   "metadata": {},
   "outputs": [
    {
     "name": "stdout",
     "output_type": "stream",
     "text": [
      "number of rows of U 145539\n",
      "number of rows of V 91392\n"
     ]
    }
   ],
   "source": [
    "## print number of documents and terms for codegolf forum\n",
    "print(\"number of rows of U\", U_list['codegolf'].numRows()) # this is the number of documents (N)\n",
    "print(\"number of rows of V\", V_list['codegolf'].numRows ) # this is the number of terms (M)"
   ]
  },
  {
   "cell_type": "code",
   "execution_count": 90,
   "metadata": {},
   "outputs": [
    {
     "name": "stdout",
     "output_type": "stream",
     "text": [
      "U factors for expatriate forum are:\n",
      "[1.8125027388697233e-08,-2.0324541632366923e-11,-7.175277808477548e-10,3.495786681817518e-10,-1.9015818378546935e-07]\n",
      "[2.937507823227578e-10,-1.2620569810432825e-08,-1.6944603654528644e-10,9.997322450703687e-11,-2.894662855071321e-08]\n",
      "[1.3595755814344951e-08,-2.3021141037820016e-10,-2.5656813306792763e-09,1.7000031648800764e-09,-1.0674325487483314e-06]\n",
      "[1.8671405227754274e-08,-5.904802643979891e-10,-3.5532929337836493e-07,3.5133571465694577e-07,-6.038340264592165e-06]\n",
      "[1.7269408327738678e-08,-1.2808188275317865e-08,-4.518738725440523e-07,9.22624420404258e-10,-7.410721700937549e-07]\n",
      "[1.0135708826111737e-09,-1.4932534185210453e-11,-6.005044563769248e-10,2.150890349965929e-10,-1.5244671821487693e-07]\n",
      "[3.209771465659276e-09,-3.710850571717162e-11,-6.305666498602037e-10,2.9736792236440977e-10,-2.4462325626890324e-07]\n",
      "[8.898965542459412e-09,-2.2318097297175764e-10,-5.7383795797026075e-09,2.0688514498253404e-09,-2.767635926704044e-06]\n",
      "[3.468604179555909e-09,-2.5557780428744738e-11,-6.952615822808652e-10,3.1200111950511214e-10,-3.9510957822944937e-07]\n",
      "[4.3550194673577754e-10,-1.265485799684598e-11,-4.813073010608256e-10,1.8948126000125667e-10,-1.3352403480972038e-06]\n",
      "Singular values are: \n",
      " [2232.9276260998267,1941.1855175903993,1762.8884801470153,1708.876943029357,828.2892078177947]\n",
      "V factors are: \n",
      " DenseMatrix([[ 4.19269494e-06, -3.61685178e-08, -3.26078542e-06,\n",
      "               2.12534267e-06, -2.89323923e-04],\n",
      "             [ 1.28230537e-06, -7.78132998e-08, -1.67026237e-06,\n",
      "               1.59016825e-06, -1.13714347e-04],\n",
      "             [ 6.87567637e-07, -1.61958136e-07, -2.01187528e-06,\n",
      "               1.03061353e-06, -1.02739911e-04],\n",
      "             ...,\n",
      "             [ 3.04216450e-10, -8.54507595e-13, -2.61010059e-08,\n",
      "               6.17051695e-10, -2.82565111e-08],\n",
      "             [ 7.03861134e-10, -8.29606209e-11, -4.12992382e-10,\n",
      "               6.59216275e-11, -3.79873856e-07],\n",
      "             [ 1.96596922e-10, -2.80390007e-11, -1.31445725e-09,\n",
      "               4.16247985e-10, -6.29148168e-08]])\n"
     ]
    }
   ],
   "source": [
    "## an example of U factors, V factors and singular values for codegolf forum\n",
    "collected = U_list['codegolf'].rows.take(10)\n",
    "\n",
    "print(\"U factors for expatriate forum are:\")\n",
    "for vector in collected:\n",
    "    print(vector)\n",
    "    \n",
    "print(\"Singular values are: \\n\", s_list['codegolf'])\n",
    "\n",
    "print(\"V factors are: \\n\", V_list['codegolf'])"
   ]
  },
  {
   "cell_type": "markdown",
   "metadata": {},
   "source": [
    "### Plot"
   ]
  },
  {
   "cell_type": "code",
   "execution_count": null,
   "metadata": {},
   "outputs": [
    {
     "name": "stdout",
     "output_type": "stream",
     "text": [
      "15:05:54.865956\n",
      "[t-SNE] Computing 91 nearest neighbors...\n",
      "[t-SNE] Indexed 145539 samples in 0.119s...\n",
      "[t-SNE] Computed neighbors for 145539 samples in 12.408s...\n",
      "[t-SNE] Computed conditional probabilities for sample 1000 / 145539\n",
      "[t-SNE] Computed conditional probabilities for sample 2000 / 145539\n",
      "[t-SNE] Computed conditional probabilities for sample 3000 / 145539\n",
      "[t-SNE] Computed conditional probabilities for sample 4000 / 145539\n",
      "[t-SNE] Computed conditional probabilities for sample 5000 / 145539\n",
      "[t-SNE] Computed conditional probabilities for sample 6000 / 145539\n",
      "[t-SNE] Computed conditional probabilities for sample 7000 / 145539\n",
      "[t-SNE] Computed conditional probabilities for sample 8000 / 145539\n",
      "[t-SNE] Computed conditional probabilities for sample 9000 / 145539\n",
      "[t-SNE] Computed conditional probabilities for sample 10000 / 145539\n",
      "[t-SNE] Computed conditional probabilities for sample 11000 / 145539\n",
      "[t-SNE] Computed conditional probabilities for sample 12000 / 145539\n",
      "[t-SNE] Computed conditional probabilities for sample 13000 / 145539\n",
      "[t-SNE] Computed conditional probabilities for sample 14000 / 145539\n",
      "[t-SNE] Computed conditional probabilities for sample 15000 / 145539\n",
      "[t-SNE] Computed conditional probabilities for sample 16000 / 145539\n",
      "[t-SNE] Computed conditional probabilities for sample 17000 / 145539\n",
      "[t-SNE] Computed conditional probabilities for sample 18000 / 145539\n",
      "[t-SNE] Computed conditional probabilities for sample 19000 / 145539\n",
      "[t-SNE] Computed conditional probabilities for sample 20000 / 145539\n",
      "[t-SNE] Computed conditional probabilities for sample 21000 / 145539\n",
      "[t-SNE] Computed conditional probabilities for sample 22000 / 145539\n",
      "[t-SNE] Computed conditional probabilities for sample 23000 / 145539\n",
      "[t-SNE] Computed conditional probabilities for sample 24000 / 145539\n",
      "[t-SNE] Computed conditional probabilities for sample 25000 / 145539\n",
      "[t-SNE] Computed conditional probabilities for sample 26000 / 145539\n",
      "[t-SNE] Computed conditional probabilities for sample 27000 / 145539\n",
      "[t-SNE] Computed conditional probabilities for sample 28000 / 145539\n",
      "[t-SNE] Computed conditional probabilities for sample 29000 / 145539\n",
      "[t-SNE] Computed conditional probabilities for sample 30000 / 145539\n",
      "[t-SNE] Computed conditional probabilities for sample 31000 / 145539\n",
      "[t-SNE] Computed conditional probabilities for sample 32000 / 145539\n",
      "[t-SNE] Computed conditional probabilities for sample 33000 / 145539\n",
      "[t-SNE] Computed conditional probabilities for sample 34000 / 145539\n",
      "[t-SNE] Computed conditional probabilities for sample 35000 / 145539\n",
      "[t-SNE] Computed conditional probabilities for sample 36000 / 145539\n",
      "[t-SNE] Computed conditional probabilities for sample 37000 / 145539\n",
      "[t-SNE] Computed conditional probabilities for sample 38000 / 145539\n",
      "[t-SNE] Computed conditional probabilities for sample 39000 / 145539\n",
      "[t-SNE] Computed conditional probabilities for sample 40000 / 145539\n",
      "[t-SNE] Computed conditional probabilities for sample 41000 / 145539\n",
      "[t-SNE] Computed conditional probabilities for sample 42000 / 145539\n",
      "[t-SNE] Computed conditional probabilities for sample 43000 / 145539\n",
      "[t-SNE] Computed conditional probabilities for sample 44000 / 145539\n",
      "[t-SNE] Computed conditional probabilities for sample 45000 / 145539\n",
      "[t-SNE] Computed conditional probabilities for sample 46000 / 145539\n",
      "[t-SNE] Computed conditional probabilities for sample 47000 / 145539\n",
      "[t-SNE] Computed conditional probabilities for sample 48000 / 145539\n",
      "[t-SNE] Computed conditional probabilities for sample 49000 / 145539\n",
      "[t-SNE] Computed conditional probabilities for sample 50000 / 145539\n",
      "[t-SNE] Computed conditional probabilities for sample 51000 / 145539\n",
      "[t-SNE] Computed conditional probabilities for sample 52000 / 145539\n",
      "[t-SNE] Computed conditional probabilities for sample 53000 / 145539\n",
      "[t-SNE] Computed conditional probabilities for sample 54000 / 145539\n",
      "[t-SNE] Computed conditional probabilities for sample 55000 / 145539\n",
      "[t-SNE] Computed conditional probabilities for sample 56000 / 145539\n",
      "[t-SNE] Computed conditional probabilities for sample 57000 / 145539\n",
      "[t-SNE] Computed conditional probabilities for sample 58000 / 145539\n",
      "[t-SNE] Computed conditional probabilities for sample 59000 / 145539\n",
      "[t-SNE] Computed conditional probabilities for sample 60000 / 145539\n",
      "[t-SNE] Computed conditional probabilities for sample 61000 / 145539\n",
      "[t-SNE] Computed conditional probabilities for sample 62000 / 145539\n",
      "[t-SNE] Computed conditional probabilities for sample 63000 / 145539\n",
      "[t-SNE] Computed conditional probabilities for sample 64000 / 145539\n",
      "[t-SNE] Computed conditional probabilities for sample 65000 / 145539\n",
      "[t-SNE] Computed conditional probabilities for sample 66000 / 145539\n",
      "[t-SNE] Computed conditional probabilities for sample 67000 / 145539\n",
      "[t-SNE] Computed conditional probabilities for sample 68000 / 145539\n",
      "[t-SNE] Computed conditional probabilities for sample 69000 / 145539\n",
      "[t-SNE] Computed conditional probabilities for sample 70000 / 145539\n",
      "[t-SNE] Computed conditional probabilities for sample 71000 / 145539\n",
      "[t-SNE] Computed conditional probabilities for sample 72000 / 145539\n",
      "[t-SNE] Computed conditional probabilities for sample 73000 / 145539\n",
      "[t-SNE] Computed conditional probabilities for sample 74000 / 145539\n",
      "[t-SNE] Computed conditional probabilities for sample 75000 / 145539\n",
      "[t-SNE] Computed conditional probabilities for sample 76000 / 145539\n",
      "[t-SNE] Computed conditional probabilities for sample 77000 / 145539\n",
      "[t-SNE] Computed conditional probabilities for sample 78000 / 145539\n",
      "[t-SNE] Computed conditional probabilities for sample 79000 / 145539\n",
      "[t-SNE] Computed conditional probabilities for sample 80000 / 145539\n",
      "[t-SNE] Computed conditional probabilities for sample 81000 / 145539\n",
      "[t-SNE] Computed conditional probabilities for sample 82000 / 145539\n",
      "[t-SNE] Computed conditional probabilities for sample 83000 / 145539\n",
      "[t-SNE] Computed conditional probabilities for sample 84000 / 145539\n",
      "[t-SNE] Computed conditional probabilities for sample 85000 / 145539\n",
      "[t-SNE] Computed conditional probabilities for sample 86000 / 145539\n",
      "[t-SNE] Computed conditional probabilities for sample 87000 / 145539\n",
      "[t-SNE] Computed conditional probabilities for sample 88000 / 145539\n",
      "[t-SNE] Computed conditional probabilities for sample 89000 / 145539\n",
      "[t-SNE] Computed conditional probabilities for sample 90000 / 145539\n",
      "[t-SNE] Computed conditional probabilities for sample 91000 / 145539\n",
      "[t-SNE] Computed conditional probabilities for sample 92000 / 145539\n",
      "[t-SNE] Computed conditional probabilities for sample 93000 / 145539\n",
      "[t-SNE] Computed conditional probabilities for sample 94000 / 145539\n",
      "[t-SNE] Computed conditional probabilities for sample 95000 / 145539\n",
      "[t-SNE] Computed conditional probabilities for sample 96000 / 145539\n",
      "[t-SNE] Computed conditional probabilities for sample 97000 / 145539\n",
      "[t-SNE] Computed conditional probabilities for sample 98000 / 145539\n",
      "[t-SNE] Computed conditional probabilities for sample 99000 / 145539\n",
      "[t-SNE] Computed conditional probabilities for sample 100000 / 145539\n",
      "[t-SNE] Computed conditional probabilities for sample 101000 / 145539\n",
      "[t-SNE] Computed conditional probabilities for sample 102000 / 145539\n",
      "[t-SNE] Computed conditional probabilities for sample 103000 / 145539\n",
      "[t-SNE] Computed conditional probabilities for sample 104000 / 145539\n",
      "[t-SNE] Computed conditional probabilities for sample 105000 / 145539\n",
      "[t-SNE] Computed conditional probabilities for sample 106000 / 145539\n",
      "[t-SNE] Computed conditional probabilities for sample 107000 / 145539\n",
      "[t-SNE] Computed conditional probabilities for sample 108000 / 145539\n",
      "[t-SNE] Computed conditional probabilities for sample 109000 / 145539\n",
      "[t-SNE] Computed conditional probabilities for sample 110000 / 145539\n",
      "[t-SNE] Computed conditional probabilities for sample 111000 / 145539\n",
      "[t-SNE] Computed conditional probabilities for sample 112000 / 145539\n",
      "[t-SNE] Computed conditional probabilities for sample 113000 / 145539\n",
      "[t-SNE] Computed conditional probabilities for sample 114000 / 145539\n",
      "[t-SNE] Computed conditional probabilities for sample 115000 / 145539\n",
      "[t-SNE] Computed conditional probabilities for sample 116000 / 145539\n",
      "[t-SNE] Computed conditional probabilities for sample 117000 / 145539\n",
      "[t-SNE] Computed conditional probabilities for sample 118000 / 145539\n",
      "[t-SNE] Computed conditional probabilities for sample 119000 / 145539\n",
      "[t-SNE] Computed conditional probabilities for sample 120000 / 145539\n",
      "[t-SNE] Computed conditional probabilities for sample 121000 / 145539\n",
      "[t-SNE] Computed conditional probabilities for sample 122000 / 145539\n",
      "[t-SNE] Computed conditional probabilities for sample 123000 / 145539\n",
      "[t-SNE] Computed conditional probabilities for sample 124000 / 145539\n",
      "[t-SNE] Computed conditional probabilities for sample 125000 / 145539\n",
      "[t-SNE] Computed conditional probabilities for sample 126000 / 145539\n",
      "[t-SNE] Computed conditional probabilities for sample 127000 / 145539\n",
      "[t-SNE] Computed conditional probabilities for sample 128000 / 145539\n",
      "[t-SNE] Computed conditional probabilities for sample 129000 / 145539\n",
      "[t-SNE] Computed conditional probabilities for sample 130000 / 145539\n",
      "[t-SNE] Computed conditional probabilities for sample 131000 / 145539\n",
      "[t-SNE] Computed conditional probabilities for sample 132000 / 145539\n",
      "[t-SNE] Computed conditional probabilities for sample 133000 / 145539\n",
      "[t-SNE] Computed conditional probabilities for sample 134000 / 145539\n",
      "[t-SNE] Computed conditional probabilities for sample 135000 / 145539\n",
      "[t-SNE] Computed conditional probabilities for sample 136000 / 145539\n",
      "[t-SNE] Computed conditional probabilities for sample 137000 / 145539\n",
      "[t-SNE] Computed conditional probabilities for sample 138000 / 145539\n",
      "[t-SNE] Computed conditional probabilities for sample 139000 / 145539\n",
      "[t-SNE] Computed conditional probabilities for sample 140000 / 145539\n",
      "[t-SNE] Computed conditional probabilities for sample 141000 / 145539\n",
      "[t-SNE] Computed conditional probabilities for sample 142000 / 145539\n",
      "[t-SNE] Computed conditional probabilities for sample 143000 / 145539\n",
      "[t-SNE] Computed conditional probabilities for sample 144000 / 145539\n",
      "[t-SNE] Computed conditional probabilities for sample 145000 / 145539\n",
      "[t-SNE] Computed conditional probabilities for sample 145539 / 145539\n",
      "[t-SNE] Mean sigma: 0.000000\n",
      "[t-SNE] KL divergence after 250 iterations with early exaggeration: 95.569733\n"
     ]
    }
   ],
   "source": [
    "## start time\n",
    "t0 = time.time()\n",
    "print(datetime.now().time())\n",
    "\n",
    "from sklearn.manifold import TSNE\n",
    "\n",
    "collected_list = {}\n",
    "Uarray_list = {}\n",
    "Uembedded_list = {}\n",
    "\n",
    "## create data for plotting\n",
    "for i in data_array:\n",
    "    collected_list[i] = U_list[i].rows.collect()\n",
    "    Uarray_list[i] = np.array([[x[i] for i in range(k)] for x in collected_list[i]]) # unpack strange spark vectors\n",
    "    t_sne_model = TSNE(n_components=2, verbose=1, random_state=0, angle=.99, init='random')\n",
    "    Uembedded_list[i] = t_sne_model.fit_transform(Uarray_list[i])\n",
    "    \n",
    "## end time\n",
    "T = time.time() - t0;\n",
    "print(\"Time taken:\", round(T/60), \"minutes.\") # hm96 - 5 minutes all-5  "
   ]
  },
  {
   "cell_type": "code",
   "execution_count": null,
   "metadata": {},
   "outputs": [],
   "source": [
    "## plot graphs\n",
    "fig, ax = plt.subplots(nrows=2, ncols=6, figsize=(16, 8))\n",
    "\n",
    "j = 1\n",
    "for i in data_array:\n",
    "    plt.subplot(2, 6, j)\n",
    "    plt.scatter(Uembedded_list[i][:,0],Uembedded_list[i][:,1], color=\"bgrcmykbgrcmyk\"[j], alpha=0.1)\n",
    "    j = j+1\n",
    "#    np.shape(Uembedded_list[i])\n",
    "    #plt.scatter(Uembedded_list[i][:,0],Uembedded_list[i][:,1],alpha=.2)\n",
    "\n",
    "plt.show()"
   ]
  },
  {
   "cell_type": "code",
   "execution_count": null,
   "metadata": {
    "scrolled": true
   },
   "outputs": [],
   "source": [
    "## plot graphs\n",
    "fig, ax = plt.subplots(nrows=2, ncols=6, figsize=(16, 8))\n",
    "\n",
    "j = 1\n",
    "for i in data_array:\n",
    "    plt.subplot(2, 6, j)\n",
    "    plt.scatter(Uarray_list[i][:,0],Uarray_list[i][:,1],alpha=.1)\n",
    "    plt.scatter(Uarray_list[i][:,0],Uarray_list[i][:,2],alpha=.1)\n",
    "    plt.scatter(Uarray_list[i][:,0],Uarray_list[i][:,3],alpha=.1)\n",
    "    j = j+1\n",
    "#    np.shape(Uembedded_list[i])\n",
    "    #plt.scatter(Uembedded_list[i][:,0],Uembedded_list[i][:,1],alpha=.2)\n",
    "\n",
    "plt.show()"
   ]
  },
  {
   "cell_type": "code",
   "execution_count": null,
   "metadata": {
    "scrolled": true
   },
   "outputs": [],
   "source": [
    "## plot graphs\n",
    "fig, ax = plt.subplots(nrows=2, ncols=6, figsize=(16, 8))\n",
    "\n",
    "j = 1\n",
    "for i in data_array:\n",
    "    plt.subplot(2, 6, j)\n",
    "    plt.scatter(Uarray_list[i][:,1],Uarray_list[i][:,2],alpha=.1)\n",
    "    plt.scatter(Uarray_list[i][:,1],Uarray_list[i][:,3],alpha=.1)\n",
    "    j = j+1\n",
    "#    np.shape(Uembedded_list[i])\n",
    "    #plt.scatter(Uembedded_list[i][:,0],Uembedded_list[i][:,1],alpha=.2)\n",
    "\n",
    "plt.show()"
   ]
  },
  {
   "cell_type": "markdown",
   "metadata": {},
   "source": [
    "It is not true that few messages account for a large fraction of variability"
   ]
  },
  {
   "cell_type": "markdown",
   "metadata": {},
   "source": [
    "## Latent Dirichlet Allocation"
   ]
  },
  {
   "cell_type": "code",
   "execution_count": null,
   "metadata": {},
   "outputs": [],
   "source": [
    "from pyspark.ml.clustering import LDA\n",
    "\n",
    "lda = LDA(k=5, maxIter=5)\n",
    "\n",
    "lda_model_list = {}\n",
    "for i in data_array:\n",
    "    lda_model_list[i] = lda.fit(word_feat_list[i])"
   ]
  },
  {
   "cell_type": "code",
   "execution_count": null,
   "metadata": {},
   "outputs": [],
   "source": [
    "loglik_list = {}\n",
    "logper_list = {}\n",
    "for i in data_array:\n",
    "    loglik_list[i] = lda_model_list[i].logLikelihood(word_feat_list[i])\n",
    "    logper_list[i] = lda_model_list[i].logPerplexity(word_feat_list[i])"
   ]
  },
  {
   "cell_type": "code",
   "execution_count": null,
   "metadata": {},
   "outputs": [],
   "source": [
    "for i in data_array:\n",
    "    print(\"The lower bound on the log likelihood of the \" +'\\033[1m'+ i +'\\033[0m'+ \" corpus is: \" + str(loglik_list[i]))\n",
    "    print(\"The upper bound on the perplexity of the \" +'\\033[1m'+ i +'\\033[0m'+ \" corpus is: \" + str(logper_list[i]))\n",
    "    print('\\n')"
   ]
  },
  {
   "cell_type": "code",
   "execution_count": null,
   "metadata": {},
   "outputs": [],
   "source": [
    "## describe topics\n",
    "topic_list = {}\n",
    "for i in data_array:\n",
    "    print(i)\n",
    "    topic_list[i] = lda_model_list[i].describeTopics(5)\n",
    "    #print(\"The topics described by their top-weighted terms:\\n\")\n",
    "    #topic_list[i].show(truncate=False)\n",
    "    # show the results\n",
    "    topic_j = topic_list[i].select(\"termIndices\").rdd.map(lambda r: r[0]).collect()\n",
    "    for j in topic_j:\n",
    "        print(np.array(cntvcr_models[i].vocabulary)[j])\n",
    "    print('\\n')"
   ]
  },
  {
   "cell_type": "markdown",
   "metadata": {},
   "source": [
    "## Conclusion and further research"
   ]
  },
  {
   "cell_type": "markdown",
   "metadata": {},
   "source": [
    "The way I have built this notebook means that it contains all the information and code needed to repeat the process.\n",
    "\n",
    "Further research:\n",
    "\n",
    "Tackle larger datasets by optimising code (accessing data straight from HDFS rather than GCP Bucket)\n",
    "\n",
    "\n",
    "Use Spark jobs submitted from the terminal using .py files rather than a Jupyter Notebook\n",
    "\n",
    "Using Google BigQuery"
   ]
  },
  {
   "cell_type": "markdown",
   "metadata": {},
   "source": [
    "## References"
   ]
  },
  {
   "cell_type": "code",
   "execution_count": null,
   "metadata": {},
   "outputs": [],
   "source": []
  }
 ],
 "metadata": {
  "kernelspec": {
   "display_name": "PySpark",
   "language": "python",
   "name": "pyspark"
  },
  "language_info": {
   "codemirror_mode": {
    "name": "ipython",
    "version": 3
   },
   "file_extension": ".py",
   "mimetype": "text/x-python",
   "name": "python",
   "nbconvert_exporter": "python",
   "pygments_lexer": "ipython3",
   "version": "3.6.5"
  }
 },
 "nbformat": 4,
 "nbformat_minor": 2
}

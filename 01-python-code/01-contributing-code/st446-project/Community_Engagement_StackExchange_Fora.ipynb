{
 "cells": [
  {
   "cell_type": "markdown",
   "metadata": {},
   "source": [
    "# Exploring Community Engagement with Multiple StackExchange Fora"
   ]
  },
  {
   "cell_type": "markdown",
   "metadata": {},
   "source": [
    "### Bradley Carruthers, Candidate Number: 10140"
   ]
  },
  {
   "cell_type": "markdown",
   "metadata": {},
   "source": [
    "## Table of Contents"
   ]
  },
  {
   "cell_type": "markdown",
   "metadata": {},
   "source": [
    "* Abstract\n",
    "* Introduction\n",
    "* Datasets: StackExchange\n",
    "* Distributed Computing Technology\n",
    "* Conclusion\n",
    "* References"
   ]
  },
  {
   "cell_type": "markdown",
   "metadata": {},
   "source": [
    "## Abstract"
   ]
  },
  {
   "cell_type": "markdown",
   "metadata": {},
   "source": [
    "Developing high-quality questions and procuring answers to these questions is not only fundamental to learning and information gathering, but to scientific progress as a whole. Online question-answer communities and fora have given internet-users the unprecendented ability of presenting questions to the world, and while much attention has been given to finding the right answers (ask Google), relatively little attention has been dedicated to how we can improve questions. This project explores over 1.2 million answers and questions from five of the largest StackExchange communities using distributed cloud computing technologies and uses natural language processing to uncover linguistic aspects of these answers and questions."
   ]
  },
  {
   "cell_type": "markdown",
   "metadata": {},
   "source": [
    "## Introduction"
   ]
  },
  {
   "cell_type": "markdown",
   "metadata": {},
   "source": [
    "The advent of the world wide web has resulted in an unbelievably connected world, one where a single search engine will process up to [40 000 search queries every second or 3.5 billion a day](http://www.internetlivestats.com/google-search-statistics/). A number of dedicated question-answer communities also exist to directly and more rigorously answer the swarm of the world's daily questions, some of which include [Quora](quora.com), [Yahoo! Answers](answers.yahoo.com) and the family of dedicated fora, [StackExchange](https://stackexchange.com/sites#traffic).\n",
    "\n",
    "I am interested in how these online question-answer communities interact with questions and how users can be nudged to improve questions before adding demand to expert resources in communities. This aim of this project therefore is an initial exploratory analysis of data on over 1.2 million answers and questions from various StackExchange fora relating to a variety of subject matter. Most importantly, by harnessing the capability of distributed cloud computing I am able to analyse datasets far larger than what is capable on a single, commercial machine.\n",
    "\n",
    "The layout of the analysis is as follows: Firstly and secondly I give a brief discussion of the distributed computing technologies and data analysed. This is followed by an illustration of the setup code and the specific architecture of the computing capabilities I used. Various aspects of the data are then explored via Exploratory Data Analysis and t-SNE graphs, as well as through a Latent Dirichlet Allocation model that is implemented on post content to investigate latent topics and underlying semantic structure across each forum. Lastly, I conclude with a discussion on recommended further research."
   ]
  },
  {
   "cell_type": "markdown",
   "metadata": {},
   "source": [
    "## Distributed Computing Technologies"
   ]
  },
  {
   "cell_type": "markdown",
   "metadata": {},
   "source": [
    "### Apache Spark"
   ]
  },
  {
   "cell_type": "markdown",
   "metadata": {},
   "source": [
    "[Apache Spark](http://spark.apache.org) is a cluster-computing framework that is open-source and designed for to be fault-tolerant, distributed and use in-memory computing. [Apache Hadoop](http://hadoop.apache.org) is the distributed data storage and processing software framework underlying Spark, which uses the MapReduce programming model. The two main components of Hadoop are Hadoop Distributed File System (HDFS) and YARN. HDFS is the distributed file system handling large data, whereas YARN separates resource management and processing components.\n",
    "\n",
    "Spark uses a master-slave architecture where there is one central coordinator or driver that communicates with many distributed workers or executors, illustrated by the following diagram:\n",
    "\n",
    "<img src=\"img/spark-master-workers.png\" style=\"width: 600px;\" alt=\"big data htop one core\">"
   ]
  },
  {
   "cell_type": "markdown",
   "metadata": {},
   "source": [
    "While the driver and each executor run their own Java processes, the main method (SparkContext) runs on the driver process. The executors are processes on worker nodes that run individual tasks for a given Spark job - they launch at the beginning of a Spark initiation and will generally run until it ends. When tasks are completed, the executors relay results back to the driver.\n",
    "\n",
    "The fundamental core class in Spark is the Resilient Distributed Dataset (RDD), put forth by Zaharia *et al.* (2012). RDDs are the distributed memory abstraction that allow programmers to use in-memory computation on large machine clusters in a fault tolerant way. The main finding from Zaharia *et al.* (2012) is that keeping data in-memory results improved performance by orders of magnitude.\n",
    "\n",
    "Spark can be interfaced with various programming languages like Scala, Java, Python and R through respective APIs. In this Jupyter Notebook, my analysis will use the Python API, PySpark. \n",
    "\n",
    "This analysis primarily makes use of the class `pyspark.sql.DataFrame` within the Spark SQL module, which is used as a collection of data grouped into name columns. The Spark SQL module incorporates relational processing in Spark and thus benefits from optimised storage and declarative queries, as well as lets Structured Query Language (SQL) users use a host of analytics libraries in Spark (Armbrust *et al.*, 2015).\n",
    "\n",
    "A more in-depth explanation of Spark can be found [here](https://www.learningjournal.guru/article/apache-spark/apache-spark-internals/)."
   ]
  },
  {
   "cell_type": "markdown",
   "metadata": {},
   "source": [
    "**Note:** Although a rule of thumb is that Spark is best-suited for real-time or streaming data processing where a large amount of RAM is accessible and Hadoop is more suitable for batch processing using commodity hardware, I chose to use PySpark owing to its ease of use and access to the SQL-like API, Spark SQL."
   ]
  },
  {
   "cell_type": "markdown",
   "metadata": {},
   "source": [
    "An alternative to using PySpark would be Google BigQuery which is based on the Dremel technology. In short, the Dremel technology parallelises queries across a large number of Google servers and thus it is able to run SQL-like queries against extremely large datasets, obtaining results incredibly quickly. Users can upload their own datasets easily since BigQuery is integrated with Google Drive, Google Cloud BigTable and Google Cloud Storage. There are also a number of [public datasets](https://cloud.google.com/public-datasets/), one of which is the largest StackExchange question-answer site, StackOverflow. A deeper look into Google BigQuery is provided by Sato (2012)."
   ]
  },
  {
   "cell_type": "markdown",
   "metadata": {},
   "source": [
    "## Datasets: StackExchange Family"
   ]
  },
  {
   "cell_type": "markdown",
   "metadata": {},
   "source": [
    "StackExchange is a group of over 170 dedicated question-answer websites covering topics ranging from vegetarianism to robotics to science-fiction world building. The largest and oldest forum is programming site StackOverflow, now home to more than 10 million registered users and 18 million questions at the time of writing.\n",
    "\n",
    "The data across all StackExchange sites are publicly available in XML format (zipped by 7-zip with bzip2 compression) at [archive.org](https://archive.org/download/stackexchange) and are regularly updated (the last update being 4 March 2019). For each site, the following files are available:"
   ]
  },
  {
   "cell_type": "markdown",
   "metadata": {},
   "source": [
    "* `PostHistory.xml`: A history of the versions of each question and answer posted (questions can be edited)\n",
    "* `Posts.xml`: The final, up to date version of each question and answer posted\n",
    "* `Users.xml`: Data on registered users \n",
    "* `Votes.xml`: Data on different votes cast (moderator-related, offensive, spam, votes to close, delete etc.)\n",
    "* `Comments.xml`: The final, up to date version of each comment posted\n",
    "* `Badges.xml`: Log of when badges (an incentive mechanism) are awarded to users for specific achievements\n",
    "* `PostLinks.xml`: Connects posts marked as linked or duplicated\n",
    "* `Tags.xml`: Data on the tags put forth with each question posted"
   ]
  },
  {
   "cell_type": "markdown",
   "metadata": {},
   "source": [
    "As this is an initial analysis, I will only be using the `Posts.xml` data for each forum. In this file, the following variables are recorded per post:\n",
    "\n",
    "* `Id`: A chronological post identity variable\n",
    "* `PostTypeId`: Mainly an indicator of whether the post is an question (==1) or an answer (==2)\n",
    "* `ParentId`: An indicator of which question an answer belongs to (only answers)\n",
    "* `AcceptedAnswerId`: An indicator of which answer the original question poster selected as accepted (only questions)\n",
    "* `CreationDate`: A date variable relating to when the post was made\n",
    "* `Score`: The difference between up-votes and down-votes for posts\n",
    "* `ViewCount`: The number of times that a post has been viewed by registered and non-registered users alike\n",
    "* `Body`: The main post content\n",
    "* `OwnerUserId`: An identity variable for the post owner\n",
    "* `LastEditorUserId`: An identity number for the last registered user that edited the post\n",
    "* `LastEditDate`: A date variable relating to when the post was last edited\n",
    "* `LastActivityDate`: A date variable relating to when last there was activity on the post\n",
    "* `Title`: The post title (questions only)\n",
    "* `Tags`: The collection of tags linked to a question\n",
    "* `AnswerCount`: The number of answers that a question receives (questions only)\n",
    "* `CommentCount`: The number of comments that a post receives\n",
    "* `FavoriteCount`: The number of times that users have favourited a question (questions only)\n",
    "* `ClosedDate`: A date variable relating to if the question was closed (questions only)"
   ]
  },
  {
   "cell_type": "markdown",
   "metadata": {},
   "source": [
    "**Note:** The word \"post\" above refers to both questions and answers."
   ]
  },
  {
   "cell_type": "markdown",
   "metadata": {},
   "source": [
    "**Noteworthy aspects of the data**"
   ]
  },
  {
   "cell_type": "markdown",
   "metadata": {},
   "source": [
    "It is worth mentioning the following:\n",
    "\n",
    "* Not everyone who views a question (and thus adds to the `ViewCount`) can vote since you have to be a registered user to vote (the sites are open to the public) and you also need a certain amount of reputation to vote\n",
    "* A [reputation](https://meta.stackexchange.com/questions/7237/how-does-reputation-work) level of 15 allows you to up-vote, whereas a level of 125 allows you to down-vote, thus the distribution of the `Score` variable is highly negatively skewed (more highly-scored questions and answers)\n",
    "* Only a handful of the above variables will be used in this initial analysis"
   ]
  },
  {
   "cell_type": "markdown",
   "metadata": {},
   "source": [
    "**Cluster and Environment Setup on Google Cloud Platform**"
   ]
  },
  {
   "cell_type": "markdown",
   "metadata": {},
   "source": [
    "Google Cloud Platform (GCP) is the suite of Google's cloud computing services that run on the same infrastructure used at Google, a subset of which I use in this analysis. \n",
    "\n",
    "The services that are relevant for my analysis are the GCP Compute Engine and GCP Dataproc. The Compute Engine allows access to customisable virtual machines or instances which users can use for their computation needs, and Dataproc builds on this by offering a fully-managed cloud computing service to run Apache Spark and Hadoop clusters of virtual machines. I use Dataproc to specify the infrastructure of a master node and worker nodes - CPU options range from 1 to 96 cores per master and worker machine with the additional capability of specifying lower memory per machine (highcpu) or higher memory (highmem)."
   ]
  },
  {
   "cell_type": "markdown",
   "metadata": {},
   "source": [
    "For this analysis, many different infrastructures of the GCP Dataproc clusters were explored to minimise read-in and run time. It appeared that scaling vertically was more fruitful than horizontally (at least for the intial queries), and thus I used a high-memory master node with 96 CPUs and no worker nodes. The code to spin up this specific GCP Dataproc cluster is shown below:"
   ]
  },
  {
   "cell_type": "markdown",
   "metadata": {},
   "source": [
    "```bash\n",
    "## set project beforehand\n",
    "gcloud config list\n",
    "export PROJECT=\"stack-exchange-project\"\n",
    "gcloud config set project ${PROJECT}\n",
    "\n",
    "## set variables beforehand\n",
    "export NUM_WORKERS=\"0\"\n",
    "export BUCKET=\"bucket-brad-project\"\n",
    "export CLUSTER=\"cluster-brad\"\n",
    "\n",
    "## spin up cluster\n",
    "gcloud dataproc clusters create ${CLUSTER} \\\n",
    "--properties=^#^spark:spark.jars.packages=com.databricks:spark-xml_2.11:0.4.1 \\\n",
    " --subnet default --zone europe-west2-a --master-machine-type n1-highmem-96 \\\n",
    " --master-boot-disk-size 500 --num-workers=${NUM_WORKERS} --worker-machine-type n1-highmem-16 \\\n",
    " --worker-boot-disk-size 500 --image-version 1.3-deb9 --project=${PROJECT} --bucket=${BUCKET} \\\n",
    " --initialization-actions 'gs://dataproc-initialization-actions/jupyter/jupyter.sh',\\\n",
    "'gs://dataproc-initialization-actions/python/pip-install.sh','gs://bucket-brad-project/my-actions.sh' \\\n",
    "--metadata 'PIP_PACKAGES=sklearn nltk pandas'\n",
    "\n",
    "## connect to jupyter notebook\n",
    "export PORT=8123\n",
    "export ZONE=\"europe-west2-a\"\n",
    "export HOSTNAME=cluster-brad-m\n",
    "\n",
    "gcloud compute ssh ${HOSTNAME} \\\n",
    "    --project=${PROJECT} --zone=${ZONE}  -- \\\n",
    "    -D ${PORT} -N &\n",
    "\n",
    "\"/Applications/Google Chrome.app/Contents/MacOS/Google Chrome\" \\\n",
    "      --proxy-server=\"socks5://localhost:${PORT}\" \\\n",
    "      --user-data-dir=/tmp/${HOSTNAME}\n",
    "```\n",
    "```bash\n",
    "## delete clusters after use\n",
    "gcloud dataproc clusters delete cluster-brad\n",
    "```"
   ]
  },
  {
   "cell_type": "markdown",
   "metadata": {},
   "source": [
    "In order to use this large amount of resources on the GCP Dataproc cluster, I had to request the following quota increases from Google Cloud Support:\n",
    "\n",
    "* Global and European `IN_USE_ADDRESSES` from 8 to 16\n",
    "* European `CPUS` from 24 to 130\n",
    "* Global `CPUS_ALL_REGIONS` from 32 to 520\n",
    "* European `DISKS_TOTAL_GB` from 4096 to 5000\n"
   ]
  },
  {
   "cell_type": "markdown",
   "metadata": {},
   "source": [
    "**Downloading the data**"
   ]
  },
  {
   "cell_type": "markdown",
   "metadata": {},
   "source": [
    "The datasets were downloaded and moved over to a bucket on Google Cloud Storage using the following bash script, which was run when the GCP cluster is created:"
   ]
  },
  {
   "cell_type": "markdown",
   "metadata": {},
   "source": [
    "```bash\n",
    "## install htop to monitor CPUs later\n",
    "sudo apt-get install htop\n",
    "\n",
    "## install unzipper\n",
    "sudo apt-get install --yes p7zip-full\n",
    "\n",
    "## create folder and datasets array (separate approach for stackoverflow.com-Posts.7z)\n",
    "mkdir datasets && cd datasets\n",
    "\n",
    "declare -a arr=(\n",
    "\"askubuntu.com\"\n",
    "\"codegolf.stackexchange.com\"\n",
    "\"codereview.stackexchange.com\"\n",
    "\"es.stackoverflow.com\"\n",
    "\"math.stackexchange.com\"\n",
    "\"physics.stackexchange.com\"\n",
    "\"ru.stackoverflow.com\"\n",
    "\"stackoverflow.com-Posts\"\n",
    "\"superuser.com\"\n",
    "\"unix.stackexchange.com\"\n",
    ")\n",
    "\n",
    "## loop downloading, unzipping and extracting all XML data\n",
    "for i in \"${arr[@]}\"\n",
    "do\n",
    "   mkdir \"$i\" && cd \"$i\"\n",
    "   wget https://archive.org/download/stackexchange/\"$i\".7z\n",
    "   p7zip -d \"$i\".7z\n",
    "   find . -type f ! -name 'Posts.xml' -delete # delete everything except Posts.xml\n",
    "   cd ..\n",
    "   echo \"On to next dataset!\"\n",
    "done\n",
    "\n",
    "## rename folders for ease of import later\n",
    "mv stackoverflow.com-Posts stackoverflow.stackexchange.com\n",
    "mv superuser.com superuser.stackexchange.com\n",
    "mv askubuntu.com askubuntu.stackexchange.com\n",
    "mv ru.stackoverflow.com rus_stackoverflow.stackexchange.com\n",
    "mv es.stackoverflow.com es_stackoverflow.stackexchange.com\n",
    "\n",
    "cd\n",
    "\n",
    "## copy datasets folder over to bucket\n",
    "gsutil cp -r datasets gs://bucket-brad-project/datasets/large-datasets\n",
    "```"
   ]
  },
  {
   "cell_type": "markdown",
   "metadata": {},
   "source": [
    "Lastly it should be noted that while this work is only an inital analysis of a few datasets, it will serve as a stepping stone to predict a community engagement with questions so that users can be nudged to improve aspects of their questions before adding demand to expert resources in a community. This notebook lays the groundwork for a planned classification project analysing a greater collection of larger datasets in a distributed computing framework."
   ]
  },
  {
   "cell_type": "markdown",
   "metadata": {},
   "source": [
    "---"
   ]
  },
  {
   "cell_type": "markdown",
   "metadata": {},
   "source": [
    "# Analysis"
   ]
  },
  {
   "cell_type": "markdown",
   "metadata": {},
   "source": [
    "## Importing and Setup"
   ]
  },
  {
   "cell_type": "code",
   "execution_count": 5,
   "metadata": {},
   "outputs": [
    {
     "name": "stdout",
     "output_type": "stream",
     "text": [
      "b'\"Welcome to my notebook\"\\n'\n"
     ]
    }
   ],
   "source": [
    "## testing printing output from console\n",
    "import subprocess\n",
    "cmd = [ 'echo', '\"Welcome to my notebook\"' ]\n",
    "output = subprocess.Popen( cmd, stdout=subprocess.PIPE ).communicate()[0]\n",
    "print(output)"
   ]
  },
  {
   "cell_type": "code",
   "execution_count": 6,
   "metadata": {},
   "outputs": [],
   "source": [
    "## use com.databricks package specified when spinning up cluster\n",
    "import os ## restart kernel\n",
    "#os._exit(00)\n",
    "os.environ['PYSPARK_SUBMIT_ARGS'] = '--packages com.databricks:spark-xml_2.11:0.4.1 pyspark-shell'"
   ]
  },
  {
   "cell_type": "code",
   "execution_count": 7,
   "metadata": {},
   "outputs": [
    {
     "data": {
      "text/plain": [
       "8"
      ]
     },
     "execution_count": 7,
     "metadata": {},
     "output_type": "execute_result"
    }
   ],
   "source": [
    "## check default number of partitions\n",
    "sc.defaultParallelism"
   ]
  },
  {
   "cell_type": "code",
   "execution_count": 9,
   "metadata": {},
   "outputs": [],
   "source": [
    "## import standard libraries\n",
    "import re\n",
    "import time\n",
    "import numpy as np\n",
    "import matplotlib.pyplot as plt\n",
    "%matplotlib inline\n",
    "from datetime import datetime\n",
    "\n",
    "## import pyspark elements\n",
    "from pyspark.sql import SQLContext\n",
    "sqlContext = SQLContext(sc)\n",
    "from pyspark.sql.functions import col, lit, when\n",
    "from pyspark.sql import Row\n",
    "\n",
    "## import elements from natural language toolkit\n",
    "import nltk\n",
    "#nltk.download('all') # uncomment first run as admin check\n",
    "from nltk.tokenize import sent_tokenize, word_tokenize\n",
    "from nltk.corpus import stopwords\n",
    "from nltk.stem.wordnet import WordNetLemmatizer\n",
    "import string\n",
    "stop_words = set(stopwords.words('english'))\n",
    "table = str.maketrans('', '', string.punctuation)\n",
    "lmtzr = WordNetLemmatizer()\n",
    "\n",
    "## function to tokenise and lemmatise\n",
    "# Milan Vojnovic and Christine Yuen, Simon Schoeller\n",
    "def get_tokens(line):\n",
    "    ###\n",
    "    tokens = word_tokenize(line)\n",
    "    # convert to lower case\n",
    "    tokens = [w.lower() for w in tokens]\n",
    "    # remove punctuations from each word\n",
    "    stripped = [w.translate(table) for w in tokens]\n",
    "    # remove remaining tokens that are not alphabetic\n",
    "    words = [word for word in stripped if word.isalpha()]\n",
    "    # filter out stop words\n",
    "    words = [w for w in words if not w in stop_words]\n",
    "    # lemmatizing the words, see https://en.wikipedia.org/wiki/Lemmatisation\n",
    "    words = [lmtzr.lemmatize(w) for w in words]\n",
    "    return (words)\n",
    "\n",
    "## set checkpoint directory\n",
    "sc.setCheckpointDir(\"gs://bucket-brad-project/tmp/\")"
   ]
  },
  {
   "cell_type": "markdown",
   "metadata": {},
   "source": [
    "## Loading Data"
   ]
  },
  {
   "cell_type": "code",
   "execution_count": 14,
   "metadata": {},
   "outputs": [],
   "source": [
    "## choose datasets to compare\n",
    "data_array = [\n",
    "\"codegolf\",\n",
    "\"codereview\",\n",
    "\"es_stackoverflow\",\n",
    "\"physics\",\n",
    "\"unix\"\n",
    "]"
   ]
  },
  {
   "cell_type": "markdown",
   "metadata": {},
   "source": [
    "Owing to difficulties in processing speeds that will be detailed shortly, I chose to analyse only the above datasets, information on which is displayed in the table below:"
   ]
  },
  {
   "cell_type": "markdown",
   "metadata": {},
   "source": [
    "| Fora | Registered Users | Questions | Answers | Posts.xml Size | Description |\n",
    "| --- | --- | --- | --- | --- | --- |\n",
    "| codegolf | 68k | 11k | 137k | 272.74 MB | Programming puzzles |\n",
    "| codereview | 171k | 59k | 94k | 596.56  MB | Peer programmer code reviews |\n",
    "| es_stackoverflow | 115k | 89k | 100k | 420.67 MB | Spanish StackOverflow |\n",
    "| physics | 167k | 137k | 202k | 509.59 MB | Physics related |\n",
    "| unix | 311k | 159k | 242k | 577.06 MB | Linux, FreeBSD and other Un*x-like operating systems"
   ]
  },
  {
   "cell_type": "code",
   "execution_count": 15,
   "metadata": {},
   "outputs": [],
   "source": [
    "## point to right directory\n",
    "fpath = 'gs://bucket-brad-project/datasets/large-datasets/'\n",
    "\n",
    "## function to extract data from xml files\n",
    "# Milan Vojnovic and Christine Yuen, edited by Simon Schoeller\n",
    "def load_all_xml(table_name):\n",
    "    # create dataframe list skeleton\n",
    "    dfs = {}\n",
    "    xml_name = table_name.capitalize()\n",
    "    for i in data_array:\n",
    "        table = sqlContext.read.format('com.databricks.spark.xml').options(rowTag=table_name).load(fpath+i+'.stackexchange.com/'+xml_name+'.xml')\n",
    "        rdd_table = table.rdd.flatMap(lambda x: x).flatMap(lambda x: x).repartition(96) # key step\n",
    "        # assign dataframe to list entry\n",
    "        dfs[i] = sqlContext.createDataFrame(rdd_table, table.schema.fields[0].dataType.elementType)\n",
    "        dfs[i].createOrReplaceTempView(table_name)\n",
    "    return dfs"
   ]
  },
  {
   "cell_type": "code",
   "execution_count": 16,
   "metadata": {},
   "outputs": [
    {
     "name": "stdout",
     "output_type": "stream",
     "text": [
      "Number of CPUs master node: 96\n",
      "b'MemTotal:       643995876 kB\\n'\n"
     ]
    }
   ],
   "source": [
    "## display architecture of master node\n",
    "import multiprocessing\n",
    "print(\"Number of CPUs master node:\", multiprocessing.cpu_count())\n",
    "\n",
    "## testing printing output from console\n",
    "import subprocess\n",
    "cmd = [ 'grep', 'MemTotal', '/proc/meminfo' ]\n",
    "output = subprocess.Popen( cmd, stdout=subprocess.PIPE ).communicate()[0]\n",
    "print(output)"
   ]
  },
  {
   "cell_type": "code",
   "execution_count": 39,
   "metadata": {},
   "outputs": [
    {
     "name": "stdout",
     "output_type": "stream",
     "text": [
      "Start time: 09:29:12.115888\n",
      "Time taken: 17 minutes.\n"
     ]
    }
   ],
   "source": [
    "## start time\n",
    "t0 = time.time()\n",
    "print(\"Start time:\", datetime.now().time())\n",
    "\n",
    "## extract all datasets and store in list of dataframes\n",
    "posts_dfs = load_all_xml(\"posts\")\n",
    "\n",
    "## end time\n",
    "T = time.time() - t0;\n",
    "print(\"Time taken:\", round(T/60), \"minutes.\") "
   ]
  },
  {
   "cell_type": "markdown",
   "metadata": {},
   "source": [
    "Much time was spent testing out cluster architectures since initially just the loading-in of the smallest of the 10 datasets was taking a substantial amount of time. Eventually due to time and GCP budget constraints, I chose to anlayse only the 5 smallest datasets downloaded (a total of just over 2gb of data) and scaled my resources vertically as opposed to horizontally, choosing a high-memory master node with 96 CPUs.\n",
    "\n",
    "Examples of cluster architectures and the time taken to read in the respective forums are displayed below:"
   ]
  },
  {
   "cell_type": "markdown",
   "metadata": {},
   "source": [
    "| Master Node | Workers | Read-In Time | Fora |\n",
    "| --- | --- | --- | --- |\n",
    "| n1-highcpu-32 | 4 x n1-highcpu-8 | > 7 min | codereview |\n",
    "| n1-highcpu-32 | 7 x n1-standard-4 | 7 min | codereview |\n",
    "| n1-highmem-32 | 2 x n1-standard-8 | 4 min | codereview |\n",
    "| n1-highmem-96 | 2 x n1-highmem-96 | 4 min | codereview |\n",
    "| n1-standard-32 | 2 x n1-standard-4 | 4 min | codereview |\n",
    "| n1-highcpu-32 | 2 x n1-standard-4 | 4 min | codereview |\n",
    "| n1-standard-64 | 2 x n1-standard-4 | 4 min | codereview |\n",
    "| n1-highmem-32 | 2 x n1-standard-4 | 4 min | codereview |\n",
    "| n1-highmem-32 | 2 x n1-highmem-4 | failed | es_stackoverflow, codereview, physics, unix |\n",
    "| n1-highmem-96 | 2 x n1-highmem-16 | 12 min | codereview, physics, unix |\n",
    "| n1-highmem-32 | 2 x n1-highmem-4 | 11 min | codereview, physics, unix |\n",
    "| n1-highmem-96 | 0  | 17 min | es_stackoverflow, codegolf, codereview, physics, unix |\n"
   ]
  },
  {
   "cell_type": "markdown",
   "metadata": {},
   "source": [
    "From the table we can see that increasing the workers and memory doesn't appear to increase speed of read-in. Increasing the CPUs of the master node apparently matters the most (although the gain in speed for using so many CPUs leaves much to be desired). While this may indicate resource bottlenecking on the master CPUs, a much more likely explanation is that the full capacity of the cores of the master and workers is not being used when issuing PySpark commands, and htop provides evidence for this:"
   ]
  },
  {
   "cell_type": "markdown",
   "metadata": {},
   "source": [
    "<img src=\"img/htop-screenshot.png\" style=\"width: 900px;\" alt=\"big data htop one core\">"
   ]
  },
  {
   "cell_type": "markdown",
   "metadata": {},
   "source": [
    "This is a common theme throughout the initial analysis with PySpark commands failing if there weren't enough cores on the master worker. It was originally thought that this was due to the original data being stored in XML format [as this appears to be an issue in some cases](https://community.hortonworks.com/questions/78024/comdatabrickssparkxml-parsing-xml-takes-a-very-lon.html), but it is also possible that the underlying Spark installation beneath PySpark is having trouble using the cores across the master and workers effectively resulting in very high computation times for data read-in and basic queries on relatively small datasets. While much troubleshooting was undergone to address this problem, it remained throughout most of the analysis and consequently not all 10 largest StackExchange datasets (let alone 20) were analysed. Nevertheless, this notebook allows for the reproducibility of the analysis with larger datasets if this particular issue is addressed."
   ]
  },
  {
   "cell_type": "code",
   "execution_count": 2,
   "metadata": {},
   "outputs": [],
   "source": [
    "## troubleshooting\n",
    "#sc._conf.getAll()\n",
    "#sc.stop()\n",
    "#sc = SparkContext(\"local[*]\", \"Test\")\n",
    "#sc._conf.getAll()"
   ]
  },
  {
   "cell_type": "markdown",
   "metadata": {},
   "source": [
    "**A note on the data**"
   ]
  },
  {
   "cell_type": "markdown",
   "metadata": {},
   "source": [
    "An interesting aspect of the data is that while it is initially in raw XML format which is considered **semi-structured** since it contains tags/markers to enforce hierarchy of entries, I read-in the data to a `pyspark.sql.DataFrame` which has a schema and is thus **structured**. The final `Body` variable I work with is completely **unstructured** since as text it is not organised in any manner."
   ]
  },
  {
   "cell_type": "markdown",
   "metadata": {},
   "source": [
    "**Testing to see if repartitioning data speeds up analysis**"
   ]
  },
  {
   "cell_type": "code",
   "execution_count": 41,
   "metadata": {},
   "outputs": [
    {
     "name": "stdout",
     "output_type": "stream",
     "text": [
      "Start time: 09:46:37.584317\n",
      "145539\n",
      "Time taken: 3.021807797749837 minutes.\n"
     ]
    }
   ],
   "source": [
    "## start time\n",
    "t0 = time.time()\n",
    "print(\"Start time:\", datetime.now().time())\n",
    "\n",
    "## count rows of first dataset\n",
    "print(posts_dfs[\"codegolf\"].count())\n",
    "    \n",
    "## end time\n",
    "T = time.time() - t0;\n",
    "print(\"Time taken:\", T/60, \"minutes.\") "
   ]
  },
  {
   "cell_type": "code",
   "execution_count": 46,
   "metadata": {},
   "outputs": [
    {
     "name": "stdout",
     "output_type": "stream",
     "text": [
      "384\n",
      "384\n",
      "384\n",
      "384\n",
      "384\n"
     ]
    }
   ],
   "source": [
    "## repartition\n",
    "for i in data_array:\n",
    "    posts_dfs[i] = posts_dfs[i].repartition(384)\n",
    "    print(posts_dfs[i].rdd.getNumPartitions())"
   ]
  },
  {
   "cell_type": "code",
   "execution_count": 47,
   "metadata": {},
   "outputs": [
    {
     "name": "stdout",
     "output_type": "stream",
     "text": [
      "Start time: 09:57:32.823280\n",
      "145539\n",
      "Time taken: 3.1331292430559796 minutes.\n"
     ]
    }
   ],
   "source": [
    "## start time\n",
    "t0 = time.time()\n",
    "print(\"Start time:\", datetime.now().time())\n",
    "\n",
    "## count rows of first dataset\n",
    "print(posts_dfs[\"codegolf\"].count())\n",
    "    \n",
    "## end time\n",
    "T = time.time() - t0;\n",
    "print(\"Time taken:\", T/60, \"minutes.\") "
   ]
  },
  {
   "cell_type": "markdown",
   "metadata": {},
   "source": [
    "After trying a number of partitions from 4 to 384, it appears that this has little to no effect on computation speed. Again, the issue of only a few cores being used is present:"
   ]
  },
  {
   "cell_type": "markdown",
   "metadata": {},
   "source": [
    "<img src=\"img/htop-screenshot-2.png\" style=\"width: 900px;\" alt=\"big data htop two cores\">"
   ]
  },
  {
   "cell_type": "markdown",
   "metadata": {},
   "source": [
    "# Exploratory Data Analysis (EDA)"
   ]
  },
  {
   "cell_type": "code",
   "execution_count": 48,
   "metadata": {},
   "outputs": [
    {
     "name": "stdout",
     "output_type": "stream",
     "text": [
      "<class 'dict'>\n",
      "\n",
      "\n",
      "<class 'pyspark.sql.dataframe.DataFrame'>\n",
      "\n",
      "\n",
      "root\n",
      " |-- _AcceptedAnswerId: long (nullable = true)\n",
      " |-- _AnswerCount: long (nullable = true)\n",
      " |-- _Body: string (nullable = true)\n",
      " |-- _ClosedDate: string (nullable = true)\n",
      " |-- _CommentCount: long (nullable = true)\n",
      " |-- _CommunityOwnedDate: string (nullable = true)\n",
      " |-- _CreationDate: string (nullable = true)\n",
      " |-- _FavoriteCount: long (nullable = true)\n",
      " |-- _Id: long (nullable = true)\n",
      " |-- _LastActivityDate: string (nullable = true)\n",
      " |-- _LastEditDate: string (nullable = true)\n",
      " |-- _LastEditorDisplayName: string (nullable = true)\n",
      " |-- _LastEditorUserId: long (nullable = true)\n",
      " |-- _OwnerDisplayName: string (nullable = true)\n",
      " |-- _OwnerUserId: long (nullable = true)\n",
      " |-- _ParentId: long (nullable = true)\n",
      " |-- _PostTypeId: long (nullable = true)\n",
      " |-- _Score: long (nullable = true)\n",
      " |-- _Tags: string (nullable = true)\n",
      " |-- _Title: string (nullable = true)\n",
      " |-- _VALUE: string (nullable = true)\n",
      " |-- _ViewCount: long (nullable = true)\n",
      "\n"
     ]
    }
   ],
   "source": [
    "# print type of posts_dfs\n",
    "print(type(posts_dfs))\n",
    "print('\\n')\n",
    "\n",
    "# print type of first dataframe\n",
    "print(type(posts_dfs[\"codereview\"]))\n",
    "print('\\n')\n",
    "\n",
    "# schema of first dataframe\n",
    "posts_dfs[\"codereview\"].printSchema()"
   ]
  },
  {
   "cell_type": "markdown",
   "metadata": {},
   "source": [
    "To save computation time, we drop columns we don't need:"
   ]
  },
  {
   "cell_type": "code",
   "execution_count": 50,
   "metadata": {},
   "outputs": [
    {
     "name": "stdout",
     "output_type": "stream",
     "text": [
      "Start time: 10:02:51.643357\n",
      "Time taken: 0 minutes.\n"
     ]
    }
   ],
   "source": [
    "## start time\n",
    "t0 = time.time()\n",
    "print(\"Start time:\", datetime.now().time())\n",
    "\n",
    "for i in data_array:\n",
    "    posts_dfs[i] = posts_dfs[i].select('_AnswerCount', '_Body', '_CommentCount', '_PostTypeId', '_Score', '_ViewCount')\n",
    "    \n",
    "## end time\n",
    "T = time.time() - t0;\n",
    "print(\"Time taken:\", round(T/60), \"minutes.\") "
   ]
  },
  {
   "cell_type": "markdown",
   "metadata": {},
   "source": [
    "We can see how PySpark commands are lazily evaluated since the above command is almost instantaneous."
   ]
  },
  {
   "cell_type": "code",
   "execution_count": 52,
   "metadata": {},
   "outputs": [
    {
     "name": "stdout",
     "output_type": "stream",
     "text": [
      "Garbage collector: collected 473 objects.\n"
     ]
    }
   ],
   "source": [
    "## garbage collector to speed up computation\n",
    "import gc\n",
    "collected = gc.collect()\n",
    "print(\"Garbage collector: collected %d objects.\" % collected)"
   ]
  },
  {
   "cell_type": "code",
   "execution_count": 54,
   "metadata": {},
   "outputs": [
    {
     "name": "stdout",
     "output_type": "stream",
     "text": [
      "10:10:21.740725\n",
      "\n",
      "------------------\n",
      " codegolf \n",
      "------------------\n",
      "\n",
      "+-------+------------------+-----------------+------------------+-----------------+------------------+\n",
      "|summary|      _AnswerCount|    _CommentCount|       _PostTypeId|           _Score|        _ViewCount|\n",
      "+-------+------------------+-----------------+------------------+-----------------+------------------+\n",
      "|  count|             10389|           145539|            145539|           145539|             10389|\n",
      "|   mean|12.940128982577727|1.915184246147081|1.9412322470265702|5.129518548292897|2338.6605063047455|\n",
      "| stddev| 20.86264087761769|3.375810436163644|0.3194763857462286| 13.6708923054352|7544.9500355821165|\n",
      "|    min|                 0|                0|                 1|              -35|                17|\n",
      "|    max|               733|               94|                 7|             1277|            433789|\n",
      "+-------+------------------+-----------------+------------------+-----------------+------------------+\n",
      "\n",
      "None\n",
      "\n",
      "------------------\n",
      " codereview \n",
      "------------------\n",
      "\n",
      "+-------+------------------+------------------+------------------+------------------+------------------+\n",
      "|summary|      _AnswerCount|     _CommentCount|       _PostTypeId|            _Score|        _ViewCount|\n",
      "+-------+------------------+------------------+------------------+------------------+------------------+\n",
      "|  count|             58153|            152724|            152724|            152724|             58153|\n",
      "|   mean| 1.583839182845253|1.6570807469683875|1.6599290222885728|3.6971399387129726|1916.6440252437535|\n",
      "| stddev|1.1548009989132488| 2.391880841550801|0.6101637016995894| 4.965972167765562| 6913.314886161953|\n",
      "|    min|                 0|                 0|                 1|               -45|                 2|\n",
      "|    max|                17|                41|                 7|               373|            359645|\n",
      "+-------+------------------+------------------+------------------+------------------+------------------+\n",
      "\n",
      "None\n",
      "\n",
      "------------------\n",
      " es_stackoverflow \n",
      "------------------\n",
      "\n",
      "+-------+------------------+------------------+------------------+------------------+-----------------+\n",
      "|summary|      _AnswerCount|     _CommentCount|       _PostTypeId|            _Score|       _ViewCount|\n",
      "+-------+------------------+------------------+------------------+------------------+-----------------+\n",
      "|  count|             83203|            180640|            180640|            180640|            83203|\n",
      "|   mean|1.1379277189524417| 1.688142161204606|1.5776959698848538|0.9966286536758193|504.2272153648306|\n",
      "| stddev|0.9447816971115666|2.4544046564766497|0.6183365755779354|2.2834344918624065|2396.119224905493|\n",
      "|    min|                 0|                 0|                 1|               -17|                2|\n",
      "|    max|                15|                32|                 7|               173|           217311|\n",
      "+-------+------------------+------------------+------------------+------------------+-----------------+\n",
      "\n",
      "None\n",
      "\n",
      "------------------\n",
      " physics \n",
      "------------------\n",
      "\n",
      "+-------+------------------+------------------+------------------+------------------+------------------+\n",
      "|summary|      _AnswerCount|     _CommentCount|       _PostTypeId|            _Score|        _ViewCount|\n",
      "+-------+------------------+------------------+------------------+------------------+------------------+\n",
      "|  count|            134365|            332864|            332864|            332864|            134365|\n",
      "|   mean| 1.467405946489041| 1.963345390309556|1.6064729138627187|2.7195130744087677|1285.4935139359209|\n",
      "| stddev|1.3104840799797113|2.8358640251907494|0.5251176645284285| 7.496793364639878| 6245.426105354347|\n",
      "|    min|                 0|                 0|                 1|               -25|                 3|\n",
      "|    max|                49|               114|                 7|               708|            762653|\n",
      "+-------+------------------+------------------+------------------+------------------+------------------+\n",
      "\n",
      "None\n",
      "\n",
      "------------------\n",
      " unix \n",
      "------------------\n",
      "\n",
      "+-------+------------------+------------------+------------------+------------------+------------------+\n",
      "|summary|      _AnswerCount|     _CommentCount|       _PostTypeId|            _Score|        _ViewCount|\n",
      "+-------+------------------+------------------+------------------+------------------+------------------+\n",
      "|  count|            157013|            397332|            397332|            397332|            157013|\n",
      "|   mean|1.5087795278097993|1.6287739220601412|1.6263854912264806|3.7249051171312657| 4187.956302981282|\n",
      "| stddev|1.3585797158422392|2.4403033949613557|0.5584592617751752|14.494083832295507|24311.372989929998|\n",
      "|    min|                 0|                 0|                 1|               -33|                 3|\n",
      "|    max|                63|                56|                 7|              2088|           2298602|\n",
      "+-------+------------------+------------------+------------------+------------------+------------------+\n",
      "\n",
      "None\n",
      "Time taken: 36 minutes.\n"
     ]
    }
   ],
   "source": [
    "## start time\n",
    "t0 = time.time()\n",
    "print(datetime.now().time())\n",
    "\n",
    "for i in data_array:\n",
    "    print(\"\\n------------------\\n\", i, \"\\n------------------\\n\")\n",
    "    print(posts_dfs[i].select('_AnswerCount', '_CommentCount', '_PostTypeId', '_Score', '_ViewCount').describe().show())\n",
    "    \n",
    "## end time\n",
    "T = time.time() - t0;\n",
    "print(\"Time taken:\", round(T/60), \"minutes.\") # hm96 - 36 minutes all-5"
   ]
  },
  {
   "cell_type": "markdown",
   "metadata": {},
   "source": [
    "Above we see descriptive statistics for selected variables, a selection of which are graphed below."
   ]
  },
  {
   "cell_type": "code",
   "execution_count": 55,
   "metadata": {},
   "outputs": [
    {
     "name": "stdout",
     "output_type": "stream",
     "text": [
      "10:46:30.316033\n",
      "Time taken: 32 minutes.\n"
     ]
    },
    {
     "data": {
      "image/png": "[encoded data removed]",
      "text/plain": [
       "<Figure size 432x288 with 1 Axes>"
      ]
     },
     "metadata": {
      "needs_background": "light"
     },
     "output_type": "display_data"
    }
   ],
   "source": [
    "## empty dictionary of df skeleton\n",
    "plot_data = {}\n",
    "\n",
    "## start time\n",
    "t0 = time.time()\n",
    "print(datetime.now().time())\n",
    "\n",
    "## total number of posts of fora\n",
    "for i in data_array:\n",
    "    plot_data[i] = posts_dfs[i].count()\n",
    "\n",
    "## end time\n",
    "T = time.time() - t0;\n",
    "print(\"Time taken:\", round(T/60), \"minutes.\") \n",
    "# hm96;2xhm16 - 24 minutes codereview, physics, unix\n",
    "# hm96 - 32 minutes all-5\n",
    "    \n",
    "## bar plot of post counts in descending order\n",
    "import operator\n",
    "plot_list = sorted(plot_data.items(), key=operator.itemgetter(1), reverse=True)\n",
    "x, y = zip(*plot_list) # unpack a list of pairs into two tuples\n",
    "plt.bar(x, y, align='center', alpha=.8)\n",
    "plt.xticks(range(len(plot_list)), list([i[0] for i in plot_list]), rotation=90)\n",
    "plt.title('The total number of posts')\n",
    "plt.show()"
   ]
  },
  {
   "cell_type": "markdown",
   "metadata": {},
   "source": [
    "Interestingly, the order of dataset size from largest to smallest is `codereview`; `unix`; `physics`; `codegolf`; `es_stackoverflow` which differs from the count of posts across the fora. Evidently `codereview` and `codegolf` have few posts that contain a lot of data compared to the other datasets."
   ]
  },
  {
   "cell_type": "code",
   "execution_count": 56,
   "metadata": {},
   "outputs": [
    {
     "name": "stdout",
     "output_type": "stream",
     "text": [
      "11:21:32.118604\n",
      "Time taken: 30 minutes.\n"
     ]
    },
    {
     "data": {
      "image/png": "[encoded data removed]",
      "text/plain": [
       "<Figure size 432x288 with 1 Axes>"
      ]
     },
     "metadata": {
      "needs_background": "light"
     },
     "output_type": "display_data"
    }
   ],
   "source": [
    "## empty dictionary of df skeleton\n",
    "plot_data = {}\n",
    "\n",
    "## start time\n",
    "t0 = time.time()\n",
    "print(datetime.now().time())\n",
    "\n",
    "## total number of answers per post of fora\n",
    "for i in data_array:\n",
    "    plot_data[i] = posts_dfs[i].groupBy().avg('_AnswerCount').collect()[0][0]\n",
    "\n",
    "## end time\n",
    "T = time.time() - t0;\n",
    "print(\"Time taken:\", round(T/60), \"minutes.\")\n",
    "# hm96;2xhm16 - 24 minutes codereview, physics, unix\n",
    "# hm96 - 30 minutes all-5\n",
    "\n",
    "## bar plot of answers per post in descending order\n",
    "import operator\n",
    "plot_list = sorted(plot_data.items(), key=operator.itemgetter(1), reverse=True)\n",
    "x, y = zip(*plot_list) # unpack a list of pairs into two tuples\n",
    "plt.bar(x, y, align='center', alpha=.8)\n",
    "plt.xticks(range(len(plot_list)), list([i[0] for i in plot_list]), rotation=90)\n",
    "plt.title('Average number of answers per post')\n",
    "plt.show()"
   ]
  },
  {
   "cell_type": "markdown",
   "metadata": {},
   "source": [
    "From the above graph it is clear that there are substantially more answers per post for the small number of posts on the `codegolf` forum. Since `codegolf` is a code-puzzle forum, this shows the high level of engagement the community engages with an average post."
   ]
  },
  {
   "cell_type": "code",
   "execution_count": 57,
   "metadata": {
    "scrolled": true
   },
   "outputs": [
    {
     "name": "stdout",
     "output_type": "stream",
     "text": [
      "11:51:50.519251\n",
      "Time taken: 28 minutes.\n"
     ]
    },
    {
     "data": {
      "image/png": "[encoded data removed]",
      "text/plain": [
       "<Figure size 432x288 with 1 Axes>"
      ]
     },
     "metadata": {
      "needs_background": "light"
     },
     "output_type": "display_data"
    }
   ],
   "source": [
    "## empty dictionary of df skeleton\n",
    "plot_data = {}\n",
    "\n",
    "## start time\n",
    "t0 = time.time()\n",
    "print(datetime.now().time())\n",
    "\n",
    "## total number of comments per post of fora\n",
    "for i in data_array:\n",
    "    plot_data[i] = posts_dfs[i].groupBy().avg('_CommentCount').collect()[0][0]\n",
    "\n",
    "## end time\n",
    "T = time.time() - t0;\n",
    "print(\"Time taken:\", round(T/60), \"minutes.\")\n",
    "# hm96;2xhm16 - 24 minutes codereview, physics, unix\n",
    "# hm96 - 28 minutes all-5\n",
    "\n",
    "\n",
    "## bar plot of comments per post in descending order\n",
    "import operator\n",
    "plot_list = sorted(plot_data.items(), key=operator.itemgetter(1), reverse=True)\n",
    "x, y = zip(*plot_list) # unpack a list of pairs into two tuples\n",
    "plt.bar(x, y, align='center', alpha=.8)\n",
    "plt.xticks(range(len(plot_list)), list([i[0] for i in plot_list]), rotation=90)\n",
    "plt.title('Average number of comments per post')\n",
    "plt.show()"
   ]
  },
  {
   "cell_type": "markdown",
   "metadata": {},
   "source": [
    "There appears to be very little variation in the number of comments per post, with the average across all fora appearing to be close to two comments per post."
   ]
  },
  {
   "cell_type": "code",
   "execution_count": 58,
   "metadata": {
    "scrolled": true
   },
   "outputs": [
    {
     "name": "stdout",
     "output_type": "stream",
     "text": [
      "12:20:03.116557\n",
      "Time taken: 29 minutes.\n"
     ]
    },
    {
     "data": {
      "image/png": "[encoded data removed]",
      "text/plain": [
       "<Figure size 432x288 with 1 Axes>"
      ]
     },
     "metadata": {
      "needs_background": "light"
     },
     "output_type": "display_data"
    }
   ],
   "source": [
    "## empty dictionary of df skeleton\n",
    "plot_data = {}\n",
    "\n",
    "## start time\n",
    "t0 = time.time()\n",
    "print(datetime.now().time())\n",
    "\n",
    "## average score per post across fora\n",
    "for i in data_array:\n",
    "    plot_data[i] = posts_dfs[i].groupBy().avg('_Score').collect()[0][0]\n",
    "\n",
    "## end time\n",
    "T = time.time() - t0;\n",
    "print(\"Time taken:\", round(T/60), \"minutes.\")\n",
    "# hm96;2xhm16 - 23 minutes codereview, physics, unix\n",
    "# hm96 - 29 minutes all-5\n",
    "    \n",
    "## bar plot of score per post in descending order\n",
    "import operator\n",
    "plot_list = sorted(plot_data.items(), key=operator.itemgetter(1), reverse=True)\n",
    "x, y = zip(*plot_list) # unpack a list of pairs into two tuples\n",
    "plt.bar(x, y, align='center', alpha=.8)\n",
    "plt.xticks(range(len(plot_list)), list([i[0] for i in plot_list]), rotation=90)\n",
    "plt.title('Average score per post')\n",
    "plt.show()"
   ]
  },
  {
   "cell_type": "markdown",
   "metadata": {},
   "source": [
    "`codegolf` has the highest Score per post at a value of around 5, whereas `es_stackoverflow` has the lowest - closer to 1."
   ]
  },
  {
   "cell_type": "code",
   "execution_count": 59,
   "metadata": {
    "scrolled": true
   },
   "outputs": [
    {
     "name": "stdout",
     "output_type": "stream",
     "text": [
      "12:48:58.930877\n",
      "Time taken: 29 minutes.\n"
     ]
    },
    {
     "data": {
      "image/png": "[encoded data removed]",
      "text/plain": [
       "<Figure size 432x288 with 1 Axes>"
      ]
     },
     "metadata": {
      "needs_background": "light"
     },
     "output_type": "display_data"
    }
   ],
   "source": [
    "## empty dictionary of df skeleton\n",
    "plot_data = {}\n",
    "\n",
    "## start time\n",
    "t0 = time.time()\n",
    "print(datetime.now().time())\n",
    "\n",
    "## average viewcount per post across fora\n",
    "for i in data_array:\n",
    "    plot_data[i] = posts_dfs[i].groupBy().avg('_ViewCount').collect()[0][0]\n",
    "\n",
    "## end time\n",
    "T = time.time() - t0;\n",
    "print(\"Time taken:\", round(T/60), \"minutes.\")\n",
    "# hm96;2xhm16 - 24 minutes codereview, physics, unix\n",
    "# hm96 - 29 minutes all-5\n",
    "    \n",
    "## bar plot of viewcount per post in descending order\n",
    "import operator\n",
    "plot_list = sorted(plot_data.items(), key=operator.itemgetter(1), reverse=True)\n",
    "x, y = zip(*plot_list) # unpack a list of pairs into two tuples\n",
    "plt.bar(x, y, align='center', alpha=.8)\n",
    "plt.xticks(range(len(plot_list)), list([i[0] for i in plot_list]), rotation=90)\n",
    "plt.title('Viewcount per post')\n",
    "plt.show()"
   ]
  },
  {
   "cell_type": "markdown",
   "metadata": {},
   "source": [
    "The `unix` forum has a substantially larger average `Viewcount` per post compared to other fora."
   ]
  },
  {
   "cell_type": "code",
   "execution_count": 60,
   "metadata": {},
   "outputs": [
    {
     "name": "stdout",
     "output_type": "stream",
     "text": [
      "13:18:16.806485\n",
      "Time taken: 29 minutes.\n"
     ]
    },
    {
     "data": {
      "image/png": "[encoded data removed]",
      "text/plain": [
       "<Figure size 1152x576 with 1 Axes>"
      ]
     },
     "metadata": {
      "needs_background": "light"
     },
     "output_type": "display_data"
    }
   ],
   "source": [
    "## start time\n",
    "t0 = time.time()\n",
    "print(datetime.now().time())\n",
    "\n",
    "## create plot data for cumulative viewcount\n",
    "plot_data = {}\n",
    "for i in data_array:\n",
    "    plot_data[i] = posts_dfs[i].select('_ViewCount').rdd.flatMap(lambda x: x).collect()\n",
    "    plot_data[i] = [x for x in plot_data[i] if x is not None]\n",
    "    \n",
    "## end time\n",
    "T = time.time() - t0;\n",
    "print(\"Time taken:\", round(T/60), \"minutes.\")\n",
    "# hm96;2xhm16 - 23 minutes codereview, physics, unix\n",
    "# hm96 - 29 minutes all-5\n",
    "\n",
    "## plot cumulative distribution of viewcount across fora\n",
    "n_bins = 500000\n",
    "fig, ax = plt.subplots(figsize=(16, 8))\n",
    "for i in data_array:\n",
    "    n, bins, patches = ax.hist(plot_data[i], n_bins, density=True, histtype='step',\n",
    "                               cumulative=True, label=i)\n",
    "ax.grid(True)\n",
    "ax.set_xscale('log')\n",
    "ax.legend(loc='right')\n",
    "ax.set_title('Cumulative step histograms')\n",
    "ax.set_xlabel('ViewCount')\n",
    "ax.set_ylabel('Cumulative percentage of question posts')\n",
    "plt.show()"
   ]
  },
  {
   "cell_type": "markdown",
   "metadata": {},
   "source": [
    "The above graph plots cumulative percentages of posts as a function of `ViewCount`. The two different aspects that are interesting are the order of the curves from left to right, and the instances of curves intersecting. \n",
    "\n",
    "A graph further left is indicative of low `ViewCounts` per post and corresponds to the `ViewCount` bar graph displayed above - this is evident since `es_stackoverflow` is furthest left whereas `unix` and `codegolf` are furthest right. \n",
    "\n",
    "The crossings of the curves indicate that there are certain `ViewCount` thresholds where forums become more popular (experience more viewing traffic) than others. For example, for low `ViewCount` posts between 100 and just over 1000, the `codegolf` forum has the highest views per post, but after a certain point the `unix` forum appears to have more popular posts. This also shows that there are particular posts in the `unix` forum that are very highly viewed, most likely because they hold much utility to individuals working and programming in unix environments. Interestingly though, the same curve shape does not hold for `es_stackoverflow` where we would assume particular posts would also have high-value to the community.\n",
    "\n",
    "Overall, it appears as though the `ViewCount` distributions across fora are not homogenous."
   ]
  },
  {
   "cell_type": "markdown",
   "metadata": {},
   "source": [
    "# Natural Language Processing"
   ]
  },
  {
   "cell_type": "code",
   "execution_count": null,
   "metadata": {},
   "outputs": [],
   "source": [
    "## garbage collector to speed up computation\n",
    "import gc\n",
    "collected = gc.collect()\n",
    "print(\"Garbage collector: collected %d objects.\" % collected)"
   ]
  },
  {
   "cell_type": "code",
   "execution_count": 61,
   "metadata": {},
   "outputs": [],
   "source": [
    "## extract Body from fora\n",
    "body_data = {}\n",
    "for i in data_array:\n",
    "    body_data[i] = posts_dfs[i].select(\"_Body\").rdd.flatMap(lambda r: r)"
   ]
  },
  {
   "cell_type": "code",
   "execution_count": 69,
   "metadata": {},
   "outputs": [
    {
     "name": "stdout",
     "output_type": "stream",
     "text": [
      "14:02:10.136339\n",
      "['<p>We live in the age of measurements and observations and specific mathematical theories that fit measurements and observations beyond any doubt.</p>\\n\\n<p>Photons are <a href=\"https://en.wikipedia.org/wiki/Elementary_particle\" rel=\"nofollow\">elementary particles.</a> . They have zero mass, and other characteristics which separate them from other elementary particles .  </p>\\n\\n<blockquote>\\n  <p>Can photons lose a small amount of energy over time when traveling large distances due to either weak interactions with magnetic fields (Faraday Effect) </p>\\n</blockquote>\\n\\n<p>This is an electromagnetic vertex for a photon, the faraday effect is for the emergent light beam from innumerable photons. </p>\\n\\n<blockquote>\\n  <p>or due to the way all objects cool and give off thermal radiation (Second law of Thermodynamics)</p>\\n</blockquote>\\n\\n<p>No elementary particles behave thermodynamically. Thermodynamics is an emergent theory over many particles (statistical mechanics). Energy is gained or lost through interactions.</p>\\n\\n<blockquote>\\n  <p>or gravitational interaction with nearby dust particles?</p>\\n</blockquote>\\n\\n<p>gravitational interactions with a <a href=\"https://en.wikipedia.org/wiki/Gravitational_redshift\" rel=\"nofollow\">strong gravity well,</a> yes. Dust particles do not have enough gravitational potential for a measurable difference.</p>\\n\\n<p>In all cases the photon would lose energy by interacting randomly. Random interactions would destroy the spectra coming from stars and galaxies that show a redshift, (loss of energy). After all it is from the <a href=\"https://en.wikipedia.org/wiki/Astronomical_spectroscopy\" rel=\"nofollow\">displacement of spectral</a> lines of known atoms that the study of observational astronomy took off.</p>\\n\\n<p>That the universe is expanding we know from measurements of the velocities of clusters of galaxies. None are moving towards us. They are all moving away, and the <a href=\"http://cmb.physics.wisc.edu/pub/tutorial/hubble.html\" rel=\"nofollow\">raisin bread</a> analogy might give an intuition how this can happen.</p>\\n\\n<p>So the time when one could think up alternate models for the universe by handwaving is long gone. One needs hard measurements and concise mathematical models. </p>\\n']\n",
      "Time taken: 0 minutes.\n"
     ]
    }
   ],
   "source": [
    "## start time\n",
    "t0 = time.time()\n",
    "print(datetime.now().time())\n",
    "\n",
    "## look at first post from physics\n",
    "print(body_data['physics'].take(1))\n",
    "\n",
    "## end time\n",
    "T = time.time() - t0;\n",
    "print(\"Time taken:\", round(T/60), \"minutes.\") # hm96 - 8 minutes all-5"
   ]
  },
  {
   "cell_type": "markdown",
   "metadata": {},
   "source": [
    "Above we see an example of the body of a post in the `physics` forum"
   ]
  },
  {
   "cell_type": "markdown",
   "metadata": {},
   "source": [
    "### Tokenising and lemmatising"
   ]
  },
  {
   "cell_type": "markdown",
   "metadata": {},
   "source": [
    "Here we use the predefined `get_tokens` that uses elements of the `nltk` package to parse the text of each post's `Body` across the five fora. Tokenisation extracts individual words from the corpora and lemmatisation groups inflected words together."
   ]
  },
  {
   "cell_type": "code",
   "execution_count": 63,
   "metadata": {},
   "outputs": [],
   "source": [
    "## tokenise and lemmatise using nltk function from import step\n",
    "body_rdd = {}\n",
    "for i in data_array:\n",
    "    body_rdd[i] = body_data[i].map(lambda line: (1, get_tokens(line)))"
   ]
  },
  {
   "cell_type": "markdown",
   "metadata": {},
   "source": [
    "Again we check the number of partitions for the token- and lemmatised list of `rdd` objects we have just created"
   ]
  },
  {
   "cell_type": "code",
   "execution_count": 67,
   "metadata": {},
   "outputs": [
    {
     "name": "stdout",
     "output_type": "stream",
     "text": [
      "384\n",
      "384\n",
      "384\n",
      "384\n",
      "384\n"
     ]
    }
   ],
   "source": [
    "## check partitions for body_rdd\n",
    "for i in data_array:\n",
    "    print(body_rdd[i].getNumPartitions())"
   ]
  },
  {
   "cell_type": "code",
   "execution_count": 71,
   "metadata": {},
   "outputs": [
    {
     "name": "stdout",
     "output_type": "stream",
     "text": [
      "14:03:16.873793\n",
      "['p', 'live', 'age', 'measurement', 'observation', 'specific', 'mathematical', 'theory', 'fit', 'measurement']\n",
      "Time taken: 0 minutes.\n"
     ]
    }
   ],
   "source": [
    "## start time\n",
    "t0 = time.time()\n",
    "print(datetime.now().time())\n",
    "\n",
    "## look at first 10 terms from first post in physics\n",
    "print(body_rdd['physics'].take(1)[0][1][:10])\n",
    "\n",
    "## end time\n",
    "T = time.time() - t0;\n",
    "print(\"Time taken:\", round(T/60), \"minutes.\") # hm96 - 8 minutes all-5"
   ]
  },
  {
   "cell_type": "markdown",
   "metadata": {},
   "source": [
    "Above we see an example of the tokens extracted from the first post from the `physics` forum."
   ]
  },
  {
   "cell_type": "code",
   "execution_count": 75,
   "metadata": {},
   "outputs": [
    {
     "name": "stdout",
     "output_type": "stream",
     "text": [
      "14:08:25.248992\n",
      "Time taken: 21 minutes.\n"
     ]
    }
   ],
   "source": [
    "## start time\n",
    "t0 = time.time()\n",
    "print(datetime.now().time())\n",
    "\n",
    "# get rid of stop words\n",
    "doc_stop_words = {}\n",
    "for i in data_array:\n",
    "    doc_stop_words[i] = body_rdd[i].flatMap(lambda r: r[1]).map(lambda r: (r,1)).reduceByKey(lambda a,b: a+b)\n",
    "    # here we assume that words that appear very frequently are stop words\n",
    "    doc_stop_words[i] = doc_stop_words[i].filter(lambda a: a[1]>3000).map(lambda r: r[0]).collect()\n",
    "    # remove stopwords and single letters\n",
    "    body_rdd[i] = body_rdd[i].map(lambda r: (r[0],[w for w in r[1] if not w in doc_stop_words[i] and not len(w)==1]))\n",
    "    \n",
    "## end time\n",
    "T = time.time() - t0;\n",
    "print(\"Time taken:\", round(T/60), \"minutes.\") # hm96 - 21 minutes all-5"
   ]
  },
  {
   "cell_type": "markdown",
   "metadata": {},
   "source": [
    "### Converting tokens into sparse vectors"
   ]
  },
  {
   "cell_type": "code",
   "execution_count": 77,
   "metadata": {},
   "outputs": [],
   "source": [
    "from pyspark.ml.feature import CountVectorizer\n",
    "from pyspark.sql.functions import monotonically_increasing_id\n",
    "\n",
    "## convert tokens into sparse vectors\n",
    "body_df = {}\n",
    "for i in data_array:\n",
    "    body_df[i] = spark.createDataFrame(body_rdd[i], [\"dummy\",\"words\"])\n",
    "    body_df[i].cache()"
   ]
  },
  {
   "cell_type": "code",
   "execution_count": 79,
   "metadata": {},
   "outputs": [
    {
     "name": "stdout",
     "output_type": "stream",
     "text": [
      "14:33:15.015997\n",
      "[Row(dummy=1, words=['wwwrprojectorg', 'giuseppe', 'langr', 'scan', 'rc', 'colsums', 'ggg'])]\n",
      "Time taken: 0 minutes.\n"
     ]
    }
   ],
   "source": [
    "## start time\n",
    "t0 = time.time()\n",
    "print(datetime.now().time())\n",
    "\n",
    "## check 10 first codegolf vector\n",
    "print(body_df['codegolf'].take(1))\n",
    "\n",
    "## end time\n",
    "T = time.time() - t0;\n",
    "print(\"Time taken:\", round(T/60), \"minutes.\") # hm96 - 8 minutes all-5  "
   ]
  },
  {
   "cell_type": "markdown",
   "metadata": {},
   "source": [
    "### Generating vectors that are [histograms](https://spark.apache.org/docs/latest/ml-features.html#countvectorizer) of word counts associated with each document"
   ]
  },
  {
   "cell_type": "code",
   "execution_count": 82,
   "metadata": {},
   "outputs": [
    {
     "name": "stdout",
     "output_type": "stream",
     "text": [
      "14:43:50.132139\n",
      "\n",
      "------------------\n",
      " codegolf \n",
      "------------------\n",
      "\n",
      "+-----+--------------------+--------------------+\n",
      "|dummy|               words|            features|\n",
      "+-----+--------------------+--------------------+\n",
      "|    1|[wwwrprojectorg, ...|(91392,[307,375,7...|\n",
      "|    1|       [batch, seta]|(91392,[604,4107]...|\n",
      "|    1|[nodejs, repl, la...|(91392,[176,182,6...|\n",
      "|    1|[igsub, stranger,...|(91392,[17,23,100...|\n",
      "|    1|[efil, thought, f...|(91392,[105,209,3...|\n",
      "|    1|[csystemconsole, ...|(91392,[225,5940,...|\n",
      "|    1|[carriage, cr, br...|(91392,[430,1208,...|\n",
      "|    1|[slug, jmz, jmp, ...|(91392,[0,95,607,...|\n",
      "|    1|[githubcomstevenh...|(91392,[291,1705,...|\n",
      "|    1|[нœiмà, нœiмà, ex...|(91392,[773,2217,...|\n",
      "+-----+--------------------+--------------------+\n",
      "only showing top 10 rows\n",
      "\n",
      "\n",
      "------------------\n",
      " codereview \n",
      "------------------\n",
      "\n",
      "+-----+--------------------+--------------------+\n",
      "|dummy|               words|            features|\n",
      "+-----+--------------------+--------------------+\n",
      "|    1|[displayerror, xh...|(262144,[60,1669,...|\n",
      "|    1|[production, barr...|(262144,[438,504,...|\n",
      "|    1|[noticed, globall...|(262144,[52,181,2...|\n",
      "|    1|[saying, nlog, pr...|(262144,[24,64,45...|\n",
      "|    1|[abstracted, conc...|(262144,[50,258,2...|\n",
      "|    1|[apriori, itertoo...|(262144,[73,369,5...|\n",
      "|    1|[tl, dr, weird, p...|(262144,[24,54,57...|\n",
      "|    1|[keeping, piecere...|(262144,[117,996,...|\n",
      "|    1|[nifty, initqueue...|(262144,[16,435,4...|\n",
      "|    1|[helping, editing...|(262144,[29,30,65...|\n",
      "+-----+--------------------+--------------------+\n",
      "only showing top 10 rows\n",
      "\n",
      "\n",
      "------------------\n",
      " es_stackoverflow \n",
      "------------------\n",
      "\n",
      "+-----+--------------------+--------------------+\n",
      "|dummy|               words|            features|\n",
      "+-----+--------------------+--------------------+\n",
      "|    1|[mime, settype, e...|(262144,[338,865,...|\n",
      "|    1|[procura, us, bib...|(262144,[155,226,...|\n",
      "|    1|[recibo, pensando...|(262144,[57,175,3...|\n",
      "|    1|[kendou, ui, basa...|(262144,[198,289,...|\n",
      "|    1|[impresión, subir...|(262144,[20,1328,...|\n",
      "|    1|[contexto, prueba...|(262144,[74,91,11...|\n",
      "|    1|[efectivamente, d...|(262144,[169,193,...|\n",
      "|    1|[ingresa, carácte...|(262144,[188,381,...|\n",
      "|    1|[realmente, softw...|(262144,[11,18,36...|\n",
      "|    1|[buenos, consider...|(262144,[7,67,126...|\n",
      "+-----+--------------------+--------------------+\n",
      "only showing top 10 rows\n",
      "\n",
      "\n",
      "------------------\n",
      " physics \n",
      "------------------\n",
      "\n",
      "+-----+--------------------+--------------------+\n",
      "|dummy|               words|            features|\n",
      "+-----+--------------------+--------------------+\n",
      "|    1|[live, age, enwik...|(109986,[1,121,16...|\n",
      "|    1|[interacts, bounc...|(109986,[181,577,...|\n",
      "|    1|[veneziano, famou...|(109986,[324,447,...|\n",
      "|    1|[mechanicallyswit...|(109986,[129,269,...|\n",
      "|    1|[pointwise, conve...|(109986,[936,965,...|\n",
      "|    1|[saw, testing, su...|(109986,[81,105,1...|\n",
      "|    1|[misunderstand, r...|(109986,[489,1180...|\n",
      "|    1|[numerically, imp...|(109986,[289,324,...|\n",
      "|    1|[sorry, reply, ho...|(109986,[16,69,92...|\n",
      "|    1| [disc, disc, watch]|(109986,[339,650]...|\n",
      "+-----+--------------------+--------------------+\n",
      "only showing top 10 rows\n",
      "\n",
      "\n",
      "------------------\n",
      " unix \n",
      "------------------\n",
      "\n",
      "+-----+--------------------+--------------------+\n",
      "|dummy|               words|            features|\n",
      "+-----+--------------------+--------------------+\n",
      "|    1|[principal, enabl...|(197742,[441,500,...|\n",
      "|    1|[storing, netrc, ...|(197742,[113,235,...|\n",
      "|    1|[hp, pavilion, pu...|(197742,[41,101,1...|\n",
      "|    1|[thomas, ward, aw...|(197742,[12,53,55...|\n",
      "|    1|[workspace, works...|(197742,[495,5043...|\n",
      "|    1|[mistake, sqlplus...|(197742,[30,507,7...|\n",
      "|    1|[discrepancy, unc...|(197742,[713,880,...|\n",
      "|    1|[etclinuxmintinfo...|(197742,[304,1240...|\n",
      "|    1|                  []|      (197742,[],[])|\n",
      "|    1|[pcmanfm, android...|(197742,[48,5048,...|\n",
      "+-----+--------------------+--------------------+\n",
      "only showing top 10 rows\n",
      "\n",
      "Time taken: 0 minutes.\n"
     ]
    }
   ],
   "source": [
    "## start time\n",
    "t0 = time.time()\n",
    "print(datetime.now().time())\n",
    "\n",
    "cntvcr = CountVectorizer(inputCol=\"words\", outputCol=\"features\", minDF=2)\n",
    "\n",
    "cntvcr_models = {}\n",
    "word_feat_list = {}\n",
    "for i in data_array:\n",
    "    cntvcr_models[i] = cntvcr.fit(body_df[i])\n",
    "    word_feat_list[i] = cntvcr_models[i].transform(body_df[i])\n",
    "    word_feat_list[i].cache()\n",
    "\n",
    "## show word vectors and feature counts for fora:\n",
    "for i in data_array:\n",
    "    print(\"\\n------------------\\n\", i, \"\\n------------------\\n\")\n",
    "    word_feat_list[i].show(10)\n",
    "\n",
    "\n",
    "## end time\n",
    "T = time.time() - t0;\n",
    "print(\"Time taken:\", round(T/60), \"minutes.\") # hm96 - 4 minutes all-5  "
   ]
  },
  {
   "cell_type": "markdown",
   "metadata": {},
   "source": [
    "### Converting pyspark.ml vectors to pyspark.mllib vectors"
   ]
  },
  {
   "cell_type": "code",
   "execution_count": 84,
   "metadata": {},
   "outputs": [
    {
     "name": "stdout",
     "output_type": "stream",
     "text": [
      "\n",
      "------------------\n",
      " codegolf \n",
      "------------------\n",
      "\n",
      "[SparseVector(91392, {307: 1.0, 375: 1.0, 731: 1.0, 1578: 1.0, 2643: 1.0, 6604: 1.0, 9392: 1.0})]\n",
      "\n",
      "------------------\n",
      " codereview \n",
      "------------------\n",
      "\n",
      "[SparseVector(262144, {60: 6.0, 1669: 3.0, 2694: 3.0, 3692: 4.0, 5618: 3.0, 6921: 3.0, 11805: 3.0, 14240: 2.0, 25446: 1.0, 52424: 2.0, 170345: 3.0, 171994: 3.0, 213282: 2.0, 222969: 2.0})]\n",
      "\n",
      "------------------\n",
      " es_stackoverflow \n",
      "------------------\n",
      "\n",
      "[SparseVector(262144, {338: 1.0, 865: 1.0, 2974: 1.0, 6867: 1.0, 11137: 1.0, 11471: 1.0, 12215: 3.0, 17204: 2.0, 19730: 1.0, 21019: 1.0, 22044: 1.0, 31778: 1.0})]\n",
      "\n",
      "------------------\n",
      " physics \n",
      "------------------\n",
      "\n",
      "[SparseVector(109986, {1: 1.0, 121: 1.0, 168: 1.0, 176: 1.0, 248: 1.0, 314: 2.0, 358: 2.0, 406: 1.0, 501: 1.0, 894: 1.0, 944: 1.0, 1302: 1.0, 1680: 1.0, 1803: 1.0, 2071: 2.0, 2407: 1.0, 2809: 1.0, 4292: 1.0, 4356: 1.0, 4498: 1.0, 6028: 1.0, 6999: 1.0, 9405: 1.0, 10236: 1.0, 14423: 1.0, 77164: 1.0, 83876: 1.0})]\n",
      "\n",
      "------------------\n",
      " unix \n",
      "------------------\n",
      "\n",
      "[SparseVector(197742, {441: 1.0, 500: 1.0, 622: 1.0, 1270: 1.0, 1620: 2.0, 2112: 1.0, 2551: 1.0, 5150: 1.0, 5954: 1.0, 6121: 1.0, 6481: 4.0, 8559: 1.0, 11709: 3.0, 12450: 1.0, 23919: 4.0, 24675: 1.0, 26275: 6.0, 52005: 4.0, 91602: 2.0, 136593: 2.0})]\n"
     ]
    }
   ],
   "source": [
    "from pyspark.mllib.linalg import Vectors\n",
    "def as_mllib_vector(v):\n",
    "    return Vectors.sparse(v.size, v.indices, v.values)\n",
    "\n",
    "features = {}\n",
    "feature_vec_list = {}\n",
    "for i in data_array:\n",
    "    features[i] = word_feat_list[i].select(\"features\")\n",
    "    feature_vec_list[i] = features[i].rdd.map(lambda r: as_mllib_vector(r[0]))\n",
    "    feature_vec_list[i].cache()\n",
    "\n",
    "## print first pyspark.mllib vectors for fora:\n",
    "for i in data_array:\n",
    "    print(\"\\n------------------\\n\", i, \"\\n------------------\\n\")\n",
    "    print(feature_vec_list[i].take(1))"
   ]
  },
  {
   "cell_type": "markdown",
   "metadata": {},
   "source": [
    "Converting the vectors allows us to use the SVD algorithm from Spark. Above are representations of the sparse pyspark.mllib vectors."
   ]
  },
  {
   "cell_type": "markdown",
   "metadata": {},
   "source": [
    "### Now we can take a look at the first 100 words of the vocabulary"
   ]
  },
  {
   "cell_type": "code",
   "execution_count": 86,
   "metadata": {},
   "outputs": [
    {
     "name": "stdout",
     "output_type": "stream",
     "text": [
      "\n",
      "------------------\n",
      " codegolf \n",
      "------------------\n",
      "\n",
      "Vocabulary from CountVectorizerModel is:\n",
      "\n",
      "['throw', 'leading', 'questionstaggedcodegolf', 'action', 'compute', 'trick', 'old', 'anonymous', 'quite', 'plus', 'update', 'builtin', 'wall', 'powershell', 'target', 'bonus', 'quot', 'symbol', 'containing', 'ho', 'programming', 'corresponding', 'infinite', 'separated', 'lower', 'half', 'draw', 'tbody', 'twice', 'level', 'third', 'written', 'xy', 'defined', 'minute', 'fact', 'stop', 'condition', 'invalid', 'dyalog', 'num', 'lowercase', 'continue', 'self', 'blue', 'modulo', 'jump', 'via', 'printing', 'ord', 'japt', 'basic', 'tp', 'message', 'remaining', 'actual', 'little', 'shift', 'adding', 'nn', 'requires', 'hodor', 'real', 'choose', 'circle', 'able', 'instance', 'concatenate', 'sign', 'expected', 'later', 'formula', 'alphabet', 'beginning', 'body', 'search', 'abc', 'including', 'io', 'support', 'big', 'help', 'tree', 'encoding', 'ba', 'langhtml', 'inside', 'within', 'yes', 'choice', 'due', 'division', 'whole', 'golfscript', 'ip', 'far', 'snippetcodehtml', 'prefix', 'rotate', 'minimum']\n",
      "\n",
      "---\n",
      "\n",
      "Number of terms M =  91392\n",
      "\n",
      "------------------\n",
      " codereview \n",
      "------------------\n",
      "\n",
      "Vocabulary from CountVectorizerModel is:\n",
      "\n",
      "['kwargs', 'uint', 'acc', 'diff', 'division', 'mostly', 'rawinput', 'visited', 'mysql', 'nn', 'suggested', 'del', 'manually', 'security', 'phone', 'sf', 'ifndef', 'sharedptr', 'singleton', 'descriptive', 'uri', 'langjs', 'permutation', 'df', 'whenever', 'leaf', 'collect', 'known', 'mask', 'appears', 'moved', 'temporary', 'quantity', 'strict', 'nums', 'sound', 'constraint', 'signal', 'encoding', 'definitely', 'sleep', 'focus', 'iterable', 'starttime', 'life', 'thanks', 'varchar', 'onclick', 'closed', 'kbd', 'logging', 'relevant', 'radius', 'dt', 'incorrect', 'intent', 'regarding', 'builtin', 'deleted', 'formula', 'visible', 'nbsp', 'sn', 'divide', 'executed', 'specifically', 'absolute', 'sentence', 'balance', 'degree', 'manager', 'oop', 'period', 'numpy', 'individual', 'allocate', 'ajax', 'developer', 'xrange', 'datalang', 'systemin', 'datahide', 'biginteger', 'snippetcode', 'website', 'refactoring', 'meaningful', 'dx', 'progress', 'partial', 'appreciated', 'consumer', 'press', 'meta', 'obviously', 'environment', 'flow', 'bracket', 'harder', 'desired']\n",
      "\n",
      "---\n",
      "\n",
      "Number of terms M =  262144\n",
      "\n",
      "------------------\n",
      " es_stackoverflow \n",
      "------------------\n",
      "\n",
      "Vocabulary from CountVectorizerModel is:\n",
      "\n",
      "['sirve', 'comentarios', 'btnprimary', 'teniendo', 'segundos', 'hilo', 'dicha', 'haber', 'sean', 'datatoggle', 'linearlayout', 'sencillo', 'borrar', 'dependiendo', 'seleccione', 'desc', 'node', 'empresa', 'framework', 'msg', 'resource', 'ciudad', 'ioexception', 'cin', 'indexphp', 'asignar', 'eprintstacktrace', 'resolver', 'lang', 'equal', 'dialog', 'muestro', 'apellidos', 'quieras', 'kbd', 'innerhtml', 'visual', 'iniciar', 'ipsum', 'decimal', 'hide', 'sabe', 'super', 'excepción', 'articulo', 'hacia', 'edit', 'deben', 'dependency', 'child', 'implement', 'listview', 'esté', 'datatype', 'realmente', 'state', 'contacto', 'cedula', 'trabajar', 'instalar', 'borderradius', 'equipo', 'fontweight', 'volver', 'intenta', 'userid', 'canvas', 'build', 'po', 'sintaxis', 'visible', 'render', 'internet', 'config', 'angular', 'dolor', 'prop', 'component', 'blanco', 'transform', 'imprime', 'product', 'textbox', 'verificar', 'probar', 'saludo', 'quiere', 'cont', 'ellos', 'buscando', 'existen', 'pruebas', 'darle', 'sup', 'tab', 'rango', 'empleado', 'scroll', 'realidad', 'deseo']\n",
      "\n",
      "---\n",
      "\n",
      "Number of terms M =  262144\n",
      "\n",
      "------------------\n",
      " physics \n",
      "------------------\n",
      "\n",
      "Vocabulary from CountVectorizerModel is:\n",
      "\n",
      "['linked', 'none', 'barrier', 'incoming', 'stand', 'provides', 'particularly', 'content', 'telescope', 'includes', 'geometric', 'hypothesis', 'diagonal', 'strongly', 'deep', 'microscopic', 'simpler', 'alice', 'reduces', 'upward', 'told', 'avoid', 'quantized', 'sufficiently', 'multiply', 'filled', 'capacitance', 'nonrelativistic', 'chance', 'downward', 'mixed', 'varies', 'squared', 'interface', 'apparently', 'behaviour', 'title', 'simultaneously', 'ev', 'integrating', 'null', 'affected', 'confusing', 'discus', 'odd', 'bigg', 'universal', 'literature', 'xmu', 'slope', 'filter', 'interest', 'aspect', 'furthermore', 'search', 'impulse', 'aware', 'parity', 'polarized', 'among', 'naturally', 'orbitals', 'vanish', 'dense', 'creating', 'north', 'arrow', 'simplicity', 'varying', 'linearly', 'list', 'vanishes', 'pump', 'arises', 'vapor', 'conjugate', 'framework', 'tangential', 'replace', 'dealing', 'dispersion', 'happened', 'interpret', 'uv', 'dtau', 'involving', 'history', 'divided', 'discussed', 'satisfies', 'introduced', 'supply', 'sorry', 'formation', 'bring', 'school', 'conducting', 'boost', 'exercise', 'adagger']\n",
      "\n",
      "---\n",
      "\n",
      "Number of terms M =  109986\n",
      "\n",
      "------------------\n",
      " unix \n",
      "------------------\n",
      "\n",
      "Vocabulary from CountVectorizerModel is:\n",
      "\n",
      "['clone', 'uefi', 'mtu', 'gzip', 'scsi', 'locate', 'attempting', 'tue', 'nc', 'dash', 'mon', 'understanding', 'override', 'gpt', 'ascii', 'newlines', 'usr', 'causing', 'moving', 'trigger', 'nonfree', 'wed', 'bootloader', 'magic', 'lower', 'anymore', 'strange', 'lsof', 'thinking', 'hence', 'expanded', 'proto', 'pair', 'ro', 'exception', 'associated', 'uniq', 'slightly', 'caused', 'oracle', 'variant', 'reserved', 'encoding', 'mask', 'hub', 'increase', 'seeing', 'past', 'android', 'utc', 'low', 'soon', 'pressing', 'mapping', 'equal', 'successful', 'indeed', 'conflict', 'taking', 'redirection', 'interrupt', 'putting', 'symlinks', 'deal', 'pam', 'perfectly', 'entering', 'zfs', 'complex', 'relative', 'refer', 'etcpasswd', 'min', 'finding', 'delay', 'major', 'scenario', 'portable', 'logfile', 'area', 'sends', 'recovery', 'axis', 'completed', 'pe', 'onto', 'stuck', 'encryption', 'leading', 'trailing', 'hi', 'xfce', 'bunch', 'listing', 'pool', 'num', 'pv', 'shopt', 'gentoo', 'behind']\n",
      "\n",
      "---\n",
      "\n",
      "Number of terms M =  197742\n"
     ]
    }
   ],
   "source": [
    "## print first 100 words \n",
    "for i in data_array:\n",
    "    print(\"\\n------------------\\n\", i, \"\\n------------------\\n\")\n",
    "    print (\"Vocabulary from CountVectorizerModel is:\\n\")\n",
    "    print(cntvcr_models[i].vocabulary[:100])\n",
    "    print(\"\\n---\\n\")\n",
    "\n",
    "    M = len(cntvcr_models[i].vocabulary)\n",
    "    print(\"Number of terms M = \", M)"
   ]
  },
  {
   "cell_type": "markdown",
   "metadata": {},
   "source": [
    "An interesting anomaly is the name of the TV show Game of Thrones character \"Hodor\" showing up in the `codegolf` forum of all places."
   ]
  },
  {
   "cell_type": "markdown",
   "metadata": {},
   "source": [
    "##  Latent Semantic Analysis (SVD)"
   ]
  },
  {
   "cell_type": "markdown",
   "metadata": {},
   "source": [
    "Latent Semantic Analysis is an automatic indexing and retrieval technique by Deerwester *et al.* (1990) that uses the singular value decomposition (SVD) of a term-document matrix to uncover latent factor loadings. More specifically, the left and right singular vectors of the SVD represent the latent term and document factor loadings.\n",
    "\n",
    "Computing the SVD requires a parameter `k`, defined as the number of latent factors, to be specified. I choose a value of 5, however further analysis could investigate results when this parameter is varied."
   ]
  },
  {
   "cell_type": "code",
   "execution_count": 88,
   "metadata": {},
   "outputs": [
    {
     "name": "stdout",
     "output_type": "stream",
     "text": [
      "14:56:02.296046\n",
      "Time taken: 5 minutes.\n"
     ]
    }
   ],
   "source": [
    "## start time\n",
    "t0 = time.time()\n",
    "print(datetime.now().time())\n",
    "\n",
    "from pyspark.mllib.linalg.distributed import RowMatrix\n",
    "\n",
    "feature_mat_list = {}\n",
    "for i in data_array:\n",
    "    feature_mat_list[i] = RowMatrix(feature_vec_list[i])\n",
    "\n",
    "# Here we use the dimension of latent factors to be k\n",
    "k = 5\n",
    "feature_svd_list = {}\n",
    "U_list = {}\n",
    "s_list = {}\n",
    "V_list = {}\n",
    "for i in data_array:\n",
    "    feature_svd_list[i] = feature_mat_list[i].computeSVD(k, computeU=True)\n",
    "    U_list[i] = feature_svd_list[i].U       # The U factor is a RowMatrix.\n",
    "    s_list[i] = feature_svd_list[i].s       # The singular values are stored in a local dense vector.\n",
    "    V_list[i] = feature_svd_list[i].V       # The V factor is a local dense matrix.\n",
    "    \n",
    "## end time\n",
    "T = time.time() - t0;\n",
    "print(\"Time taken:\", round(T/60), \"minutes.\") # hm96 - 5 minutes all-5  "
   ]
  },
  {
   "cell_type": "code",
   "execution_count": 89,
   "metadata": {},
   "outputs": [
    {
     "name": "stdout",
     "output_type": "stream",
     "text": [
      "number of rows of U 145539\n",
      "number of rows of V 91392\n"
     ]
    }
   ],
   "source": [
    "## print number of documents and terms for codegolf forum\n",
    "print(\"number of rows of U\", U_list['codegolf'].numRows()) # this is the number of documents (N)\n",
    "print(\"number of rows of V\", V_list['codegolf'].numRows ) # this is the number of terms (M)"
   ]
  },
  {
   "cell_type": "markdown",
   "metadata": {},
   "source": [
    "Above we see that the number of rows for the `U` matrix correspond precisely with the number of documents in the initial EDA results for the `codegolf` forum, and the number of rows for the `V` matrix correspond to the number of terms previously found."
   ]
  },
  {
   "cell_type": "code",
   "execution_count": 90,
   "metadata": {
    "scrolled": true
   },
   "outputs": [
    {
     "name": "stdout",
     "output_type": "stream",
     "text": [
      "U factors for expatriate forum are:\n",
      "[1.8125027388697233e-08,-2.0324541632366923e-11,-7.175277808477548e-10,3.495786681817518e-10,-1.9015818378546935e-07]\n",
      "[2.937507823227578e-10,-1.2620569810432825e-08,-1.6944603654528644e-10,9.997322450703687e-11,-2.894662855071321e-08]\n",
      "[1.3595755814344951e-08,-2.3021141037820016e-10,-2.5656813306792763e-09,1.7000031648800764e-09,-1.0674325487483314e-06]\n",
      "[1.8671405227754274e-08,-5.904802643979891e-10,-3.5532929337836493e-07,3.5133571465694577e-07,-6.038340264592165e-06]\n",
      "[1.7269408327738678e-08,-1.2808188275317865e-08,-4.518738725440523e-07,9.22624420404258e-10,-7.410721700937549e-07]\n",
      "[1.0135708826111737e-09,-1.4932534185210453e-11,-6.005044563769248e-10,2.150890349965929e-10,-1.5244671821487693e-07]\n",
      "[3.209771465659276e-09,-3.710850571717162e-11,-6.305666498602037e-10,2.9736792236440977e-10,-2.4462325626890324e-07]\n",
      "[8.898965542459412e-09,-2.2318097297175764e-10,-5.7383795797026075e-09,2.0688514498253404e-09,-2.767635926704044e-06]\n",
      "[3.468604179555909e-09,-2.5557780428744738e-11,-6.952615822808652e-10,3.1200111950511214e-10,-3.9510957822944937e-07]\n",
      "[4.3550194673577754e-10,-1.265485799684598e-11,-4.813073010608256e-10,1.8948126000125667e-10,-1.3352403480972038e-06]\n",
      "Singular values are: \n",
      " [2232.9276260998267,1941.1855175903993,1762.8884801470153,1708.876943029357,828.2892078177947]\n",
      "V factors are: \n",
      " DenseMatrix([[ 4.19269494e-06, -3.61685178e-08, -3.26078542e-06,\n",
      "               2.12534267e-06, -2.89323923e-04],\n",
      "             [ 1.28230537e-06, -7.78132998e-08, -1.67026237e-06,\n",
      "               1.59016825e-06, -1.13714347e-04],\n",
      "             [ 6.87567637e-07, -1.61958136e-07, -2.01187528e-06,\n",
      "               1.03061353e-06, -1.02739911e-04],\n",
      "             ...,\n",
      "             [ 3.04216450e-10, -8.54507595e-13, -2.61010059e-08,\n",
      "               6.17051695e-10, -2.82565111e-08],\n",
      "             [ 7.03861134e-10, -8.29606209e-11, -4.12992382e-10,\n",
      "               6.59216275e-11, -3.79873856e-07],\n",
      "             [ 1.96596922e-10, -2.80390007e-11, -1.31445725e-09,\n",
      "               4.16247985e-10, -6.29148168e-08]])\n"
     ]
    }
   ],
   "source": [
    "## an example of U factors, V factors and singular values for codegolf forum\n",
    "collected = U_list['codegolf'].rows.take(10)\n",
    "\n",
    "print(\"U factors for expatriate forum are:\")\n",
    "for vector in collected:\n",
    "    print(vector)\n",
    "    \n",
    "print(\"Singular values are: \\n\", s_list['codegolf'])\n",
    "\n",
    "print(\"V factors are: \\n\", V_list['codegolf'])"
   ]
  },
  {
   "cell_type": "markdown",
   "metadata": {},
   "source": [
    "Examples of the `U` factors, `V` factors and singular values for the `codegolf` forum are displayed above."
   ]
  },
  {
   "cell_type": "markdown",
   "metadata": {},
   "source": [
    "### t-SNE Plots"
   ]
  },
  {
   "cell_type": "markdown",
   "metadata": {},
   "source": [
    "t-SNE, or T-distributed Stochastic Neighbor Embedding, was developed by Maaten and Hinton (2008) as a visualisation technique based on nonlinear dimensionality reduction. Put very simply, it models high-dimensional objects in two or three dimensions such that similar objects are modeled by nearby points, and the opposite for dissimilar objects."
   ]
  },
  {
   "cell_type": "markdown",
   "metadata": {},
   "source": [
    "#### Fit t-SNE model"
   ]
  },
  {
   "cell_type": "code",
   "execution_count": null,
   "metadata": {},
   "outputs": [
    {
     "name": "stdout",
     "output_type": "stream",
     "text": [
      "15:05:54.865956\n",
      "[t-SNE] Computing 91 nearest neighbors...\n",
      "[t-SNE] Indexed 145539 samples in 0.119s...\n",
      "[t-SNE] Computed neighbors for 145539 samples in 12.408s...\n",
      "[t-SNE] Computed conditional probabilities for sample 1000 / 145539\n",
      "[t-SNE] Computed conditional probabilities for sample 2000 / 145539\n",
      "[t-SNE] Computed conditional probabilities for sample 3000 / 145539\n",
      "[t-SNE] Computed conditional probabilities for sample 4000 / 145539\n",
      "[t-SNE] Computed conditional probabilities for sample 5000 / 145539\n",
      "[t-SNE] Computed conditional probabilities for sample 6000 / 145539\n",
      "[t-SNE] Computed conditional probabilities for sample 7000 / 145539\n",
      "[t-SNE] Computed conditional probabilities for sample 8000 / 145539\n",
      "[t-SNE] Computed conditional probabilities for sample 9000 / 145539\n",
      "[t-SNE] Computed conditional probabilities for sample 10000 / 145539\n",
      "[t-SNE] Computed conditional probabilities for sample 11000 / 145539\n",
      "[t-SNE] Computed conditional probabilities for sample 12000 / 145539\n",
      "[t-SNE] Computed conditional probabilities for sample 13000 / 145539\n",
      "[t-SNE] Computed conditional probabilities for sample 14000 / 145539\n",
      "[t-SNE] Computed conditional probabilities for sample 15000 / 145539\n",
      "[t-SNE] Computed conditional probabilities for sample 16000 / 145539\n",
      "[t-SNE] Computed conditional probabilities for sample 17000 / 145539\n",
      "[t-SNE] Computed conditional probabilities for sample 18000 / 145539\n",
      "[t-SNE] Computed conditional probabilities for sample 19000 / 145539\n",
      "[t-SNE] Computed conditional probabilities for sample 20000 / 145539\n",
      "[t-SNE] Computed conditional probabilities for sample 21000 / 145539\n",
      "[t-SNE] Computed conditional probabilities for sample 22000 / 145539\n",
      "[t-SNE] Computed conditional probabilities for sample 23000 / 145539\n",
      "[t-SNE] Computed conditional probabilities for sample 24000 / 145539\n",
      "[t-SNE] Computed conditional probabilities for sample 25000 / 145539\n",
      "[t-SNE] Computed conditional probabilities for sample 26000 / 145539\n",
      "[t-SNE] Computed conditional probabilities for sample 27000 / 145539\n",
      "[t-SNE] Computed conditional probabilities for sample 28000 / 145539\n",
      "[t-SNE] Computed conditional probabilities for sample 29000 / 145539\n",
      "[t-SNE] Computed conditional probabilities for sample 30000 / 145539\n",
      "[t-SNE] Computed conditional probabilities for sample 31000 / 145539\n",
      "[t-SNE] Computed conditional probabilities for sample 32000 / 145539\n",
      "[t-SNE] Computed conditional probabilities for sample 33000 / 145539\n",
      "[t-SNE] Computed conditional probabilities for sample 34000 / 145539\n",
      "[t-SNE] Computed conditional probabilities for sample 35000 / 145539\n",
      "[t-SNE] Computed conditional probabilities for sample 36000 / 145539\n",
      "[t-SNE] Computed conditional probabilities for sample 37000 / 145539\n",
      "[t-SNE] Computed conditional probabilities for sample 38000 / 145539\n",
      "[t-SNE] Computed conditional probabilities for sample 39000 / 145539\n",
      "[t-SNE] Computed conditional probabilities for sample 40000 / 145539\n",
      "[t-SNE] Computed conditional probabilities for sample 41000 / 145539\n",
      "[t-SNE] Computed conditional probabilities for sample 42000 / 145539\n",
      "[t-SNE] Computed conditional probabilities for sample 43000 / 145539\n",
      "[t-SNE] Computed conditional probabilities for sample 44000 / 145539\n",
      "[t-SNE] Computed conditional probabilities for sample 45000 / 145539\n",
      "[t-SNE] Computed conditional probabilities for sample 46000 / 145539\n",
      "[t-SNE] Computed conditional probabilities for sample 47000 / 145539\n",
      "[t-SNE] Computed conditional probabilities for sample 48000 / 145539\n",
      "[t-SNE] Computed conditional probabilities for sample 49000 / 145539\n",
      "[t-SNE] Computed conditional probabilities for sample 50000 / 145539\n",
      "[t-SNE] Computed conditional probabilities for sample 51000 / 145539\n",
      "[t-SNE] Computed conditional probabilities for sample 52000 / 145539\n",
      "[t-SNE] Computed conditional probabilities for sample 53000 / 145539\n",
      "[t-SNE] Computed conditional probabilities for sample 54000 / 145539\n",
      "[t-SNE] Computed conditional probabilities for sample 55000 / 145539\n",
      "[t-SNE] Computed conditional probabilities for sample 56000 / 145539\n",
      "[t-SNE] Computed conditional probabilities for sample 57000 / 145539\n",
      "[t-SNE] Computed conditional probabilities for sample 58000 / 145539\n",
      "[t-SNE] Computed conditional probabilities for sample 59000 / 145539\n",
      "[t-SNE] Computed conditional probabilities for sample 60000 / 145539\n",
      "[t-SNE] Computed conditional probabilities for sample 61000 / 145539\n",
      "[t-SNE] Computed conditional probabilities for sample 62000 / 145539\n",
      "[t-SNE] Computed conditional probabilities for sample 63000 / 145539\n",
      "[t-SNE] Computed conditional probabilities for sample 64000 / 145539\n",
      "[t-SNE] Computed conditional probabilities for sample 65000 / 145539\n",
      "[t-SNE] Computed conditional probabilities for sample 66000 / 145539\n",
      "[t-SNE] Computed conditional probabilities for sample 67000 / 145539\n",
      "[t-SNE] Computed conditional probabilities for sample 68000 / 145539\n",
      "[t-SNE] Computed conditional probabilities for sample 69000 / 145539\n",
      "[t-SNE] Computed conditional probabilities for sample 70000 / 145539\n",
      "[t-SNE] Computed conditional probabilities for sample 71000 / 145539\n",
      "[t-SNE] Computed conditional probabilities for sample 72000 / 145539\n",
      "[t-SNE] Computed conditional probabilities for sample 73000 / 145539\n",
      "[t-SNE] Computed conditional probabilities for sample 74000 / 145539\n",
      "[t-SNE] Computed conditional probabilities for sample 75000 / 145539\n",
      "[t-SNE] Computed conditional probabilities for sample 76000 / 145539\n",
      "[t-SNE] Computed conditional probabilities for sample 77000 / 145539\n",
      "[t-SNE] Computed conditional probabilities for sample 78000 / 145539\n",
      "[t-SNE] Computed conditional probabilities for sample 79000 / 145539\n",
      "[t-SNE] Computed conditional probabilities for sample 80000 / 145539\n",
      "[t-SNE] Computed conditional probabilities for sample 81000 / 145539\n",
      "[t-SNE] Computed conditional probabilities for sample 82000 / 145539\n",
      "[t-SNE] Computed conditional probabilities for sample 83000 / 145539\n",
      "[t-SNE] Computed conditional probabilities for sample 84000 / 145539\n",
      "[t-SNE] Computed conditional probabilities for sample 85000 / 145539\n",
      "[t-SNE] Computed conditional probabilities for sample 86000 / 145539\n",
      "[t-SNE] Computed conditional probabilities for sample 87000 / 145539\n",
      "[t-SNE] Computed conditional probabilities for sample 88000 / 145539\n",
      "[t-SNE] Computed conditional probabilities for sample 89000 / 145539\n",
      "[t-SNE] Computed conditional probabilities for sample 90000 / 145539\n",
      "[t-SNE] Computed conditional probabilities for sample 91000 / 145539\n",
      "[t-SNE] Computed conditional probabilities for sample 92000 / 145539\n",
      "[t-SNE] Computed conditional probabilities for sample 93000 / 145539\n",
      "[t-SNE] Computed conditional probabilities for sample 94000 / 145539\n",
      "[t-SNE] Computed conditional probabilities for sample 95000 / 145539\n",
      "[t-SNE] Computed conditional probabilities for sample 96000 / 145539\n",
      "[t-SNE] Computed conditional probabilities for sample 97000 / 145539\n",
      "[t-SNE] Computed conditional probabilities for sample 98000 / 145539\n",
      "[t-SNE] Computed conditional probabilities for sample 99000 / 145539\n",
      "[t-SNE] Computed conditional probabilities for sample 100000 / 145539\n",
      "[t-SNE] Computed conditional probabilities for sample 101000 / 145539\n",
      "[t-SNE] Computed conditional probabilities for sample 102000 / 145539\n",
      "[t-SNE] Computed conditional probabilities for sample 103000 / 145539\n",
      "[t-SNE] Computed conditional probabilities for sample 104000 / 145539\n",
      "[t-SNE] Computed conditional probabilities for sample 105000 / 145539\n",
      "[t-SNE] Computed conditional probabilities for sample 106000 / 145539\n",
      "[t-SNE] Computed conditional probabilities for sample 107000 / 145539\n",
      "[t-SNE] Computed conditional probabilities for sample 108000 / 145539\n",
      "[t-SNE] Computed conditional probabilities for sample 109000 / 145539\n",
      "[t-SNE] Computed conditional probabilities for sample 110000 / 145539\n",
      "[t-SNE] Computed conditional probabilities for sample 111000 / 145539\n",
      "[t-SNE] Computed conditional probabilities for sample 112000 / 145539\n",
      "[t-SNE] Computed conditional probabilities for sample 113000 / 145539\n",
      "[t-SNE] Computed conditional probabilities for sample 114000 / 145539\n",
      "[t-SNE] Computed conditional probabilities for sample 115000 / 145539\n",
      "[t-SNE] Computed conditional probabilities for sample 116000 / 145539\n",
      "[t-SNE] Computed conditional probabilities for sample 117000 / 145539\n",
      "[t-SNE] Computed conditional probabilities for sample 118000 / 145539\n",
      "[t-SNE] Computed conditional probabilities for sample 119000 / 145539\n",
      "[t-SNE] Computed conditional probabilities for sample 120000 / 145539\n",
      "[t-SNE] Computed conditional probabilities for sample 121000 / 145539\n",
      "[t-SNE] Computed conditional probabilities for sample 122000 / 145539\n",
      "[t-SNE] Computed conditional probabilities for sample 123000 / 145539\n",
      "[t-SNE] Computed conditional probabilities for sample 124000 / 145539\n",
      "[t-SNE] Computed conditional probabilities for sample 125000 / 145539\n",
      "[t-SNE] Computed conditional probabilities for sample 126000 / 145539\n",
      "[t-SNE] Computed conditional probabilities for sample 127000 / 145539\n",
      "[t-SNE] Computed conditional probabilities for sample 128000 / 145539\n",
      "[t-SNE] Computed conditional probabilities for sample 129000 / 145539\n",
      "[t-SNE] Computed conditional probabilities for sample 130000 / 145539\n",
      "[t-SNE] Computed conditional probabilities for sample 131000 / 145539\n",
      "[t-SNE] Computed conditional probabilities for sample 132000 / 145539\n",
      "[t-SNE] Computed conditional probabilities for sample 133000 / 145539\n",
      "[t-SNE] Computed conditional probabilities for sample 134000 / 145539\n",
      "[t-SNE] Computed conditional probabilities for sample 135000 / 145539\n",
      "[t-SNE] Computed conditional probabilities for sample 136000 / 145539\n",
      "[t-SNE] Computed conditional probabilities for sample 137000 / 145539\n",
      "[t-SNE] Computed conditional probabilities for sample 138000 / 145539\n",
      "[t-SNE] Computed conditional probabilities for sample 139000 / 145539\n",
      "[t-SNE] Computed conditional probabilities for sample 140000 / 145539\n",
      "[t-SNE] Computed conditional probabilities for sample 141000 / 145539\n",
      "[t-SNE] Computed conditional probabilities for sample 142000 / 145539\n",
      "[t-SNE] Computed conditional probabilities for sample 143000 / 145539\n",
      "[t-SNE] Computed conditional probabilities for sample 144000 / 145539\n",
      "[t-SNE] Computed conditional probabilities for sample 145000 / 145539\n",
      "[t-SNE] Computed conditional probabilities for sample 145539 / 145539\n",
      "[t-SNE] Mean sigma: 0.000000\n",
      "[t-SNE] KL divergence after 250 iterations with early exaggeration: 95.569733\n",
      "[t-SNE] KL divergence after 1000 iterations: 2.753624\n",
      "[t-SNE] Computing 91 nearest neighbors...\n",
      "[t-SNE] Indexed 152724 samples in 0.127s...\n",
      "[t-SNE] Computed neighbors for 152724 samples in 11.962s...\n",
      "[t-SNE] Computed conditional probabilities for sample 1000 / 152724\n",
      "[t-SNE] Computed conditional probabilities for sample 2000 / 152724\n",
      "[t-SNE] Computed conditional probabilities for sample 3000 / 152724\n",
      "[t-SNE] Computed conditional probabilities for sample 4000 / 152724\n",
      "[t-SNE] Computed conditional probabilities for sample 5000 / 152724\n",
      "[t-SNE] Computed conditional probabilities for sample 6000 / 152724\n",
      "[t-SNE] Computed conditional probabilities for sample 7000 / 152724\n",
      "[t-SNE] Computed conditional probabilities for sample 8000 / 152724\n",
      "[t-SNE] Computed conditional probabilities for sample 9000 / 152724\n",
      "[t-SNE] Computed conditional probabilities for sample 10000 / 152724\n",
      "[t-SNE] Computed conditional probabilities for sample 11000 / 152724\n",
      "[t-SNE] Computed conditional probabilities for sample 12000 / 152724\n",
      "[t-SNE] Computed conditional probabilities for sample 13000 / 152724\n",
      "[t-SNE] Computed conditional probabilities for sample 14000 / 152724\n",
      "[t-SNE] Computed conditional probabilities for sample 15000 / 152724\n",
      "[t-SNE] Computed conditional probabilities for sample 16000 / 152724\n",
      "[t-SNE] Computed conditional probabilities for sample 17000 / 152724\n",
      "[t-SNE] Computed conditional probabilities for sample 18000 / 152724\n",
      "[t-SNE] Computed conditional probabilities for sample 19000 / 152724\n",
      "[t-SNE] Computed conditional probabilities for sample 20000 / 152724\n",
      "[t-SNE] Computed conditional probabilities for sample 21000 / 152724\n",
      "[t-SNE] Computed conditional probabilities for sample 22000 / 152724\n",
      "[t-SNE] Computed conditional probabilities for sample 23000 / 152724\n",
      "[t-SNE] Computed conditional probabilities for sample 24000 / 152724\n",
      "[t-SNE] Computed conditional probabilities for sample 25000 / 152724\n",
      "[t-SNE] Computed conditional probabilities for sample 26000 / 152724\n",
      "[t-SNE] Computed conditional probabilities for sample 27000 / 152724\n",
      "[t-SNE] Computed conditional probabilities for sample 28000 / 152724\n",
      "[t-SNE] Computed conditional probabilities for sample 29000 / 152724\n",
      "[t-SNE] Computed conditional probabilities for sample 30000 / 152724\n",
      "[t-SNE] Computed conditional probabilities for sample 31000 / 152724\n",
      "[t-SNE] Computed conditional probabilities for sample 32000 / 152724\n",
      "[t-SNE] Computed conditional probabilities for sample 33000 / 152724\n",
      "[t-SNE] Computed conditional probabilities for sample 34000 / 152724\n",
      "[t-SNE] Computed conditional probabilities for sample 35000 / 152724\n",
      "[t-SNE] Computed conditional probabilities for sample 36000 / 152724\n",
      "[t-SNE] Computed conditional probabilities for sample 37000 / 152724\n",
      "[t-SNE] Computed conditional probabilities for sample 38000 / 152724\n",
      "[t-SNE] Computed conditional probabilities for sample 39000 / 152724\n",
      "[t-SNE] Computed conditional probabilities for sample 40000 / 152724\n",
      "[t-SNE] Computed conditional probabilities for sample 41000 / 152724\n",
      "[t-SNE] Computed conditional probabilities for sample 42000 / 152724\n",
      "[t-SNE] Computed conditional probabilities for sample 43000 / 152724\n",
      "[t-SNE] Computed conditional probabilities for sample 44000 / 152724\n",
      "[t-SNE] Computed conditional probabilities for sample 45000 / 152724\n",
      "[t-SNE] Computed conditional probabilities for sample 46000 / 152724\n",
      "[t-SNE] Computed conditional probabilities for sample 47000 / 152724\n",
      "[t-SNE] Computed conditional probabilities for sample 48000 / 152724\n",
      "[t-SNE] Computed conditional probabilities for sample 49000 / 152724\n",
      "[t-SNE] Computed conditional probabilities for sample 50000 / 152724\n",
      "[t-SNE] Computed conditional probabilities for sample 51000 / 152724\n",
      "[t-SNE] Computed conditional probabilities for sample 52000 / 152724\n",
      "[t-SNE] Computed conditional probabilities for sample 53000 / 152724\n",
      "[t-SNE] Computed conditional probabilities for sample 54000 / 152724\n",
      "[t-SNE] Computed conditional probabilities for sample 55000 / 152724\n",
      "[t-SNE] Computed conditional probabilities for sample 56000 / 152724\n",
      "[t-SNE] Computed conditional probabilities for sample 57000 / 152724\n",
      "[t-SNE] Computed conditional probabilities for sample 58000 / 152724\n",
      "[t-SNE] Computed conditional probabilities for sample 59000 / 152724\n",
      "[t-SNE] Computed conditional probabilities for sample 60000 / 152724\n",
      "[t-SNE] Computed conditional probabilities for sample 61000 / 152724\n",
      "[t-SNE] Computed conditional probabilities for sample 62000 / 152724\n",
      "[t-SNE] Computed conditional probabilities for sample 63000 / 152724\n",
      "[t-SNE] Computed conditional probabilities for sample 64000 / 152724\n",
      "[t-SNE] Computed conditional probabilities for sample 65000 / 152724\n",
      "[t-SNE] Computed conditional probabilities for sample 66000 / 152724\n",
      "[t-SNE] Computed conditional probabilities for sample 67000 / 152724\n",
      "[t-SNE] Computed conditional probabilities for sample 68000 / 152724\n",
      "[t-SNE] Computed conditional probabilities for sample 69000 / 152724\n",
      "[t-SNE] Computed conditional probabilities for sample 70000 / 152724\n",
      "[t-SNE] Computed conditional probabilities for sample 71000 / 152724\n",
      "[t-SNE] Computed conditional probabilities for sample 72000 / 152724\n",
      "[t-SNE] Computed conditional probabilities for sample 73000 / 152724\n",
      "[t-SNE] Computed conditional probabilities for sample 74000 / 152724\n",
      "[t-SNE] Computed conditional probabilities for sample 75000 / 152724\n",
      "[t-SNE] Computed conditional probabilities for sample 76000 / 152724\n",
      "[t-SNE] Computed conditional probabilities for sample 77000 / 152724\n",
      "[t-SNE] Computed conditional probabilities for sample 78000 / 152724\n",
      "[t-SNE] Computed conditional probabilities for sample 79000 / 152724\n",
      "[t-SNE] Computed conditional probabilities for sample 80000 / 152724\n",
      "[t-SNE] Computed conditional probabilities for sample 81000 / 152724\n",
      "[t-SNE] Computed conditional probabilities for sample 82000 / 152724\n",
      "[t-SNE] Computed conditional probabilities for sample 83000 / 152724\n",
      "[t-SNE] Computed conditional probabilities for sample 84000 / 152724\n",
      "[t-SNE] Computed conditional probabilities for sample 85000 / 152724\n",
      "[t-SNE] Computed conditional probabilities for sample 86000 / 152724\n",
      "[t-SNE] Computed conditional probabilities for sample 87000 / 152724\n",
      "[t-SNE] Computed conditional probabilities for sample 88000 / 152724\n",
      "[t-SNE] Computed conditional probabilities for sample 89000 / 152724\n",
      "[t-SNE] Computed conditional probabilities for sample 90000 / 152724\n",
      "[t-SNE] Computed conditional probabilities for sample 91000 / 152724\n",
      "[t-SNE] Computed conditional probabilities for sample 92000 / 152724\n",
      "[t-SNE] Computed conditional probabilities for sample 93000 / 152724\n",
      "[t-SNE] Computed conditional probabilities for sample 94000 / 152724\n",
      "[t-SNE] Computed conditional probabilities for sample 95000 / 152724\n",
      "[t-SNE] Computed conditional probabilities for sample 96000 / 152724\n",
      "[t-SNE] Computed conditional probabilities for sample 97000 / 152724\n",
      "[t-SNE] Computed conditional probabilities for sample 98000 / 152724\n",
      "[t-SNE] Computed conditional probabilities for sample 99000 / 152724\n",
      "[t-SNE] Computed conditional probabilities for sample 100000 / 152724\n",
      "[t-SNE] Computed conditional probabilities for sample 101000 / 152724\n",
      "[t-SNE] Computed conditional probabilities for sample 102000 / 152724\n",
      "[t-SNE] Computed conditional probabilities for sample 103000 / 152724\n",
      "[t-SNE] Computed conditional probabilities for sample 104000 / 152724\n",
      "[t-SNE] Computed conditional probabilities for sample 105000 / 152724\n",
      "[t-SNE] Computed conditional probabilities for sample 106000 / 152724\n",
      "[t-SNE] Computed conditional probabilities for sample 107000 / 152724\n",
      "[t-SNE] Computed conditional probabilities for sample 108000 / 152724\n",
      "[t-SNE] Computed conditional probabilities for sample 109000 / 152724\n",
      "[t-SNE] Computed conditional probabilities for sample 110000 / 152724\n",
      "[t-SNE] Computed conditional probabilities for sample 111000 / 152724\n",
      "[t-SNE] Computed conditional probabilities for sample 112000 / 152724\n",
      "[t-SNE] Computed conditional probabilities for sample 113000 / 152724\n",
      "[t-SNE] Computed conditional probabilities for sample 114000 / 152724\n",
      "[t-SNE] Computed conditional probabilities for sample 115000 / 152724\n",
      "[t-SNE] Computed conditional probabilities for sample 116000 / 152724\n",
      "[t-SNE] Computed conditional probabilities for sample 117000 / 152724\n",
      "[t-SNE] Computed conditional probabilities for sample 118000 / 152724\n",
      "[t-SNE] Computed conditional probabilities for sample 119000 / 152724\n",
      "[t-SNE] Computed conditional probabilities for sample 120000 / 152724\n",
      "[t-SNE] Computed conditional probabilities for sample 121000 / 152724\n",
      "[t-SNE] Computed conditional probabilities for sample 122000 / 152724\n",
      "[t-SNE] Computed conditional probabilities for sample 123000 / 152724\n",
      "[t-SNE] Computed conditional probabilities for sample 124000 / 152724\n",
      "[t-SNE] Computed conditional probabilities for sample 125000 / 152724\n",
      "[t-SNE] Computed conditional probabilities for sample 126000 / 152724\n",
      "[t-SNE] Computed conditional probabilities for sample 127000 / 152724\n",
      "[t-SNE] Computed conditional probabilities for sample 128000 / 152724\n",
      "[t-SNE] Computed conditional probabilities for sample 129000 / 152724\n",
      "[t-SNE] Computed conditional probabilities for sample 130000 / 152724\n",
      "[t-SNE] Computed conditional probabilities for sample 131000 / 152724\n",
      "[t-SNE] Computed conditional probabilities for sample 132000 / 152724\n",
      "[t-SNE] Computed conditional probabilities for sample 133000 / 152724\n",
      "[t-SNE] Computed conditional probabilities for sample 134000 / 152724\n",
      "[t-SNE] Computed conditional probabilities for sample 135000 / 152724\n",
      "[t-SNE] Computed conditional probabilities for sample 136000 / 152724\n",
      "[t-SNE] Computed conditional probabilities for sample 137000 / 152724\n",
      "[t-SNE] Computed conditional probabilities for sample 138000 / 152724\n",
      "[t-SNE] Computed conditional probabilities for sample 139000 / 152724\n",
      "[t-SNE] Computed conditional probabilities for sample 140000 / 152724\n",
      "[t-SNE] Computed conditional probabilities for sample 141000 / 152724\n",
      "[t-SNE] Computed conditional probabilities for sample 142000 / 152724\n",
      "[t-SNE] Computed conditional probabilities for sample 143000 / 152724\n",
      "[t-SNE] Computed conditional probabilities for sample 144000 / 152724\n",
      "[t-SNE] Computed conditional probabilities for sample 145000 / 152724\n",
      "[t-SNE] Computed conditional probabilities for sample 146000 / 152724\n",
      "[t-SNE] Computed conditional probabilities for sample 147000 / 152724\n",
      "[t-SNE] Computed conditional probabilities for sample 148000 / 152724\n",
      "[t-SNE] Computed conditional probabilities for sample 149000 / 152724\n",
      "[t-SNE] Computed conditional probabilities for sample 150000 / 152724\n",
      "[t-SNE] Computed conditional probabilities for sample 151000 / 152724\n",
      "[t-SNE] Computed conditional probabilities for sample 152000 / 152724\n",
      "[t-SNE] Computed conditional probabilities for sample 152724 / 152724\n",
      "[t-SNE] Mean sigma: 0.000000\n",
      "[t-SNE] KL divergence after 250 iterations with early exaggeration: 98.813477\n",
      "[t-SNE] KL divergence after 1000 iterations: 3.328548\n",
      "[t-SNE] Computing 91 nearest neighbors...\n",
      "[t-SNE] Indexed 180640 samples in 0.173s...\n",
      "[t-SNE] Computed neighbors for 180640 samples in 17.422s...\n",
      "[t-SNE] Computed conditional probabilities for sample 1000 / 180640\n",
      "[t-SNE] Computed conditional probabilities for sample 2000 / 180640\n",
      "[t-SNE] Computed conditional probabilities for sample 3000 / 180640\n",
      "[t-SNE] Computed conditional probabilities for sample 4000 / 180640\n",
      "[t-SNE] Computed conditional probabilities for sample 5000 / 180640\n",
      "[t-SNE] Computed conditional probabilities for sample 6000 / 180640\n",
      "[t-SNE] Computed conditional probabilities for sample 7000 / 180640\n",
      "[t-SNE] Computed conditional probabilities for sample 8000 / 180640\n",
      "[t-SNE] Computed conditional probabilities for sample 9000 / 180640\n",
      "[t-SNE] Computed conditional probabilities for sample 10000 / 180640\n",
      "[t-SNE] Computed conditional probabilities for sample 11000 / 180640\n",
      "[t-SNE] Computed conditional probabilities for sample 12000 / 180640\n",
      "[t-SNE] Computed conditional probabilities for sample 13000 / 180640\n",
      "[t-SNE] Computed conditional probabilities for sample 14000 / 180640\n",
      "[t-SNE] Computed conditional probabilities for sample 15000 / 180640\n",
      "[t-SNE] Computed conditional probabilities for sample 16000 / 180640\n",
      "[t-SNE] Computed conditional probabilities for sample 17000 / 180640\n",
      "[t-SNE] Computed conditional probabilities for sample 18000 / 180640\n",
      "[t-SNE] Computed conditional probabilities for sample 19000 / 180640\n",
      "[t-SNE] Computed conditional probabilities for sample 20000 / 180640\n",
      "[t-SNE] Computed conditional probabilities for sample 21000 / 180640\n",
      "[t-SNE] Computed conditional probabilities for sample 22000 / 180640\n",
      "[t-SNE] Computed conditional probabilities for sample 23000 / 180640\n",
      "[t-SNE] Computed conditional probabilities for sample 24000 / 180640\n",
      "[t-SNE] Computed conditional probabilities for sample 25000 / 180640\n",
      "[t-SNE] Computed conditional probabilities for sample 26000 / 180640\n",
      "[t-SNE] Computed conditional probabilities for sample 27000 / 180640\n",
      "[t-SNE] Computed conditional probabilities for sample 28000 / 180640\n",
      "[t-SNE] Computed conditional probabilities for sample 29000 / 180640\n",
      "[t-SNE] Computed conditional probabilities for sample 30000 / 180640\n",
      "[t-SNE] Computed conditional probabilities for sample 31000 / 180640\n",
      "[t-SNE] Computed conditional probabilities for sample 32000 / 180640\n",
      "[t-SNE] Computed conditional probabilities for sample 33000 / 180640\n",
      "[t-SNE] Computed conditional probabilities for sample 34000 / 180640\n",
      "[t-SNE] Computed conditional probabilities for sample 35000 / 180640\n",
      "[t-SNE] Computed conditional probabilities for sample 36000 / 180640\n",
      "[t-SNE] Computed conditional probabilities for sample 37000 / 180640\n",
      "[t-SNE] Computed conditional probabilities for sample 38000 / 180640\n",
      "[t-SNE] Computed conditional probabilities for sample 39000 / 180640\n",
      "[t-SNE] Computed conditional probabilities for sample 40000 / 180640\n",
      "[t-SNE] Computed conditional probabilities for sample 41000 / 180640\n",
      "[t-SNE] Computed conditional probabilities for sample 42000 / 180640\n",
      "[t-SNE] Computed conditional probabilities for sample 43000 / 180640\n",
      "[t-SNE] Computed conditional probabilities for sample 44000 / 180640\n",
      "[t-SNE] Computed conditional probabilities for sample 45000 / 180640\n",
      "[t-SNE] Computed conditional probabilities for sample 46000 / 180640\n",
      "[t-SNE] Computed conditional probabilities for sample 47000 / 180640\n",
      "[t-SNE] Computed conditional probabilities for sample 48000 / 180640\n",
      "[t-SNE] Computed conditional probabilities for sample 49000 / 180640\n",
      "[t-SNE] Computed conditional probabilities for sample 50000 / 180640\n",
      "[t-SNE] Computed conditional probabilities for sample 51000 / 180640\n",
      "[t-SNE] Computed conditional probabilities for sample 52000 / 180640\n",
      "[t-SNE] Computed conditional probabilities for sample 53000 / 180640\n",
      "[t-SNE] Computed conditional probabilities for sample 54000 / 180640\n",
      "[t-SNE] Computed conditional probabilities for sample 55000 / 180640\n",
      "[t-SNE] Computed conditional probabilities for sample 56000 / 180640\n",
      "[t-SNE] Computed conditional probabilities for sample 57000 / 180640\n",
      "[t-SNE] Computed conditional probabilities for sample 58000 / 180640\n",
      "[t-SNE] Computed conditional probabilities for sample 59000 / 180640\n",
      "[t-SNE] Computed conditional probabilities for sample 60000 / 180640\n",
      "[t-SNE] Computed conditional probabilities for sample 61000 / 180640\n",
      "[t-SNE] Computed conditional probabilities for sample 62000 / 180640\n",
      "[t-SNE] Computed conditional probabilities for sample 63000 / 180640\n",
      "[t-SNE] Computed conditional probabilities for sample 64000 / 180640\n",
      "[t-SNE] Computed conditional probabilities for sample 65000 / 180640\n",
      "[t-SNE] Computed conditional probabilities for sample 66000 / 180640\n",
      "[t-SNE] Computed conditional probabilities for sample 67000 / 180640\n",
      "[t-SNE] Computed conditional probabilities for sample 68000 / 180640\n",
      "[t-SNE] Computed conditional probabilities for sample 69000 / 180640\n",
      "[t-SNE] Computed conditional probabilities for sample 70000 / 180640\n",
      "[t-SNE] Computed conditional probabilities for sample 71000 / 180640\n",
      "[t-SNE] Computed conditional probabilities for sample 72000 / 180640\n",
      "[t-SNE] Computed conditional probabilities for sample 73000 / 180640\n",
      "[t-SNE] Computed conditional probabilities for sample 74000 / 180640\n",
      "[t-SNE] Computed conditional probabilities for sample 75000 / 180640\n",
      "[t-SNE] Computed conditional probabilities for sample 76000 / 180640\n",
      "[t-SNE] Computed conditional probabilities for sample 77000 / 180640\n",
      "[t-SNE] Computed conditional probabilities for sample 78000 / 180640\n",
      "[t-SNE] Computed conditional probabilities for sample 79000 / 180640\n",
      "[t-SNE] Computed conditional probabilities for sample 80000 / 180640\n",
      "[t-SNE] Computed conditional probabilities for sample 81000 / 180640\n",
      "[t-SNE] Computed conditional probabilities for sample 82000 / 180640\n",
      "[t-SNE] Computed conditional probabilities for sample 83000 / 180640\n",
      "[t-SNE] Computed conditional probabilities for sample 84000 / 180640\n",
      "[t-SNE] Computed conditional probabilities for sample 85000 / 180640\n",
      "[t-SNE] Computed conditional probabilities for sample 86000 / 180640\n",
      "[t-SNE] Computed conditional probabilities for sample 87000 / 180640\n",
      "[t-SNE] Computed conditional probabilities for sample 88000 / 180640\n",
      "[t-SNE] Computed conditional probabilities for sample 89000 / 180640\n",
      "[t-SNE] Computed conditional probabilities for sample 90000 / 180640\n",
      "[t-SNE] Computed conditional probabilities for sample 91000 / 180640\n",
      "[t-SNE] Computed conditional probabilities for sample 92000 / 180640\n",
      "[t-SNE] Computed conditional probabilities for sample 93000 / 180640\n",
      "[t-SNE] Computed conditional probabilities for sample 94000 / 180640\n",
      "[t-SNE] Computed conditional probabilities for sample 95000 / 180640\n",
      "[t-SNE] Computed conditional probabilities for sample 96000 / 180640\n",
      "[t-SNE] Computed conditional probabilities for sample 97000 / 180640\n",
      "[t-SNE] Computed conditional probabilities for sample 98000 / 180640\n",
      "[t-SNE] Computed conditional probabilities for sample 99000 / 180640\n",
      "[t-SNE] Computed conditional probabilities for sample 100000 / 180640\n",
      "[t-SNE] Computed conditional probabilities for sample 101000 / 180640\n",
      "[t-SNE] Computed conditional probabilities for sample 102000 / 180640\n",
      "[t-SNE] Computed conditional probabilities for sample 103000 / 180640\n",
      "[t-SNE] Computed conditional probabilities for sample 104000 / 180640\n",
      "[t-SNE] Computed conditional probabilities for sample 105000 / 180640\n",
      "[t-SNE] Computed conditional probabilities for sample 106000 / 180640\n",
      "[t-SNE] Computed conditional probabilities for sample 107000 / 180640\n",
      "[t-SNE] Computed conditional probabilities for sample 108000 / 180640\n",
      "[t-SNE] Computed conditional probabilities for sample 109000 / 180640\n",
      "[t-SNE] Computed conditional probabilities for sample 110000 / 180640\n",
      "[t-SNE] Computed conditional probabilities for sample 111000 / 180640\n",
      "[t-SNE] Computed conditional probabilities for sample 112000 / 180640\n",
      "[t-SNE] Computed conditional probabilities for sample 113000 / 180640\n",
      "[t-SNE] Computed conditional probabilities for sample 114000 / 180640\n",
      "[t-SNE] Computed conditional probabilities for sample 115000 / 180640\n",
      "[t-SNE] Computed conditional probabilities for sample 116000 / 180640\n",
      "[t-SNE] Computed conditional probabilities for sample 117000 / 180640\n",
      "[t-SNE] Computed conditional probabilities for sample 118000 / 180640\n",
      "[t-SNE] Computed conditional probabilities for sample 119000 / 180640\n",
      "[t-SNE] Computed conditional probabilities for sample 120000 / 180640\n",
      "[t-SNE] Computed conditional probabilities for sample 121000 / 180640\n",
      "[t-SNE] Computed conditional probabilities for sample 122000 / 180640\n",
      "[t-SNE] Computed conditional probabilities for sample 123000 / 180640\n",
      "[t-SNE] Computed conditional probabilities for sample 124000 / 180640\n",
      "[t-SNE] Computed conditional probabilities for sample 125000 / 180640\n",
      "[t-SNE] Computed conditional probabilities for sample 126000 / 180640\n",
      "[t-SNE] Computed conditional probabilities for sample 127000 / 180640\n",
      "[t-SNE] Computed conditional probabilities for sample 128000 / 180640\n",
      "[t-SNE] Computed conditional probabilities for sample 129000 / 180640\n",
      "[t-SNE] Computed conditional probabilities for sample 130000 / 180640\n",
      "[t-SNE] Computed conditional probabilities for sample 131000 / 180640\n",
      "[t-SNE] Computed conditional probabilities for sample 132000 / 180640\n",
      "[t-SNE] Computed conditional probabilities for sample 133000 / 180640\n",
      "[t-SNE] Computed conditional probabilities for sample 134000 / 180640\n",
      "[t-SNE] Computed conditional probabilities for sample 135000 / 180640\n",
      "[t-SNE] Computed conditional probabilities for sample 136000 / 180640\n",
      "[t-SNE] Computed conditional probabilities for sample 137000 / 180640\n",
      "[t-SNE] Computed conditional probabilities for sample 138000 / 180640\n",
      "[t-SNE] Computed conditional probabilities for sample 139000 / 180640\n",
      "[t-SNE] Computed conditional probabilities for sample 140000 / 180640\n",
      "[t-SNE] Computed conditional probabilities for sample 141000 / 180640\n",
      "[t-SNE] Computed conditional probabilities for sample 142000 / 180640\n",
      "[t-SNE] Computed conditional probabilities for sample 143000 / 180640\n",
      "[t-SNE] Computed conditional probabilities for sample 144000 / 180640\n",
      "[t-SNE] Computed conditional probabilities for sample 145000 / 180640\n",
      "[t-SNE] Computed conditional probabilities for sample 146000 / 180640\n",
      "[t-SNE] Computed conditional probabilities for sample 147000 / 180640\n",
      "[t-SNE] Computed conditional probabilities for sample 148000 / 180640\n",
      "[t-SNE] Computed conditional probabilities for sample 149000 / 180640\n",
      "[t-SNE] Computed conditional probabilities for sample 150000 / 180640\n",
      "[t-SNE] Computed conditional probabilities for sample 151000 / 180640\n",
      "[t-SNE] Computed conditional probabilities for sample 152000 / 180640\n",
      "[t-SNE] Computed conditional probabilities for sample 153000 / 180640\n",
      "[t-SNE] Computed conditional probabilities for sample 154000 / 180640\n",
      "[t-SNE] Computed conditional probabilities for sample 155000 / 180640\n",
      "[t-SNE] Computed conditional probabilities for sample 156000 / 180640\n",
      "[t-SNE] Computed conditional probabilities for sample 157000 / 180640\n",
      "[t-SNE] Computed conditional probabilities for sample 158000 / 180640\n",
      "[t-SNE] Computed conditional probabilities for sample 159000 / 180640\n",
      "[t-SNE] Computed conditional probabilities for sample 160000 / 180640\n",
      "[t-SNE] Computed conditional probabilities for sample 161000 / 180640\n",
      "[t-SNE] Computed conditional probabilities for sample 162000 / 180640\n",
      "[t-SNE] Computed conditional probabilities for sample 163000 / 180640\n",
      "[t-SNE] Computed conditional probabilities for sample 164000 / 180640\n",
      "[t-SNE] Computed conditional probabilities for sample 165000 / 180640\n",
      "[t-SNE] Computed conditional probabilities for sample 166000 / 180640\n",
      "[t-SNE] Computed conditional probabilities for sample 167000 / 180640\n",
      "[t-SNE] Computed conditional probabilities for sample 168000 / 180640\n",
      "[t-SNE] Computed conditional probabilities for sample 169000 / 180640\n",
      "[t-SNE] Computed conditional probabilities for sample 170000 / 180640\n",
      "[t-SNE] Computed conditional probabilities for sample 171000 / 180640\n",
      "[t-SNE] Computed conditional probabilities for sample 172000 / 180640\n",
      "[t-SNE] Computed conditional probabilities for sample 173000 / 180640\n",
      "[t-SNE] Computed conditional probabilities for sample 174000 / 180640\n",
      "[t-SNE] Computed conditional probabilities for sample 175000 / 180640\n",
      "[t-SNE] Computed conditional probabilities for sample 176000 / 180640\n",
      "[t-SNE] Computed conditional probabilities for sample 177000 / 180640\n",
      "[t-SNE] Computed conditional probabilities for sample 178000 / 180640\n",
      "[t-SNE] Computed conditional probabilities for sample 179000 / 180640\n",
      "[t-SNE] Computed conditional probabilities for sample 180000 / 180640\n",
      "[t-SNE] Computed conditional probabilities for sample 180640 / 180640\n",
      "[t-SNE] Mean sigma: 0.000000\n",
      "[t-SNE] KL divergence after 250 iterations with early exaggeration: 102.236137\n",
      "[t-SNE] KL divergence after 1000 iterations: 3.499998\n",
      "[t-SNE] Computing 91 nearest neighbors...\n",
      "[t-SNE] Indexed 332864 samples in 0.470s...\n",
      "[t-SNE] Computed neighbors for 332864 samples in 26.413s...\n",
      "[t-SNE] Computed conditional probabilities for sample 1000 / 332864\n",
      "[t-SNE] Computed conditional probabilities for sample 2000 / 332864\n",
      "[t-SNE] Computed conditional probabilities for sample 3000 / 332864\n",
      "[t-SNE] Computed conditional probabilities for sample 4000 / 332864\n",
      "[t-SNE] Computed conditional probabilities for sample 5000 / 332864\n",
      "[t-SNE] Computed conditional probabilities for sample 6000 / 332864\n",
      "[t-SNE] Computed conditional probabilities for sample 7000 / 332864\n",
      "[t-SNE] Computed conditional probabilities for sample 8000 / 332864\n",
      "[t-SNE] Computed conditional probabilities for sample 9000 / 332864\n",
      "[t-SNE] Computed conditional probabilities for sample 10000 / 332864\n",
      "[t-SNE] Computed conditional probabilities for sample 11000 / 332864\n",
      "[t-SNE] Computed conditional probabilities for sample 12000 / 332864\n",
      "[t-SNE] Computed conditional probabilities for sample 13000 / 332864\n",
      "[t-SNE] Computed conditional probabilities for sample 14000 / 332864\n",
      "[t-SNE] Computed conditional probabilities for sample 15000 / 332864\n",
      "[t-SNE] Computed conditional probabilities for sample 16000 / 332864\n",
      "[t-SNE] Computed conditional probabilities for sample 17000 / 332864\n",
      "[t-SNE] Computed conditional probabilities for sample 18000 / 332864\n",
      "[t-SNE] Computed conditional probabilities for sample 19000 / 332864\n",
      "[t-SNE] Computed conditional probabilities for sample 20000 / 332864\n",
      "[t-SNE] Computed conditional probabilities for sample 21000 / 332864\n",
      "[t-SNE] Computed conditional probabilities for sample 22000 / 332864\n",
      "[t-SNE] Computed conditional probabilities for sample 23000 / 332864\n",
      "[t-SNE] Computed conditional probabilities for sample 24000 / 332864\n",
      "[t-SNE] Computed conditional probabilities for sample 25000 / 332864\n",
      "[t-SNE] Computed conditional probabilities for sample 26000 / 332864\n",
      "[t-SNE] Computed conditional probabilities for sample 27000 / 332864\n",
      "[t-SNE] Computed conditional probabilities for sample 28000 / 332864\n",
      "[t-SNE] Computed conditional probabilities for sample 29000 / 332864\n",
      "[t-SNE] Computed conditional probabilities for sample 30000 / 332864\n",
      "[t-SNE] Computed conditional probabilities for sample 31000 / 332864\n",
      "[t-SNE] Computed conditional probabilities for sample 32000 / 332864\n",
      "[t-SNE] Computed conditional probabilities for sample 33000 / 332864\n",
      "[t-SNE] Computed conditional probabilities for sample 34000 / 332864\n",
      "[t-SNE] Computed conditional probabilities for sample 35000 / 332864\n",
      "[t-SNE] Computed conditional probabilities for sample 36000 / 332864\n",
      "[t-SNE] Computed conditional probabilities for sample 37000 / 332864\n",
      "[t-SNE] Computed conditional probabilities for sample 38000 / 332864\n",
      "[t-SNE] Computed conditional probabilities for sample 39000 / 332864\n",
      "[t-SNE] Computed conditional probabilities for sample 40000 / 332864\n",
      "[t-SNE] Computed conditional probabilities for sample 41000 / 332864\n",
      "[t-SNE] Computed conditional probabilities for sample 42000 / 332864\n",
      "[t-SNE] Computed conditional probabilities for sample 43000 / 332864\n",
      "[t-SNE] Computed conditional probabilities for sample 44000 / 332864\n",
      "[t-SNE] Computed conditional probabilities for sample 45000 / 332864\n",
      "[t-SNE] Computed conditional probabilities for sample 46000 / 332864\n",
      "[t-SNE] Computed conditional probabilities for sample 47000 / 332864\n",
      "[t-SNE] Computed conditional probabilities for sample 48000 / 332864\n",
      "[t-SNE] Computed conditional probabilities for sample 49000 / 332864\n",
      "[t-SNE] Computed conditional probabilities for sample 50000 / 332864\n",
      "[t-SNE] Computed conditional probabilities for sample 51000 / 332864\n",
      "[t-SNE] Computed conditional probabilities for sample 52000 / 332864\n",
      "[t-SNE] Computed conditional probabilities for sample 53000 / 332864\n",
      "[t-SNE] Computed conditional probabilities for sample 54000 / 332864\n",
      "[t-SNE] Computed conditional probabilities for sample 55000 / 332864\n",
      "[t-SNE] Computed conditional probabilities for sample 56000 / 332864\n",
      "[t-SNE] Computed conditional probabilities for sample 57000 / 332864\n",
      "[t-SNE] Computed conditional probabilities for sample 58000 / 332864\n",
      "[t-SNE] Computed conditional probabilities for sample 59000 / 332864\n",
      "[t-SNE] Computed conditional probabilities for sample 60000 / 332864\n",
      "[t-SNE] Computed conditional probabilities for sample 61000 / 332864\n",
      "[t-SNE] Computed conditional probabilities for sample 62000 / 332864\n",
      "[t-SNE] Computed conditional probabilities for sample 63000 / 332864\n",
      "[t-SNE] Computed conditional probabilities for sample 64000 / 332864\n",
      "[t-SNE] Computed conditional probabilities for sample 65000 / 332864\n",
      "[t-SNE] Computed conditional probabilities for sample 66000 / 332864\n",
      "[t-SNE] Computed conditional probabilities for sample 67000 / 332864\n",
      "[t-SNE] Computed conditional probabilities for sample 68000 / 332864\n",
      "[t-SNE] Computed conditional probabilities for sample 69000 / 332864\n",
      "[t-SNE] Computed conditional probabilities for sample 70000 / 332864\n",
      "[t-SNE] Computed conditional probabilities for sample 71000 / 332864\n",
      "[t-SNE] Computed conditional probabilities for sample 72000 / 332864\n",
      "[t-SNE] Computed conditional probabilities for sample 73000 / 332864\n",
      "[t-SNE] Computed conditional probabilities for sample 74000 / 332864\n",
      "[t-SNE] Computed conditional probabilities for sample 75000 / 332864\n",
      "[t-SNE] Computed conditional probabilities for sample 76000 / 332864\n",
      "[t-SNE] Computed conditional probabilities for sample 77000 / 332864\n",
      "[t-SNE] Computed conditional probabilities for sample 78000 / 332864\n",
      "[t-SNE] Computed conditional probabilities for sample 79000 / 332864\n",
      "[t-SNE] Computed conditional probabilities for sample 80000 / 332864\n",
      "[t-SNE] Computed conditional probabilities for sample 81000 / 332864\n",
      "[t-SNE] Computed conditional probabilities for sample 82000 / 332864\n",
      "[t-SNE] Computed conditional probabilities for sample 83000 / 332864\n",
      "[t-SNE] Computed conditional probabilities for sample 84000 / 332864\n",
      "[t-SNE] Computed conditional probabilities for sample 85000 / 332864\n",
      "[t-SNE] Computed conditional probabilities for sample 86000 / 332864\n",
      "[t-SNE] Computed conditional probabilities for sample 87000 / 332864\n",
      "[t-SNE] Computed conditional probabilities for sample 88000 / 332864\n",
      "[t-SNE] Computed conditional probabilities for sample 89000 / 332864\n",
      "[t-SNE] Computed conditional probabilities for sample 90000 / 332864\n",
      "[t-SNE] Computed conditional probabilities for sample 91000 / 332864\n",
      "[t-SNE] Computed conditional probabilities for sample 92000 / 332864\n",
      "[t-SNE] Computed conditional probabilities for sample 93000 / 332864\n",
      "[t-SNE] Computed conditional probabilities for sample 94000 / 332864\n",
      "[t-SNE] Computed conditional probabilities for sample 95000 / 332864\n",
      "[t-SNE] Computed conditional probabilities for sample 96000 / 332864\n",
      "[t-SNE] Computed conditional probabilities for sample 97000 / 332864\n",
      "[t-SNE] Computed conditional probabilities for sample 98000 / 332864\n",
      "[t-SNE] Computed conditional probabilities for sample 99000 / 332864\n",
      "[t-SNE] Computed conditional probabilities for sample 100000 / 332864\n",
      "[t-SNE] Computed conditional probabilities for sample 101000 / 332864\n",
      "[t-SNE] Computed conditional probabilities for sample 102000 / 332864\n",
      "[t-SNE] Computed conditional probabilities for sample 103000 / 332864\n",
      "[t-SNE] Computed conditional probabilities for sample 104000 / 332864\n",
      "[t-SNE] Computed conditional probabilities for sample 105000 / 332864\n",
      "[t-SNE] Computed conditional probabilities for sample 106000 / 332864\n",
      "[t-SNE] Computed conditional probabilities for sample 107000 / 332864\n",
      "[t-SNE] Computed conditional probabilities for sample 108000 / 332864\n",
      "[t-SNE] Computed conditional probabilities for sample 109000 / 332864\n",
      "[t-SNE] Computed conditional probabilities for sample 110000 / 332864\n",
      "[t-SNE] Computed conditional probabilities for sample 111000 / 332864\n",
      "[t-SNE] Computed conditional probabilities for sample 112000 / 332864\n",
      "[t-SNE] Computed conditional probabilities for sample 113000 / 332864\n",
      "[t-SNE] Computed conditional probabilities for sample 114000 / 332864\n",
      "[t-SNE] Computed conditional probabilities for sample 115000 / 332864\n",
      "[t-SNE] Computed conditional probabilities for sample 116000 / 332864\n",
      "[t-SNE] Computed conditional probabilities for sample 117000 / 332864\n",
      "[t-SNE] Computed conditional probabilities for sample 118000 / 332864\n",
      "[t-SNE] Computed conditional probabilities for sample 119000 / 332864\n",
      "[t-SNE] Computed conditional probabilities for sample 120000 / 332864\n",
      "[t-SNE] Computed conditional probabilities for sample 121000 / 332864\n",
      "[t-SNE] Computed conditional probabilities for sample 122000 / 332864\n",
      "[t-SNE] Computed conditional probabilities for sample 123000 / 332864\n",
      "[t-SNE] Computed conditional probabilities for sample 124000 / 332864\n",
      "[t-SNE] Computed conditional probabilities for sample 125000 / 332864\n",
      "[t-SNE] Computed conditional probabilities for sample 126000 / 332864\n",
      "[t-SNE] Computed conditional probabilities for sample 127000 / 332864\n",
      "[t-SNE] Computed conditional probabilities for sample 128000 / 332864\n",
      "[t-SNE] Computed conditional probabilities for sample 129000 / 332864\n",
      "[t-SNE] Computed conditional probabilities for sample 130000 / 332864\n",
      "[t-SNE] Computed conditional probabilities for sample 131000 / 332864\n",
      "[t-SNE] Computed conditional probabilities for sample 132000 / 332864\n",
      "[t-SNE] Computed conditional probabilities for sample 133000 / 332864\n",
      "[t-SNE] Computed conditional probabilities for sample 134000 / 332864\n",
      "[t-SNE] Computed conditional probabilities for sample 135000 / 332864\n",
      "[t-SNE] Computed conditional probabilities for sample 136000 / 332864\n",
      "[t-SNE] Computed conditional probabilities for sample 137000 / 332864\n",
      "[t-SNE] Computed conditional probabilities for sample 138000 / 332864\n",
      "[t-SNE] Computed conditional probabilities for sample 139000 / 332864\n",
      "[t-SNE] Computed conditional probabilities for sample 140000 / 332864\n",
      "[t-SNE] Computed conditional probabilities for sample 141000 / 332864\n",
      "[t-SNE] Computed conditional probabilities for sample 142000 / 332864\n",
      "[t-SNE] Computed conditional probabilities for sample 143000 / 332864\n",
      "[t-SNE] Computed conditional probabilities for sample 144000 / 332864\n",
      "[t-SNE] Computed conditional probabilities for sample 145000 / 332864\n",
      "[t-SNE] Computed conditional probabilities for sample 146000 / 332864\n",
      "[t-SNE] Computed conditional probabilities for sample 147000 / 332864\n",
      "[t-SNE] Computed conditional probabilities for sample 148000 / 332864\n",
      "[t-SNE] Computed conditional probabilities for sample 149000 / 332864\n",
      "[t-SNE] Computed conditional probabilities for sample 150000 / 332864\n",
      "[t-SNE] Computed conditional probabilities for sample 151000 / 332864\n",
      "[t-SNE] Computed conditional probabilities for sample 152000 / 332864\n",
      "[t-SNE] Computed conditional probabilities for sample 153000 / 332864\n",
      "[t-SNE] Computed conditional probabilities for sample 154000 / 332864\n",
      "[t-SNE] Computed conditional probabilities for sample 155000 / 332864\n",
      "[t-SNE] Computed conditional probabilities for sample 156000 / 332864\n",
      "[t-SNE] Computed conditional probabilities for sample 157000 / 332864\n",
      "[t-SNE] Computed conditional probabilities for sample 158000 / 332864\n",
      "[t-SNE] Computed conditional probabilities for sample 159000 / 332864\n",
      "[t-SNE] Computed conditional probabilities for sample 160000 / 332864\n",
      "[t-SNE] Computed conditional probabilities for sample 161000 / 332864\n",
      "[t-SNE] Computed conditional probabilities for sample 162000 / 332864\n",
      "[t-SNE] Computed conditional probabilities for sample 163000 / 332864\n",
      "[t-SNE] Computed conditional probabilities for sample 164000 / 332864\n",
      "[t-SNE] Computed conditional probabilities for sample 165000 / 332864\n",
      "[t-SNE] Computed conditional probabilities for sample 166000 / 332864\n",
      "[t-SNE] Computed conditional probabilities for sample 167000 / 332864\n",
      "[t-SNE] Computed conditional probabilities for sample 168000 / 332864\n",
      "[t-SNE] Computed conditional probabilities for sample 169000 / 332864\n",
      "[t-SNE] Computed conditional probabilities for sample 170000 / 332864\n",
      "[t-SNE] Computed conditional probabilities for sample 171000 / 332864\n",
      "[t-SNE] Computed conditional probabilities for sample 172000 / 332864\n",
      "[t-SNE] Computed conditional probabilities for sample 173000 / 332864\n",
      "[t-SNE] Computed conditional probabilities for sample 174000 / 332864\n",
      "[t-SNE] Computed conditional probabilities for sample 175000 / 332864\n",
      "[t-SNE] Computed conditional probabilities for sample 176000 / 332864\n",
      "[t-SNE] Computed conditional probabilities for sample 177000 / 332864\n",
      "[t-SNE] Computed conditional probabilities for sample 178000 / 332864\n",
      "[t-SNE] Computed conditional probabilities for sample 179000 / 332864\n",
      "[t-SNE] Computed conditional probabilities for sample 180000 / 332864\n",
      "[t-SNE] Computed conditional probabilities for sample 181000 / 332864\n",
      "[t-SNE] Computed conditional probabilities for sample 182000 / 332864\n",
      "[t-SNE] Computed conditional probabilities for sample 183000 / 332864\n",
      "[t-SNE] Computed conditional probabilities for sample 184000 / 332864\n",
      "[t-SNE] Computed conditional probabilities for sample 185000 / 332864\n",
      "[t-SNE] Computed conditional probabilities for sample 186000 / 332864\n",
      "[t-SNE] Computed conditional probabilities for sample 187000 / 332864\n",
      "[t-SNE] Computed conditional probabilities for sample 188000 / 332864\n",
      "[t-SNE] Computed conditional probabilities for sample 189000 / 332864\n",
      "[t-SNE] Computed conditional probabilities for sample 190000 / 332864\n",
      "[t-SNE] Computed conditional probabilities for sample 191000 / 332864\n",
      "[t-SNE] Computed conditional probabilities for sample 192000 / 332864\n",
      "[t-SNE] Computed conditional probabilities for sample 193000 / 332864\n",
      "[t-SNE] Computed conditional probabilities for sample 194000 / 332864\n",
      "[t-SNE] Computed conditional probabilities for sample 195000 / 332864\n",
      "[t-SNE] Computed conditional probabilities for sample 196000 / 332864\n",
      "[t-SNE] Computed conditional probabilities for sample 197000 / 332864\n",
      "[t-SNE] Computed conditional probabilities for sample 198000 / 332864\n",
      "[t-SNE] Computed conditional probabilities for sample 199000 / 332864\n",
      "[t-SNE] Computed conditional probabilities for sample 200000 / 332864\n",
      "[t-SNE] Computed conditional probabilities for sample 201000 / 332864\n",
      "[t-SNE] Computed conditional probabilities for sample 202000 / 332864\n",
      "[t-SNE] Computed conditional probabilities for sample 203000 / 332864\n",
      "[t-SNE] Computed conditional probabilities for sample 204000 / 332864\n",
      "[t-SNE] Computed conditional probabilities for sample 205000 / 332864\n",
      "[t-SNE] Computed conditional probabilities for sample 206000 / 332864\n",
      "[t-SNE] Computed conditional probabilities for sample 207000 / 332864\n",
      "[t-SNE] Computed conditional probabilities for sample 208000 / 332864\n",
      "[t-SNE] Computed conditional probabilities for sample 209000 / 332864\n",
      "[t-SNE] Computed conditional probabilities for sample 210000 / 332864\n",
      "[t-SNE] Computed conditional probabilities for sample 211000 / 332864\n",
      "[t-SNE] Computed conditional probabilities for sample 212000 / 332864\n",
      "[t-SNE] Computed conditional probabilities for sample 213000 / 332864\n",
      "[t-SNE] Computed conditional probabilities for sample 214000 / 332864\n",
      "[t-SNE] Computed conditional probabilities for sample 215000 / 332864\n",
      "[t-SNE] Computed conditional probabilities for sample 216000 / 332864\n",
      "[t-SNE] Computed conditional probabilities for sample 217000 / 332864\n",
      "[t-SNE] Computed conditional probabilities for sample 218000 / 332864\n",
      "[t-SNE] Computed conditional probabilities for sample 219000 / 332864\n",
      "[t-SNE] Computed conditional probabilities for sample 220000 / 332864\n",
      "[t-SNE] Computed conditional probabilities for sample 221000 / 332864\n",
      "[t-SNE] Computed conditional probabilities for sample 222000 / 332864\n",
      "[t-SNE] Computed conditional probabilities for sample 223000 / 332864\n",
      "[t-SNE] Computed conditional probabilities for sample 224000 / 332864\n",
      "[t-SNE] Computed conditional probabilities for sample 225000 / 332864\n",
      "[t-SNE] Computed conditional probabilities for sample 226000 / 332864\n",
      "[t-SNE] Computed conditional probabilities for sample 227000 / 332864\n",
      "[t-SNE] Computed conditional probabilities for sample 228000 / 332864\n",
      "[t-SNE] Computed conditional probabilities for sample 229000 / 332864\n",
      "[t-SNE] Computed conditional probabilities for sample 230000 / 332864\n",
      "[t-SNE] Computed conditional probabilities for sample 231000 / 332864\n",
      "[t-SNE] Computed conditional probabilities for sample 232000 / 332864\n",
      "[t-SNE] Computed conditional probabilities for sample 233000 / 332864\n",
      "[t-SNE] Computed conditional probabilities for sample 234000 / 332864\n",
      "[t-SNE] Computed conditional probabilities for sample 235000 / 332864\n",
      "[t-SNE] Computed conditional probabilities for sample 236000 / 332864\n",
      "[t-SNE] Computed conditional probabilities for sample 237000 / 332864\n",
      "[t-SNE] Computed conditional probabilities for sample 238000 / 332864\n",
      "[t-SNE] Computed conditional probabilities for sample 239000 / 332864\n",
      "[t-SNE] Computed conditional probabilities for sample 240000 / 332864\n",
      "[t-SNE] Computed conditional probabilities for sample 241000 / 332864\n",
      "[t-SNE] Computed conditional probabilities for sample 242000 / 332864\n",
      "[t-SNE] Computed conditional probabilities for sample 243000 / 332864\n",
      "[t-SNE] Computed conditional probabilities for sample 244000 / 332864\n",
      "[t-SNE] Computed conditional probabilities for sample 245000 / 332864\n",
      "[t-SNE] Computed conditional probabilities for sample 246000 / 332864\n",
      "[t-SNE] Computed conditional probabilities for sample 247000 / 332864\n",
      "[t-SNE] Computed conditional probabilities for sample 248000 / 332864\n",
      "[t-SNE] Computed conditional probabilities for sample 249000 / 332864\n",
      "[t-SNE] Computed conditional probabilities for sample 250000 / 332864\n",
      "[t-SNE] Computed conditional probabilities for sample 251000 / 332864\n",
      "[t-SNE] Computed conditional probabilities for sample 252000 / 332864\n",
      "[t-SNE] Computed conditional probabilities for sample 253000 / 332864\n",
      "[t-SNE] Computed conditional probabilities for sample 254000 / 332864\n",
      "[t-SNE] Computed conditional probabilities for sample 255000 / 332864\n",
      "[t-SNE] Computed conditional probabilities for sample 256000 / 332864\n",
      "[t-SNE] Computed conditional probabilities for sample 257000 / 332864\n",
      "[t-SNE] Computed conditional probabilities for sample 258000 / 332864\n",
      "[t-SNE] Computed conditional probabilities for sample 259000 / 332864\n",
      "[t-SNE] Computed conditional probabilities for sample 260000 / 332864\n",
      "[t-SNE] Computed conditional probabilities for sample 261000 / 332864\n",
      "[t-SNE] Computed conditional probabilities for sample 262000 / 332864\n",
      "[t-SNE] Computed conditional probabilities for sample 263000 / 332864\n",
      "[t-SNE] Computed conditional probabilities for sample 264000 / 332864\n",
      "[t-SNE] Computed conditional probabilities for sample 265000 / 332864\n",
      "[t-SNE] Computed conditional probabilities for sample 266000 / 332864\n",
      "[t-SNE] Computed conditional probabilities for sample 267000 / 332864\n",
      "[t-SNE] Computed conditional probabilities for sample 268000 / 332864\n",
      "[t-SNE] Computed conditional probabilities for sample 269000 / 332864\n",
      "[t-SNE] Computed conditional probabilities for sample 270000 / 332864\n",
      "[t-SNE] Computed conditional probabilities for sample 271000 / 332864\n",
      "[t-SNE] Computed conditional probabilities for sample 272000 / 332864\n",
      "[t-SNE] Computed conditional probabilities for sample 273000 / 332864\n",
      "[t-SNE] Computed conditional probabilities for sample 274000 / 332864\n",
      "[t-SNE] Computed conditional probabilities for sample 275000 / 332864\n",
      "[t-SNE] Computed conditional probabilities for sample 276000 / 332864\n",
      "[t-SNE] Computed conditional probabilities for sample 277000 / 332864\n",
      "[t-SNE] Computed conditional probabilities for sample 278000 / 332864\n",
      "[t-SNE] Computed conditional probabilities for sample 279000 / 332864\n",
      "[t-SNE] Computed conditional probabilities for sample 280000 / 332864\n",
      "[t-SNE] Computed conditional probabilities for sample 281000 / 332864\n",
      "[t-SNE] Computed conditional probabilities for sample 282000 / 332864\n",
      "[t-SNE] Computed conditional probabilities for sample 283000 / 332864\n",
      "[t-SNE] Computed conditional probabilities for sample 284000 / 332864\n",
      "[t-SNE] Computed conditional probabilities for sample 285000 / 332864\n",
      "[t-SNE] Computed conditional probabilities for sample 286000 / 332864\n",
      "[t-SNE] Computed conditional probabilities for sample 287000 / 332864\n",
      "[t-SNE] Computed conditional probabilities for sample 288000 / 332864\n",
      "[t-SNE] Computed conditional probabilities for sample 289000 / 332864\n",
      "[t-SNE] Computed conditional probabilities for sample 290000 / 332864\n",
      "[t-SNE] Computed conditional probabilities for sample 291000 / 332864\n",
      "[t-SNE] Computed conditional probabilities for sample 292000 / 332864\n",
      "[t-SNE] Computed conditional probabilities for sample 293000 / 332864\n",
      "[t-SNE] Computed conditional probabilities for sample 294000 / 332864\n",
      "[t-SNE] Computed conditional probabilities for sample 295000 / 332864\n",
      "[t-SNE] Computed conditional probabilities for sample 296000 / 332864\n",
      "[t-SNE] Computed conditional probabilities for sample 297000 / 332864\n",
      "[t-SNE] Computed conditional probabilities for sample 298000 / 332864\n",
      "[t-SNE] Computed conditional probabilities for sample 299000 / 332864\n",
      "[t-SNE] Computed conditional probabilities for sample 300000 / 332864\n",
      "[t-SNE] Computed conditional probabilities for sample 301000 / 332864\n",
      "[t-SNE] Computed conditional probabilities for sample 302000 / 332864\n",
      "[t-SNE] Computed conditional probabilities for sample 303000 / 332864\n",
      "[t-SNE] Computed conditional probabilities for sample 304000 / 332864\n",
      "[t-SNE] Computed conditional probabilities for sample 305000 / 332864\n",
      "[t-SNE] Computed conditional probabilities for sample 306000 / 332864\n",
      "[t-SNE] Computed conditional probabilities for sample 307000 / 332864\n",
      "[t-SNE] Computed conditional probabilities for sample 308000 / 332864\n",
      "[t-SNE] Computed conditional probabilities for sample 309000 / 332864\n",
      "[t-SNE] Computed conditional probabilities for sample 310000 / 332864\n",
      "[t-SNE] Computed conditional probabilities for sample 311000 / 332864\n",
      "[t-SNE] Computed conditional probabilities for sample 312000 / 332864\n",
      "[t-SNE] Computed conditional probabilities for sample 313000 / 332864\n",
      "[t-SNE] Computed conditional probabilities for sample 314000 / 332864\n",
      "[t-SNE] Computed conditional probabilities for sample 315000 / 332864\n",
      "[t-SNE] Computed conditional probabilities for sample 316000 / 332864\n",
      "[t-SNE] Computed conditional probabilities for sample 317000 / 332864\n",
      "[t-SNE] Computed conditional probabilities for sample 318000 / 332864\n",
      "[t-SNE] Computed conditional probabilities for sample 319000 / 332864\n",
      "[t-SNE] Computed conditional probabilities for sample 320000 / 332864\n",
      "[t-SNE] Computed conditional probabilities for sample 321000 / 332864\n",
      "[t-SNE] Computed conditional probabilities for sample 322000 / 332864\n",
      "[t-SNE] Computed conditional probabilities for sample 323000 / 332864\n",
      "[t-SNE] Computed conditional probabilities for sample 324000 / 332864\n",
      "[t-SNE] Computed conditional probabilities for sample 325000 / 332864\n",
      "[t-SNE] Computed conditional probabilities for sample 326000 / 332864\n",
      "[t-SNE] Computed conditional probabilities for sample 327000 / 332864\n",
      "[t-SNE] Computed conditional probabilities for sample 328000 / 332864\n",
      "[t-SNE] Computed conditional probabilities for sample 329000 / 332864\n",
      "[t-SNE] Computed conditional probabilities for sample 330000 / 332864\n",
      "[t-SNE] Computed conditional probabilities for sample 331000 / 332864\n",
      "[t-SNE] Computed conditional probabilities for sample 332000 / 332864\n",
      "[t-SNE] Computed conditional probabilities for sample 332864 / 332864\n",
      "[t-SNE] Mean sigma: 0.000000\n",
      "[t-SNE] KL divergence after 50 iterations with early exaggeration: 127.754723\n"
     ]
    }
   ],
   "source": [
    "## start time\n",
    "t0 = time.time()\n",
    "print(datetime.now().time())\n",
    "\n",
    "from sklearn.manifold import TSNE\n",
    "\n",
    "collected_list = {}\n",
    "Uarray_list = {}\n",
    "Uembedded_list = {}\n",
    "\n",
    "## create data for plotting\n",
    "for i in data_array:\n",
    "    collected_list[i] = U_list[i].rows.collect()\n",
    "    Uarray_list[i] = np.array([[x[i] for i in range(k)] for x in collected_list[i]]) # unpack strange spark vectors\n",
    "    t_sne_model = TSNE(n_components=2, verbose=1, random_state=0, angle=.99, init='random')\n",
    "    Uembedded_list[i] = t_sne_model.fit_transform(Uarray_list[i])\n",
    "\n",
    "## end time\n",
    "T = time.time() - t0;\n",
    "print(\"Time taken:\", round(T/60), \"minutes.\") # hm96 - 150 minutes all-5  "
   ]
  },
  {
   "cell_type": "markdown",
   "metadata": {},
   "source": [
    "#### Plot graphs"
   ]
  },
  {
   "cell_type": "code",
   "execution_count": 104,
   "metadata": {
    "scrolled": true
   },
   "outputs": [
    {
     "data": {
      "image/png": "[encoded data removed]",
      "text/plain": [
       "<Figure size 1440x576 with 5 Axes>"
      ]
     },
     "metadata": {
      "needs_background": "light"
     },
     "output_type": "display_data"
    }
   ],
   "source": [
    "fig, ax = plt.subplots(nrows=1, ncols=5, figsize=(20, 8))\n",
    "\n",
    "j = 1\n",
    "for i in data_array:\n",
    "    plt.subplot(2, 6, j)\n",
    "    plt.scatter(Uembedded_list[i][:,0],Uembedded_list[i][:,1], color=\"bgrcmykbgrcmyk\"[j], alpha=0.01)\n",
    "    j = j+1\n",
    "#    np.shape(Uembedded_list[i])\n",
    "    #plt.scatter(Uembedded_list[i][:,0],Uembedded_list[i][:,1],alpha=.2)\n",
    "\n",
    "plt.show()"
   ]
  },
  {
   "cell_type": "markdown",
   "metadata": {},
   "source": [
    "The graphs indicate very little clustering into sub-structures for related topics. Perhaps different values of `k` will yield more informative graphs, and it would also be worthwhile to split the posts to see different results across answers and questions."
   ]
  },
  {
   "cell_type": "code",
   "execution_count": 105,
   "metadata": {
    "scrolled": true
   },
   "outputs": [
    {
     "data": {
      "image/png": "[encoded data removed]",
      "text/plain": [
       "<Figure size 1440x576 with 5 Axes>"
      ]
     },
     "metadata": {
      "needs_background": "light"
     },
     "output_type": "display_data"
    }
   ],
   "source": [
    "fig, ax = plt.subplots(nrows=1, ncols=5, figsize=(20, 8))\n",
    "\n",
    "j = 1\n",
    "for i in data_array:\n",
    "    plt.subplot(2, 6, j)\n",
    "    plt.scatter(Uarray_list[i][:,0],Uarray_list[i][:,1],alpha=.1)\n",
    "    plt.scatter(Uarray_list[i][:,0],Uarray_list[i][:,2],alpha=.1)\n",
    "    plt.scatter(Uarray_list[i][:,0],Uarray_list[i][:,3],alpha=.1)\n",
    "    j = j+1\n",
    "#    np.shape(Uembedded_list[i])\n",
    "    #plt.scatter(Uembedded_list[i][:,0],Uembedded_list[i][:,1],alpha=.2)\n",
    "\n",
    "plt.show()"
   ]
  },
  {
   "cell_type": "code",
   "execution_count": 106,
   "metadata": {
    "scrolled": true
   },
   "outputs": [
    {
     "data": {
      "image/png": "[encoded data removed]",
      "text/plain": [
       "<Figure size 1440x576 with 5 Axes>"
      ]
     },
     "metadata": {
      "needs_background": "light"
     },
     "output_type": "display_data"
    }
   ],
   "source": [
    "fig, ax = plt.subplots(nrows=1, ncols=5, figsize=(20, 8))\n",
    "\n",
    "j = 1\n",
    "for i in data_array:\n",
    "    plt.subplot(2, 6, j)\n",
    "    plt.scatter(Uarray_list[i][:,1],Uarray_list[i][:,2],alpha=.1)\n",
    "    plt.scatter(Uarray_list[i][:,1],Uarray_list[i][:,3],alpha=.1)\n",
    "    j = j+1\n",
    "#    np.shape(Uembedded_list[i])\n",
    "    #plt.scatter(Uembedded_list[i][:,0],Uembedded_list[i][:,1],alpha=.2)\n",
    "\n",
    "plt.show()"
   ]
  },
  {
   "cell_type": "markdown",
   "metadata": {},
   "source": [
    "In the above two cells,  we plot the columns of `U` against one another. From the graphs we see that few posts account for large fractions of variability across all five fora."
   ]
  },
  {
   "cell_type": "markdown",
   "metadata": {},
   "source": [
    "## Latent Dirichlet Allocation"
   ]
  },
  {
   "cell_type": "markdown",
   "metadata": {},
   "source": [
    "In a seminal paper, Blei *et al.* (2003) introduced latent Dirichlet Allocation (LDA) as a generative probabilistic model that can be used to model hidden topics in text corpora. LDA is able to represent the underlying semantic structure of a collection of documents by modeling topics as probability distributions over words, and thus can infer the set of topics for the collection of documents.\n",
    "\n",
    "I start by choosing to build and LDA model across fora using `k=10` topics and then present the topics found."
   ]
  },
  {
   "cell_type": "code",
   "execution_count": 108,
   "metadata": {},
   "outputs": [
    {
     "name": "stdout",
     "output_type": "stream",
     "text": [
      "18:23:04.732899\n",
      "Time taken: 2 minutes.\n"
     ]
    }
   ],
   "source": [
    "## start time\n",
    "t0 = time.time()\n",
    "print(datetime.now().time())\n",
    "\n",
    "## fit LDA models with k=10 topics\n",
    "from pyspark.ml.clustering import LDA\n",
    "\n",
    "lda = LDA(k=10, maxIter=5)\n",
    "\n",
    "lda_model_list = {}\n",
    "for i in data_array:\n",
    "    lda_model_list[i] = lda.fit(word_feat_list[i])\n",
    "\n",
    "## end time\n",
    "T = time.time() - t0;\n",
    "print(\"Time taken:\", round(T/60), \"minutes.\") # hm96 - 2 minutes all-5  "
   ]
  },
  {
   "cell_type": "markdown",
   "metadata": {},
   "source": [
    "In the cell below I calculate the perplexity and likelihood for each forum's model.\n",
    "\n",
    "Perplexity can be used to compare different models as it measures how well a probability model predicts on a sample. A low perplexity value indicates the model predicts the sample well."
   ]
  },
  {
   "cell_type": "code",
   "execution_count": 112,
   "metadata": {},
   "outputs": [
    {
     "name": "stdout",
     "output_type": "stream",
     "text": [
      "18:39:18.887396\n",
      "Finished codegolf\n",
      "Finished codereview\n",
      "Finished es_stackoverflow\n",
      "Finished physics\n",
      "Finished unix\n",
      "Time taken: 85 minutes.\n"
     ]
    }
   ],
   "source": [
    "## start time\n",
    "t0 = time.time()\n",
    "print(datetime.now().time())\n",
    "\n",
    "loglik_list = {}\n",
    "logper_list = {}\n",
    "for i in data_array:\n",
    "    loglik_list[i] = lda_model_list[i].logLikelihood(word_feat_list[i])\n",
    "    logper_list[i] = lda_model_list[i].logPerplexity(word_feat_list[i])\n",
    "    print(\"Finished\", i, \"at\", datetime.now().time())\n",
    "    \n",
    "## end time\n",
    "T = time.time() - t0;\n",
    "print(\"Time taken:\", round(T/60), \"minutes.\") # hm96 - ? minutes all-5  "
   ]
  },
  {
   "cell_type": "markdown",
   "metadata": {},
   "source": [
    "**Note:** As can be seen, the above command took 85 minutes to run. Look at how many cores the master node was using during this query satisfyingly gives us the following picture, where we can see all cores are being used maximally:"
   ]
  },
  {
   "cell_type": "markdown",
   "metadata": {},
   "source": [
    "<img src=\"img/htop-screenshot-3.png\" style=\"width: 900px;\" alt=\"big data htop two cores\">"
   ]
  },
  {
   "cell_type": "code",
   "execution_count": 113,
   "metadata": {
    "scrolled": true
   },
   "outputs": [
    {
     "name": "stdout",
     "output_type": "stream",
     "text": [
      "The lower bound on the log likelihood of the \u001b[1mcodegolf\u001b[0m corpus is: -37118732.90254843\n",
      "The upper bound on the perplexity of the \u001b[1mcodegolf\u001b[0m corpus is: 9.868636466508827\n",
      "\n",
      "\n",
      "The lower bound on the log likelihood of the \u001b[1mcodereview\u001b[0m corpus is: -102395695.56387123\n",
      "The upper bound on the perplexity of the \u001b[1mcodereview\u001b[0m corpus is: 11.336194243969102\n",
      "\n",
      "\n",
      "The lower bound on the log likelihood of the \u001b[1mes_stackoverflow\u001b[0m corpus is: -83887806.8079833\n",
      "The upper bound on the perplexity of the \u001b[1mes_stackoverflow\u001b[0m corpus is: 11.117048003170803\n",
      "\n",
      "\n",
      "The lower bound on the log likelihood of the \u001b[1mphysics\u001b[0m corpus is: -63985360.86148716\n",
      "The upper bound on the perplexity of the \u001b[1mphysics\u001b[0m corpus is: 10.048667306255812\n",
      "\n",
      "\n",
      "The lower bound on the log likelihood of the \u001b[1munix\u001b[0m corpus is: -75396591.61435904\n",
      "The upper bound on the perplexity of the \u001b[1munix\u001b[0m corpus is: 10.794835581531835\n",
      "\n",
      "\n"
     ]
    }
   ],
   "source": [
    "for i in data_array:\n",
    "    print(\"The lower bound on the log likelihood of the \" +'\\033[1m'+ i +'\\033[0m'+ \" corpus is: \" + str(loglik_list[i]))\n",
    "    print(\"The upper bound on the perplexity of the \" +'\\033[1m'+ i +'\\033[0m'+ \" corpus is: \" + str(logper_list[i]))\n",
    "    print('\\n')"
   ]
  },
  {
   "cell_type": "markdown",
   "metadata": {},
   "source": [
    "From the results we see the order in which the probability model fits the fora the best is: `codegolf`; `physics`; `unix`; `es_stackoverflow`; `codereview`. Further work could explore the linguistic reasons for why the order of fora is as such."
   ]
  },
  {
   "cell_type": "code",
   "execution_count": 114,
   "metadata": {},
   "outputs": [
    {
     "name": "stdout",
     "output_type": "stream",
     "text": [
      "20:04:44.002901\n",
      "\n",
      "------------------\n",
      " codegolf \n",
      "------------------\n",
      "\n",
      "['bottle' 'wall' 'beer' 'symbol' 'ord']\n",
      "['blub' 'tbody' 'gold' 'thead' 'coin']\n",
      "['quot' 'bzzt' 'nodejs' 'cycle' 'hash']\n",
      "['an' 'langr' 'octave' 'brachylog' 'wwwrprojectorg']\n",
      "['ho' 'rand' 'powershell' 'maze' 'oooooo']\n",
      "['blue' 'green' 'iw' 'nb' 'yellow']\n",
      "['tp' 'circle' 'func' 'target' 'log']\n",
      "['langhs' 'eax' 'dyalog' 'col' 'db']\n",
      "['hi' 'langhtml' 'snippetcodehtml' 'langphp' 'cout']\n",
      "['passenger' 'japt' 'listof' 'testdata' 'al']\n",
      "\n",
      "\n",
      "\n",
      "------------------\n",
      " codereview \n",
      "------------------\n",
      "\n",
      "['kbd' 'exp' 'nbsp' 'medium' 'radius']\n",
      "['layout' 'iterable' 'nn' 'pow' 'permutation']\n",
      "['allocator' 'sizetype' 'constiterator' 'alloc' 'playablespaces']\n",
      "['dealer' 'palindrome' 'xsl' 'needle' 'swwriteline']\n",
      "['actor' 'patient' 'damage' 'widget' 'boolboard']\n",
      "['sieve' 'usize' 'mask' 'pub' 'setw']\n",
      "['snake' 'coin' 'money' 'ball' 'pivot']\n",
      "['nums' 'ajax' 'dx' 'maze' 'uid']\n",
      "['df' 'blah' 'bigdecimal' 'currency' 'singleton']\n",
      "['listnode' 'sf' 'userinput' 'salt' 'bitmap']\n",
      "\n",
      "\n",
      "\n",
      "------------------\n",
      " es_stackoverflow \n",
      "------------------\n",
      "\n",
      "['cedula' 'dispositivo' 'rango' 'comentarios' 'aplicaciones']\n",
      "['render' 'admin' 'ticket' 'angular' 'peso']\n",
      "['libro' 'readonly' 'ventas' 'article' 'eq']\n",
      "['jlabel' 'jbutton' 'jtextfield' 'func' 'ciudad']\n",
      "['transform' 'transition' 'opacity' 'calificacion' 'carta']\n",
      "['canvas' 'calendar' 'dependency' 'artifactid' 'groupid']\n",
      "['arr' 'articulo' 'compile' 'anonymous' 'lat']\n",
      "['linearlayout' 'listview' 'adapter' 'kbd' 'superoncreate']\n",
      "['neto' 'foo' 'textcenter' 'sit' 'amet']\n",
      "['ut' 'dolor' 'et' 'ipsum' 'evt']\n",
      "\n",
      "\n",
      "\n",
      "------------------\n",
      " physics \n",
      "------------------\n",
      "\n",
      "['jet' 'baryon' 'solenoid' 'shock' 'slope']\n",
      "['centrifugal' 'dq' 'refractive' 'refraction' 'oil']\n",
      "['dtau' 'pulley' 'mn' 'rock' 'ai']\n",
      "['operatorname' 'polarized' 'spacelike' 'hubble' 'bundle']\n",
      "['vapor' 'interface' 'ir' 'ei' 'infrared']\n",
      "['adagger' 'circ' 'colour' 'bh' 'cable']\n",
      "['capacitance' 'fiber' 'coin' 'window' 'majorana']\n",
      "['kx' 'tidal' 'antisymmetric' 'barrier' 'ky']\n",
      "['reservoir' 'brick' 'cmb' 'vehicle' 'cage']\n",
      "['tangential' 'twin' 'xmu' 'north' 'diffusion']\n",
      "\n",
      "\n",
      "\n",
      "------------------\n",
      " unix \n",
      "------------------\n",
      "\n",
      "['gzip' 'proto' 'maxdepth' 'dropped' 'tcpdump']\n",
      "['pgrep' 'preauth' 'foobar' 'entering' 'john']\n",
      "['suspend' 'nc' 'blah' 'pv' 'umount']\n",
      "['nosuid' 'rwxrxrx' 'nodev' 'clone' 'xyz']\n",
      "['tput' 'localhostlocaldomain' 'pkg' 'gentoo' 'ldap']\n",
      "['contrib' 'nonfree' 'axis' 'hadoop' 'hive']\n",
      "['fontconfig' 'nop' 'arr' 'counter' 'val']\n",
      "['raspberrypi' 'insmod' 'modem' 'substr' 'httpd']\n",
      "['nmap' 'enoent' 'ordonly' 'vagrant' 'fifo']\n",
      "['examplecom' 'uefi' 'def' 'timer' 'pe']\n",
      "\n",
      "\n",
      "Time taken: 2 minutes.\n"
     ]
    }
   ],
   "source": [
    "## start time\n",
    "t0 = time.time()\n",
    "print(datetime.now().time())\n",
    "\n",
    "## describe topics\n",
    "topic_list = {}\n",
    "for i in data_array:\n",
    "    print(\"\\n------------------\\n\", i, \"\\n------------------\\n\")\n",
    "    topic_list[i] = lda_model_list[i].describeTopics(5)\n",
    "    #print(\"The topics described by their top-weighted terms:\\n\")\n",
    "    #topic_list[i].show(truncate=False)\n",
    "    # show the results\n",
    "    topic_j = topic_list[i].select(\"termIndices\").rdd.map(lambda r: r[0]).collect()\n",
    "    for j in topic_j:\n",
    "        print(np.array(cntvcr_models[i].vocabulary)[j])\n",
    "    print('\\n')\n",
    "    \n",
    "## end time\n",
    "T = time.time() - t0;\n",
    "print(\"Time taken:\", round(T/60), \"minutes.\") # hm96 - ? minutes all-5  "
   ]
  },
  {
   "cell_type": "markdown",
   "metadata": {},
   "source": [
    "Lastly, the first 5 words of the 10 topics from the LDA models per forum are shown above. Some interesting aspects include:\n",
    "\n",
    "* A common coding-problem on the forum `codegolf` is writing variations of the [99 Bottles of Beer program](http://99-bottles-of-beer.net) in different programming languages, and the first topic of this forum relates to this\n",
    "* The `codereview` has an interesting topic relating to 'actor', 'patient', 'damage', 'widget', one relating to 'sieve', 'usize', 'mask', 'pub', and another relating to 'snake', 'coin', 'money', 'ball'.\n",
    "* Very fittingly for this entire project, the `unix` forum exhibits a topic concerning 'hadoop' and 'hive'."
   ]
  },
  {
   "cell_type": "markdown",
   "metadata": {},
   "source": [
    "## Conclusion and further research"
   ]
  },
  {
   "cell_type": "markdown",
   "metadata": {},
   "source": [
    "While this project did not tackle the original planned goal of analysing how the largest 20 StackExchange communities interact with questions by building an LDA classification model to predict on positive community engagement, much was learned not only about descriptive aspects of the data, but also the different avenues available to address computation sluggishness and to cost-effectively run a GCP Dataproc cluster.\n",
    "\n",
    "It appears that there is substantial heterogeneity across the fora, owing to the results from the EDA and LDA perplexity and likelihood results. It is highly recommended that further analysis split the posts into questions and answers respectively to repeat the analysis to see differences across these two classes.\n",
    "\n",
    "This notebook was also constructed so that it contains all the information and code needed to reproduce the the analysis with the same or different StackExchange datasets, from downloading and loading in the data to a GCP bucket to running the exploratory analysis.\n",
    "\n",
    "Further research could address the computation difficulties when reading in and querying the data by exploring the following:\n",
    "\n",
    "* Further optimising PySpark code\n",
    "* Accessing the data directly from HDFS rather than a GCP Bucket\n",
    "* Submit Spark jobs from the terminal using the entire analysis in a .py file rather than from this Jupyter notebook\n",
    "* Use Google BigQuery to query the already-loaded StackOverflow forum data\n",
    "\n",
    "In this way, larger datasets could be analysed with more complex queries and modeling.\n",
    "\n",
    "In conclusion, this analysis was highly valuable in terms of learning about the nuances and intricacies of distributed computing technologies and my future research will continue to build on the infrastructure I have laid out here."
   ]
  },
  {
   "cell_type": "markdown",
   "metadata": {},
   "source": [
    "## References"
   ]
  },
  {
   "cell_type": "markdown",
   "metadata": {},
   "source": [
    "Armbrust, M., Xin, R.S., Lian, C., Huai, Y., Liu, D., Bradley, J.K., Meng, X., Kaftan, T., Franklin, M.J., Ghodsi, A. and Zaharia, M., 2015, May. Spark sql: Relational data processing in spark. In *Proceedings of the 2015 ACM SIGMOD international conference on management of data* (pp. 1383-1394). ACM."
   ]
  },
  {
   "cell_type": "markdown",
   "metadata": {},
   "source": [
    "Blei, D.M., Ng, A.Y. and Jordan, M.I., 2003. Latent dirichlet allocation. *Journal of machine Learning research*, 3(Jan), pp.993-1022."
   ]
  },
  {
   "cell_type": "markdown",
   "metadata": {},
   "source": [
    "Deerwester, S., Dumais, S.T., Furnas, G.W., Landauer, T.K. and Harshman, R., 1990. Indexing by latent semantic analysis. *Journal of the American society for information science*, 41(6), pp.391-407."
   ]
  },
  {
   "cell_type": "markdown",
   "metadata": {},
   "source": [
    "Laskowski, J., 2019. *The Internals of Apache Spark.* Available at: https://www.learningjournal.guru/article/apache-spark/apache-spark-internals/"
   ]
  },
  {
   "cell_type": "markdown",
   "metadata": {},
   "source": [
    "Maaten, L.V.D. and Hinton, G., 2008. Visualizing data using t-SNE. *Journal of machine learning research*, 9(Nov), pp.2579-2605."
   ]
  },
  {
   "cell_type": "markdown",
   "metadata": {},
   "source": [
    "Sato, K., 2012. An inside look at google bigquery. *White paper, URL: https://cloud.google.com/files/BigQueryTechnicalWP.pdf.*"
   ]
  },
  {
   "cell_type": "markdown",
   "metadata": {},
   "source": [
    "Zaharia, M., Chowdhury, M., Das, T., Dave, A., Ma, J., McCauley, M., Franklin, M.J., Shenker, S. and Stoica, I., 2012, April. Resilient distributed datasets: A fault-tolerant abstraction for in-memory cluster computing. In *Proceedings of the 9th USENIX conference on Networked Systems Design and Implementation* (pp. 2-2). USENIX Association."
   ]
  }
 ],
 "metadata": {
  "kernelspec": {
   "display_name": "Python 3",
   "language": "python",
   "name": "python3"
  },
  "language_info": {
   "codemirror_mode": {
    "name": "ipython",
    "version": 3
   },
   "file_extension": ".py",
   "mimetype": "text/x-python",
   "name": "python",
   "nbconvert_exporter": "python",
   "pygments_lexer": "ipython3",
   "version": "3.7.0"
  }
 },
 "nbformat": 4,
 "nbformat_minor": 2
}

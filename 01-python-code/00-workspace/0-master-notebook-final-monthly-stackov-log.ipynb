{
 "cells": [
  {
   "cell_type": "code",
   "execution_count": 1,
   "metadata": {
    "scrolled": true
   },
   "outputs": [
    {
     "name": "stdout",
     "output_type": "stream",
     "text": [
      "b'\"Welcome to my PySpark analysis of the StackOverflow dataset\"\\n'\n"
     ]
    }
   ],
   "source": [
    "## testing printing output from console\n",
    "import subprocess\n",
    "\n",
    "cmd = [ 'echo', '\"Welcome to my PySpark analysis of the StackOverflow dataset\"' ]\n",
    "output = subprocess.Popen( cmd, stdout=subprocess.PIPE ).communicate()[0]\n",
    "print(output)"
   ]
  },
  {
   "cell_type": "markdown",
   "metadata": {},
   "source": [
    "# Load Libraries"
   ]
  },
  {
   "cell_type": "code",
   "execution_count": 2,
   "metadata": {},
   "outputs": [],
   "source": [
    "import gc #garbage collection\n",
    "import time\n",
    "import numpy as np\n",
    "import pandas as pd\n",
    "from datetime import datetime"
   ]
  },
  {
   "cell_type": "markdown",
   "metadata": {},
   "source": [
    "# Load PySpark"
   ]
  },
  {
   "cell_type": "code",
   "execution_count": 3,
   "metadata": {
    "scrolled": false
   },
   "outputs": [
    {
     "name": "stdout",
     "output_type": "stream",
     "text": [
      "The Spark UI, version 2.4.3, is available at: http://192.168.0.26:4040/ and the defaultParallelism is 4\n"
     ]
    }
   ],
   "source": [
    "%run -i '1-load-pyspark.py'"
   ]
  },
  {
   "cell_type": "markdown",
   "metadata": {},
   "source": [
    "# Load easyFunctions and Transformers"
   ]
  },
  {
   "cell_type": "code",
   "execution_count": 4,
   "metadata": {},
   "outputs": [],
   "source": [
    "## easy functions\n",
    "%run -i 'load_parquet_data.py'\n",
    "%run -i 'convert_stackov_csv_to_pyarrow_parquet.py'\n",
    "%run -i 'export_parquet_data.py'\n",
    "%run -i 'count_total_questions.py'\n",
    "%run -i 'show_save_results.py'\n",
    "%run -i 'show_spark_df.py'\n",
    "%run -i 'show_date_range.py'\n",
    "%run -i 'trim_betw_dates.py'\n",
    "\n",
    "## pipeline transformers\n",
    "%run -i 'nltkWordPunctTokeniser.py'\n",
    "%run -i 'nltkSenteniser.py'"
   ]
  },
  {
   "cell_type": "markdown",
   "metadata": {},
   "source": [
    "# Choose Datasets"
   ]
  },
  {
   "cell_type": "code",
   "execution_count": 5,
   "metadata": {},
   "outputs": [],
   "source": [
    "## these are the forum labels that will appear in graphs/tables etc.\n",
    "data_array = [\n",
    "    #'Mar-09',\n",
    "    #'Apr-09',\n",
    "    \n",
    "    'May-09',\n",
    "    'Jun-09',\n",
    "    'Jul-09',\n",
    "    'Aug-09',\n",
    "    'Sep-09',\n",
    "    \n",
    "    #'Oct-09', #breaks here\n",
    "    #'Nov-09',\n",
    "    #'Dec-09'\n",
    "]"
   ]
  },
  {
   "cell_type": "markdown",
   "metadata": {},
   "source": [
    "# Download XML Data"
   ]
  },
  {
   "cell_type": "code",
   "execution_count": 6,
   "metadata": {},
   "outputs": [],
   "source": [
    "## call download script - EDIT to feed in user data_array\n",
    "#!bash 0-dataset-download.sh"
   ]
  },
  {
   "cell_type": "markdown",
   "metadata": {},
   "source": [
    "# Convert to Parquet"
   ]
  },
  {
   "cell_type": "code",
   "execution_count": 7,
   "metadata": {
    "scrolled": true
   },
   "outputs": [
    {
     "name": "stdout",
     "output_type": "stream",
     "text": [
      "08:49:25.969618\n",
      "CPU times: user 477 µs, sys: 232 µs, total: 709 µs\n",
      "Wall time: 725 µs\n"
     ]
    }
   ],
   "source": [
    "%%time\n",
    "print(datetime.now().time())\n",
    "\n",
    "## convert stackoverflow .json files to .parquet\n",
    "#for i in data_array:\n",
    "#    s = i.lower()\n",
    "#    convert_stackov_csv_to_pyarrow_parquet(strDirect=f'initial-data/{s}.stackexchange.com/')"
   ]
  },
  {
   "cell_type": "code",
   "execution_count": 8,
   "metadata": {},
   "outputs": [],
   "source": [
    "## loop through data_array to convert to other fora to .parquet\n",
    "#for i in data_array:\n",
    "#    s = i.lower()\n",
    "#    !python convert-xml-to-parquet.py \"$s\""
   ]
  },
  {
   "cell_type": "markdown",
   "metadata": {},
   "source": [
    "# Load Initial or Clean Data"
   ]
  },
  {
   "cell_type": "code",
   "execution_count": 9,
   "metadata": {},
   "outputs": [
    {
     "name": "stdout",
     "output_type": "stream",
     "text": [
      "08:49:26.272633\n",
      "CPU times: user 4.49 ms, sys: 2.79 ms, total: 7.28 ms\n",
      "Wall time: 4.72 s\n"
     ]
    }
   ],
   "source": [
    "%%time\n",
    "print(datetime.now().time())\n",
    "datasets = load_parquet_data(dataArray=data_array, kind='clean', printSchema=False) #, gcpath='gs://bucket-brad-project/')"
   ]
  },
  {
   "cell_type": "code",
   "execution_count": 10,
   "metadata": {
    "scrolled": true
   },
   "outputs": [
    {
     "name": "stdout",
     "output_type": "stream",
     "text": [
      "May-09: 26026\n",
      "Jun-09: 28555\n",
      "Jul-09: 32752\n",
      "Aug-09: 32998\n",
      "Sep-09: 33268\n",
      "\n",
      "Total: 153599\n"
     ]
    }
   ],
   "source": [
    "## count questions before trimming\n",
    "count_total_questions(dataArray=data_array, datasetDict=datasets)"
   ]
  },
  {
   "cell_type": "markdown",
   "metadata": {},
   "source": [
    "# Clean and Trim Data"
   ]
  },
  {
   "cell_type": "code",
   "execution_count": 11,
   "metadata": {
    "scrolled": true
   },
   "outputs": [
    {
     "name": "stdout",
     "output_type": "stream",
     "text": [
      "08:49:34.535022\n",
      "CPU times: user 178 µs, sys: 55 µs, total: 233 µs\n",
      "Wall time: 192 µs\n"
     ]
    }
   ],
   "source": [
    "%%time\n",
    "print(datetime.now().time())\n",
    "#%run -i '2-clean-datasets.py'"
   ]
  },
  {
   "cell_type": "code",
   "execution_count": 12,
   "metadata": {
    "scrolled": true
   },
   "outputs": [
    {
     "name": "stdout",
     "output_type": "stream",
     "text": [
      "May-09:\n",
      "2009-05-01 00:02:42.960000\n",
      "2009-05-31 23:56:47.303000\n",
      "\n",
      "Jun-09:\n",
      "2009-06-01 00:06:57.250000\n",
      "2009-06-30 23:59:14.543000\n",
      "\n",
      "Jul-09:\n",
      "2009-07-01 00:01:35.740000\n",
      "2009-07-31 23:58:46.123000\n",
      "\n",
      "Aug-09:\n",
      "2009-08-01 00:02:10.593000\n",
      "2009-08-31 23:59:12.223000\n",
      "\n",
      "Sep-09:\n",
      "2009-09-01 00:01:17.477000\n",
      "2009-09-30 23:59:36.613000\n",
      "\n"
     ]
    }
   ],
   "source": [
    "## show range of dates for datasets before trimming\n",
    "show_date_range(dataArray=data_array, datasetDict=datasets)"
   ]
  },
  {
   "cell_type": "code",
   "execution_count": 13,
   "metadata": {},
   "outputs": [],
   "source": [
    "## trim data between uniform date range\n",
    "#datasets = trim_betw_dates(dataArray=data_array, datasetDict=datasets, dates=('2014-06-01', '2017-01-01'))"
   ]
  },
  {
   "cell_type": "code",
   "execution_count": 14,
   "metadata": {},
   "outputs": [
    {
     "name": "stdout",
     "output_type": "stream",
     "text": [
      "May-09:\n",
      "2009-05-01 00:02:42.960000\n",
      "2009-05-31 23:56:47.303000\n",
      "\n",
      "Jun-09:\n",
      "2009-06-01 00:06:57.250000\n",
      "2009-06-30 23:59:14.543000\n",
      "\n",
      "Jul-09:\n",
      "2009-07-01 00:01:35.740000\n",
      "2009-07-31 23:58:46.123000\n",
      "\n",
      "Aug-09:\n",
      "2009-08-01 00:02:10.593000\n",
      "2009-08-31 23:59:12.223000\n",
      "\n",
      "Sep-09:\n",
      "2009-09-01 00:01:17.477000\n",
      "2009-09-30 23:59:36.613000\n",
      "\n"
     ]
    }
   ],
   "source": [
    "## show range of dates for datasets after trimming\n",
    "show_date_range(dataArray=data_array, datasetDict=datasets)"
   ]
  },
  {
   "cell_type": "code",
   "execution_count": 15,
   "metadata": {},
   "outputs": [
    {
     "name": "stdout",
     "output_type": "stream",
     "text": [
      "May-09: 26026\n",
      "Jun-09: 28555\n",
      "Jul-09: 32752\n",
      "Aug-09: 32998\n",
      "Sep-09: 33268\n",
      "\n",
      "Total: 153599\n"
     ]
    }
   ],
   "source": [
    "## count questions after trimming\n",
    "count_total_questions(dataArray=data_array, datasetDict=datasets)"
   ]
  },
  {
   "cell_type": "markdown",
   "metadata": {},
   "source": [
    "# Counts and LDA Feature Engineering"
   ]
  },
  {
   "cell_type": "code",
   "execution_count": 16,
   "metadata": {
    "scrolled": false
   },
   "outputs": [
    {
     "name": "stdout",
     "output_type": "stream",
     "text": [
      "08:49:40.346225\n",
      "CPU times: user 225 µs, sys: 62 µs, total: 287 µs\n",
      "Wall time: 1.03 ms\n"
     ]
    }
   ],
   "source": [
    "%%time\n",
    "# about 16 min with 10 iterations and params for 29000 questions\n",
    "# FAILS for large datasets\n",
    "print(datetime.now().time())\n",
    "#%run -i '3-feat-engineering.py'\n",
    "\n",
    "###\n",
    "# TRY different values of alpha and rho\n",
    "# TRY different values of K\n",
    "# TRY 'em' optimizer instead of 'online'"
   ]
  },
  {
   "cell_type": "markdown",
   "metadata": {},
   "source": [
    "# Export Clean Data"
   ]
  },
  {
   "cell_type": "code",
   "execution_count": 17,
   "metadata": {},
   "outputs": [
    {
     "name": "stdout",
     "output_type": "stream",
     "text": [
      "08:49:40.361107\n",
      "CPU times: user 197 µs, sys: 77 µs, total: 274 µs\n",
      "Wall time: 221 µs\n"
     ]
    }
   ],
   "source": [
    "%%time\n",
    "# about 12 min\n",
    "print(datetime.now().time())\n",
    "#export_parquet_data(dataArray=data_array, datasetDict=datasets, folder='clean-data')"
   ]
  },
  {
   "cell_type": "markdown",
   "metadata": {},
   "source": [
    "# EDA"
   ]
  },
  {
   "cell_type": "code",
   "execution_count": 18,
   "metadata": {
    "scrolled": false
   },
   "outputs": [
    {
     "name": "stdout",
     "output_type": "stream",
     "text": [
      "08:49:40.370977\n",
      "CPU times: user 228 µs, sys: 92 µs, total: 320 µs\n",
      "Wall time: 276 µs\n"
     ]
    }
   ],
   "source": [
    "%%time\n",
    "print(datetime.now().time())\n",
    "#%run -i '4-final-eda.py'"
   ]
  },
  {
   "cell_type": "markdown",
   "metadata": {},
   "source": [
    "# Imports"
   ]
  },
  {
   "cell_type": "code",
   "execution_count": 19,
   "metadata": {},
   "outputs": [],
   "source": [
    "## pyspark sql functions\n",
    "from pyspark.sql.functions import lit, avg, col\n",
    "\n",
    "## for evaluation metrics\n",
    "from pyspark.ml.evaluation import RegressionEvaluator\n",
    "\n",
    "## for pipelines\n",
    "from pyspark.ml.pipeline import Pipeline\n",
    "from pyspark.ml.feature import CountVectorizer, IDF, StandardScaler, VectorAssembler, VectorSlicer\n",
    "\n",
    "## for model\n",
    "from pyspark.ml.regression import LinearRegression\n",
    "\n",
    "## for tuning\n",
    "from pyspark.ml.tuning import CrossValidator, ParamGridBuilder"
   ]
  },
  {
   "cell_type": "markdown",
   "metadata": {},
   "source": [
    "# Choose Target, Modeling Setups"
   ]
  },
  {
   "cell_type": "code",
   "execution_count": 20,
   "metadata": {},
   "outputs": [
    {
     "data": {
      "text/plain": [
       "\"\\n## features not used\\ndatet_variables = ['clean_date']\\n\\n## assemblers not used\\ndatet_assembler = VectorAssembler(inputCols=datet_variables, outputCol='datet_data')\\n\""
      ]
     },
     "execution_count": 20,
     "metadata": {},
     "output_type": "execute_result"
    }
   ],
   "source": [
    "## choose target variable\n",
    "target = 'score_shift_log'\n",
    "    \n",
    "## choose SEPARATE evaluation metric\n",
    "lrn_metric = 'mse'\n",
    "ev_metric = 'rmse' #'rmse'\n",
    "\n",
    "## choose number of CV folds\n",
    "num_folds = 2\n",
    "\n",
    "## choose range for gridsearch params\n",
    "reg_range = [1e-3, 1.]\n",
    "ela_range = 0 #[1e-3, 1.]\n",
    "\n",
    "## blank tuning grid\n",
    "noGrid = ParamGridBuilder() \\\n",
    "    .build()\n",
    "\n",
    "## prediction column names\n",
    "mean_preds = 'mean_preds'\n",
    "viewc_preds = 'viewc_preds'\n",
    "leng_preds = 'leng_preds'\n",
    "token_preds = 'token_preds'\n",
    "tfidf_preds = 'tfidf_preds'\n",
    "topic_preds = 'topic_preds'\n",
    "final_preds = 'final_preds'\n",
    "\n",
    "## decimal choice for results\n",
    "deci_choice = 20\n",
    "\n",
    "'''\n",
    "## features not used\n",
    "datet_variables = ['clean_date']\n",
    "\n",
    "## assemblers not used\n",
    "datet_assembler = VectorAssembler(inputCols=datet_variables, outputCol='datet_data')\n",
    "'''"
   ]
  },
  {
   "cell_type": "markdown",
   "metadata": {},
   "source": [
    "# Train/Test Splits"
   ]
  },
  {
   "cell_type": "code",
   "execution_count": 21,
   "metadata": {},
   "outputs": [
    {
     "name": "stdout",
     "output_type": "stream",
     "text": [
      "Garbage collector: collected 28 objects.\n"
     ]
    }
   ],
   "source": [
    "## garbage collector to speed up computation\n",
    "collected = gc.collect()\n",
    "print(f'Garbage collector: collected {collected} objects.')"
   ]
  },
  {
   "cell_type": "code",
   "execution_count": 22,
   "metadata": {
    "scrolled": false
   },
   "outputs": [
    {
     "name": "stdout",
     "output_type": "stream",
     "text": [
      "08:49:48.100943\n",
      "\n",
      "Descriptives are:\n",
      "\n",
      "May-09 & 3.4 & 3.4 & 0.43 & 0.42 \\\\\n",
      "Jun-09 & 3.4 & 3.4 & 0.43 & 0.43 \\\\\n",
      "Jul-09 & 3.38 & 3.38 & 0.4 & 0.4 \\\\\n",
      "Aug-09 & 3.36 & 3.37 & 0.36 & 0.39 \\\\\n",
      "Sep-09 & 3.36 & 3.36 & 0.35 & 0.36 \\\\\n",
      "CPU times: user 156 ms, sys: 44.5 ms, total: 201 ms\n",
      "Wall time: 10.6 s\n"
     ]
    }
   ],
   "source": [
    "%%time\n",
    "print(datetime.now().time())\n",
    "%run -i '6a-rand-train-test-split-50.py'\n",
    "#%run -i '6b-time-train-test-split-50.py'\n",
    "\n",
    "## check standard deviations of variables\n",
    "print('\\nDescriptives are:\\n')\n",
    "for i in data_array:\n",
    "    # means\n",
    "    tr_mn = pd.to_numeric(train[i].describe(target).select(target).toPandas().iloc[1][0])\n",
    "    te_mn = pd.to_numeric(test[i].describe(target).select(target).toPandas().iloc[1][0])\n",
    "    # calculate percentage\n",
    "    #perc_mn = round( (te_mn/tr_mn - 1)*100, 2 )\n",
    "    # round for final tables\n",
    "    tr_mn = round(tr_mn, 2)\n",
    "    te_mn = round(te_mn, 2)\n",
    "\n",
    "    # standard deviations\n",
    "    tr_sd = pd.to_numeric(train[i].describe(target).select(target).toPandas().iloc[2][0])\n",
    "    te_sd = pd.to_numeric(test[i].describe(target).select(target).toPandas().iloc[2][0])\n",
    "    # calculate percentage\n",
    "    #perc_sd = round( (te_sd/tr_sd - 1)*100, 2 )\n",
    "    # round for final tables\n",
    "    tr_sd = round(tr_sd, 2)\n",
    "    te_sd = round(te_sd, 2)\n",
    "    \n",
    "    # with percs\n",
    "    #s = i.title() + ' & ' + str(tr_mn) + ' & ' + str(te_mn) + ' & ' + str(perc_mn) + \\\n",
    "    #    ' & ' + str(tr_sd) + ' & ' + str(te_sd) + ' & ' + str(perc_sd) + ' \\\\\\\\'\n",
    "    \n",
    "    # without percs\n",
    "    s = i.title() + ' & ' + str(tr_mn) + ' & ' + str(te_mn) + ' & ' + str(tr_sd) + ' & ' + str(te_sd) + ' \\\\\\\\'\n",
    "    \n",
    "    print(s)"
   ]
  },
  {
   "cell_type": "markdown",
   "metadata": {},
   "source": [
    "# Silly Mean Model"
   ]
  },
  {
   "cell_type": "code",
   "execution_count": 23,
   "metadata": {},
   "outputs": [],
   "source": [
    "RESULTS = {}\n",
    "for i in data_array:\n",
    "    # capitalise keys\n",
    "    RESULTS[i.title()] = {}"
   ]
  },
  {
   "cell_type": "code",
   "execution_count": 24,
   "metadata": {
    "scrolled": true
   },
   "outputs": [
    {
     "name": "stdout",
     "output_type": "stream",
     "text": [
      "The rmse of \u001b[94mMay-09's\u001b[0m\u001b[92m mean\u001b[0m model is 0.4247532673958535\n",
      "The rmse of \u001b[94mJun-09's\u001b[0m\u001b[92m mean\u001b[0m model is 0.4269185495347532\n",
      "The rmse of \u001b[94mJul-09's\u001b[0m\u001b[92m mean\u001b[0m model is 0.40022608429772727\n",
      "The rmse of \u001b[94mAug-09's\u001b[0m\u001b[92m mean\u001b[0m model is 0.38792858168850597\n",
      "The rmse of \u001b[94mSep-09's\u001b[0m\u001b[92m mean\u001b[0m model is 0.3646664077984929\n"
     ]
    },
    {
     "data": {
      "text/html": [
       "<div>\n",
       "<style scoped>\n",
       "    .dataframe tbody tr th:only-of-type {\n",
       "        vertical-align: middle;\n",
       "    }\n",
       "\n",
       "    .dataframe tbody tr th {\n",
       "        vertical-align: top;\n",
       "    }\n",
       "\n",
       "    .dataframe thead th {\n",
       "        text-align: right;\n",
       "    }\n",
       "</style>\n",
       "<table border=\"1\" class=\"dataframe\">\n",
       "  <thead>\n",
       "    <tr style=\"text-align: right;\">\n",
       "      <th></th>\n",
       "      <th>0silly_mean.0tr_eval</th>\n",
       "      <th>0silly_mean.1te_eval</th>\n",
       "      <th>0silly_mean.2timet</th>\n",
       "    </tr>\n",
       "  </thead>\n",
       "  <tbody>\n",
       "    <tr>\n",
       "      <th>May-09</th>\n",
       "      <td>0.426501</td>\n",
       "      <td>0.424753</td>\n",
       "      <td>1.0</td>\n",
       "    </tr>\n",
       "    <tr>\n",
       "      <th>Jun-09</th>\n",
       "      <td>0.433504</td>\n",
       "      <td>0.426919</td>\n",
       "      <td>1.0</td>\n",
       "    </tr>\n",
       "    <tr>\n",
       "      <th>Jul-09</th>\n",
       "      <td>0.402591</td>\n",
       "      <td>0.400226</td>\n",
       "      <td>1.0</td>\n",
       "    </tr>\n",
       "    <tr>\n",
       "      <th>Aug-09</th>\n",
       "      <td>0.362271</td>\n",
       "      <td>0.387929</td>\n",
       "      <td>1.0</td>\n",
       "    </tr>\n",
       "    <tr>\n",
       "      <th>Sep-09</th>\n",
       "      <td>0.350457</td>\n",
       "      <td>0.364666</td>\n",
       "      <td>1.0</td>\n",
       "    </tr>\n",
       "  </tbody>\n",
       "</table>\n",
       "</div>"
      ],
      "text/plain": [
       "        0silly_mean.0tr_eval  0silly_mean.1te_eval  0silly_mean.2timet\n",
       "May-09              0.426501              0.424753                 1.0\n",
       "Jun-09              0.433504              0.426919                 1.0\n",
       "Jul-09              0.402591              0.400226                 1.0\n",
       "Aug-09              0.362271              0.387929                 1.0\n",
       "Sep-09              0.350457              0.364666                 1.0"
      ]
     },
     "metadata": {},
     "output_type": "display_data"
    },
    {
     "name": "stdout",
     "output_type": "stream",
     "text": [
      "\\begin{tabular}{lrrr}\n",
      "\\toprule\n",
      "{} &  0silly\\_mean.0tr\\_eval &  0silly\\_mean.1te\\_eval &  0silly\\_mean.2timet \\\\\n",
      "\\midrule\n",
      "May-09 &              0.426501 &              0.424753 &                 1.0 \\\\\n",
      "Jun-09 &              0.433504 &              0.426919 &                 1.0 \\\\\n",
      "Jul-09 &              0.402591 &              0.400226 &                 1.0 \\\\\n",
      "Aug-09 &              0.362271 &              0.387929 &                 1.0 \\\\\n",
      "Sep-09 &              0.350457 &              0.364666 &                 1.0 \\\\\n",
      "\\bottomrule\n",
      "\\end{tabular}\n",
      "\n"
     ]
    }
   ],
   "source": [
    "## create mean dictionaries\n",
    "tr_means = {}\n",
    "\n",
    "## calculate the mean of each forum, using ONLY training set\n",
    "for i in data_array:\n",
    "    tr_means[i] = train[i].select(target).rdd.flatMap(lambda x: x).mean() #.agg(avg(col(target))).collect()[0][0]\n",
    "\n",
    "## setup evaluation metric (no learning metric cause no learning takes place)\n",
    "model_evaluator = RegressionEvaluator(metricName=ev_metric, labelCol=target, predictionCol=mean_preds)\n",
    "\n",
    "## create dictionaries for training and testing (baseline) evaluation metrics\n",
    "base = {}\n",
    "tr_eval = {}\n",
    "\n",
    "## modelling\n",
    "for i in data_array:\n",
    "\n",
    "    ## initial variable for timing\n",
    "    t0 = time.time()\n",
    "    \n",
    "    ## train silly mean model by assigning training set mean for training and testing predictions\n",
    "    train[i] = train[i].withColumn(mean_preds, lit(tr_means[i]))\n",
    "    test[i] = test[i].withColumn(mean_preds, lit(tr_means[i]))\n",
    "\n",
    "    ## evaluate silly mean model, on both training and testing set\n",
    "    tr_eval[i] = model_evaluator.evaluate(train[i])\n",
    "    base[i] = model_evaluator.evaluate(test[i])\n",
    "\n",
    "    print(f\"The {ev_metric} of \\033[94m{i}'s\\033[0m\\033[92m mean\\033[0m model is {base[i]}\")\n",
    "\n",
    "    ## record time taken\n",
    "    timet = time.time() - t0\n",
    "    \n",
    "    ## store as dictionary inside RESULTS dictionary, initiating dataset name entries first\n",
    "    RESULTS[i.title()]['0silly_mean.0tr_eval'] = round( tr_eval[i], deci_choice )\n",
    "    RESULTS[i.title()]['0silly_mean.1te_eval'] = round( base[i], deci_choice )\n",
    "    RESULTS[i.title()]['0silly_mean.2timet'] = round( timet, 0 )\n",
    "    \n",
    "## record results\n",
    "show_save_results(RESULTS, filename=f'{mean_preds}-results.csv')"
   ]
  },
  {
   "cell_type": "markdown",
   "metadata": {},
   "source": [
    "# Viewcount Model"
   ]
  },
  {
   "cell_type": "code",
   "execution_count": 25,
   "metadata": {},
   "outputs": [],
   "source": [
    "RESULTS = {}\n",
    "for i in data_array:\n",
    "    # capitalise keys\n",
    "    RESULTS[i.title()] = {}"
   ]
  },
  {
   "cell_type": "code",
   "execution_count": 26,
   "metadata": {},
   "outputs": [
    {
     "name": "stdout",
     "output_type": "stream",
     "text": [
      "08:50:15.060355\n",
      "The rmse of \u001b[94mMay-09's\u001b[0m\u001b[92m viewcount\u001b[0m model is 0.31408101909182157\n",
      "The rmse of \u001b[94mJun-09's\u001b[0m\u001b[92m viewcount\u001b[0m model is 0.3179219750823253\n",
      "The rmse of \u001b[94mJul-09's\u001b[0m\u001b[92m viewcount\u001b[0m model is 0.30034754460395935\n",
      "The rmse of \u001b[94mAug-09's\u001b[0m\u001b[92m viewcount\u001b[0m model is 0.29221004642986287\n",
      "The rmse of \u001b[94mSep-09's\u001b[0m\u001b[92m viewcount\u001b[0m model is 0.2754497991661025\n"
     ]
    },
    {
     "data": {
      "text/html": [
       "<div>\n",
       "<style scoped>\n",
       "    .dataframe tbody tr th:only-of-type {\n",
       "        vertical-align: middle;\n",
       "    }\n",
       "\n",
       "    .dataframe tbody tr th {\n",
       "        vertical-align: top;\n",
       "    }\n",
       "\n",
       "    .dataframe thead th {\n",
       "        text-align: right;\n",
       "    }\n",
       "</style>\n",
       "<table border=\"1\" class=\"dataframe\">\n",
       "  <thead>\n",
       "    <tr style=\"text-align: right;\">\n",
       "      <th></th>\n",
       "      <th>1viewcount.0tr_eval</th>\n",
       "      <th>1viewcount.1te_eval</th>\n",
       "      <th>1viewcount.2diff</th>\n",
       "      <th>1viewcount.3timet</th>\n",
       "    </tr>\n",
       "  </thead>\n",
       "  <tbody>\n",
       "    <tr>\n",
       "      <th>May-09</th>\n",
       "      <td>0.314233</td>\n",
       "      <td>0.314081</td>\n",
       "      <td>-0.110672</td>\n",
       "      <td>10.0</td>\n",
       "    </tr>\n",
       "    <tr>\n",
       "      <th>Jun-09</th>\n",
       "      <td>0.319409</td>\n",
       "      <td>0.317922</td>\n",
       "      <td>-0.108997</td>\n",
       "      <td>8.0</td>\n",
       "    </tr>\n",
       "    <tr>\n",
       "      <th>Jul-09</th>\n",
       "      <td>0.299918</td>\n",
       "      <td>0.300348</td>\n",
       "      <td>-0.099879</td>\n",
       "      <td>11.0</td>\n",
       "    </tr>\n",
       "    <tr>\n",
       "      <th>Aug-09</th>\n",
       "      <td>0.275157</td>\n",
       "      <td>0.292210</td>\n",
       "      <td>-0.095719</td>\n",
       "      <td>9.0</td>\n",
       "    </tr>\n",
       "    <tr>\n",
       "      <th>Sep-09</th>\n",
       "      <td>0.267408</td>\n",
       "      <td>0.275450</td>\n",
       "      <td>-0.089217</td>\n",
       "      <td>9.0</td>\n",
       "    </tr>\n",
       "  </tbody>\n",
       "</table>\n",
       "</div>"
      ],
      "text/plain": [
       "        1viewcount.0tr_eval  1viewcount.1te_eval  1viewcount.2diff  \\\n",
       "May-09             0.314233             0.314081         -0.110672   \n",
       "Jun-09             0.319409             0.317922         -0.108997   \n",
       "Jul-09             0.299918             0.300348         -0.099879   \n",
       "Aug-09             0.275157             0.292210         -0.095719   \n",
       "Sep-09             0.267408             0.275450         -0.089217   \n",
       "\n",
       "        1viewcount.3timet  \n",
       "May-09               10.0  \n",
       "Jun-09                8.0  \n",
       "Jul-09               11.0  \n",
       "Aug-09                9.0  \n",
       "Sep-09                9.0  "
      ]
     },
     "metadata": {},
     "output_type": "display_data"
    },
    {
     "name": "stdout",
     "output_type": "stream",
     "text": [
      "\\begin{tabular}{lrrrr}\n",
      "\\toprule\n",
      "{} &  1viewcount.0tr\\_eval &  1viewcount.1te\\_eval &  1viewcount.2diff &  1viewcount.3timet \\\\\n",
      "\\midrule\n",
      "May-09 &             0.314233 &             0.314081 &         -0.110672 &               10.0 \\\\\n",
      "Jun-09 &             0.319409 &             0.317922 &         -0.108997 &                8.0 \\\\\n",
      "Jul-09 &             0.299918 &             0.300348 &         -0.099879 &               11.0 \\\\\n",
      "Aug-09 &             0.275157 &             0.292210 &         -0.095719 &                9.0 \\\\\n",
      "Sep-09 &             0.267408 &             0.275450 &         -0.089217 &                9.0 \\\\\n",
      "\\bottomrule\n",
      "\\end{tabular}\n",
      "\n",
      "CPU times: user 1.37 s, sys: 341 ms, total: 1.71 s\n",
      "Wall time: 46.7 s\n"
     ]
    }
   ],
   "source": [
    "%%time\n",
    "print(datetime.now().time())\n",
    "\n",
    "########################\n",
    "##### CHOOSE FEATS #####\n",
    "########################\n",
    "\n",
    "## define features to predict on\n",
    "numic_variables = ['viewcount_log']\n",
    "\n",
    "## numerical columns\n",
    "numic_assembler = VectorAssembler(inputCols=numic_variables, outputCol='numic_data') # have to put in single col\n",
    "standardiser = StandardScaler(inputCol='numic_data', outputCol='numic_data_std')    \n",
    "numic_pipeline = Pipeline(stages=[numic_assembler, standardiser])\n",
    "\n",
    "## create processing pipeline\n",
    "process_assembler = VectorAssembler(inputCols=['numic_data'], #inputCols=['datet_data']\n",
    "                                    outputCol='features') \n",
    "process_pipeline = Pipeline(stages=[numic_pipeline, process_assembler])\n",
    "\n",
    "\n",
    "####################\n",
    "##### MODELING #####\n",
    "####################\n",
    "\n",
    "## linear regression model\n",
    "lr = LinearRegression(maxIter=100,\n",
    "                      #regParam=1,\n",
    "                      elasticNetParam=0,\n",
    "                      featuresCol='features',\n",
    "                      labelCol=target,\n",
    "                      predictionCol=viewc_preds)\n",
    "\n",
    "## make final pipeline\n",
    "final_pipeline = Pipeline(stages=[process_pipeline, lr])\n",
    "\n",
    "## setup model evaluation metrics\n",
    "learn_evaluator = RegressionEvaluator(metricName=lrn_metric, labelCol=target, predictionCol=viewc_preds)\n",
    "model_evaluator = RegressionEvaluator(metricName=ev_metric, labelCol=target, predictionCol=viewc_preds)\n",
    "\n",
    "## set up cross validation for parameter tuning\n",
    "crossval = CrossValidator(estimator=final_pipeline,\n",
    "                          estimatorParamMaps=noGrid,\n",
    "                          evaluator=learn_evaluator,\n",
    "                          numFolds=num_folds)\n",
    "\n",
    "## create dictionaries for top evaluation metric \n",
    "top = {}\n",
    "\n",
    "## modelling\n",
    "for i in data_array:\n",
    "    \n",
    "    ## initial variable for timing\n",
    "    t0 = time.time()\n",
    "    \n",
    "    ## fit on training set with CV\n",
    "    cvmodel = crossval.fit(train[i])\n",
    "    \n",
    "    ## fitting on train and predicting on train/test\n",
    "    tr_eval = round( model_evaluator.evaluate(cvmodel.transform(train[i])), deci_choice )\n",
    "    top[i] = round( model_evaluator.evaluate(cvmodel.transform(test[i])), deci_choice )\n",
    "    print(f\"The {ev_metric} of \\033[94m{i}'s\\033[0m\\033[92m viewcount\\033[0m model is {top[i]}\")\n",
    "\n",
    "    ## calculate improvement over median baseline\n",
    "    diff = round( (top[i] - base[i]), deci_choice )\n",
    "    \n",
    "    ## record time taken\n",
    "    timet = round( time.time() - t0, 0 )\n",
    "\n",
    "    ## store as dictionary inside RESULTS dictionary\n",
    "    # round at the end to keep precision\n",
    "    RESULTS[i.title()]['1viewcount.0tr_eval'] = round( tr_eval, deci_choice )\n",
    "    RESULTS[i.title()]['1viewcount.1te_eval'] = round( top[i], deci_choice )\n",
    "    RESULTS[i.title()]['1viewcount.2diff'] = round( diff, deci_choice )\n",
    "    RESULTS[i.title()]['1viewcount.3timet'] = round( timet, 0 )\n",
    "    \n",
    "## record results\n",
    "show_save_results(RESULTS, filename=f'{viewc_preds}-results.csv')"
   ]
  },
  {
   "cell_type": "markdown",
   "metadata": {},
   "source": [
    "## Length Model"
   ]
  },
  {
   "cell_type": "code",
   "execution_count": 42,
   "metadata": {},
   "outputs": [],
   "source": [
    "RESULTS = {}\n",
    "for i in data_array:\n",
    "    # capitalise keys\n",
    "    RESULTS[i.title()] = {}"
   ]
  },
  {
   "cell_type": "code",
   "execution_count": 44,
   "metadata": {
    "scrolled": true
   },
   "outputs": [
    {
     "name": "stdout",
     "output_type": "stream",
     "text": [
      "21:58:46.448546\n",
      "The test rmse of \u001b[94mMay-09's\u001b[0m\u001b[92m counts\u001b[0m model is 0.6329389010613569\n",
      "The test rmse of \u001b[94mJun-09's\u001b[0m\u001b[92m counts\u001b[0m model is 0.5855717931451705\n",
      "The test rmse of \u001b[94mJul-09's\u001b[0m\u001b[92m counts\u001b[0m model is 0.5773024463666329\n",
      "The test rmse of \u001b[94mAug-09's\u001b[0m\u001b[92m counts\u001b[0m model is 0.386908886476433\n",
      "The test rmse of \u001b[94mSep-09's\u001b[0m\u001b[92m counts\u001b[0m model is 0.49724520347681683\n"
     ]
    },
    {
     "data": {
      "text/html": [
       "<div>\n",
       "<style scoped>\n",
       "    .dataframe tbody tr th:only-of-type {\n",
       "        vertical-align: middle;\n",
       "    }\n",
       "\n",
       "    .dataframe tbody tr th {\n",
       "        vertical-align: top;\n",
       "    }\n",
       "\n",
       "    .dataframe thead th {\n",
       "        text-align: right;\n",
       "    }\n",
       "</style>\n",
       "<table border=\"1\" class=\"dataframe\">\n",
       "  <thead>\n",
       "    <tr style=\"text-align: right;\">\n",
       "      <th></th>\n",
       "      <th>2counts.0tr_eval</th>\n",
       "      <th>2counts.1te_eval</th>\n",
       "      <th>2counts.2imprv</th>\n",
       "      <th>2counts.3regular</th>\n",
       "      <th>2counts.5timet</th>\n",
       "    </tr>\n",
       "  </thead>\n",
       "  <tbody>\n",
       "    <tr>\n",
       "      <th>May-09</th>\n",
       "      <td>0.635114</td>\n",
       "      <td>0.632939</td>\n",
       "      <td>0.505411</td>\n",
       "      <td>0.001</td>\n",
       "      <td>8.0</td>\n",
       "    </tr>\n",
       "    <tr>\n",
       "      <th>Jun-09</th>\n",
       "      <td>0.593461</td>\n",
       "      <td>0.585572</td>\n",
       "      <td>0.612460</td>\n",
       "      <td>1.000</td>\n",
       "      <td>8.0</td>\n",
       "    </tr>\n",
       "    <tr>\n",
       "      <th>Jul-09</th>\n",
       "      <td>0.580147</td>\n",
       "      <td>0.577302</td>\n",
       "      <td>0.581923</td>\n",
       "      <td>1.000</td>\n",
       "      <td>9.0</td>\n",
       "    </tr>\n",
       "    <tr>\n",
       "      <th>Aug-09</th>\n",
       "      <td>0.361562</td>\n",
       "      <td>0.386909</td>\n",
       "      <td>1.065306</td>\n",
       "      <td>0.001</td>\n",
       "      <td>8.0</td>\n",
       "    </tr>\n",
       "    <tr>\n",
       "      <th>Sep-09</th>\n",
       "      <td>0.481860</td>\n",
       "      <td>0.497245</td>\n",
       "      <td>0.898514</td>\n",
       "      <td>0.001</td>\n",
       "      <td>8.0</td>\n",
       "    </tr>\n",
       "  </tbody>\n",
       "</table>\n",
       "</div>"
      ],
      "text/plain": [
       "        2counts.0tr_eval  2counts.1te_eval  2counts.2imprv  2counts.3regular  \\\n",
       "May-09          0.635114          0.632939        0.505411             0.001   \n",
       "Jun-09          0.593461          0.585572        0.612460             1.000   \n",
       "Jul-09          0.580147          0.577302        0.581923             1.000   \n",
       "Aug-09          0.361562          0.386909        1.065306             0.001   \n",
       "Sep-09          0.481860          0.497245        0.898514             0.001   \n",
       "\n",
       "        2counts.5timet  \n",
       "May-09             8.0  \n",
       "Jun-09             8.0  \n",
       "Jul-09             9.0  \n",
       "Aug-09             8.0  \n",
       "Sep-09             8.0  "
      ]
     },
     "metadata": {},
     "output_type": "display_data"
    },
    {
     "name": "stdout",
     "output_type": "stream",
     "text": [
      "\\begin{tabular}{lrrrrr}\n",
      "\\toprule\n",
      "{} &  2counts.0tr\\_eval &  2counts.1te\\_eval &  2counts.2imprv &  2counts.3regular &  2counts.5timet \\\\\n",
      "\\midrule\n",
      "May-09 &          0.635114 &          0.632939 &        0.505411 &             0.001 &             8.0 \\\\\n",
      "Jun-09 &          0.593461 &          0.585572 &        0.612460 &             1.000 &             8.0 \\\\\n",
      "Jul-09 &          0.580147 &          0.577302 &        0.581923 &             1.000 &             9.0 \\\\\n",
      "Aug-09 &          0.361562 &          0.386909 &        1.065306 &             0.001 &             8.0 \\\\\n",
      "Sep-09 &          0.481860 &          0.497245 &        0.898514 &             0.001 &             8.0 \\\\\n",
      "\\bottomrule\n",
      "\\end{tabular}\n",
      "\n",
      "CPU times: user 2.49 s, sys: 671 ms, total: 3.16 s\n",
      "Wall time: 42.1 s\n"
     ]
    }
   ],
   "source": [
    "%%time\n",
    "print(datetime.now().time())\n",
    "\n",
    "########################\n",
    "##### CHOOSE FEATS #####\n",
    "########################\n",
    "\n",
    "## define features to predict on\n",
    "numic_variables = ['body_word_cnt', 'titl_word_cnt', 'body_char_cnt', \n",
    "                   'titl_char_cnt', 'body_sent_cnt', 'titl_sent_cnt']\n",
    "\n",
    "## NUMERICAL columns\n",
    "numic_assembler = VectorAssembler(inputCols=numic_variables, outputCol='numic_data') # have to put in single col\n",
    "standardiser = StandardScaler(inputCol='numic_data', outputCol='numic_data_std')    \n",
    "numic_pipeline = Pipeline(stages=[numic_assembler, standardiser])\n",
    "\n",
    "## create PROCESSING pipeline\n",
    "process_assembler = VectorAssembler(inputCols=['numic_data'], #inputCols=['datet_data']\n",
    "                                    outputCol='features') \n",
    "process_pipeline = Pipeline(stages=[numic_pipeline, process_assembler])\n",
    "\n",
    "########################\n",
    "##### CHOOSE MODEL #####\n",
    "########################\n",
    "\n",
    "## linear regression model\n",
    "lr = LinearRegression(maxIter=100,\n",
    "                      #regParam=1,\n",
    "                      elasticNetParam=0, # ridge regression\n",
    "                      featuresCol='features',\n",
    "                      labelCol=target,\n",
    "                      predictionCol=leng_preds)\n",
    "\n",
    "## set up grid for parameter tuning: \n",
    "# Ravi et al use L2, aka ridge, aka elasticNetParam=0\n",
    "# regParam is the value of lambda\n",
    "paramGrid = ParamGridBuilder() \\\n",
    "    .addGrid(lr.regParam, reg_range) \\\n",
    "    .build()\n",
    "\n",
    "## make final pipeline\n",
    "final_pipeline = Pipeline(stages=[process_pipeline, lr])\n",
    "\n",
    "## setup model evaluation metrics\n",
    "learn_evaluator = RegressionEvaluator(metricName=lrn_metric, labelCol=target, predictionCol=leng_preds)\n",
    "model_evaluator = RegressionEvaluator(metricName=ev_metric, labelCol=target, predictionCol=leng_preds)\n",
    "\n",
    "## set up cross validation for parameter tuning\n",
    "crossval = CrossValidator(estimator=final_pipeline,\n",
    "                          estimatorParamMaps=paramGrid,\n",
    "                          evaluator=learn_evaluator,\n",
    "                          numFolds=num_folds)\n",
    "\n",
    "## create models dict for recording gridsearch params\n",
    "models = {}\n",
    "\n",
    "## modelling\n",
    "for i in datasets:\n",
    "    \n",
    "    ## initial variable for timing\n",
    "    t0 = time.time()\n",
    "    \n",
    "    ## fit on training set with CV\n",
    "    cvmodel = crossval.fit(train[i])\n",
    "    models[i] = cvmodel\n",
    "    \n",
    "    ## predict and evaluate\n",
    "    tr_eval = model_evaluator.evaluate(cvmodel.transform(train[i]))\n",
    "    te_eval = model_evaluator.evaluate(cvmodel.transform(test[i]))\n",
    "    print(f\"The test {ev_metric} of \\033[94m{i}'s\\033[0m\\033[92m counts\\033[0m model is {te_eval}\")\n",
    "    \n",
    "    ## get params\n",
    "    # elasticnet\n",
    "    ela_key = list(cvmodel.bestModel.stages[-1].extractParamMap().keys())[1]\n",
    "    ela_param = cvmodel.bestModel.stages[-1].extractParamMap()[ela_key]\n",
    "    # reg'sation\n",
    "    reg_key = list(cvmodel.bestModel.stages[-1].extractParamMap().keys())[9]\n",
    "    reg_param = cvmodel.bestModel.stages[-1].extractParamMap()[reg_key]\n",
    "\n",
    "    ## calculate improvement over median baseline\n",
    "    impr = (base[i] - te_eval)/(base[i] - top[i])*100\n",
    "    \n",
    "    ## record time taken\n",
    "    timet = time.time() - t0\n",
    "\n",
    "    ## store as dictionary inside RESULTS dictionary\n",
    "    RESULTS[i.title()]['2counts.0tr_eval'] = round( tr_eval, deci_choice )\n",
    "    RESULTS[i.title()]['2counts.1te_eval'] = round( te_eval, deci_choice )\n",
    "    RESULTS[i.title()]['2counts.2imprv'] = round( impr, deci_choice )\n",
    "    RESULTS[i.title()]['2counts.3regular'] = round( reg_param, deci_choice )\n",
    "    #RESULTS[i.title()]['2counts.4elastic'] = round( ela_param, deci_choice )    \n",
    "    RESULTS[i.title()]['2counts.5timet'] = round( timet, 0 )\n",
    "    \n",
    "## record results\n",
    "show_save_results(RESULTS, filename=f'{leng_preds}-results.csv')"
   ]
  },
  {
   "cell_type": "markdown",
   "metadata": {},
   "source": [
    "## Bag-of-words Model"
   ]
  },
  {
   "cell_type": "code",
   "execution_count": 29,
   "metadata": {},
   "outputs": [],
   "source": [
    "RESULTS = {}\n",
    "for i in data_array:\n",
    "    # capitalise keys\n",
    "    RESULTS[i.title()] = {}"
   ]
  },
  {
   "cell_type": "code",
   "execution_count": null,
   "metadata": {},
   "outputs": [],
   "source": [
    "%%time\n",
    "print(datetime.now().time()) # takes 2 hours\n",
    "\n",
    "########################\n",
    "##### CHOOSE FEATS #####\n",
    "########################\n",
    "\n",
    "## define features to predict on\n",
    "textt_variables = ['title', 'clean_body']\n",
    "\n",
    "## textual columns\n",
    "# tokenising text cols with custom transformer\n",
    "nltk_tokeniser_body = nltkWordPunctTokeniser(\n",
    "    inputCol='clean_body', outputCol='body_words',  \n",
    "    stopwords=set(nltk.corpus.stopwords.words('english')))\n",
    "\n",
    "nltk_tokeniser_title = nltkWordPunctTokeniser(\n",
    "    inputCol='title', outputCol='titl_words',  \n",
    "    stopwords=set(nltk.corpus.stopwords.words('english')))\n",
    "\n",
    "# count occurence of tokens, i.e. create dfm\n",
    "cnt_vectrizr_body = CountVectorizer(inputCol='body_words', outputCol='body_feats')\n",
    "cnt_vectrizr_title = CountVectorizer(inputCol='titl_words', outputCol='titl_feats')\n",
    "\n",
    "## create processing pipeline\n",
    "process_assembler = VectorAssembler(inputCols=['body_feats', 'titl_feats'], #inputCols=['datet_data']\n",
    "                                    outputCol='features') \n",
    "process_pipeline = Pipeline(stages=[\n",
    "    nltk_tokeniser_body, \n",
    "    nltk_tokeniser_title,\n",
    "    cnt_vectrizr_body,\n",
    "    cnt_vectrizr_title,\n",
    "    process_assembler\n",
    "])\n",
    "\n",
    "########################\n",
    "##### CHOOSE MODEL #####\n",
    "########################\n",
    "\n",
    "## linear regression model\n",
    "lr = LinearRegression(maxIter=100,\n",
    "                      #regParam=1,\n",
    "                      elasticNetParam=0,\n",
    "                      featuresCol='features',\n",
    "                      labelCol=target,\n",
    "                      predictionCol=token_preds)\n",
    "\n",
    "## set up grid for parameter tuning: \n",
    "# Ravi et al use L2, aka ridge, aka elasticNetParam=0\n",
    "# regParam is the value of lambda\n",
    "paramGrid = ParamGridBuilder() \\\n",
    "    .addGrid(lr.regParam, reg_range) \\\n",
    "    .build()\n",
    "\n",
    "## make final pipeline\n",
    "final_pipeline = Pipeline(stages=[process_pipeline, lr])\n",
    "\n",
    "## setup model evaluation metrics\n",
    "learn_evaluator = RegressionEvaluator(metricName=lrn_metric, labelCol=target, predictionCol=token_preds)\n",
    "model_evaluator = RegressionEvaluator(metricName=ev_metric, labelCol=target, predictionCol=token_preds)\n",
    "\n",
    "## set up cross validation for parameter tuning\n",
    "crossval = CrossValidator(estimator=final_pipeline,\n",
    "                          estimatorParamMaps=paramGrid,\n",
    "                          evaluator=learn_evaluator,\n",
    "                          numFolds=num_folds)\n",
    "\n",
    "## create models dict for recording gridsearch params\n",
    "models = {}\n",
    "\n",
    "## modelling\n",
    "for i in data_array:\n",
    "    \n",
    "    ## initial variable for timing\n",
    "    t0 = time.time()\n",
    "    \n",
    "    ## fit on training set with CV\n",
    "    cvmodel = crossval.fit(train[i])\n",
    "    models[i] = cvmodel\n",
    "    \n",
    "    ## predict and evaluate\n",
    "    tr_eval = model_evaluator.evaluate(cvmodel.transform(train[i]))\n",
    "    te_eval = model_evaluator.evaluate(cvmodel.transform(test[i]))\n",
    "    print(f\"The {ev_metric} of \\033[94m{i}'s\\033[0m\\033[92m tokens\\033[0m model is {te_eval}\")\n",
    "    \n",
    "    ## get params\n",
    "    # elasticnet\n",
    "    ela_key = list(cvmodel.bestModel.stages[-1].extractParamMap().keys())[1]\n",
    "    ela_param = cvmodel.bestModel.stages[-1].extractParamMap()[ela_key]\n",
    "    # reg'sation\n",
    "    reg_key = list(cvmodel.bestModel.stages[-1].extractParamMap().keys())[9]\n",
    "    reg_param = cvmodel.bestModel.stages[-1].extractParamMap()[reg_key]\n",
    "\n",
    "    ## calculate improvement over median baseline\n",
    "    impr = (base[i] - te_eval)/(base[i] - top[i])*100\n",
    "    \n",
    "    ## record time taken\n",
    "    timet = time.time() - t0\n",
    "    \n",
    "    ## store as dictionary inside RESULTS dictionary\n",
    "    RESULTS[i.title()]['2tokens.0tr_eval'] = round( tr_eval, deci_choice )\n",
    "    RESULTS[i.title()]['2tokens.1te_eval'] = round( te_eval, deci_choice )\n",
    "    RESULTS[i.title()]['2tokens.2imprv'] = round( impr, deci_choice )\n",
    "    RESULTS[i.title()]['2tokens.3regular'] = round( reg_param, deci_choice )\n",
    "    #RESULTS[i.title()]['2tokens.4elastic'] = round( ela_param, deci_choice )\n",
    "    RESULTS[i.title()]['2tokens.5timet'] = round( timet, 0 )\n",
    "    \n",
    "## record results\n",
    "show_save_results(RESULTS, filename=f'{token_preds}-results.csv')"
   ]
  },
  {
   "cell_type": "code",
   "execution_count": null,
   "metadata": {},
   "outputs": [],
   "source": [
    "## check predictions aren't constant\n",
    "models[data_array[0]].transform(test[data_array[0]]).select('token_preds').take(10)"
   ]
  },
  {
   "cell_type": "markdown",
   "metadata": {},
   "source": [
    "## TF-IDF Model"
   ]
  },
  {
   "cell_type": "code",
   "execution_count": null,
   "metadata": {},
   "outputs": [],
   "source": [
    "RESULTS = {}\n",
    "for i in data_array:\n",
    "    # capitalise keys\n",
    "    RESULTS[i.title()] = {}"
   ]
  },
  {
   "cell_type": "code",
   "execution_count": null,
   "metadata": {},
   "outputs": [],
   "source": [
    "%%time\n",
    "print(datetime.now().time()) # takes 2 hours\n",
    "\n",
    "########################\n",
    "##### CHOOSE FEATS #####\n",
    "########################\n",
    "\n",
    "## define features to predict on\n",
    "textt_variables = ['title', 'clean_body']\n",
    "\n",
    "## textual columns\n",
    "# tokenising text cols with custom transformer\n",
    "nltk_tokeniser_body = nltkWordPunctTokeniser(\n",
    "    inputCol='clean_body', outputCol='body_words',  \n",
    "    stopwords=set(nltk.corpus.stopwords.words('english')))\n",
    "\n",
    "nltk_tokeniser_title = nltkWordPunctTokeniser(\n",
    "    inputCol='title', outputCol='titl_words',  \n",
    "    stopwords=set(nltk.corpus.stopwords.words('english')))\n",
    "\n",
    "# count occurence of tokens, i.e. create dfm\n",
    "cnt_vectrizr_body = CountVectorizer(inputCol='body_words', outputCol='body_raw_feats')\n",
    "cnt_vectrizr_title = CountVectorizer(inputCol='titl_words', outputCol='titl_raw_feats')\n",
    "\n",
    "# create IDF dfm\n",
    "idf_body = IDF(inputCol=\"body_raw_feats\", outputCol=\"body_feats\")\n",
    "idf_title = IDF(inputCol=\"titl_raw_feats\", outputCol=\"titl_feats\")\n",
    "\n",
    "## create processing pipeline\n",
    "process_assembler = VectorAssembler(inputCols=['body_feats', 'titl_feats'], #inputCols=['datet_data']\n",
    "                                    outputCol='features') \n",
    "process_pipeline = Pipeline(stages=[\n",
    "    nltk_tokeniser_body, \n",
    "    nltk_tokeniser_title,\n",
    "    cnt_vectrizr_body,\n",
    "    cnt_vectrizr_title,\n",
    "    idf_body,\n",
    "    idf_title,\n",
    "    process_assembler\n",
    "])\n",
    "\n",
    "########################\n",
    "##### CHOOSE MODEL #####\n",
    "########################\n",
    "\n",
    "## linear regression model\n",
    "lr = LinearRegression(maxIter=100,\n",
    "                      #regParam=1,\n",
    "                      elasticNetParam=0,\n",
    "                      featuresCol='features',\n",
    "                      labelCol=target,\n",
    "                      predictionCol=tfidf_preds)\n",
    "\n",
    "## set up grid for parameter tuning: \n",
    "# Ravi et al use L2, aka ridge, aka elasticNetParam=0\n",
    "# regParam is the value of lambda\n",
    "paramGrid = ParamGridBuilder() \\\n",
    "    .addGrid(lr.regParam, reg_range) \\\n",
    "    .build()\n",
    "\n",
    "## make final pipeline\n",
    "final_pipeline = Pipeline(stages=[process_pipeline, lr])\n",
    "\n",
    "## setup model evaluation metrics\n",
    "learn_evaluator = RegressionEvaluator(metricName=lrn_metric, labelCol=target, predictionCol=tfidf_preds)\n",
    "model_evaluator = RegressionEvaluator(metricName=ev_metric, labelCol=target, predictionCol=tfidf_preds)\n",
    "\n",
    "## set up cross validation for parameter tuning\n",
    "crossval = CrossValidator(estimator=final_pipeline,\n",
    "                          estimatorParamMaps=paramGrid,\n",
    "                          evaluator=learn_evaluator,\n",
    "                          numFolds=num_folds)\n",
    "\n",
    "## create models dict for recording gridsearch params\n",
    "models = {}\n",
    "\n",
    "## modelling\n",
    "for i in data_array:\n",
    "    \n",
    "    ## initial variable for timing\n",
    "    t0 = time.time()\n",
    "    \n",
    "    ## fit on training set with CV\n",
    "    cvmodel = crossval.fit(train[i])\n",
    "    models[i] = cvmodel\n",
    "    \n",
    "    ## predict and evaluate\n",
    "    tr_eval = model_evaluator.evaluate(cvmodel.transform(train[i]))\n",
    "    te_eval = model_evaluator.evaluate(cvmodel.transform(test[i]))\n",
    "    print(f\"The {ev_metric} of \\033[94m{i}'s\\033[0m\\033[92m tfidf\\033[0m model is {te_eval}\")\n",
    "    \n",
    "    ## get params\n",
    "    # elasticnet\n",
    "    ela_key = list(cvmodel.bestModel.stages[-1].extractParamMap().keys())[1]\n",
    "    ela_param = cvmodel.bestModel.stages[-1].extractParamMap()[ela_key]\n",
    "    # reg'sation\n",
    "    reg_key = list(cvmodel.bestModel.stages[-1].extractParamMap().keys())[9]\n",
    "    reg_param = cvmodel.bestModel.stages[-1].extractParamMap()[reg_key]\n",
    "\n",
    "    ## calculate improvement over median baseline\n",
    "    impr = (base[i] - te_eval)/(base[i] - top[i])*100\n",
    "    \n",
    "    ## record time taken\n",
    "    timet = time.time() - t0\n",
    "    \n",
    "    ## store as dictionary inside RESULTS dictionary\n",
    "    RESULTS[i.title()]['2tfidf.0tr_eval'] = round( tr_eval, deci_choice )\n",
    "    RESULTS[i.title()]['2tfidf.1te_eval'] = round( te_eval, deci_choice )\n",
    "    RESULTS[i.title()]['2tfidf.2imprv'] = round( impr, deci_choice )\n",
    "    RESULTS[i.title()]['2tfidf.3regular'] = round( reg_param, deci_choice )\n",
    "    #RESULTS[i.title()]['2tfidf.4elastic'] = round( ela_param, deci_choice )\n",
    "    RESULTS[i.title()]['2tfidf.5timet'] = round( timet, 0 )\n",
    "    \n",
    "## record results\n",
    "show_save_results(RESULTS, filename=f'{tfidf_preds}-results.csv')"
   ]
  },
  {
   "cell_type": "code",
   "execution_count": null,
   "metadata": {},
   "outputs": [],
   "source": [
    "## check predictions aren't constant\n",
    "models[data_array[0]].transform(test[data_array[0]]).select('tfidf_preds').take(10)"
   ]
  },
  {
   "cell_type": "markdown",
   "metadata": {},
   "source": [
    "# LDA Features Model"
   ]
  },
  {
   "cell_type": "code",
   "execution_count": null,
   "metadata": {},
   "outputs": [],
   "source": [
    "RESULTS = {}\n",
    "for i in data_array:\n",
    "    # capitalise keys\n",
    "    RESULTS[i.title()] = {}"
   ]
  },
  {
   "cell_type": "code",
   "execution_count": null,
   "metadata": {},
   "outputs": [],
   "source": [
    "%%time\n",
    "print(datetime.now().time())\n",
    "\n",
    "########################\n",
    "##### CHOOSE FEATS #####\n",
    "########################\n",
    "\n",
    "## define features to predict on\n",
    "numic_variables = ['btd[0]', 'btd[1]', 'btd[2]', 'btd[3]', 'btd[4]', \n",
    "                   'btd[5]', 'btd[6]', 'btd[7]', 'btd[8]', 'btd[9]', \n",
    "                   #'std[0]', 'std[1]', 'std[2]', 'std[3]', 'std[4]', \n",
    "                   #'std[5]', 'std[6]', 'std[7]', 'std[8]', 'std[9]',\n",
    "                   'ttd[0]', 'ttd[1]', 'ttd[2]', 'ttd[3]', 'ttd[4]', \n",
    "                   'ttd[5]', 'ttd[6]', 'ttd[7]', 'ttd[8]', 'ttd[9]'] \n",
    "\n",
    "## numerical columns\n",
    "numic_assembler = VectorAssembler(inputCols=numic_variables, outputCol='numic_data') # have to put in single col\n",
    "standardiser = StandardScaler(inputCol='numic_data', outputCol='numic_data_std')    \n",
    "numic_pipeline = Pipeline(stages=[numic_assembler, standardiser])\n",
    "\n",
    "## create processing pipeline\n",
    "process_assembler = VectorAssembler(inputCols=['numic_data'], #inputCols=['datet_data']\n",
    "                                    outputCol='features') \n",
    "process_pipeline = Pipeline(stages=[numic_pipeline, process_assembler])\n",
    "\n",
    "########################\n",
    "##### CHOOSE MODEL #####\n",
    "########################\n",
    "\n",
    "## linear regression model\n",
    "lr = LinearRegression(maxIter=100,\n",
    "                      #regParam=1,\n",
    "                      elasticNetParam=0,\n",
    "                      featuresCol='features',\n",
    "                      labelCol=target,\n",
    "                      predictionCol=topic_preds)\n",
    "\n",
    "## set up grid for parameter tuning: \n",
    "# Ravi et al use L2, aka ridge, aka elasticNetParam=0\n",
    "# regParam is the value of lambda\n",
    "paramGrid = ParamGridBuilder() \\\n",
    "    .addGrid(lr.regParam, reg_range) \\\n",
    "    .build()\n",
    "\n",
    "## make final pipeline\n",
    "final_pipeline = Pipeline(stages=[process_pipeline, lr])\n",
    "\n",
    "## setup model evaluation metrics\n",
    "learn_evaluator = RegressionEvaluator(metricName=lrn_metric, labelCol=target, predictionCol=topic_preds)\n",
    "model_evaluator = RegressionEvaluator(metricName=ev_metric, labelCol=target, predictionCol=topic_preds)\n",
    "\n",
    "## set up cross validation for parameter tuning\n",
    "crossval = CrossValidator(estimator=final_pipeline,\n",
    "                          estimatorParamMaps=paramGrid,\n",
    "                          evaluator=learn_evaluator,\n",
    "                          numFolds=num_folds)\n",
    "\n",
    "## create models dict for recording gridsearch params\n",
    "models = {}\n",
    "\n",
    "## modelling\n",
    "for i in data_array:\n",
    "    \n",
    "    ## initial variable for timing\n",
    "    t0 = time.time()\n",
    "    \n",
    "    ## fit on training set with CV\n",
    "    cvmodel = crossval.fit(train[i])\n",
    "    models[i] = cvmodel\n",
    "    \n",
    "    ## predict and evaluate\n",
    "    tr_eval = model_evaluator.evaluate(cvmodel.transform(train[i]))\n",
    "    te_eval = model_evaluator.evaluate(cvmodel.transform(test[i]))\n",
    "    print(f\"The {ev_metric} of \\033[94m{i}'s\\033[0m\\033[92m topics\\033[0m model is {te_eval}\")\n",
    "    \n",
    "    ## get params\n",
    "    # elasticnet\n",
    "    ela_key = list(cvmodel.bestModel.stages[-1].extractParamMap().keys())[1]\n",
    "    ela_param = cvmodel.bestModel.stages[-1].extractParamMap()[ela_key]\n",
    "    # reg'sation\n",
    "    reg_key = list(cvmodel.bestModel.stages[-1].extractParamMap().keys())[9]\n",
    "    reg_param = cvmodel.bestModel.stages[-1].extractParamMap()[reg_key]\n",
    "\n",
    "    ## calculate improvement over median baseline\n",
    "    impr = (base[i] - te_eval)/(base[i] - top[i])*100\n",
    "    \n",
    "    ## record time taken\n",
    "    timet = time.time() - t0\n",
    "\n",
    "    ## store as dictionary inside RESULTS dictionary\n",
    "    RESULTS[i.title()]['2topics.0tr_eval'] = round( tr_eval, deci_choice )\n",
    "    RESULTS[i.title()]['2topics.1te_eval'] = round( te_eval, deci_choice )\n",
    "    RESULTS[i.title()]['2topics.2imprv'] = round( impr, deci_choice )\n",
    "    RESULTS[i.title()]['2topics.3regular'] = round( reg_param, deci_choice )\n",
    "    #RESULTS[i.title()]['2topics.4elastic'] = round( ela_param, deci_choice )\n",
    "    RESULTS[i.title()]['2topics.5timet'] = round( timet, 0 )\n",
    "    \n",
    "## record results\n",
    "show_save_results(RESULTS, filename=f'{topic_preds}-results.csv')"
   ]
  },
  {
   "cell_type": "markdown",
   "metadata": {},
   "source": [
    "# Final Model"
   ]
  },
  {
   "cell_type": "code",
   "execution_count": 27,
   "metadata": {},
   "outputs": [],
   "source": [
    "RESULTS = {}\n",
    "for i in data_array:\n",
    "    # capitalise keys\n",
    "    RESULTS[i.title()] = {}"
   ]
  },
  {
   "cell_type": "code",
   "execution_count": 28,
   "metadata": {
    "scrolled": true
   },
   "outputs": [
    {
     "name": "stdout",
     "output_type": "stream",
     "text": [
      "08:51:01.846659\n",
      "The rmse of \u001b[94mMay-09's\u001b[0m\u001b[92m final\u001b[0m model is 0.42357459745011916\n",
      "The rmse of \u001b[94mJun-09's\u001b[0m\u001b[92m final\u001b[0m model is 0.42400612481827193\n",
      "The rmse of \u001b[94mJul-09's\u001b[0m\u001b[92m final\u001b[0m model is 0.39840488269710234\n",
      "The rmse of \u001b[94mAug-09's\u001b[0m\u001b[92m final\u001b[0m model is 0.3867244112775357\n",
      "The rmse of \u001b[94mSep-09's\u001b[0m\u001b[92m final\u001b[0m model is 0.3618746680642695\n"
     ]
    },
    {
     "data": {
      "text/html": [
       "<div>\n",
       "<style scoped>\n",
       "    .dataframe tbody tr th:only-of-type {\n",
       "        vertical-align: middle;\n",
       "    }\n",
       "\n",
       "    .dataframe tbody tr th {\n",
       "        vertical-align: top;\n",
       "    }\n",
       "\n",
       "    .dataframe thead th {\n",
       "        text-align: right;\n",
       "    }\n",
       "</style>\n",
       "<table border=\"1\" class=\"dataframe\">\n",
       "  <thead>\n",
       "    <tr style=\"text-align: right;\">\n",
       "      <th></th>\n",
       "      <th>3final.0tr_eval</th>\n",
       "      <th>3final.1te_eval</th>\n",
       "      <th>3final.2imprv</th>\n",
       "      <th>3final.3regular</th>\n",
       "      <th>3final.5timet</th>\n",
       "    </tr>\n",
       "  </thead>\n",
       "  <tbody>\n",
       "    <tr>\n",
       "      <th>May-09</th>\n",
       "      <td>0.425176</td>\n",
       "      <td>0.423575</td>\n",
       "      <td>1.065009</td>\n",
       "      <td>1.000</td>\n",
       "      <td>12.0</td>\n",
       "    </tr>\n",
       "    <tr>\n",
       "      <th>Jun-09</th>\n",
       "      <td>0.430805</td>\n",
       "      <td>0.424006</td>\n",
       "      <td>2.672033</td>\n",
       "      <td>0.001</td>\n",
       "      <td>12.0</td>\n",
       "    </tr>\n",
       "    <tr>\n",
       "      <th>Jul-09</th>\n",
       "      <td>0.399588</td>\n",
       "      <td>0.398405</td>\n",
       "      <td>1.823416</td>\n",
       "      <td>0.001</td>\n",
       "      <td>10.0</td>\n",
       "    </tr>\n",
       "    <tr>\n",
       "      <th>Aug-09</th>\n",
       "      <td>0.360754</td>\n",
       "      <td>0.386724</td>\n",
       "      <td>1.258033</td>\n",
       "      <td>0.001</td>\n",
       "      <td>10.0</td>\n",
       "    </tr>\n",
       "    <tr>\n",
       "      <th>Sep-09</th>\n",
       "      <td>0.347989</td>\n",
       "      <td>0.361875</td>\n",
       "      <td>3.129170</td>\n",
       "      <td>0.001</td>\n",
       "      <td>10.0</td>\n",
       "    </tr>\n",
       "  </tbody>\n",
       "</table>\n",
       "</div>"
      ],
      "text/plain": [
       "        3final.0tr_eval  3final.1te_eval  3final.2imprv  3final.3regular  \\\n",
       "May-09         0.425176         0.423575       1.065009            1.000   \n",
       "Jun-09         0.430805         0.424006       2.672033            0.001   \n",
       "Jul-09         0.399588         0.398405       1.823416            0.001   \n",
       "Aug-09         0.360754         0.386724       1.258033            0.001   \n",
       "Sep-09         0.347989         0.361875       3.129170            0.001   \n",
       "\n",
       "        3final.5timet  \n",
       "May-09           12.0  \n",
       "Jun-09           12.0  \n",
       "Jul-09           10.0  \n",
       "Aug-09           10.0  \n",
       "Sep-09           10.0  "
      ]
     },
     "metadata": {},
     "output_type": "display_data"
    },
    {
     "name": "stdout",
     "output_type": "stream",
     "text": [
      "\\begin{tabular}{lrrrrr}\n",
      "\\toprule\n",
      "{} &  3final.0tr\\_eval &  3final.1te\\_eval &  3final.2imprv &  3final.3regular &  3final.5timet \\\\\n",
      "\\midrule\n",
      "May-09 &         0.425176 &         0.423575 &       1.065009 &            1.000 &           12.0 \\\\\n",
      "Jun-09 &         0.430805 &         0.424006 &       2.672033 &            0.001 &           12.0 \\\\\n",
      "Jul-09 &         0.399588 &         0.398405 &       1.823416 &            0.001 &           10.0 \\\\\n",
      "Aug-09 &         0.360754 &         0.386724 &       1.258033 &            0.001 &           10.0 \\\\\n",
      "Sep-09 &         0.347989 &         0.361875 &       3.129170 &            0.001 &           10.0 \\\\\n",
      "\\bottomrule\n",
      "\\end{tabular}\n",
      "\n",
      "CPU times: user 2.78 s, sys: 728 ms, total: 3.51 s\n",
      "Wall time: 54.3 s\n"
     ]
    }
   ],
   "source": [
    "%%time\n",
    "print(datetime.now().time())\n",
    "\n",
    "########################\n",
    "##### CHOOSE FEATS #####\n",
    "########################\n",
    "\n",
    "## define features to predict on\n",
    "numic_variables = ['btd[0]', 'btd[1]', 'btd[2]', 'btd[3]', 'btd[4]', \n",
    "                   'btd[5]', 'btd[6]', 'btd[7]', 'btd[8]', 'btd[9]', \n",
    "                   #'std[0]', 'std[1]', 'std[2]', 'std[3]', 'std[4]', \n",
    "                   #'std[5]', 'std[6]', 'std[7]', 'std[8]', 'std[9]',\n",
    "                   'ttd[0]', 'ttd[1]', 'ttd[2]', 'ttd[3]', 'ttd[4]', \n",
    "                   'ttd[5]', 'ttd[6]', 'ttd[7]', 'ttd[8]', 'ttd[9]',\n",
    "                   'body_word_cnt', 'titl_word_cnt', 'body_char_cnt', \n",
    "                   'titl_char_cnt', 'body_sent_cnt', 'titl_sent_cnt']\n",
    "textt_variables = ['title', 'clean_body']\n",
    "\n",
    "### TEXTUAL columns\n",
    "# tokenising text cols with custom transformer\n",
    "nltk_tokeniser_body = nltkWordPunctTokeniser(\n",
    "    inputCol='clean_body', outputCol='body_words',  \n",
    "    stopwords=set(nltk.corpus.stopwords.words('english')))\n",
    "\n",
    "nltk_tokeniser_title = nltkWordPunctTokeniser(\n",
    "    inputCol='title', outputCol='titl_words',  \n",
    "    stopwords=set(nltk.corpus.stopwords.words('english')))\n",
    "\n",
    "# count occurence of tokens, i.e. create dfm\n",
    "cnt_vectrizr_body = CountVectorizer(inputCol='body_words', outputCol='body_raw_feats')\n",
    "cnt_vectrizr_title = CountVectorizer(inputCol='titl_words', outputCol='titl_raw_feats')\n",
    "\n",
    "# create IDF dfm\n",
    "idf_body = IDF(inputCol=\"body_raw_feats\", outputCol=\"body_feats\")\n",
    "idf_title = IDF(inputCol=\"titl_raw_feats\", outputCol=\"titl_feats\")\n",
    "\n",
    "\n",
    "### NUMERICAL columns\n",
    "numic_assembler = VectorAssembler(inputCols=numic_variables, outputCol='numic_data') # have to put in single col\n",
    "standardiser = StandardScaler(inputCol='numic_data', outputCol='numic_data_std')    \n",
    "numic_pipeline = Pipeline(stages=[numic_assembler, standardiser])\n",
    "\n",
    "\n",
    "## create processing pipeline\n",
    "process_assembler = VectorAssembler(inputCols=['numic_data'], #, 'body_feats', 'titl_feats'],\n",
    "                                    outputCol='features') \n",
    "process_pipeline = Pipeline(stages=[\n",
    "    numic_pipeline,\n",
    "    #nltk_tokeniser_body, \n",
    "    #nltk_tokeniser_title,\n",
    "    #cnt_vectrizr_body,\n",
    "    #cnt_vectrizr_title,\n",
    "    #idf_body,\n",
    "    #idf_title,\n",
    "    process_assembler\n",
    "])\n",
    "\n",
    "\n",
    "########################\n",
    "##### CHOOSE MODEL #####\n",
    "########################\n",
    "\n",
    "## linear regression model\n",
    "lr = LinearRegression(maxIter=100,\n",
    "                      #regParam=1,\n",
    "                      elasticNetParam=0,\n",
    "                      featuresCol='features',\n",
    "                      labelCol=target,\n",
    "                      predictionCol=final_preds)\n",
    "\n",
    "## set up grid for parameter tuning: \n",
    "# Ravi et al use L2, aka ridge, aka elasticNetParam=0\n",
    "# regParam is the value of lambda\n",
    "paramGrid = ParamGridBuilder() \\\n",
    "    .addGrid(lr.regParam, reg_range) \\\n",
    "    .build()\n",
    "\n",
    "## make final pipeline\n",
    "final_pipeline = Pipeline(stages=[process_pipeline, lr])\n",
    "\n",
    "## setup model evaluation metrics\n",
    "learn_evaluator = RegressionEvaluator(metricName=lrn_metric, labelCol=target, predictionCol=final_preds)\n",
    "model_evaluator = RegressionEvaluator(metricName=ev_metric, labelCol=target, predictionCol=final_preds)\n",
    "\n",
    "## set up cross validation for parameter tuning\n",
    "crossval = CrossValidator(estimator=final_pipeline,\n",
    "                          estimatorParamMaps=paramGrid,\n",
    "                          evaluator=learn_evaluator,\n",
    "                          numFolds=num_folds)\n",
    "\n",
    "## create models dict for recording gridsearch params\n",
    "models = {}\n",
    "\n",
    "## modelling\n",
    "for i in data_array:\n",
    "    \n",
    "    ## initial variable for timing\n",
    "    t0 = time.time()\n",
    "    \n",
    "    ## fit on training set with CV\n",
    "    cvmodel = crossval.fit(train[i])\n",
    "    models[i] = cvmodel\n",
    "    \n",
    "    ## predict and evaluate\n",
    "    tr_eval = model_evaluator.evaluate(cvmodel.transform(train[i]))\n",
    "    te_eval = model_evaluator.evaluate(cvmodel.transform(test[i]))\n",
    "    print(f\"The {ev_metric} of \\033[94m{i}'s\\033[0m\\033[92m final\\033[0m model is {te_eval}\")\n",
    "    \n",
    "    ## get params\n",
    "    # elasticnet\n",
    "    ela_key = list(cvmodel.bestModel.stages[-1].extractParamMap().keys())[1]\n",
    "    ela_param = cvmodel.bestModel.stages[-1].extractParamMap()[ela_key]\n",
    "    # reg'sation\n",
    "    reg_key = list(cvmodel.bestModel.stages[-1].extractParamMap().keys())[9]\n",
    "    reg_param = cvmodel.bestModel.stages[-1].extractParamMap()[reg_key]\n",
    "\n",
    "    ## calculate improvement over median baseline\n",
    "    impr = (base[i] - te_eval)/(base[i] - top[i])*100\n",
    "    \n",
    "    ## record time taken\n",
    "    timet = time.time() - t0\n",
    "\n",
    "    ## store as dictionary inside RESULTS dictionary\n",
    "    RESULTS[i.title()]['3final.0tr_eval'] = round( tr_eval, deci_choice )\n",
    "    RESULTS[i.title()]['3final.1te_eval'] = round( te_eval, deci_choice )\n",
    "    RESULTS[i.title()]['3final.2imprv'] = round( impr, deci_choice )\n",
    "    RESULTS[i.title()]['3final.3regular'] = round( reg_param, deci_choice )\n",
    "    #RESULTS[i.title()]['3final.4elastic'] = round( ela_param, deci_choice )\n",
    "    RESULTS[i.title()]['3final.5timet'] = round( timet, 0 )\n",
    "    \n",
    "## record results\n",
    "show_save_results(RESULTS, filename=f'{final_preds}-results.csv')"
   ]
  },
  {
   "cell_type": "code",
   "execution_count": 29,
   "metadata": {
    "scrolled": true
   },
   "outputs": [
    {
     "data": {
      "text/plain": [
       "[Row(final_preds=3.415794636711644, score_shift_log=3.784189633918261),\n",
       " Row(final_preds=3.400788774348553, score_shift_log=3.332204510175204),\n",
       " Row(final_preds=3.4107853770071968, score_shift_log=3.1780538303479458),\n",
       " Row(final_preds=3.424368102285517, score_shift_log=3.258096538021482),\n",
       " Row(final_preds=3.398914162360185, score_shift_log=3.1780538303479458),\n",
       " Row(final_preds=3.400609181146227, score_shift_log=3.4011973816621555),\n",
       " Row(final_preds=3.3837265671791044, score_shift_log=3.332204510175204),\n",
       " Row(final_preds=3.3932802633258174, score_shift_log=3.4965075614664802),\n",
       " Row(final_preds=3.4088979051909805, score_shift_log=3.4657359027997265),\n",
       " Row(final_preds=3.4064371840383676, score_shift_log=3.332204510175204)]"
      ]
     },
     "execution_count": 29,
     "metadata": {},
     "output_type": "execute_result"
    }
   ],
   "source": [
    "## check predictions aren't constant\n",
    "models[data_array[0]].transform(test[data_array[0]]).select(['final_preds', 'score_shift_log']).take(10)"
   ]
  },
  {
   "cell_type": "markdown",
   "metadata": {},
   "source": [
    "# Graph train/test errors"
   ]
  },
  {
   "cell_type": "code",
   "execution_count": 32,
   "metadata": {},
   "outputs": [
    {
     "data": {
      "image/png": "[encoded data removed]",
      "text/plain": [
       "<Figure size 1080x360 with 1 Axes>"
      ]
     },
     "metadata": {
      "needs_background": "light"
     },
     "output_type": "display_data"
    },
    {
     "data": {
      "image/png": "[encoded data removed]",
      "text/plain": [
       "<Figure size 1080x360 with 1 Axes>"
      ]
     },
     "metadata": {
      "needs_background": "light"
     },
     "output_type": "display_data"
    },
    {
     "data": {
      "image/png": "[encoded data removed]",
      "text/plain": [
       "<Figure size 1080x360 with 1 Axes>"
      ]
     },
     "metadata": {
      "needs_background": "light"
     },
     "output_type": "display_data"
    },
    {
     "data": {
      "image/png": "[encoded data removed]",
      "text/plain": [
       "<Figure size 1080x360 with 1 Axes>"
      ]
     },
     "metadata": {
      "needs_background": "light"
     },
     "output_type": "display_data"
    },
    {
     "data": {
      "image/png": "[encoded data removed]",
      "text/plain": [
       "<Figure size 1080x360 with 1 Axes>"
      ]
     },
     "metadata": {
      "needs_background": "light"
     },
     "output_type": "display_data"
    }
   ],
   "source": [
    "import numpy as np\n",
    "import pandas as pd\n",
    "\n",
    "import matplotlib.pyplot as plt\n",
    "import matplotlib\n",
    "\n",
    "# choose graph font size\n",
    "font_size = 14\n",
    "matplotlib.rcParams.update({'font.size': font_size})\n",
    "\n",
    "# choose graph fig size\n",
    "fig_size = (15, 5)\n",
    "\n",
    "# load datasets\n",
    "mean_res = pd.read_csv('mean_preds-rmse-results.csv', names=['month', 'Training Error', 'Test Error', 'time'])[1:]\n",
    "leng_res = pd.read_csv('leng_preds-rmse-results.csv', names=['month', 'Training Error', 'Test Error', 'imprv', 'lambda', 'time'])[1:]\n",
    "token_res = pd.read_csv('token_preds-rmse-results.csv', names=['month', 'Training Error', 'Test Error', 'imprv', 'lambda', 'time'])[1:]\n",
    "tfidf_res = pd.read_csv('tfidf_preds-rmse-results.csv', names=['month', 'Training Error', 'Test Error', 'imprv', 'lambda', 'time'])[1:]\n",
    "topic_res = pd.read_csv('topic_preds-rmse-results.csv', names=['month', 'Training Error', 'Test Error', 'imprv', 'lambda', 'time'])[1:]\n",
    "final_res = pd.read_csv('final_preds-rmse-results.csv', names=['month', 'Training Error', 'Test Error', 'imprv', 'lambda', 'time'])[1:]\n",
    "viewc_res = pd.read_csv('viewc_preds-rmse-results.csv', names=['month', 'Training Error', 'Test Error', 'diff', 'time'])[1:]\n",
    "\n",
    "# convert train and test columns to numeric\n",
    "graph_cols = ['Training Error', 'Test Error']\n",
    "\n",
    "mean_res[graph_cols] = mean_res[graph_cols].apply(pd.to_numeric)\n",
    "leng_res[graph_cols] = leng_res[graph_cols].apply(pd.to_numeric)\n",
    "token_res[graph_cols] = token_res[graph_cols].apply(pd.to_numeric)\n",
    "tfidf_res[graph_cols] = token_res[graph_cols].apply(pd.to_numeric)\n",
    "topic_res[graph_cols] = topic_res[graph_cols].apply(pd.to_numeric)\n",
    "final_res[graph_cols] = final_res[graph_cols].apply(pd.to_numeric)\n",
    "viewc_res[graph_cols] = viewc_res[graph_cols].apply(pd.to_numeric)\n",
    "\n",
    "# convert month column to categorical\n",
    "\n",
    "mean_res['month'] = mean_res['month'].astype('category')\n",
    "leng_res['month'] = leng_res['month'].astype('category')\n",
    "token_res['month'] = mean_res['month'].astype('category')\n",
    "tfidf_res['month'] = mean_res['month'].astype('category')\n",
    "topic_res['month'] = mean_res['month'].astype('category')\n",
    "final_res['month'] = mean_res['month'].astype('category')\n",
    "viewc_res['month'] = mean_res['month'].astype('category')\n",
    "\n",
    "# label models\n",
    "mean_res['model'] = 'Baseline'\n",
    "leng_res['model'] = 'Length'\n",
    "token_res['model'] = 'Bag-of-words'\n",
    "tfidf_res['model'] = 'TF-IDF'\n",
    "topic_res['model'] = 'Global Topic'\n",
    "final_res['model'] = 'Combined'\n",
    "viewc_res['model'] = 'log(ViewCount)'\n",
    "\n",
    "# aggregate all data sets #.append(tfidf_res)\n",
    "agg_data = mean_res.append(leng_res).append(token_res).append(tfidf_res).append(topic_res).append(final_res).append(viewc_res)\n",
    "\n",
    "# select monthly datasets\n",
    "may_data = agg_data[agg_data['month'] == 'May-09']\n",
    "jun_data = agg_data[agg_data['month'] == 'Jun-09']\n",
    "jul_data = agg_data[agg_data['month'] == 'Jul-09']\n",
    "aug_data = agg_data[agg_data['month'] == 'Aug-09']\n",
    "sep_data = agg_data[agg_data['month'] == 'Sep-09']\n",
    "\n",
    "# plot monthly datasets\n",
    "k=0\n",
    "for i in [may_data, jun_data, jul_data, aug_data, sep_data]:\n",
    "    fig, ax = plt.subplots(figsize=fig_size)\n",
    "    plt.plot( 'model', 'Training Error', data=i, color='orange', marker='o') #, order=['Constant Mean','Length','Unigram Text', 'Global Topic', 'Final', 'log(ViewCount)'])\n",
    "    plt.plot( 'model', 'Test Error', data=i, color='red', marker='o')\n",
    "    \n",
    "    # set axes labels\n",
    "    #ax.set_xlabel('Model')\n",
    "    ax.set_ylabel('RMSE')\n",
    "    \n",
    "    # set x-axis ticks to diagonal\n",
    "    #plt.xticks(rotation=45)\n",
    "    \n",
    "    # set y-axis limits\n",
    "    ax.set_ylim(0.22, 0.48)  \n",
    "\n",
    "    # plot legend\n",
    "    plt.legend()\n",
    "    \n",
    "    # save figure\n",
    "    plt.savefig(f'01-eda/01-graphs/{data_array[k]}-rmse-results.png', bbox_inches=\"tight\")\n",
    "    \n",
    "    # increment k\n",
    "    k = k+1"
   ]
  },
  {
   "cell_type": "code",
   "execution_count": null,
   "metadata": {},
   "outputs": [],
   "source": [
    "break"
   ]
  },
  {
   "cell_type": "markdown",
   "metadata": {},
   "source": [
    "# Save predictions"
   ]
  },
  {
   "cell_type": "code",
   "execution_count": null,
   "metadata": {},
   "outputs": [],
   "source": [
    "(trained_pipeline\n",
    " .transform(datasets['english'])\n",
    " .select(\n",
    "    indep_text_variables + [\"prediction\"]\n",
    " )\n",
    " .write\n",
    " .parquet(\"linreg_prediction.parquet\")\n",
    ")"
   ]
  },
  {
   "cell_type": "code",
   "execution_count": null,
   "metadata": {},
   "outputs": [],
   "source": [
    "linreg_predictions = spark.read.parquet(\"linreg_prediction.parquet\")"
   ]
  },
  {
   "cell_type": "code",
   "execution_count": null,
   "metadata": {},
   "outputs": [],
   "source": [
    "linreg_predictions.toPandas().head()"
   ]
  },
  {
   "cell_type": "code",
   "execution_count": null,
   "metadata": {},
   "outputs": [],
   "source": [
    "linreg_predictions.select(\"prediction\").describe().toPandas()"
   ]
  },
  {
   "cell_type": "markdown",
   "metadata": {},
   "source": [
    "# Save pipelines"
   ]
  },
  {
   "cell_type": "code",
   "execution_count": null,
   "metadata": {},
   "outputs": [],
   "source": [
    "from joblib import dump, load\n",
    "dump(estimator_pipeline, 'pipeline.joblib') \n",
    "\n",
    "reloaded = load(\"pipeline.joblib\")\n",
    "\n",
    "#Now we can predict directly!\n",
    "\n",
    "reloaded.predict(X)[:10]"
   ]
  },
  {
   "cell_type": "code",
   "execution_count": null,
   "metadata": {
    "scrolled": true
   },
   "outputs": [],
   "source": [
    "## save models DOESN'T WORK BECAUSE: 'NLTKWordPunctTokenizer' object has no attribute '_to_java'\n",
    "for i in data_array:\n",
    "    param_dict[i].save(f'{i}-pipeline') "
   ]
  },
  {
   "cell_type": "markdown",
   "metadata": {},
   "source": [
    "# Convert notebook to python file"
   ]
  },
  {
   "cell_type": "code",
   "execution_count": null,
   "metadata": {},
   "outputs": [],
   "source": [
    "!jupyter nbconvert --to script 0-master-notebook-pipelines.ipynb"
   ]
  }
 ],
 "metadata": {
  "kernelspec": {
   "display_name": "Python 3",
   "language": "python",
   "name": "python3"
  },
  "language_info": {
   "codemirror_mode": {
    "name": "ipython",
    "version": 3
   },
   "file_extension": ".py",
   "mimetype": "text/x-python",
   "name": "python",
   "nbconvert_exporter": "python",
   "pygments_lexer": "ipython3",
   "version": "3.6.7"
  }
 },
 "nbformat": 4,
 "nbformat_minor": 2
}

{
 "cells": [
  {
   "cell_type": "markdown",
   "metadata": {},
   "source": [
    "# GOALS\n",
    "\n",
    "* Decide on viewcount threshold to eliminate views?\n",
    "* Get feature columns working\n",
    "* Build an LDA model"
   ]
  },
  {
   "cell_type": "code",
   "execution_count": 1,
   "metadata": {},
   "outputs": [
    {
     "name": "stdout",
     "output_type": "stream",
     "text": [
      "b'\"Welcome to my PySpark analysis of some StackExchange Data\"\\n'\n"
     ]
    }
   ],
   "source": [
    "## testing printing output from console\n",
    "import subprocess\n",
    "cmd = [ 'echo', '\"Welcome to my PySpark analysis of some StackExchange Data\"' ]\n",
    "output = subprocess.Popen( cmd, stdout=subprocess.PIPE ).communicate()[0]\n",
    "print(output)"
   ]
  },
  {
   "cell_type": "code",
   "execution_count": 2,
   "metadata": {},
   "outputs": [],
   "source": [
    "import numpy as np\n",
    "import pandas as pd\n",
    "from datetime import datetime"
   ]
  },
  {
   "cell_type": "markdown",
   "metadata": {},
   "source": [
    "# Load PySpark and Data Structures"
   ]
  },
  {
   "cell_type": "code",
   "execution_count": 3,
   "metadata": {},
   "outputs": [
    {
     "name": "stdout",
     "output_type": "stream",
     "text": [
      "The Spark UI is available at: http://192.168.0.26:4040/ and the defaultParallelism is 4\n",
      "The data_array is: ['english', 'math', 'rus_stackoverflow', 'stackoverflow', 'superuser']\n"
     ]
    }
   ],
   "source": [
    "%run -i '1-load-pyspark-and-structs.py'"
   ]
  },
  {
   "cell_type": "markdown",
   "metadata": {},
   "source": [
    "# Load Data"
   ]
  },
  {
   "cell_type": "code",
   "execution_count": 4,
   "metadata": {},
   "outputs": [
    {
     "name": "stdout",
     "output_type": "stream",
     "text": [
      "14:43:14.065920\n",
      "CPU times: user 279 µs, sys: 185 µs, total: 464 µs\n",
      "Wall time: 363 µs\n"
     ]
    }
   ],
   "source": [
    "%%time\n",
    "print(datetime.now().time())\n",
    "#%run -i '2-load-datasets.py'"
   ]
  },
  {
   "cell_type": "code",
   "execution_count": 5,
   "metadata": {},
   "outputs": [],
   "source": [
    "def show_spark_df(df, n=5):\n",
    "    '''\n",
    "    function to better print spark df entries\n",
    "    '''\n",
    "    display(pd.DataFrame(df.head(n), columns=df.columns))"
   ]
  },
  {
   "cell_type": "markdown",
   "metadata": {},
   "source": [
    "# Clean Data"
   ]
  },
  {
   "cell_type": "code",
   "execution_count": 6,
   "metadata": {},
   "outputs": [
    {
     "name": "stdout",
     "output_type": "stream",
     "text": [
      "14:43:14.096546\n",
      "CPU times: user 202 µs, sys: 65 µs, total: 267 µs\n",
      "Wall time: 228 µs\n"
     ]
    }
   ],
   "source": [
    "%%time\n",
    "print(datetime.now().time())\n",
    "#%run -i '3-clean-datasets.py'"
   ]
  },
  {
   "cell_type": "markdown",
   "metadata": {},
   "source": [
    "# EDA (optional)"
   ]
  },
  {
   "cell_type": "code",
   "execution_count": 7,
   "metadata": {},
   "outputs": [
    {
     "name": "stdout",
     "output_type": "stream",
     "text": [
      "14:43:14.103846\n",
      "CPU times: user 350 µs, sys: 163 µs, total: 513 µs\n",
      "Wall time: 409 µs\n"
     ]
    }
   ],
   "source": [
    "%%time\n",
    "print(datetime.now().time())\n",
    "#%run -i '4-eda.py'\n",
    "\n",
    "#NB TO DO: Find threshold to delete low views to make sure users that can vote have seen the question\n",
    "\n",
    "'''\n",
    "vc_thresh_data = {}\n",
    "\n",
    "## finding means of viewcounts across fora\n",
    "\n",
    "for i in data_array:\n",
    "    vc_thresh_data[i] = datasets[i].select(\"viewcount\").rdd.flatMap(lambda x: x).mean()\n",
    "\n",
    "vc_thresh_data'''"
   ]
  },
  {
   "cell_type": "markdown",
   "metadata": {},
   "source": [
    "# Define Ravi Target Variable and Export Clean Data"
   ]
  },
  {
   "cell_type": "code",
   "execution_count": 8,
   "metadata": {},
   "outputs": [
    {
     "name": "stdout",
     "output_type": "stream",
     "text": [
      "14:43:14.112001\n",
      "CPU times: user 145 µs, sys: 60 µs, total: 205 µs\n",
      "Wall time: 194 µs\n"
     ]
    }
   ],
   "source": [
    "%%time\n",
    "print(datetime.now().time())\n",
    "#%run -i '5-define-target.py'"
   ]
  },
  {
   "cell_type": "code",
   "execution_count": 9,
   "metadata": {},
   "outputs": [
    {
     "name": "stdout",
     "output_type": "stream",
     "text": [
      "CPU times: user 3.68 ms, sys: 2.28 ms, total: 5.96 ms\n",
      "Wall time: 3.99 s\n"
     ]
    }
   ],
   "source": [
    "%%time\n",
    "\n",
    "## load clean data\n",
    "for i in data_array:\n",
    "    datasets[i] = (\n",
    "        spark\n",
    "        .read\n",
    "        .load(f'clean-data/{i}.parquet')\n",
    ")"
   ]
  },
  {
   "cell_type": "markdown",
   "metadata": {},
   "source": [
    "# Create Results Dictionary"
   ]
  },
  {
   "cell_type": "code",
   "execution_count": 10,
   "metadata": {},
   "outputs": [],
   "source": [
    "RESULTS = {}"
   ]
  },
  {
   "cell_type": "markdown",
   "metadata": {},
   "source": [
    "# Silly Mean and Median Models"
   ]
  },
  {
   "cell_type": "code",
   "execution_count": 11,
   "metadata": {},
   "outputs": [],
   "source": [
    "from pyspark.sql.functions import array, lit, struct\n",
    "\n",
    "## create median and mean dictionaries\n",
    "y_ravi_medians = {}\n",
    "y_ravi_means = {}\n",
    "\n",
    "## create constant median and mean columns for evaluation baseline\n",
    "for i in data_array:\n",
    "    y_ravi_medians[i] = datasets[i].approxQuantile('y_ravi', [0.5], 0.25)[0]\n",
    "    y_ravi_means[i] = datasets[i].select('y_ravi').rdd.flatMap(lambda x: x).mean()"
   ]
  },
  {
   "cell_type": "code",
   "execution_count": 12,
   "metadata": {},
   "outputs": [
    {
     "name": "stdout",
     "output_type": "stream",
     "text": [
      "The root-mean-square error of \u001b[94menglish's\u001b[0m\u001b[92m median\u001b[0m model is 0.011407298175493769\n",
      "The root-mean-square error of \u001b[94mmath's\u001b[0m\u001b[92m median\u001b[0m model is 0.01948979798344224\n",
      "The root-mean-square error of \u001b[94mrus_stackoverflow's\u001b[0m\u001b[92m median\u001b[0m model is 0.018921842554517707\n",
      "The root-mean-square error of \u001b[94mstackoverflow's\u001b[0m\u001b[92m median\u001b[0m model is 0.014281609584952339\n",
      "The root-mean-square error of \u001b[94msuperuser's\u001b[0m\u001b[92m median\u001b[0m model is 0.010593612389712697\n"
     ]
    }
   ],
   "source": [
    "## import rmse evaluator\n",
    "from pyspark.ml.evaluation import RegressionEvaluator\n",
    "\n",
    "## create baselines dictionary\n",
    "baselines = {}\n",
    "\n",
    "for i in data_array:\n",
    "\n",
    "    ## train silly median model\n",
    "    datasets[i] = datasets[i].withColumn('median_pred', lit(y_ravi_medians[i]))\n",
    "\n",
    "    ## evaluate silly median model\n",
    "    evaluator = RegressionEvaluator(metricName=\"rmse\", labelCol=\"y_ravi\", predictionCol=\"median_pred\")\n",
    "    baselines[i] = evaluator.evaluate(datasets[i])\n",
    "\n",
    "    print(f\"The root-mean-square error of \\033[94m{i}'s\\033[0m\\033[92m median\\033[0m model is {baselines[i]}\")\n",
    "\n",
    "    ## store as dictionary inside RESULTS dictionary, initiating dataset name entries first\n",
    "    RESULTS[i] = {'silly_median': [baselines[i], 0]}"
   ]
  },
  {
   "cell_type": "code",
   "execution_count": 13,
   "metadata": {},
   "outputs": [
    {
     "name": "stdout",
     "output_type": "stream",
     "text": [
      "The root-mean-square error of \u001b[94menglish's\u001b[0m\u001b[92m mean\u001b[0m model is 0.010981530956769198\n",
      "The root-mean-square error of \u001b[94mmath's\u001b[0m\u001b[92m mean\u001b[0m model is 0.019399287092353668\n",
      "The root-mean-square error of \u001b[94mrus_stackoverflow's\u001b[0m\u001b[92m mean\u001b[0m model is 0.01763567702987531\n",
      "The root-mean-square error of \u001b[94mstackoverflow's\u001b[0m\u001b[92m mean\u001b[0m model is 0.01411915241574049\n",
      "The root-mean-square error of \u001b[94msuperuser's\u001b[0m\u001b[92m mean\u001b[0m model is 0.010293770490765039\n"
     ]
    }
   ],
   "source": [
    "for i in data_array:\n",
    "    \n",
    "    ## train silly mean model\n",
    "    datasets[i] = datasets[i].withColumn('mean_pred', lit(y_ravi_means[i]))\n",
    "\n",
    "    ## evaluate silly mean model\n",
    "    evaluator = RegressionEvaluator(metricName=\"rmse\", labelCol=\"y_ravi\", predictionCol=\"mean_pred\")\n",
    "    rmse = evaluator.evaluate(datasets[i])\n",
    "\n",
    "    print(f\"The root-mean-square error of \\033[94m{i}'s\\033[0m\\033[92m mean\\033[0m model is {rmse}\")\n",
    "\n",
    "    ## calculate improvement over median baseline\n",
    "    imprvt = round((rmse/baselines[i] - 1)*-100, 3)\n",
    "\n",
    "    ## store as dictionary inside RESULTS dictionary\n",
    "    RESULTS[i]['silly_mean'] = [rmse, imprvt]"
   ]
  },
  {
   "cell_type": "code",
   "execution_count": 14,
   "metadata": {
    "scrolled": true
   },
   "outputs": [
    {
     "data": {
      "text/html": [
       "<div>\n",
       "<style scoped>\n",
       "    .dataframe tbody tr th:only-of-type {\n",
       "        vertical-align: middle;\n",
       "    }\n",
       "\n",
       "    .dataframe tbody tr th {\n",
       "        vertical-align: top;\n",
       "    }\n",
       "\n",
       "    .dataframe thead th {\n",
       "        text-align: right;\n",
       "    }\n",
       "</style>\n",
       "<table border=\"1\" class=\"dataframe\">\n",
       "  <thead>\n",
       "    <tr style=\"text-align: right;\">\n",
       "      <th></th>\n",
       "      <th>silly_mean</th>\n",
       "      <th>silly_median</th>\n",
       "    </tr>\n",
       "  </thead>\n",
       "  <tbody>\n",
       "    <tr>\n",
       "      <th>english</th>\n",
       "      <td>[0.010981530956769198, 3.732]</td>\n",
       "      <td>[0.011407298175493769, 0]</td>\n",
       "    </tr>\n",
       "    <tr>\n",
       "      <th>math</th>\n",
       "      <td>[0.019399287092353668, 0.464]</td>\n",
       "      <td>[0.01948979798344224, 0]</td>\n",
       "    </tr>\n",
       "    <tr>\n",
       "      <th>rus_stackoverflow</th>\n",
       "      <td>[0.01763567702987531, 6.797]</td>\n",
       "      <td>[0.018921842554517707, 0]</td>\n",
       "    </tr>\n",
       "    <tr>\n",
       "      <th>stackoverflow</th>\n",
       "      <td>[0.01411915241574049, 1.138]</td>\n",
       "      <td>[0.014281609584952339, 0]</td>\n",
       "    </tr>\n",
       "    <tr>\n",
       "      <th>superuser</th>\n",
       "      <td>[0.010293770490765039, 2.83]</td>\n",
       "      <td>[0.010593612389712697, 0]</td>\n",
       "    </tr>\n",
       "  </tbody>\n",
       "</table>\n",
       "</div>"
      ],
      "text/plain": [
       "                                      silly_mean               silly_median\n",
       "english            [0.010981530956769198, 3.732]  [0.011407298175493769, 0]\n",
       "math               [0.019399287092353668, 0.464]   [0.01948979798344224, 0]\n",
       "rus_stackoverflow   [0.01763567702987531, 6.797]  [0.018921842554517707, 0]\n",
       "stackoverflow       [0.01411915241574049, 1.138]  [0.014281609584952339, 0]\n",
       "superuser           [0.010293770490765039, 2.83]  [0.010593612389712697, 0]"
      ]
     },
     "execution_count": 14,
     "metadata": {},
     "output_type": "execute_result"
    }
   ],
   "source": [
    "# improvement using rmse\n",
    "pd.DataFrame.from_dict(RESULTS).T"
   ]
  },
  {
   "cell_type": "code",
   "execution_count": 15,
   "metadata": {},
   "outputs": [
    {
     "data": {
      "text/plain": [
       "'\\nInteresting that some models have a vast improvement just using a constant mean prediction compare to median.\\n'"
      ]
     },
     "execution_count": 15,
     "metadata": {},
     "output_type": "execute_result"
    }
   ],
   "source": [
    "'''\n",
    "Interesting that some models have a vast improvement just using a constant mean prediction compare to median.\n",
    "'''"
   ]
  },
  {
   "cell_type": "markdown",
   "metadata": {},
   "source": [
    "# Viewcount Model"
   ]
  },
  {
   "cell_type": "code",
   "execution_count": 16,
   "metadata": {},
   "outputs": [],
   "source": [
    "from pyspark.ml.pipeline import Pipeline\n",
    "\n",
    "from pyspark.ml.feature import VectorAssembler\n",
    "\n",
    "## because you can't just pass a column without vectorising it\n",
    "to_vectors = VectorAssembler(inputCols=[\"viewcount\", \"score\"], outputCol=\"features\")\n",
    "\n",
    "processing_pipeline = Pipeline(stages=[to_vectors])"
   ]
  },
  {
   "cell_type": "code",
   "execution_count": 18,
   "metadata": {},
   "outputs": [
    {
     "name": "stdout",
     "output_type": "stream",
     "text": [
      "CPU times: user 195 ms, sys: 52.4 ms, total: 248 ms\n",
      "Wall time: 43.9 s\n"
     ]
    }
   ],
   "source": [
    "%%time\n",
    "\n",
    "## linear regression on just viewcount\n",
    "from pyspark.ml.regression import LinearRegression\n",
    "\n",
    "'''## clear features column\n",
    "for i in data_array:\n",
    "    datasets[i] = datasets[i].drop(\"features\").collect()'''\n",
    "    \n",
    "lr = LinearRegression(maxIter=100,\n",
    "                      regParam=0.3,\n",
    "                      elasticNetParam=0.8,\n",
    "                      featuresCol=\"features\",\n",
    "                      labelCol=\"y_ravi\",\n",
    "                      predictionCol=\"viewcount_pred\")\n",
    "\n",
    "## make final pipeline\n",
    "final_pipeline = Pipeline(stages=[to_vectors, lr])\n",
    "\n",
    "## fit pipeline on datasets\n",
    "for i in data_array:\n",
    "    datasets[i] = final_pipeline.fit(datasets[i]).transform(datasets[i])"
   ]
  },
  {
   "cell_type": "code",
   "execution_count": 19,
   "metadata": {},
   "outputs": [
    {
     "name": "stdout",
     "output_type": "stream",
     "text": [
      "The root-mean-square error of \u001b[94menglish's\u001b[0m\u001b[92m viewcount\u001b[0m model is 0.010981530956769198\n",
      "The root-mean-square error of \u001b[94mmath's\u001b[0m\u001b[92m viewcount\u001b[0m model is 0.01939928709235388\n",
      "The root-mean-square error of \u001b[94mrus_stackoverflow's\u001b[0m\u001b[92m viewcount\u001b[0m model is 0.017635677029875438\n",
      "The root-mean-square error of \u001b[94mstackoverflow's\u001b[0m\u001b[92m viewcount\u001b[0m model is 0.014119152415740502\n",
      "The root-mean-square error of \u001b[94msuperuser's\u001b[0m\u001b[92m viewcount\u001b[0m model is 0.01029377049076506\n"
     ]
    }
   ],
   "source": [
    "## evaluate model\n",
    "evaluator = RegressionEvaluator(metricName=\"rmse\", labelCol=\"y_ravi\", predictionCol=\"viewcount_pred\")\n",
    "\n",
    "for i in data_array:\n",
    "    rmse = evaluator.evaluate(datasets[i])\n",
    "    \n",
    "    print(f\"The root-mean-square error of \\033[94m{i}'s\\033[0m\\033[92m viewcount\\033[0m model is {rmse}\")\n",
    "    imprvt = round((rmse/baselines[i] - 1)*-100, 3)\n",
    "\n",
    "    RESULTS[i]['viewcount'] = [rmse, imprvt]"
   ]
  },
  {
   "cell_type": "code",
   "execution_count": 20,
   "metadata": {
    "scrolled": true
   },
   "outputs": [
    {
     "data": {
      "text/html": [
       "<div>\n",
       "<style scoped>\n",
       "    .dataframe tbody tr th:only-of-type {\n",
       "        vertical-align: middle;\n",
       "    }\n",
       "\n",
       "    .dataframe tbody tr th {\n",
       "        vertical-align: top;\n",
       "    }\n",
       "\n",
       "    .dataframe thead th {\n",
       "        text-align: right;\n",
       "    }\n",
       "</style>\n",
       "<table border=\"1\" class=\"dataframe\">\n",
       "  <thead>\n",
       "    <tr style=\"text-align: right;\">\n",
       "      <th></th>\n",
       "      <th>silly_mean</th>\n",
       "      <th>silly_median</th>\n",
       "      <th>viewcount</th>\n",
       "    </tr>\n",
       "  </thead>\n",
       "  <tbody>\n",
       "    <tr>\n",
       "      <th>english</th>\n",
       "      <td>[0.010981530956769198, 3.732]</td>\n",
       "      <td>[0.011407298175493769, 0]</td>\n",
       "      <td>[0.010981530956769198, 3.732]</td>\n",
       "    </tr>\n",
       "    <tr>\n",
       "      <th>math</th>\n",
       "      <td>[0.019399287092353668, 0.464]</td>\n",
       "      <td>[0.01948979798344224, 0]</td>\n",
       "      <td>[0.01939928709235388, 0.464]</td>\n",
       "    </tr>\n",
       "    <tr>\n",
       "      <th>rus_stackoverflow</th>\n",
       "      <td>[0.01763567702987531, 6.797]</td>\n",
       "      <td>[0.018921842554517707, 0]</td>\n",
       "      <td>[0.017635677029875438, 6.797]</td>\n",
       "    </tr>\n",
       "    <tr>\n",
       "      <th>stackoverflow</th>\n",
       "      <td>[0.01411915241574049, 1.138]</td>\n",
       "      <td>[0.014281609584952339, 0]</td>\n",
       "      <td>[0.014119152415740502, 1.138]</td>\n",
       "    </tr>\n",
       "    <tr>\n",
       "      <th>superuser</th>\n",
       "      <td>[0.010293770490765039, 2.83]</td>\n",
       "      <td>[0.010593612389712697, 0]</td>\n",
       "      <td>[0.01029377049076506, 2.83]</td>\n",
       "    </tr>\n",
       "  </tbody>\n",
       "</table>\n",
       "</div>"
      ],
      "text/plain": [
       "                                      silly_mean               silly_median  \\\n",
       "english            [0.010981530956769198, 3.732]  [0.011407298175493769, 0]   \n",
       "math               [0.019399287092353668, 0.464]   [0.01948979798344224, 0]   \n",
       "rus_stackoverflow   [0.01763567702987531, 6.797]  [0.018921842554517707, 0]   \n",
       "stackoverflow       [0.01411915241574049, 1.138]  [0.014281609584952339, 0]   \n",
       "superuser           [0.010293770490765039, 2.83]  [0.010593612389712697, 0]   \n",
       "\n",
       "                                       viewcount  \n",
       "english            [0.010981530956769198, 3.732]  \n",
       "math                [0.01939928709235388, 0.464]  \n",
       "rus_stackoverflow  [0.017635677029875438, 6.797]  \n",
       "stackoverflow      [0.014119152415740502, 1.138]  \n",
       "superuser            [0.01029377049076506, 2.83]  "
      ]
     },
     "execution_count": 20,
     "metadata": {},
     "output_type": "execute_result"
    }
   ],
   "source": [
    "# improvement using rmse\n",
    "pd.DataFrame.from_dict(RESULTS).T"
   ]
  },
  {
   "cell_type": "code",
   "execution_count": 23,
   "metadata": {},
   "outputs": [
    {
     "data": {
      "text/plain": [
       "Pipeline_b7354de8942a"
      ]
     },
     "execution_count": 23,
     "metadata": {},
     "output_type": "execute_result"
    }
   ],
   "source": [
    "final_pipeline"
   ]
  },
  {
   "cell_type": "code",
   "execution_count": 21,
   "metadata": {},
   "outputs": [
    {
     "data": {
      "text/html": [
       "<div>\n",
       "<style scoped>\n",
       "    .dataframe tbody tr th:only-of-type {\n",
       "        vertical-align: middle;\n",
       "    }\n",
       "\n",
       "    .dataframe tbody tr th {\n",
       "        vertical-align: top;\n",
       "    }\n",
       "\n",
       "    .dataframe thead th {\n",
       "        text-align: right;\n",
       "    }\n",
       "</style>\n",
       "<table border=\"1\" class=\"dataframe\">\n",
       "  <thead>\n",
       "    <tr style=\"text-align: right;\">\n",
       "      <th></th>\n",
       "      <th>body</th>\n",
       "      <th>title</th>\n",
       "      <th>viewcount</th>\n",
       "      <th>score</th>\n",
       "      <th>clean_body</th>\n",
       "      <th>y_ravi</th>\n",
       "      <th>median_pred</th>\n",
       "      <th>mean_pred</th>\n",
       "      <th>features</th>\n",
       "      <th>viewcount_pred</th>\n",
       "    </tr>\n",
       "  </thead>\n",
       "  <tbody>\n",
       "    <tr>\n",
       "      <th>0</th>\n",
       "      <td>&lt;p&gt;How do I know when to use &lt;em&gt;lay&lt;/em&gt; and ...</td>\n",
       "      <td>What is the difference between \"lay\" and \"lie\"?</td>\n",
       "      <td>18413</td>\n",
       "      <td>35</td>\n",
       "      <td>How do I know when to use  lay  and when to u...</td>\n",
       "      <td>0.001901</td>\n",
       "      <td>0.00069</td>\n",
       "      <td>0.003778</td>\n",
       "      <td>[18413.0, 35.0]</td>\n",
       "      <td>0.003778</td>\n",
       "    </tr>\n",
       "    <tr>\n",
       "      <th>1</th>\n",
       "      <td>&lt;p&gt;When you want to connect two closely relate...</td>\n",
       "      <td>Should I use a semicolon or a dash to connect ...</td>\n",
       "      <td>106724</td>\n",
       "      <td>52</td>\n",
       "      <td>When you want to connect two closely related ...</td>\n",
       "      <td>0.000487</td>\n",
       "      <td>0.00069</td>\n",
       "      <td>0.003778</td>\n",
       "      <td>[106724.0, 52.0]</td>\n",
       "      <td>0.003778</td>\n",
       "    </tr>\n",
       "    <tr>\n",
       "      <th>2</th>\n",
       "      <td>&lt;blockquote&gt;\\n  &lt;p&gt;&lt;strong&gt;Possible Duplicate:...</td>\n",
       "      <td>What does Maugham mean by \"his spaghetti were\"?</td>\n",
       "      <td>1131</td>\n",
       "      <td>11</td>\n",
       "      <td>Possible Duplicate:      Was the usage &amp;...</td>\n",
       "      <td>0.009726</td>\n",
       "      <td>0.00069</td>\n",
       "      <td>0.003778</td>\n",
       "      <td>[1131.0, 11.0]</td>\n",
       "      <td>0.003778</td>\n",
       "    </tr>\n",
       "    <tr>\n",
       "      <th>3</th>\n",
       "      <td>&lt;p&gt;How do you say it correctly?&lt;/p&gt;\\n\\n&lt;ul&gt;\\n&lt;...</td>\n",
       "      <td>\"Adult and children stories\" or \"Adults and ch...</td>\n",
       "      <td>959</td>\n",
       "      <td>2</td>\n",
       "      <td>How do you say it correctly?      Adult and c...</td>\n",
       "      <td>0.002086</td>\n",
       "      <td>0.00069</td>\n",
       "      <td>0.003778</td>\n",
       "      <td>[959.0, 2.0]</td>\n",
       "      <td>0.003778</td>\n",
       "    </tr>\n",
       "    <tr>\n",
       "      <th>4</th>\n",
       "      <td>&lt;p&gt;\"Proven\" and \"proved\" both seem to mean the...</td>\n",
       "      <td>What is the difference between \"proven\" and \"p...</td>\n",
       "      <td>52711</td>\n",
       "      <td>50</td>\n",
       "      <td>\"Proven\" and \"proved\" both seem to mean the s...</td>\n",
       "      <td>0.000949</td>\n",
       "      <td>0.00069</td>\n",
       "      <td>0.003778</td>\n",
       "      <td>[52711.0, 50.0]</td>\n",
       "      <td>0.003778</td>\n",
       "    </tr>\n",
       "  </tbody>\n",
       "</table>\n",
       "</div>"
      ],
      "text/plain": [
       "                                                body  \\\n",
       "0  <p>How do I know when to use <em>lay</em> and ...   \n",
       "1  <p>When you want to connect two closely relate...   \n",
       "2  <blockquote>\\n  <p><strong>Possible Duplicate:...   \n",
       "3  <p>How do you say it correctly?</p>\\n\\n<ul>\\n<...   \n",
       "4  <p>\"Proven\" and \"proved\" both seem to mean the...   \n",
       "\n",
       "                                               title  viewcount  score  \\\n",
       "0    What is the difference between \"lay\" and \"lie\"?      18413     35   \n",
       "1  Should I use a semicolon or a dash to connect ...     106724     52   \n",
       "2    What does Maugham mean by \"his spaghetti were\"?       1131     11   \n",
       "3  \"Adult and children stories\" or \"Adults and ch...        959      2   \n",
       "4  What is the difference between \"proven\" and \"p...      52711     50   \n",
       "\n",
       "                                          clean_body    y_ravi  median_pred  \\\n",
       "0   How do I know when to use  lay  and when to u...  0.001901      0.00069   \n",
       "1   When you want to connect two closely related ...  0.000487      0.00069   \n",
       "2        Possible Duplicate:      Was the usage &...  0.009726      0.00069   \n",
       "3   How do you say it correctly?      Adult and c...  0.002086      0.00069   \n",
       "4   \"Proven\" and \"proved\" both seem to mean the s...  0.000949      0.00069   \n",
       "\n",
       "   mean_pred          features  viewcount_pred  \n",
       "0   0.003778   [18413.0, 35.0]        0.003778  \n",
       "1   0.003778  [106724.0, 52.0]        0.003778  \n",
       "2   0.003778    [1131.0, 11.0]        0.003778  \n",
       "3   0.003778      [959.0, 2.0]        0.003778  \n",
       "4   0.003778   [52711.0, 50.0]        0.003778  "
      ]
     },
     "metadata": {},
     "output_type": "display_data"
    }
   ],
   "source": [
    "show_spark_df(datasets['english'])"
   ]
  },
  {
   "cell_type": "markdown",
   "metadata": {},
   "source": [
    "# Create Pipelines for Modeling"
   ]
  },
  {
   "cell_type": "code",
   "execution_count": null,
   "metadata": {},
   "outputs": [],
   "source": [
    "## garbage collector to speed up computation\n",
    "import gc\n",
    "collected = gc.collect()\n",
    "print(\"Garbage collector: collected %d objects.\" % collected)"
   ]
  },
  {
   "cell_type": "code",
   "execution_count": null,
   "metadata": {},
   "outputs": [],
   "source": [
    "target = \"y_ravi\"\n",
    "indep_text_variables = [\"title\", \"clean_body\"]\n",
    "#.drop('age').collect()"
   ]
  },
  {
   "cell_type": "code",
   "execution_count": null,
   "metadata": {},
   "outputs": [],
   "source": [
    "## import elements from natural language toolkit\n",
    "import nltk\n",
    "#nltk.download('all') # uncomment after first run as admin check\n",
    "from nltk.tokenize import sent_tokenize, word_tokenize\n",
    "from nltk.corpus import stopwords\n",
    "from nltk.stem.wordnet import WordNetLemmatizer\n",
    "import string\n",
    "stop_words = set(stopwords.words('english'))\n",
    "table = str.maketrans('', '', string.punctuation)\n",
    "lmtzr = WordNetLemmatizer()\n",
    "\n",
    "def get_tokens(line):\n",
    "    '''\n",
    "    Function to parse text features\n",
    "    '''\n",
    "    tokens = word_tokenize(line)\n",
    "    # convert to lower case\n",
    "    tokens = [w.lower() for w in tokens]\n",
    "    # remove punctuations from each word\n",
    "    stripped = [w.translate(table) for w in tokens]\n",
    "    # remove remaining tokens that are not alphabetic\n",
    "    words = [word for word in stripped if word.isalpha()]\n",
    "    # filter out stopwords\n",
    "    words = [w for w in words if not w in stop_words]\n",
    "    # lemmatizing the words, see https://en.wikipedia.org/wiki/Lemmatisation\n",
    "    '''lemmatise or stem???'''\n",
    "    words = [lmtzr.lemmatize(w) for w in words]\n",
    "    # remove single letters\n",
    "    words = [word for word in words if not len(word)==1]\n",
    "    return (words)"
   ]
  },
  {
   "cell_type": "code",
   "execution_count": null,
   "metadata": {},
   "outputs": [],
   "source": [
    "import nltk\n",
    "\n",
    "from pyspark import keyword_only  ## < 2.0 -> pyspark.ml.util.keyword_only\n",
    "from pyspark.ml import Transformer\n",
    "from pyspark.ml.param.shared import HasInputCol, HasOutputCol, Param\n",
    "from pyspark.sql.functions import udf\n",
    "from pyspark.sql.types import ArrayType, StringType\n",
    "\n",
    "## custom transformer for nltk tokenisation\n",
    "\n",
    "class NLTKWordPunctTokenizer(Transformer, HasInputCol, HasOutputCol):\n",
    "\n",
    "    @keyword_only\n",
    "    def __init__(self, inputCol=None, outputCol=None, stopwords=None):\n",
    "        super(NLTKWordPunctTokenizer, self).__init__()\n",
    "        self.stopwords = Param(self, \"stopwords\", \"\")\n",
    "        self._setDefault(stopwords=set())\n",
    "        kwargs = self._input_kwargs\n",
    "        self.setParams(**kwargs)\n",
    "\n",
    "    @keyword_only\n",
    "    def setParams(self, inputCol=None, outputCol=None, stopwords=None):\n",
    "        kwargs = self._input_kwargs\n",
    "        return self._set(**kwargs)\n",
    "\n",
    "    def setStopwords(self, value):\n",
    "        self._paramMap[self.stopwords] = value\n",
    "        return self\n",
    "\n",
    "    def getStopwords(self):\n",
    "        return self.getOrDefault(self.stopwords)\n",
    "\n",
    "    def _transform(self, dataset):\n",
    "        stopwords = self.getStopwords()\n",
    "\n",
    "        def f(s):\n",
    "            tokens = nltk.tokenize.wordpunct_tokenize(s)\n",
    "            return [t for t in tokens if t.lower() not in stopwords]\n",
    "\n",
    "        t = ArrayType(StringType())\n",
    "        out_col = self.getOutputCol()\n",
    "        in_col = dataset[self.getInputCol()]\n",
    "        return dataset.withColumn(out_col, udf(f, t)(in_col))"
   ]
  },
  {
   "cell_type": "code",
   "execution_count": null,
   "metadata": {},
   "outputs": [],
   "source": [
    "import pyspark.sql.functions as F\n",
    "from pyspark.ml import Pipeline, Transformer\n",
    "from pyspark.ml.feature import Bucketizer\n",
    "from pyspark.sql import DataFrame\n",
    "from typing import Iterable\n",
    "import pandas as pd\n",
    "\n",
    "## custom transformer to spread spares vectors into individual columns\n",
    "class VectorMLliber(Transformer):\n",
    "    \"\"\"\n",
    "    A custom Transformer which converts a column of pyspark.ml vectors to multiple pyspark.mllib vectors.\n",
    "    \"\"\"\n",
    "\n",
    "    def __init__(self, inputCol=None):\n",
    "        super(VectorMLliber, self).__init__()\n",
    "\n",
    "    def _transform(self, df: DataFrame) -> DataFrame:\n",
    "        \n",
    "        def f(v):\n",
    "            return Vectors.sparse(v.size, v.indices, v.values)\n",
    "        \n",
    "        df = df.rdd.map(lambda r: as_mllib_vector(r[0]))\n",
    "        return df"
   ]
  },
  {
   "cell_type": "code",
   "execution_count": null,
   "metadata": {},
   "outputs": [],
   "source": [
    "'''def as_mllib_vector(v):\n",
    "    return Vectors.sparse(v.size, v.indices, v.values)\n",
    "\n",
    "features = {}\n",
    "feature_vec_list = {}\n",
    "for i in data_array:\n",
    "    features[i] = word_feat_list[i].select(\"features\")\n",
    "    feature_vec_list[i] = features[i].rdd.map(lambda r: as_mllib_vector(r[0]))\n",
    "    feature_vec_list[i].cache()\n",
    "'''"
   ]
  },
  {
   "cell_type": "code",
   "execution_count": null,
   "metadata": {},
   "outputs": [],
   "source": [
    "nltk_tokenizer_body = NLTKWordPunctTokenizer(\n",
    "    inputCol=\"clean_body\", outputCol=\"body_words\",  \n",
    "    stopwords=set(nltk.corpus.stopwords.words('english')))\n",
    "\n",
    "nltk_tokenizer_title = NLTKWordPunctTokenizer(\n",
    "    inputCol=\"title\", outputCol=\"title_words\",  \n",
    "    stopwords=set(nltk.corpus.stopwords.words('english')))\n",
    "\n",
    "from pyspark.ml.feature import CountVectorizer, VectorAssembler\n",
    "\n",
    "cnt_vectrizr_body = CountVectorizer(inputCol=\"body_words\", outputCol=\"body_features\", minDF=2)\n",
    "\n",
    "cnt_vectrizr_title = CountVectorizer(inputCol=\"title_words\", outputCol=\"title_features\", minDF=2)\n",
    "\n",
    "VectorMLliber_body = VectorMLliber(inputCol=\"body_features\")\n",
    "\n",
    "VectorMLliber_title = VectorMLliber(inputCol=\"body_title\")\n",
    "\n",
    "\n",
    "\n",
    "processing_pipeline = Pipeline(stages=[\n",
    "    nltk_tokenizer_body, \n",
    "    nltk_tokenizer_title,\n",
    "    cnt_vectrizr_body,\n",
    "    cnt_vectrizr_title\n",
    "])"
   ]
  },
  {
   "cell_type": "code",
   "execution_count": null,
   "metadata": {
    "scrolled": true
   },
   "outputs": [],
   "source": [
    "%%time\n",
    "\n",
    "## check that pipeline is working (WHICH IT IS NOT)\n",
    "\n",
    "data_processed = processing_pipeline.fit(datasets['english']).transform(datasets['english'])\n",
    "\n",
    "show_spark_df(data_processed)\n",
    "\n",
    "#data_processed.head(2)[0].features.values"
   ]
  },
  {
   "cell_type": "code",
   "execution_count": null,
   "metadata": {},
   "outputs": [],
   "source": [
    "processing_ensembler = VectorAssembler(inputCols=[\"body_features\", \"title_features\"], \n",
    "                                         outputCol=\"features\")  \n",
    "\n",
    "processing_pipeline = Pipeline(stages=[processing_pipeline, processing_ensembler])"
   ]
  },
  {
   "cell_type": "code",
   "execution_count": null,
   "metadata": {},
   "outputs": [],
   "source": []
  },
  {
   "cell_type": "code",
   "execution_count": null,
   "metadata": {},
   "outputs": [],
   "source": [
    "from pyspark.ml.regression import LinearRegression\n",
    "\n",
    "lr = LinearRegression(maxIter=100,\n",
    "                      regParam=0.3,\n",
    "                      elasticNetParam=0.8,\n",
    "                      featuresCol=\"features\",\n",
    "                      labelCol=\"y_ravi\",\n",
    "                      predictionCol=\"prediction\")\n",
    "\n",
    "# fit linear regression pipeline\n",
    "pipeline = Pipeline(stages=[processing_pipeline, lr])\n",
    "trained_pipeline = pipeline.fit(datasets['english'])\n",
    "trained_pipeline"
   ]
  },
  {
   "cell_type": "code",
   "execution_count": null,
   "metadata": {
    "scrolled": true
   },
   "outputs": [],
   "source": [
    "show_spark_df(trained_pipeline.transform(datasets['english']))"
   ]
  },
  {
   "cell_type": "code",
   "execution_count": null,
   "metadata": {},
   "outputs": [],
   "source": [
    "(trained_pipeline\n",
    " .transform(datasets['english'])\n",
    " .select(\n",
    "    indep_text_variables + [\"prediction\"]\n",
    " )\n",
    " .write\n",
    " .parquet(\"linreg_prediction.parquet\")\n",
    ")"
   ]
  },
  {
   "cell_type": "code",
   "execution_count": null,
   "metadata": {},
   "outputs": [],
   "source": [
    "linreg_predictions = spark.read.parquet(\"linreg_prediction.parquet\")"
   ]
  },
  {
   "cell_type": "code",
   "execution_count": null,
   "metadata": {},
   "outputs": [],
   "source": [
    "linreg_predictions.toPandas().head()"
   ]
  },
  {
   "cell_type": "code",
   "execution_count": null,
   "metadata": {},
   "outputs": [],
   "source": [
    "linreg_predictions.select(\"prediction\").describe().toPandas()"
   ]
  },
  {
   "cell_type": "code",
   "execution_count": null,
   "metadata": {},
   "outputs": [],
   "source": []
  },
  {
   "cell_type": "code",
   "execution_count": null,
   "metadata": {},
   "outputs": [],
   "source": []
  },
  {
   "cell_type": "markdown",
   "metadata": {},
   "source": [
    "# Save pipelines"
   ]
  },
  {
   "cell_type": "code",
   "execution_count": null,
   "metadata": {},
   "outputs": [],
   "source": [
    "from joblib import dump, load\n",
    "dump(estimator_pipeline, 'pipeline.joblib') \n",
    "\n",
    "reloaded = load(\"pipeline.joblib\")\n",
    "\n",
    "Now we can predict directly!\n",
    "\n",
    "reloaded.predict(X)[:10]"
   ]
  },
  {
   "cell_type": "markdown",
   "metadata": {},
   "source": [
    "# Convert notebook to python file"
   ]
  },
  {
   "cell_type": "code",
   "execution_count": null,
   "metadata": {},
   "outputs": [],
   "source": [
    "!jupyter nbconvert --to script 0-master-notebook-pipelines.ipynb"
   ]
  }
 ],
 "metadata": {
  "kernelspec": {
   "display_name": "Python 3",
   "language": "python",
   "name": "python3"
  },
  "language_info": {
   "codemirror_mode": {
    "name": "ipython",
    "version": 3
   },
   "file_extension": ".py",
   "mimetype": "text/x-python",
   "name": "python",
   "nbconvert_exporter": "python",
   "pygments_lexer": "ipython3",
   "version": "3.6.7"
  }
 },
 "nbformat": 4,
 "nbformat_minor": 2
}

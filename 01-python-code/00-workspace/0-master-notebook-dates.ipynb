{
 "cells": [
  {
   "cell_type": "markdown",
   "metadata": {},
   "source": [
    "# GOALS\n",
    "\n",
    "* Decide on viewcount threshold to eliminate views?\n",
    "* Get feature columns working\n",
    "* Build an LDA model"
   ]
  },
  {
   "cell_type": "code",
   "execution_count": 1,
   "metadata": {},
   "outputs": [
    {
     "name": "stdout",
     "output_type": "stream",
     "text": [
      "b'\"Welcome to my PySpark analysis of some StackExchange Data\"\\n'\n"
     ]
    }
   ],
   "source": [
    "## testing printing output from console\n",
    "import subprocess\n",
    "cmd = [ 'echo', '\"Welcome to my PySpark analysis of some StackExchange Data\"' ]\n",
    "output = subprocess.Popen( cmd, stdout=subprocess.PIPE ).communicate()[0]\n",
    "print(output)"
   ]
  },
  {
   "cell_type": "code",
   "execution_count": 2,
   "metadata": {},
   "outputs": [],
   "source": [
    "import time\n",
    "import numpy as np\n",
    "import pandas as pd\n",
    "from datetime import datetime"
   ]
  },
  {
   "cell_type": "markdown",
   "metadata": {},
   "source": [
    "# Load PySpark and Data Structures"
   ]
  },
  {
   "cell_type": "code",
   "execution_count": 3,
   "metadata": {},
   "outputs": [
    {
     "name": "stdout",
     "output_type": "stream",
     "text": [
      "The Spark UI is available at: http://192.168.0.26:4040/ and the defaultParallelism is 4\n",
      "The data_array is: ['english', 'math', 'rus_stackoverflow', 'stackoverflow', 'superuser']\n"
     ]
    }
   ],
   "source": [
    "%run -i '1-load-pyspark-and-structs.py'"
   ]
  },
  {
   "cell_type": "markdown",
   "metadata": {},
   "source": [
    "# Load Data"
   ]
  },
  {
   "cell_type": "code",
   "execution_count": 4,
   "metadata": {},
   "outputs": [
    {
     "name": "stdout",
     "output_type": "stream",
     "text": [
      "12:25:20.264624\n",
      "CPU times: user 280 µs, sys: 91 µs, total: 371 µs\n",
      "Wall time: 317 µs\n"
     ]
    }
   ],
   "source": [
    "%%time\n",
    "print(datetime.now().time())\n",
    "#%run -i '2-load-datasets.py'"
   ]
  },
  {
   "cell_type": "code",
   "execution_count": 5,
   "metadata": {},
   "outputs": [],
   "source": [
    "def show_spark_df(df, n=5):\n",
    "    '''\n",
    "    function to better print spark df entries\n",
    "    '''\n",
    "    display(pd.DataFrame(df.head(n), columns=df.columns))"
   ]
  },
  {
   "cell_type": "markdown",
   "metadata": {},
   "source": [
    "# Clean Data"
   ]
  },
  {
   "cell_type": "code",
   "execution_count": 6,
   "metadata": {},
   "outputs": [
    {
     "name": "stdout",
     "output_type": "stream",
     "text": [
      "12:25:20.295044\n",
      "CPU times: user 328 µs, sys: 92 µs, total: 420 µs\n",
      "Wall time: 359 µs\n"
     ]
    }
   ],
   "source": [
    "%%time\n",
    "print(datetime.now().time())\n",
    "#%run -i '3-clean-datasets.py'"
   ]
  },
  {
   "cell_type": "markdown",
   "metadata": {},
   "source": [
    "# EDA (optional)"
   ]
  },
  {
   "cell_type": "code",
   "execution_count": 7,
   "metadata": {},
   "outputs": [
    {
     "name": "stdout",
     "output_type": "stream",
     "text": [
      "12:25:20.304171\n",
      "CPU times: user 222 µs, sys: 72 µs, total: 294 µs\n",
      "Wall time: 252 µs\n"
     ]
    }
   ],
   "source": [
    "%%time\n",
    "print(datetime.now().time())\n",
    "#%run -i '4-eda.py'\n",
    "\n",
    "#NB TO DO: Find threshold to delete low views to make sure users that can vote have seen the question\n",
    "\n",
    "'''\n",
    "vc_thresh_data = {}\n",
    "\n",
    "## finding means of viewcounts across fora\n",
    "\n",
    "for i in data_array:\n",
    "    vc_thresh_data[i] = datasets[i].select(\"viewcount\").rdd.flatMap(lambda x: x).mean()\n",
    "\n",
    "vc_thresh_data'''"
   ]
  },
  {
   "cell_type": "markdown",
   "metadata": {},
   "source": [
    "# Define Ravi Target Variable and Export Clean Data"
   ]
  },
  {
   "cell_type": "code",
   "execution_count": 8,
   "metadata": {},
   "outputs": [
    {
     "name": "stdout",
     "output_type": "stream",
     "text": [
      "\u001b[94m12:25:20.316421\u001b[0m\n",
      "CPU times: user 369 µs, sys: 185 µs, total: 554 µs\n",
      "Wall time: 456 µs\n"
     ]
    }
   ],
   "source": [
    "%%time\n",
    "print(f'\\033[94m{datetime.now().time()}\\033[0m')\n",
    "#%run -i '5-define-target-export-data.py'"
   ]
  },
  {
   "cell_type": "markdown",
   "metadata": {},
   "source": [
    "# Load Clean Data"
   ]
  },
  {
   "cell_type": "code",
   "execution_count": 9,
   "metadata": {
    "scrolled": true
   },
   "outputs": [
    {
     "name": "stdout",
     "output_type": "stream",
     "text": [
      "CPU times: user 3.34 ms, sys: 2.1 ms, total: 5.43 ms\n",
      "Wall time: 4.3 s\n"
     ]
    }
   ],
   "source": [
    "%%time\n",
    "\n",
    "## load clean data\n",
    "for i in data_array:\n",
    "    datasets[i] = (\n",
    "        spark\n",
    "        .read\n",
    "        .load(f'clean-data/{i}.parquet')\n",
    ")"
   ]
  },
  {
   "cell_type": "markdown",
   "metadata": {},
   "source": [
    "# Train/Test Split"
   ]
  },
  {
   "cell_type": "code",
   "execution_count": 10,
   "metadata": {
    "scrolled": true
   },
   "outputs": [
    {
     "name": "stdout",
     "output_type": "stream",
     "text": [
      "english: 0.20050307879670837, from 17616 and 87859\n",
      "math: 0.22927435077324415, from 198276 and 864798\n",
      "rus_stackoverflow: 0.4540735776836319, from 79956 and 176086\n",
      "stackoverflow: 0.20690967926144474, from 60872 and 294196\n",
      "superuser: 0.12467468017854172, from 44216 and 354651\n",
      "CPU times: user 27 ms, sys: 7.45 ms, total: 34.4 ms\n",
      "Wall time: 14 s\n"
     ]
    }
   ],
   "source": [
    "%%time\n",
    "\n",
    "## sorting entries according to date column: MIGHT NOT NEED TO DO THIS\n",
    "\n",
    "'''for i in data_array:\n",
    "        datasets[i] = datasets[i].sort(col('clean_date')'''\n",
    "        \n",
    "## create train and test dictionaries\n",
    "train = {}\n",
    "test = {}\n",
    "\n",
    "from pyspark.sql.functions import lit\n",
    "\n",
    "## assign train and test sets, based on after certain date\n",
    "for i in data_array:\n",
    "    date = '2018-01-01' # date used to split data\n",
    "    train[i] = datasets[i].filter(datasets[i]['clean_date'] < lit(date))\n",
    "    test[i] = datasets[i].filter(datasets[i]['clean_date'] >= lit(date))\n",
    "    numer = test[i].count()\n",
    "    denom = train[i].count()\n",
    "    frac = numer/denom\n",
    "    print(f'{i}: {frac}, from {numer} and {denom}')"
   ]
  },
  {
   "cell_type": "code",
   "execution_count": 11,
   "metadata": {},
   "outputs": [
    {
     "data": {
      "text/plain": [
       "'\\ninteresting to see how skewed rus_stackoverflow posts are to more posts in recent years\\n'"
      ]
     },
     "execution_count": 11,
     "metadata": {},
     "output_type": "execute_result"
    }
   ],
   "source": [
    "'''\n",
    "interesting to see how skewed rus_stackoverflow posts are to more posts in recent years\n",
    "'''"
   ]
  },
  {
   "cell_type": "markdown",
   "metadata": {},
   "source": [
    "# Create Results Dictionary"
   ]
  },
  {
   "cell_type": "code",
   "execution_count": 20,
   "metadata": {},
   "outputs": [],
   "source": [
    "RESULTS = {}"
   ]
  },
  {
   "cell_type": "markdown",
   "metadata": {},
   "source": [
    "# Silly Mean and Median Models"
   ]
  },
  {
   "cell_type": "code",
   "execution_count": 21,
   "metadata": {},
   "outputs": [],
   "source": [
    "from pyspark.sql.functions import array, lit, struct\n",
    "\n",
    "## create mean dictionaries\n",
    "y_ravi_means = {}\n",
    "\n",
    "## calculate the mean of each forum, using ONLY train set\n",
    "for i in data_array:\n",
    "    y_ravi_means[i] = train[i].select('y_ravi').rdd.flatMap(lambda x: x).mean()"
   ]
  },
  {
   "cell_type": "code",
   "execution_count": 22,
   "metadata": {},
   "outputs": [
    {
     "name": "stdout",
     "output_type": "stream",
     "text": [
      "The root-mean-square error of \u001b[94menglish's\u001b[0m\u001b[92m mean\u001b[0m model is 0.02099\n",
      "The root-mean-square error of \u001b[94mmath's\u001b[0m\u001b[92m mean\u001b[0m model is 0.02726\n",
      "The root-mean-square error of \u001b[94mrus_stackoverflow's\u001b[0m\u001b[92m mean\u001b[0m model is 0.02396\n",
      "The root-mean-square error of \u001b[94mstackoverflow's\u001b[0m\u001b[92m mean\u001b[0m model is 0.02202\n",
      "The root-mean-square error of \u001b[94msuperuser's\u001b[0m\u001b[92m mean\u001b[0m model is 0.02028\n"
     ]
    }
   ],
   "source": [
    "## import rmse evaluator\n",
    "from pyspark.ml.evaluation import RegressionEvaluator\n",
    "\n",
    "## create baselines dictionary\n",
    "baselines = {}\n",
    "\n",
    "## modelling\n",
    "for i in data_array:\n",
    "\n",
    "    ## initial variable for timing\n",
    "    t0 = time.time()\n",
    "    \n",
    "    ## train silly mean model by assigning full mean to each row of test\n",
    "    test[i] = test[i].withColumn('mean_pred', lit(y_ravi_means[i]))\n",
    "\n",
    "    ## evaluate silly mean model, ONLY on test set\n",
    "    evaluator = RegressionEvaluator(metricName=\"rmse\", labelCol=\"y_ravi\", predictionCol=\"mean_pred\")\n",
    "    baselines[i] = round( evaluator.evaluate(test[i]), 5)\n",
    "\n",
    "    print(f\"The root-mean-square error of \\033[94m{i}'s\\033[0m\\033[92m mean\\033[0m model is {baselines[i]}\")\n",
    "\n",
    "    ## record time taken\n",
    "    timet = round( time.time() - t0, 0 )\n",
    "    \n",
    "    ## store as dictionary inside RESULTS dictionary, initiating dataset name entries first\n",
    "    RESULTS[i] = {'silly_mean': [baselines[i], 0, timet]}"
   ]
  },
  {
   "cell_type": "code",
   "execution_count": 23,
   "metadata": {},
   "outputs": [],
   "source": [
    "def show_save_results(results, filename='final-results.csv'):\n",
    "    '''\n",
    "    function to print and export modelling results\n",
    "    '''\n",
    "    display(pd.DataFrame.from_dict(results).T)\n",
    "    pd.DataFrame.from_dict(results).T.to_csv(filename)"
   ]
  },
  {
   "cell_type": "code",
   "execution_count": 24,
   "metadata": {
    "scrolled": false
   },
   "outputs": [
    {
     "data": {
      "text/html": [
       "<div>\n",
       "<style scoped>\n",
       "    .dataframe tbody tr th:only-of-type {\n",
       "        vertical-align: middle;\n",
       "    }\n",
       "\n",
       "    .dataframe tbody tr th {\n",
       "        vertical-align: top;\n",
       "    }\n",
       "\n",
       "    .dataframe thead th {\n",
       "        text-align: right;\n",
       "    }\n",
       "</style>\n",
       "<table border=\"1\" class=\"dataframe\">\n",
       "  <thead>\n",
       "    <tr style=\"text-align: right;\">\n",
       "      <th></th>\n",
       "      <th>silly_mean</th>\n",
       "    </tr>\n",
       "  </thead>\n",
       "  <tbody>\n",
       "    <tr>\n",
       "      <th>english</th>\n",
       "      <td>[0.02099, 0, 0.0]</td>\n",
       "    </tr>\n",
       "    <tr>\n",
       "      <th>math</th>\n",
       "      <td>[0.02726, 0, 1.0]</td>\n",
       "    </tr>\n",
       "    <tr>\n",
       "      <th>rus_stackoverflow</th>\n",
       "      <td>[0.02396, 0, 1.0]</td>\n",
       "    </tr>\n",
       "    <tr>\n",
       "      <th>stackoverflow</th>\n",
       "      <td>[0.02202, 0, 1.0]</td>\n",
       "    </tr>\n",
       "    <tr>\n",
       "      <th>superuser</th>\n",
       "      <td>[0.02028, 0, 1.0]</td>\n",
       "    </tr>\n",
       "  </tbody>\n",
       "</table>\n",
       "</div>"
      ],
      "text/plain": [
       "                          silly_mean\n",
       "english            [0.02099, 0, 0.0]\n",
       "math               [0.02726, 0, 1.0]\n",
       "rus_stackoverflow  [0.02396, 0, 1.0]\n",
       "stackoverflow      [0.02202, 0, 1.0]\n",
       "superuser          [0.02028, 0, 1.0]"
      ]
     },
     "metadata": {},
     "output_type": "display_data"
    }
   ],
   "source": [
    "show_save_results(RESULTS)"
   ]
  },
  {
   "cell_type": "markdown",
   "metadata": {},
   "source": [
    "# Viewcount Model"
   ]
  },
  {
   "cell_type": "code",
   "execution_count": 27,
   "metadata": {},
   "outputs": [
    {
     "name": "stdout",
     "output_type": "stream",
     "text": [
      "The root-mean-square error of \u001b[94menglish's\u001b[0m\u001b[92m viewcount\u001b[0m model is 0.02095\n",
      "The root-mean-square error of \u001b[94mmath's\u001b[0m\u001b[92m viewcount\u001b[0m model is 0.02723\n",
      "The root-mean-square error of \u001b[94mrus_stackoverflow's\u001b[0m\u001b[92m viewcount\u001b[0m model is 0.02391\n",
      "The root-mean-square error of \u001b[94mstackoverflow's\u001b[0m\u001b[92m viewcount\u001b[0m model is 0.02202\n",
      "The root-mean-square error of \u001b[94msuperuser's\u001b[0m\u001b[92m viewcount\u001b[0m model is 0.02027\n"
     ]
    },
    {
     "data": {
      "text/html": [
       "<div>\n",
       "<style scoped>\n",
       "    .dataframe tbody tr th:only-of-type {\n",
       "        vertical-align: middle;\n",
       "    }\n",
       "\n",
       "    .dataframe tbody tr th {\n",
       "        vertical-align: top;\n",
       "    }\n",
       "\n",
       "    .dataframe thead th {\n",
       "        text-align: right;\n",
       "    }\n",
       "</style>\n",
       "<table border=\"1\" class=\"dataframe\">\n",
       "  <thead>\n",
       "    <tr style=\"text-align: right;\">\n",
       "      <th></th>\n",
       "      <th>silly_mean</th>\n",
       "      <th>viewcount</th>\n",
       "    </tr>\n",
       "  </thead>\n",
       "  <tbody>\n",
       "    <tr>\n",
       "      <th>english</th>\n",
       "      <td>[0.02099, 0, 0.0]</td>\n",
       "      <td>[0.02095, 0.191, 14.0]</td>\n",
       "    </tr>\n",
       "    <tr>\n",
       "      <th>math</th>\n",
       "      <td>[0.02726, 0, 1.0]</td>\n",
       "      <td>[0.02723, 0.11, 89.0]</td>\n",
       "    </tr>\n",
       "    <tr>\n",
       "      <th>rus_stackoverflow</th>\n",
       "      <td>[0.02396, 0, 1.0]</td>\n",
       "      <td>[0.02391, 0.209, 28.0]</td>\n",
       "    </tr>\n",
       "    <tr>\n",
       "      <th>stackoverflow</th>\n",
       "      <td>[0.02202, 0, 1.0]</td>\n",
       "      <td>[0.02202, -0.0, 47.0]</td>\n",
       "    </tr>\n",
       "    <tr>\n",
       "      <th>superuser</th>\n",
       "      <td>[0.02028, 0, 1.0]</td>\n",
       "      <td>[0.02027, 0.049, 38.0]</td>\n",
       "    </tr>\n",
       "  </tbody>\n",
       "</table>\n",
       "</div>"
      ],
      "text/plain": [
       "                          silly_mean               viewcount\n",
       "english            [0.02099, 0, 0.0]  [0.02095, 0.191, 14.0]\n",
       "math               [0.02726, 0, 1.0]   [0.02723, 0.11, 89.0]\n",
       "rus_stackoverflow  [0.02396, 0, 1.0]  [0.02391, 0.209, 28.0]\n",
       "stackoverflow      [0.02202, 0, 1.0]   [0.02202, -0.0, 47.0]\n",
       "superuser          [0.02028, 0, 1.0]  [0.02027, 0.049, 38.0]"
      ]
     },
     "metadata": {},
     "output_type": "display_data"
    },
    {
     "name": "stdout",
     "output_type": "stream",
     "text": [
      "CPU times: user 1.16 s, sys: 318 ms, total: 1.48 s\n",
      "Wall time: 3min 36s\n"
     ]
    }
   ],
   "source": [
    "%%time\n",
    "#3min 56s\n",
    "\n",
    "from pyspark.ml.feature import VectorAssembler\n",
    "\n",
    "## because you can't just pass a column without vectorising it\n",
    "to_vectors = VectorAssembler(inputCols=[\"viewcount\"], outputCol=\"features\")\n",
    "\n",
    "from pyspark.ml.pipeline import Pipeline\n",
    "\n",
    "## create processing pipeline\n",
    "processing_pipeline = Pipeline(stages=[to_vectors])\n",
    "\n",
    "## linear regression on just viewcount\n",
    "from pyspark.ml.regression import LinearRegression\n",
    "    \n",
    "lr = LinearRegression(#maxIter=100, # this doesn't change anything\n",
    "                      #regParam=0.3, # using regularisation parameter here useless since there is one feature\n",
    "                      #elasticNetParam=0.8,\n",
    "                      featuresCol=\"features\",\n",
    "                      labelCol=\"y_ravi\",\n",
    "                      predictionCol=\"viewcount_pred\")\n",
    "\n",
    "## make final pipeline\n",
    "final_pipeline = Pipeline(stages=[to_vectors, lr])\n",
    "\n",
    "## import methods for tuning\n",
    "from pyspark.ml.tuning import CrossValidator, ParamGridBuilder\n",
    "\n",
    "## set up grid for parameter tuning: \n",
    "#.addGrid(lr.regParam, [1e-3, 1.])\n",
    "#.addGrid(lr.elasticNetParam, [1e-3, 1.])\n",
    "\n",
    "paramGrid = ParamGridBuilder() \\\n",
    "    .build()\n",
    "\n",
    "## set up rmse evaluator\n",
    "evaluator = RegressionEvaluator(metricName=\"rmse\", labelCol=\"y_ravi\", predictionCol=\"viewcount_pred\")\n",
    "\n",
    "## set up cross validation for parameter tuning\n",
    "crossval = CrossValidator(estimator=final_pipeline,\n",
    "                          estimatorParamMaps=paramGrid,\n",
    "                          evaluator=evaluator,\n",
    "                          numFolds=3)\n",
    "\n",
    "## modelling\n",
    "for i in data_array:\n",
    "    \n",
    "    ## initial variable for timing\n",
    "    t0 = time.time()\n",
    "    \n",
    "    rmse = round( evaluator.evaluate(crossval.fit(train[i]).transform(test[i])), 6)\n",
    "    \n",
    "    ''' CODE TO USE LATER\n",
    "    cvModel = final_pipeline.fit(datasets[i])\n",
    "    cvModel.avgMetrics\n",
    "    list(zip(cvModel.avgMetrics, paramGrid))\n",
    "    cvModel.bestModel.stages\n",
    "    cvModel.bestModel.stages[1].extractParamMap()\n",
    "    '''\n",
    "        \n",
    "    print(f\"The root-mean-square error of \\033[94m{i}'s\\033[0m\\033[92m viewcount\\033[0m model is {rmse}\")\n",
    "\n",
    "    ## calculate improvement over median baseline\n",
    "    imprvt = round((rmse/baselines[i] - 1)*-100, 3)\n",
    "    \n",
    "    ## record time taken\n",
    "    timet = round( time.time() - t0, 0 )\n",
    "\n",
    "    ## store as dictionary inside RESULTS dictionary\n",
    "    RESULTS[i]['viewcount'] = [rmse, imprvt, timet]\n",
    "    \n",
    "## record results\n",
    "show_save_results(RESULTS, 'test-set-results.csv')"
   ]
  },
  {
   "cell_type": "code",
   "execution_count": null,
   "metadata": {},
   "outputs": [],
   "source": [
    "'''\n",
    "Interesting that there are different improvements of viewcount over mean-only prediciton\n",
    "'''"
   ]
  },
  {
   "cell_type": "markdown",
   "metadata": {},
   "source": [
    "# Begin Feature Engineering"
   ]
  },
  {
   "cell_type": "code",
   "execution_count": null,
   "metadata": {},
   "outputs": [],
   "source": [
    "## garbage collector to speed up computation\n",
    "import gc\n",
    "collected = gc.collect()\n",
    "print(\"Garbage collector: collected %d objects.\" % collected)"
   ]
  },
  {
   "cell_type": "code",
   "execution_count": null,
   "metadata": {},
   "outputs": [],
   "source": [
    "target = \"y_ravi\"\n",
    "indep_text_variables = [\"title\", \"clean_body\"]\n",
    "#.drop('age').collect()"
   ]
  },
  {
   "cell_type": "code",
   "execution_count": null,
   "metadata": {},
   "outputs": [],
   "source": [
    "## import elements from natural language toolkit\n",
    "import nltk\n",
    "#nltk.download('all') # uncomment after first run as admin check\n",
    "from nltk.tokenize import sent_tokenize, word_tokenize\n",
    "from nltk.corpus import stopwords\n",
    "from nltk.stem.wordnet import WordNetLemmatizer\n",
    "import string\n",
    "stop_words = set(stopwords.words('english'))\n",
    "table = str.maketrans('', '', string.punctuation)\n",
    "lmtzr = WordNetLemmatizer()\n",
    "\n",
    "def get_tokens(line):\n",
    "    '''\n",
    "    Function to parse text features\n",
    "    '''\n",
    "    tokens = word_tokenize(line)\n",
    "    # convert to lower case\n",
    "    tokens = [w.lower() for w in tokens]\n",
    "    # remove punctuations from each word\n",
    "    stripped = [w.translate(table) for w in tokens]\n",
    "    # remove remaining tokens that are not alphabetic\n",
    "    words = [word for word in stripped if word.isalpha()]\n",
    "    # filter out stopwords\n",
    "    words = [w for w in words if not w in stop_words]\n",
    "    # lemmatizing the words, see https://en.wikipedia.org/wiki/Lemmatisation\n",
    "    '''lemmatise or stem???'''\n",
    "    words = [lmtzr.lemmatize(w) for w in words]\n",
    "    # remove single letters\n",
    "    words = [word for word in words if not len(word)==1]\n",
    "    return (words)"
   ]
  },
  {
   "cell_type": "code",
   "execution_count": null,
   "metadata": {},
   "outputs": [],
   "source": [
    "import nltk\n",
    "\n",
    "from pyspark import keyword_only  ## < 2.0 -> pyspark.ml.util.keyword_only\n",
    "from pyspark.ml import Transformer\n",
    "from pyspark.ml.param.shared import HasInputCol, HasOutputCol, Param\n",
    "from pyspark.sql.functions import udf\n",
    "from pyspark.sql.types import ArrayType, StringType\n",
    "\n",
    "## custom transformer for nltk tokenisation\n",
    "\n",
    "class NLTKWordPunctTokenizer(Transformer, HasInputCol, HasOutputCol):\n",
    "\n",
    "    @keyword_only\n",
    "    def __init__(self, inputCol=None, outputCol=None, stopwords=None):\n",
    "        super(NLTKWordPunctTokenizer, self).__init__()\n",
    "        self.stopwords = Param(self, \"stopwords\", \"\")\n",
    "        self._setDefault(stopwords=set())\n",
    "        kwargs = self._input_kwargs\n",
    "        self.setParams(**kwargs)\n",
    "\n",
    "    @keyword_only\n",
    "    def setParams(self, inputCol=None, outputCol=None, stopwords=None):\n",
    "        kwargs = self._input_kwargs\n",
    "        return self._set(**kwargs)\n",
    "\n",
    "    def setStopwords(self, value):\n",
    "        self._paramMap[self.stopwords] = value\n",
    "        return self\n",
    "\n",
    "    def getStopwords(self):\n",
    "        return self.getOrDefault(self.stopwords)\n",
    "\n",
    "    def _transform(self, dataset):\n",
    "        stopwords = self.getStopwords()\n",
    "\n",
    "        def f(s):\n",
    "            tokens = nltk.tokenize.wordpunct_tokenize(s)\n",
    "            return [t for t in tokens if t.lower() not in stopwords]\n",
    "\n",
    "        t = ArrayType(StringType())\n",
    "        out_col = self.getOutputCol()\n",
    "        in_col = dataset[self.getInputCol()]\n",
    "        return dataset.withColumn(out_col, udf(f, t)(in_col))"
   ]
  },
  {
   "cell_type": "code",
   "execution_count": null,
   "metadata": {},
   "outputs": [],
   "source": [
    "import pyspark.sql.functions as F\n",
    "from pyspark.ml import Pipeline, Transformer\n",
    "from pyspark.ml.feature import Bucketizer\n",
    "from pyspark.sql import DataFrame\n",
    "from typing import Iterable\n",
    "import pandas as pd\n",
    "\n",
    "## custom transformer to spread spares vectors into individual columns\n",
    "class VectorMLliber(Transformer):\n",
    "    \"\"\"\n",
    "    A custom Transformer which converts a column of pyspark.ml vectors to multiple pyspark.mllib vectors.\n",
    "    \"\"\"\n",
    "\n",
    "    def __init__(self, inputCol=None):\n",
    "        super(VectorMLliber, self).__init__()\n",
    "\n",
    "    def _transform(self, df: DataFrame) -> DataFrame:\n",
    "        \n",
    "        def f(v):\n",
    "            return Vectors.sparse(v.size, v.indices, v.values)\n",
    "        \n",
    "        df = df.rdd.map(lambda r: as_mllib_vector(r[0]))\n",
    "        return df"
   ]
  },
  {
   "cell_type": "code",
   "execution_count": null,
   "metadata": {},
   "outputs": [],
   "source": [
    "'''def as_mllib_vector(v):\n",
    "    return Vectors.sparse(v.size, v.indices, v.values)\n",
    "\n",
    "features = {}\n",
    "feature_vec_list = {}\n",
    "for i in data_array:\n",
    "    features[i] = word_feat_list[i].select(\"features\")\n",
    "    feature_vec_list[i] = features[i].rdd.map(lambda r: as_mllib_vector(r[0]))\n",
    "    feature_vec_list[i].cache()\n",
    "'''"
   ]
  },
  {
   "cell_type": "code",
   "execution_count": null,
   "metadata": {},
   "outputs": [],
   "source": [
    "nltk_tokenizer_body = NLTKWordPunctTokenizer(\n",
    "    inputCol=\"clean_body\", outputCol=\"body_words\",  \n",
    "    stopwords=set(nltk.corpus.stopwords.words('english')))\n",
    "\n",
    "nltk_tokenizer_title = NLTKWordPunctTokenizer(\n",
    "    inputCol=\"title\", outputCol=\"title_words\",  \n",
    "    stopwords=set(nltk.corpus.stopwords.words('english')))\n",
    "\n",
    "from pyspark.ml.feature import CountVectorizer, VectorAssembler\n",
    "\n",
    "cnt_vectrizr_body = CountVectorizer(inputCol=\"body_words\", outputCol=\"body_features\", minDF=2)\n",
    "\n",
    "cnt_vectrizr_title = CountVectorizer(inputCol=\"title_words\", outputCol=\"title_features\", minDF=2)\n",
    "\n",
    "VectorMLliber_body = VectorMLliber(inputCol=\"body_features\")\n",
    "\n",
    "VectorMLliber_title = VectorMLliber(inputCol=\"body_title\")\n",
    "\n",
    "\n",
    "\n",
    "processing_pipeline = Pipeline(stages=[\n",
    "    nltk_tokenizer_body, \n",
    "    nltk_tokenizer_title,\n",
    "    cnt_vectrizr_body,\n",
    "    cnt_vectrizr_title\n",
    "])"
   ]
  },
  {
   "cell_type": "code",
   "execution_count": null,
   "metadata": {
    "scrolled": true
   },
   "outputs": [],
   "source": [
    "%%time\n",
    "\n",
    "## check that pipeline is working (WHICH IT IS NOT)\n",
    "\n",
    "data_processed = processing_pipeline.fit(datasets['english']).transform(datasets['english'])\n",
    "\n",
    "show_spark_df(data_processed)\n",
    "\n",
    "#data_processed.head(2)[0].features.values"
   ]
  },
  {
   "cell_type": "code",
   "execution_count": null,
   "metadata": {},
   "outputs": [],
   "source": [
    "processing_ensembler = VectorAssembler(inputCols=[\"body_features\", \"title_features\"], \n",
    "                                         outputCol=\"features\")  \n",
    "\n",
    "processing_pipeline = Pipeline(stages=[processing_pipeline, processing_ensembler])"
   ]
  },
  {
   "cell_type": "code",
   "execution_count": null,
   "metadata": {},
   "outputs": [],
   "source": []
  },
  {
   "cell_type": "code",
   "execution_count": null,
   "metadata": {},
   "outputs": [],
   "source": [
    "from pyspark.ml.regression import LinearRegression\n",
    "\n",
    "lr = LinearRegression(maxIter=100,\n",
    "                      regParam=0.3,\n",
    "                      elasticNetParam=0.8,\n",
    "                      featuresCol=\"features\",\n",
    "                      labelCol=\"y_ravi\",\n",
    "                      predictionCol=\"prediction\")\n",
    "\n",
    "# fit linear regression pipeline\n",
    "pipeline = Pipeline(stages=[processing_pipeline, lr])\n",
    "trained_pipeline = pipeline.fit(datasets['english'])\n",
    "trained_pipeline"
   ]
  },
  {
   "cell_type": "code",
   "execution_count": null,
   "metadata": {
    "scrolled": true
   },
   "outputs": [],
   "source": [
    "show_spark_df(trained_pipeline.transform(datasets['english']))"
   ]
  },
  {
   "cell_type": "code",
   "execution_count": null,
   "metadata": {},
   "outputs": [],
   "source": [
    "(trained_pipeline\n",
    " .transform(datasets['english'])\n",
    " .select(\n",
    "    indep_text_variables + [\"prediction\"]\n",
    " )\n",
    " .write\n",
    " .parquet(\"linreg_prediction.parquet\")\n",
    ")"
   ]
  },
  {
   "cell_type": "code",
   "execution_count": null,
   "metadata": {},
   "outputs": [],
   "source": [
    "linreg_predictions = spark.read.parquet(\"linreg_prediction.parquet\")"
   ]
  },
  {
   "cell_type": "code",
   "execution_count": null,
   "metadata": {},
   "outputs": [],
   "source": [
    "linreg_predictions.toPandas().head()"
   ]
  },
  {
   "cell_type": "code",
   "execution_count": null,
   "metadata": {},
   "outputs": [],
   "source": [
    "linreg_predictions.select(\"prediction\").describe().toPandas()"
   ]
  },
  {
   "cell_type": "code",
   "execution_count": null,
   "metadata": {},
   "outputs": [],
   "source": []
  },
  {
   "cell_type": "code",
   "execution_count": null,
   "metadata": {},
   "outputs": [],
   "source": []
  },
  {
   "cell_type": "markdown",
   "metadata": {},
   "source": [
    "# Save pipelines"
   ]
  },
  {
   "cell_type": "code",
   "execution_count": null,
   "metadata": {},
   "outputs": [],
   "source": [
    "from joblib import dump, load\n",
    "dump(estimator_pipeline, 'pipeline.joblib') \n",
    "\n",
    "reloaded = load(\"pipeline.joblib\")\n",
    "\n",
    "Now we can predict directly!\n",
    "\n",
    "reloaded.predict(X)[:10]"
   ]
  },
  {
   "cell_type": "markdown",
   "metadata": {},
   "source": [
    "# Convert notebook to python file"
   ]
  },
  {
   "cell_type": "code",
   "execution_count": null,
   "metadata": {},
   "outputs": [],
   "source": [
    "!jupyter nbconvert --to script 0-master-notebook-pipelines.ipynb"
   ]
  }
 ],
 "metadata": {
  "kernelspec": {
   "display_name": "Python 3",
   "language": "python",
   "name": "python3"
  },
  "language_info": {
   "codemirror_mode": {
    "name": "ipython",
    "version": 3
   },
   "file_extension": ".py",
   "mimetype": "text/x-python",
   "name": "python",
   "nbconvert_exporter": "python",
   "pygments_lexer": "ipython3",
   "version": "3.6.7"
  }
 },
 "nbformat": 4,
 "nbformat_minor": 2
}

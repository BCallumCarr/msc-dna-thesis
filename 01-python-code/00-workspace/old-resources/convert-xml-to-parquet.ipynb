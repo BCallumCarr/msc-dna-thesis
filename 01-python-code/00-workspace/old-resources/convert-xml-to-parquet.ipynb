{
 "cells": [
  {
   "cell_type": "code",
   "execution_count": 6,
   "metadata": {},
   "outputs": [],
   "source": [
    "import pandas as pd\n",
    "import xml.etree.ElementTree as ET\n",
    "\n",
    "root = ET.parse('initial-data/math.stackexchange.com/Posts.xml').getroot() #create an ElementTree object \n",
    "\n",
    "## function to extract row tag attributes\n",
    "def iter_rows(_root):\n",
    "    for i in root.iter('row'):\n",
    "        df_dict = i.attrib.copy()\n",
    "        df_dict.update(i.attrib)\n",
    "        yield (df_dict)\n",
    "\n",
    "## put everything in a pd.df\n",
    "df = pd.DataFrame(list(iter_rows(root)))\n",
    "\n",
    "## convert post_type column to numeric to be able to index\n",
    "df['PostTypeId']=pd.to_numeric(df['PostTypeId'])\n",
    "\n",
    "## index post_type==1 to get questions, and choose columns\n",
    "df = df[df['PostTypeId']==1][['Body', 'Title', 'ViewCount', 'Score']]\n",
    "\n",
    "df.to_parquet(\"initial-data/math.stackexchange.com/file-01.parquet\") # uses pyarrow, which fixes a spark java error"
   ]
  },
  {
   "cell_type": "code",
   "execution_count": null,
   "metadata": {},
   "outputs": [],
   "source": []
  }
 ],
 "metadata": {
  "kernelspec": {
   "display_name": "Python 3",
   "language": "python",
   "name": "python3"
  },
  "language_info": {
   "codemirror_mode": {
    "name": "ipython",
    "version": 3
   },
   "file_extension": ".py",
   "mimetype": "text/x-python",
   "name": "python",
   "nbconvert_exporter": "python",
   "pygments_lexer": "ipython3",
   "version": "3.6.7"
  }
 },
 "nbformat": 4,
 "nbformat_minor": 2
}

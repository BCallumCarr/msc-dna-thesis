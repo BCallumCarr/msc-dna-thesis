{
 "cells": [
  {
   "cell_type": "markdown",
   "metadata": {},
   "source": [
    "# GOALS\n",
    "\n",
    "* Decide on viewcount threshold to eliminate views?\n",
    "* Get feature columns working\n",
    "* Build an LDA model"
   ]
  },
  {
   "cell_type": "code",
   "execution_count": 1,
   "metadata": {},
   "outputs": [
    {
     "name": "stdout",
     "output_type": "stream",
     "text": [
      "b'\"Welcome to my PySpark analysis of some StackExchange Data\"\\n'\n"
     ]
    }
   ],
   "source": [
    "## testing printing output from console\n",
    "import subprocess\n",
    "cmd = [ 'echo', '\"Welcome to my PySpark analysis of some StackExchange Data\"' ]\n",
    "output = subprocess.Popen( cmd, stdout=subprocess.PIPE ).communicate()[0]\n",
    "print(output)"
   ]
  },
  {
   "cell_type": "code",
   "execution_count": 2,
   "metadata": {},
   "outputs": [],
   "source": [
    "import time\n",
    "import numpy as np\n",
    "import pandas as pd\n",
    "from datetime import datetime"
   ]
  },
  {
   "cell_type": "markdown",
   "metadata": {},
   "source": [
    "# Load PySpark and Data Structures"
   ]
  },
  {
   "cell_type": "code",
   "execution_count": 3,
   "metadata": {},
   "outputs": [
    {
     "name": "stdout",
     "output_type": "stream",
     "text": [
      "The Spark UI is available at: http://192.168.0.26:4040/ and the defaultParallelism is 4\n"
     ]
    }
   ],
   "source": [
    "%run -i '1-load-pyspark.py'\n",
    "\n",
    "## array of dataset names to loop through in analysis\n",
    "data_array = [\n",
    "    \"english\",\n",
    "    \"rus_stackoverflow\",\n",
    "    \"superuser\",\n",
    "    \"stackoverflow\",\n",
    "    \"math\"\n",
    "]\n",
    "\n",
    "data_array = [\n",
    "    \"economics\",\n",
    "    \"buddhism\",\n",
    "    \"fitness\",\n",
    "    \"health\",\n",
    "    \"interpersonal\"\n",
    "]\n",
    "\n",
    "datasets = {}   "
   ]
  },
  {
   "cell_type": "markdown",
   "metadata": {},
   "source": [
    "# Load Data"
   ]
  },
  {
   "cell_type": "code",
   "execution_count": 4,
   "metadata": {},
   "outputs": [
    {
     "name": "stdout",
     "output_type": "stream",
     "text": [
      "09:42:05.999376\n",
      "CPU times: user 115 µs, sys: 30 µs, total: 145 µs\n",
      "Wall time: 201 µs\n"
     ]
    }
   ],
   "source": [
    "%%time\n",
    "print(datetime.now().time())\n",
    "#%run -i '2-load-datasets.py'"
   ]
  },
  {
   "cell_type": "code",
   "execution_count": 5,
   "metadata": {},
   "outputs": [],
   "source": [
    "def show_spark_df(df, n=5):\n",
    "    '''\n",
    "    function to better print spark df entries\n",
    "    '''\n",
    "    display(pd.DataFrame(df.head(n), columns=df.columns))"
   ]
  },
  {
   "cell_type": "markdown",
   "metadata": {},
   "source": [
    "# Clean Data"
   ]
  },
  {
   "cell_type": "code",
   "execution_count": 6,
   "metadata": {},
   "outputs": [
    {
     "name": "stdout",
     "output_type": "stream",
     "text": [
      "09:42:06.018372\n",
      "CPU times: user 152 µs, sys: 64 µs, total: 216 µs\n",
      "Wall time: 168 µs\n"
     ]
    }
   ],
   "source": [
    "%%time\n",
    "print(datetime.now().time())\n",
    "#%run -i '3-clean-datasets.py'"
   ]
  },
  {
   "cell_type": "markdown",
   "metadata": {},
   "source": [
    "# Define Target and Perform EDA"
   ]
  },
  {
   "cell_type": "code",
   "execution_count": 7,
   "metadata": {
    "scrolled": true
   },
   "outputs": [
    {
     "name": "stdout",
     "output_type": "stream",
     "text": [
      "09:42:06.031113\n",
      "CPU times: user 239 µs, sys: 72 µs, total: 311 µs\n",
      "Wall time: 269 µs\n"
     ]
    }
   ],
   "source": [
    "%%time\n",
    "print(datetime.now().time())\n",
    "#%run -i '4-define-target-eda.py'\n",
    "\n",
    "#NB TO DO: Find threshold to delete low views to make sure users that can vote have seen the question\n",
    "\n",
    "'''\n",
    "vc_thresh_data = {}\n",
    "\n",
    "## finding means of viewcounts across fora\n",
    "\n",
    "for i in data_array:\n",
    "    vc_thresh_data[i] = datasets[i].select(\"viewcount\").rdd.flatMap(lambda x: x).mean()\n",
    "\n",
    "vc_thresh_data'''"
   ]
  },
  {
   "cell_type": "markdown",
   "metadata": {},
   "source": [
    "# Export Clean Data with Target"
   ]
  },
  {
   "cell_type": "code",
   "execution_count": 8,
   "metadata": {},
   "outputs": [
    {
     "name": "stdout",
     "output_type": "stream",
     "text": [
      "09:42:06.040152\n",
      "CPU times: user 288 µs, sys: 77 µs, total: 365 µs\n",
      "Wall time: 308 µs\n"
     ]
    }
   ],
   "source": [
    "%%time\n",
    "print(datetime.now().time())\n",
    "#%run -i '5-export-data.py'"
   ]
  },
  {
   "cell_type": "markdown",
   "metadata": {},
   "source": [
    "# Load Cleaned Data"
   ]
  },
  {
   "cell_type": "code",
   "execution_count": 9,
   "metadata": {
    "scrolled": true
   },
   "outputs": [
    {
     "name": "stdout",
     "output_type": "stream",
     "text": [
      "CPU times: user 3.37 ms, sys: 2.19 ms, total: 5.57 ms\n",
      "Wall time: 3.93 s\n"
     ]
    }
   ],
   "source": [
    "%%time\n",
    "\n",
    "## load clean data\n",
    "for i in data_array:\n",
    "    datasets[i] = (\n",
    "        spark\n",
    "        .read\n",
    "        .load(f'clean-data/{i}.parquet')\n",
    ")"
   ]
  },
  {
   "cell_type": "markdown",
   "metadata": {},
   "source": [
    "# Train/Test Split Manually"
   ]
  },
  {
   "cell_type": "code",
   "execution_count": 10,
   "metadata": {
    "scrolled": true
   },
   "outputs": [
    {
     "name": "stdout",
     "output_type": "stream",
     "text": [
      "09:42:09.991450\n",
      "economics: 0.19688614985403827, from 1214 and 6166\n",
      "buddhism: 0.20017182130584193, from 932 and 4656\n",
      "fitness: 0.20499851234751562, from 1378 and 6722\n",
      "health: 0.18846909805634418, from 863 and 4579\n",
      "interpersonal: 0.2189300411522634, from 532 and 2430\n",
      "CPU times: user 29 ms, sys: 8.75 ms, total: 37.7 ms\n",
      "Wall time: 4.34 s\n"
     ]
    }
   ],
   "source": [
    "%%time\n",
    "print(datetime.now().time())\n",
    "%run -i '6-train-test-split.py'"
   ]
  },
  {
   "cell_type": "code",
   "execution_count": 11,
   "metadata": {},
   "outputs": [
    {
     "data": {
      "text/plain": [
       "'\\ninteresting to see how skewed rus_stackoverflow posts are to more posts in recent years\\n'"
      ]
     },
     "execution_count": 11,
     "metadata": {},
     "output_type": "execute_result"
    }
   ],
   "source": [
    "'''\n",
    "interesting to see how skewed rus_stackoverflow posts are to more posts in recent years\n",
    "'''"
   ]
  },
  {
   "cell_type": "markdown",
   "metadata": {},
   "source": [
    "# Create Results Dictionary"
   ]
  },
  {
   "cell_type": "code",
   "execution_count": 12,
   "metadata": {},
   "outputs": [],
   "source": [
    "RESULTS = {}\n",
    "for i in data_array:\n",
    "    # capitalise keys\n",
    "    RESULTS[i.title()] = {}"
   ]
  },
  {
   "cell_type": "markdown",
   "metadata": {},
   "source": [
    "# Silly Mean Model"
   ]
  },
  {
   "cell_type": "code",
   "execution_count": 13,
   "metadata": {},
   "outputs": [],
   "source": [
    "from pyspark.sql.functions import array, lit, struct\n",
    "\n",
    "## create mean dictionaries\n",
    "y_ravi_means = {}\n",
    "\n",
    "## calculate the mean of each forum, using ONLY training set\n",
    "for i in data_array:\n",
    "    y_ravi_means[i] = train[i].select('y_ravi').rdd.flatMap(lambda x: x).mean()"
   ]
  },
  {
   "cell_type": "code",
   "execution_count": 14,
   "metadata": {},
   "outputs": [
    {
     "name": "stdout",
     "output_type": "stream",
     "text": [
      "The root-mean-square error of \u001b[94meconomics's\u001b[0m\u001b[92m mean\u001b[0m model is 0.037792\n",
      "The root-mean-square error of \u001b[94mbuddhism's\u001b[0m\u001b[92m mean\u001b[0m model is 0.015749\n",
      "The root-mean-square error of \u001b[94mfitness's\u001b[0m\u001b[92m mean\u001b[0m model is 0.020767\n",
      "The root-mean-square error of \u001b[94mhealth's\u001b[0m\u001b[92m mean\u001b[0m model is 0.040167\n",
      "The root-mean-square error of \u001b[94minterpersonal's\u001b[0m\u001b[92m mean\u001b[0m model is 0.008395\n"
     ]
    }
   ],
   "source": [
    "## import rmse evaluator\n",
    "from pyspark.ml.evaluation import RegressionEvaluator\n",
    "\n",
    "## create baselines dictionary\n",
    "base = {}\n",
    "\n",
    "## modelling\n",
    "for i in data_array:\n",
    "\n",
    "    ## initial variable for timing\n",
    "    t0 = time.time()\n",
    "    \n",
    "    ## train silly mean model by assigning training set mean for test predictions\n",
    "    test[i] = test[i].withColumn('mean_pred', lit(y_ravi_means[i]))\n",
    "\n",
    "    ## evaluate silly mean model, ONLY on test set\n",
    "    evaluator = RegressionEvaluator(metricName=\"rmse\", labelCol=\"y_ravi\", predictionCol=\"mean_pred\")\n",
    "    base[i] = round( evaluator.evaluate(test[i]), 6)\n",
    "\n",
    "    print(f\"The root-mean-square error of \\033[94m{i}'s\\033[0m\\033[92m mean\\033[0m model is {base[i]}\")\n",
    "\n",
    "    ## record time taken\n",
    "    timet = round( time.time() - t0, 2 )\n",
    "    \n",
    "    ## store as dictionary inside RESULTS dictionary, initiating dataset name entries first\n",
    "    RESULTS[i.title()]['0silly_mean.rmse'] = base[i]\n",
    "    RESULTS[i.title()]['0silly_mean.timet'] = timet"
   ]
  },
  {
   "cell_type": "code",
   "execution_count": 15,
   "metadata": {},
   "outputs": [],
   "source": [
    "def show_save_results(results, filename='final-results.csv'):\n",
    "    '''\n",
    "    function to print and export modelling results\n",
    "    '''\n",
    "    display(pd.DataFrame.from_dict(results).T)\n",
    "    print(pd.DataFrame.from_dict(results).T.to_latex())\n",
    "    pd.DataFrame.from_dict(results).T.to_csv(filename)"
   ]
  },
  {
   "cell_type": "code",
   "execution_count": 16,
   "metadata": {
    "scrolled": true
   },
   "outputs": [
    {
     "data": {
      "text/html": [
       "<div>\n",
       "<style scoped>\n",
       "    .dataframe tbody tr th:only-of-type {\n",
       "        vertical-align: middle;\n",
       "    }\n",
       "\n",
       "    .dataframe tbody tr th {\n",
       "        vertical-align: top;\n",
       "    }\n",
       "\n",
       "    .dataframe thead th {\n",
       "        text-align: right;\n",
       "    }\n",
       "</style>\n",
       "<table border=\"1\" class=\"dataframe\">\n",
       "  <thead>\n",
       "    <tr style=\"text-align: right;\">\n",
       "      <th></th>\n",
       "      <th>0silly_mean.rmse</th>\n",
       "      <th>0silly_mean.timet</th>\n",
       "    </tr>\n",
       "  </thead>\n",
       "  <tbody>\n",
       "    <tr>\n",
       "      <th>Economics</th>\n",
       "      <td>0.037792</td>\n",
       "      <td>0.46</td>\n",
       "    </tr>\n",
       "    <tr>\n",
       "      <th>Buddhism</th>\n",
       "      <td>0.015749</td>\n",
       "      <td>0.17</td>\n",
       "    </tr>\n",
       "    <tr>\n",
       "      <th>Fitness</th>\n",
       "      <td>0.020767</td>\n",
       "      <td>0.19</td>\n",
       "    </tr>\n",
       "    <tr>\n",
       "      <th>Health</th>\n",
       "      <td>0.040167</td>\n",
       "      <td>0.17</td>\n",
       "    </tr>\n",
       "    <tr>\n",
       "      <th>Interpersonal</th>\n",
       "      <td>0.008395</td>\n",
       "      <td>0.21</td>\n",
       "    </tr>\n",
       "  </tbody>\n",
       "</table>\n",
       "</div>"
      ],
      "text/plain": [
       "               0silly_mean.rmse  0silly_mean.timet\n",
       "Economics              0.037792               0.46\n",
       "Buddhism               0.015749               0.17\n",
       "Fitness                0.020767               0.19\n",
       "Health                 0.040167               0.17\n",
       "Interpersonal          0.008395               0.21"
      ]
     },
     "metadata": {},
     "output_type": "display_data"
    },
    {
     "name": "stdout",
     "output_type": "stream",
     "text": [
      "\\begin{tabular}{lrr}\n",
      "\\toprule\n",
      "{} &  0silly\\_mean.rmse &  0silly\\_mean.timet \\\\\n",
      "\\midrule\n",
      "Economics     &          0.037792 &               0.46 \\\\\n",
      "Buddhism      &          0.015749 &               0.17 \\\\\n",
      "Fitness       &          0.020767 &               0.19 \\\\\n",
      "Health        &          0.040167 &               0.17 \\\\\n",
      "Interpersonal &          0.008395 &               0.21 \\\\\n",
      "\\bottomrule\n",
      "\\end{tabular}\n",
      "\n"
     ]
    }
   ],
   "source": [
    "#show_save_results(RESULTS)"
   ]
  },
  {
   "cell_type": "markdown",
   "metadata": {},
   "source": [
    "# Viewcount Model"
   ]
  },
  {
   "cell_type": "code",
   "execution_count": 24,
   "metadata": {},
   "outputs": [
    {
     "name": "stdout",
     "output_type": "stream",
     "text": [
      "09:43:26.248420\n",
      "The root-mean-square error of \u001b[94meconomics's\u001b[0m\u001b[92m viewcount\u001b[0m model is 0.037722\n",
      "The root-mean-square error of \u001b[94mbuddhism's\u001b[0m\u001b[92m viewcount\u001b[0m model is 0.015799\n",
      "The root-mean-square error of \u001b[94mfitness's\u001b[0m\u001b[92m viewcount\u001b[0m model is 0.020627\n",
      "The root-mean-square error of \u001b[94mhealth's\u001b[0m\u001b[92m viewcount\u001b[0m model is 0.040102\n",
      "The root-mean-square error of \u001b[94minterpersonal's\u001b[0m\u001b[92m viewcount\u001b[0m model is 0.008177\n",
      "CPU times: user 954 ms, sys: 262 ms, total: 1.22 s\n",
      "Wall time: 17.9 s\n"
     ]
    }
   ],
   "source": [
    "%%time\n",
    "print(datetime.now().time())\n",
    "#3min 56s\n",
    "\n",
    "from pyspark.ml.pipeline import Pipeline\n",
    "from pyspark.ml.feature import CountVectorizer, StandardScaler, VectorAssembler, VectorSlicer\n",
    "\n",
    "########################\n",
    "##### CHOOSE FEATS ##### can't get date right\n",
    "########################\n",
    "\n",
    "## define features to predict on\n",
    "target = 'y_ravi'\n",
    "numic_variables = ['viewcount']\n",
    "datet_variables = ['clean_date']\n",
    "\n",
    "## numerical columns\n",
    "numic_assembler = VectorAssembler(inputCols=numic_variables, outputCol='numic_data') # have to put in single col\n",
    "standardiser = StandardScaler(inputCol='numic_data', outputCol='numic_data_std')    \n",
    "numic_pipeline = Pipeline(stages=[numic_assembler, standardiser])\n",
    "\n",
    "## date columns\n",
    "datet_assembler = VectorAssembler(inputCols=datet_variables, outputCol='datet_data')\n",
    "\n",
    "## create processing pipeline\n",
    "process_assembler = VectorAssembler(inputCols=['numic_data'], #inputCols=['datet_data']\n",
    "                                    outputCol='features') \n",
    "process_pipeline = Pipeline(stages=[numic_pipeline, process_assembler])\n",
    "\n",
    "########################\n",
    "##### CHOOSE MODEL #####\n",
    "########################\n",
    "\n",
    "## linear regression on just viewcount\n",
    "from pyspark.ml.regression import LinearRegression\n",
    "    \n",
    "lr = LinearRegression(#maxIter=100, # this doesn't change anything\n",
    "                      #regParam=0.3, # using regularisation parameter here useless since there is one feature\n",
    "                      #elasticNetParam=0.8,\n",
    "                      featuresCol=\"features\",\n",
    "                      labelCol=target,\n",
    "                      predictionCol=\"viewcount_pred\")\n",
    "\n",
    "## make final pipeline\n",
    "final_pipeline = Pipeline(stages=[process_pipeline, lr])\n",
    "\n",
    "## import methods for tuning\n",
    "from pyspark.ml.tuning import CrossValidator, ParamGridBuilder\n",
    "\n",
    "## set up grid for parameter tuning: \n",
    "#.addGrid(lr.regParam, [1e-3, 1.])\n",
    "#.addGrid(lr.elasticNetParam, [1e-3, 1.])\n",
    "paramGrid = ParamGridBuilder() \\\n",
    "    .build()\n",
    "\n",
    "## set up rmse evaluator\n",
    "evaluator = RegressionEvaluator(metricName=\"rmse\", labelCol=\"y_ravi\", predictionCol=\"viewcount_pred\")\n",
    "\n",
    "## set up cross validation for parameter tuning\n",
    "crossval = CrossValidator(estimator=final_pipeline,\n",
    "                          estimatorParamMaps=paramGrid,\n",
    "                          evaluator=evaluator,\n",
    "                          numFolds=2)\n",
    "\n",
    "## modelling\n",
    "for i in data_array:\n",
    "    \n",
    "    ## initial variable for timing\n",
    "    t0 = time.time()\n",
    "    \n",
    "    ## this fits on train, then predicts on test, using cross val\n",
    "    rmse = round( evaluator.evaluate(crossval.fit(train[i]).transform(test[i])), 6)\n",
    "        \n",
    "    print(f\"The root-mean-square error of \\033[94m{i}'s\\033[0m\\033[92m viewcount\\033[0m model is {rmse}\")\n",
    "\n",
    "    ## calculate improvement over median baseline\n",
    "    impr = round( (rmse/base[i] - 1)*-100, 3 )\n",
    "    \n",
    "    ## record time taken\n",
    "    timt = round( time.time() - t0, 2 )\n",
    "\n",
    "    ## store as dictionary inside RESULTS dictionary\n",
    "    RESULTS[i.title()]['1viewcount.rmse'] = rmse\n",
    "    RESULTS[i.title()]['1viewcount.v.imprv'] = impr\n",
    "    RESULTS[i.title()]['1viewcount.timet'] = timt\n",
    "    \n",
    "## record results\n",
    "#show_save_results(RESULTS)"
   ]
  },
  {
   "cell_type": "code",
   "execution_count": 25,
   "metadata": {},
   "outputs": [
    {
     "data": {
      "text/plain": [
       "'\\nInteresting that there are different improvements of viewcount over mean-only prediciton\\n'"
      ]
     },
     "execution_count": 25,
     "metadata": {},
     "output_type": "execute_result"
    }
   ],
   "source": [
    "'''\n",
    "Interesting that there are different improvements of viewcount over mean-only prediciton\n",
    "'''"
   ]
  },
  {
   "cell_type": "markdown",
   "metadata": {},
   "source": [
    "# Begin Feature Engineering"
   ]
  },
  {
   "cell_type": "code",
   "execution_count": 26,
   "metadata": {},
   "outputs": [
    {
     "name": "stdout",
     "output_type": "stream",
     "text": [
      "Garbage collector: collected 799 objects.\n"
     ]
    }
   ],
   "source": [
    "## garbage collector to speed up computation\n",
    "import gc\n",
    "collected = gc.collect()\n",
    "print('Garbage collector: collected %d objects.' % collected)"
   ]
  },
  {
   "cell_type": "code",
   "execution_count": 27,
   "metadata": {},
   "outputs": [],
   "source": [
    "#######################\n",
    "###### TOKENISER ######\n",
    "#######################\n",
    "\n",
    "import nltk\n",
    "from nltk.stem import PorterStemmer\n",
    "ps = PorterStemmer()\n",
    "from pyspark import keyword_only  ## < 2.0 -> pyspark.ml.util.keyword_only\n",
    "from pyspark.ml import Transformer\n",
    "from pyspark.ml.param.shared import HasInputCol, HasOutputCol, Param\n",
    "from pyspark.sql.functions import udf\n",
    "from pyspark.sql.types import ArrayType, StringType\n",
    "\n",
    "## custom transformer for nltk tokenisation\n",
    "class NLTKWordPunctTokeniser(Transformer, HasInputCol, HasOutputCol):\n",
    "\n",
    "    @keyword_only\n",
    "    def __init__(self, inputCol=None, outputCol=None, stopwords=None):\n",
    "        super(NLTKWordPunctTokeniser, self).__init__()\n",
    "        self.stopwords = Param(self, \"stopwords\", \"\")\n",
    "        self._setDefault(stopwords=set())\n",
    "        kwargs = self._input_kwargs\n",
    "        self.setParams(**kwargs)\n",
    "\n",
    "    @keyword_only\n",
    "    def setParams(self, inputCol=None, outputCol=None, stopwords=None):\n",
    "        kwargs = self._input_kwargs\n",
    "        return self._set(**kwargs)\n",
    "\n",
    "    def setStopwords(self, value):\n",
    "        self._paramMap[self.stopwords] = value\n",
    "        return self\n",
    "\n",
    "    def getStopwords(self):\n",
    "        return self.getOrDefault(self.stopwords)\n",
    "\n",
    "    def _transform(self, dataset):\n",
    "        stopwords = self.getStopwords()\n",
    "\n",
    "        def f(s):\n",
    "            # get tokens with separate punctuation\n",
    "            tokens = nltk.tokenize.wordpunct_tokenize(s)\n",
    "            # sort out russian stopwords\n",
    "            #if ('я' in tokens):\n",
    "            #    tokens = [t for t in tokens if t not in nltk.corpus.stopwords.words('russian')]\n",
    "            # remove english stopwords\n",
    "            tokens = [t for t in tokens if t not in stopwords]\n",
    "            # remove single letters\n",
    "            #tokens = [t for t in tokens if not len(t)==1] # this removes single punctuation as well\n",
    "            # stemming the words\n",
    "            tokens = [ps.stem(t) for t in tokens]\n",
    "            # convert to lower case\n",
    "            return [t.lower() for t in tokens]\n",
    "    \n",
    "        t = ArrayType(StringType())\n",
    "        out_col = self.getOutputCol()\n",
    "        in_col = dataset[self.getInputCol()]\n",
    "        return dataset.withColumn(out_col, udf(f, t)(in_col))"
   ]
  },
  {
   "cell_type": "code",
   "execution_count": 37,
   "metadata": {},
   "outputs": [
    {
     "name": "stdout",
     "output_type": "stream",
     "text": [
      "09:59:37.488166\n",
      "The root-mean-square error of \u001b[94meconomics's\u001b[0m\u001b[92m tokens\u001b[0m model is 0.037769\n",
      "The root-mean-square error of \u001b[94mbuddhism's\u001b[0m\u001b[92m tokens\u001b[0m model is 0.015749\n",
      "The root-mean-square error of \u001b[94mfitness's\u001b[0m\u001b[92m tokens\u001b[0m model is 0.020767\n",
      "The root-mean-square error of \u001b[94mhealth's\u001b[0m\u001b[92m tokens\u001b[0m model is 0.040057\n",
      "The root-mean-square error of \u001b[94minterpersonal's\u001b[0m\u001b[92m tokens\u001b[0m model is 0.008395\n"
     ]
    },
    {
     "data": {
      "text/html": [
       "<div>\n",
       "<style scoped>\n",
       "    .dataframe tbody tr th:only-of-type {\n",
       "        vertical-align: middle;\n",
       "    }\n",
       "\n",
       "    .dataframe tbody tr th {\n",
       "        vertical-align: top;\n",
       "    }\n",
       "\n",
       "    .dataframe thead th {\n",
       "        text-align: right;\n",
       "    }\n",
       "</style>\n",
       "<table border=\"1\" class=\"dataframe\">\n",
       "  <thead>\n",
       "    <tr style=\"text-align: right;\">\n",
       "      <th></th>\n",
       "      <th>0silly_mean.rmse</th>\n",
       "      <th>0silly_mean.timet</th>\n",
       "      <th>1viewcount.rmse</th>\n",
       "      <th>1viewcount.timet</th>\n",
       "      <th>1viewcount.v.imprv</th>\n",
       "      <th>2tokens.rmse</th>\n",
       "      <th>2tokens.timet</th>\n",
       "      <th>2tokens.v.imprv</th>\n",
       "    </tr>\n",
       "  </thead>\n",
       "  <tbody>\n",
       "    <tr>\n",
       "      <th>Economics</th>\n",
       "      <td>0.037792</td>\n",
       "      <td>0.46</td>\n",
       "      <td>0.037722</td>\n",
       "      <td>5.91</td>\n",
       "      <td>0.185</td>\n",
       "      <td>0.037769</td>\n",
       "      <td>115.50</td>\n",
       "      <td>0.061</td>\n",
       "    </tr>\n",
       "    <tr>\n",
       "      <th>Buddhism</th>\n",
       "      <td>0.015749</td>\n",
       "      <td>0.17</td>\n",
       "      <td>0.015799</td>\n",
       "      <td>3.59</td>\n",
       "      <td>-0.317</td>\n",
       "      <td>0.015749</td>\n",
       "      <td>76.51</td>\n",
       "      <td>-0.000</td>\n",
       "    </tr>\n",
       "    <tr>\n",
       "      <th>Fitness</th>\n",
       "      <td>0.020767</td>\n",
       "      <td>0.19</td>\n",
       "      <td>0.020627</td>\n",
       "      <td>3.35</td>\n",
       "      <td>0.674</td>\n",
       "      <td>0.020767</td>\n",
       "      <td>114.40</td>\n",
       "      <td>-0.000</td>\n",
       "    </tr>\n",
       "    <tr>\n",
       "      <th>Health</th>\n",
       "      <td>0.040167</td>\n",
       "      <td>0.17</td>\n",
       "      <td>0.040102</td>\n",
       "      <td>2.54</td>\n",
       "      <td>0.162</td>\n",
       "      <td>0.040057</td>\n",
       "      <td>67.47</td>\n",
       "      <td>0.274</td>\n",
       "    </tr>\n",
       "    <tr>\n",
       "      <th>Interpersonal</th>\n",
       "      <td>0.008395</td>\n",
       "      <td>0.21</td>\n",
       "      <td>0.008177</td>\n",
       "      <td>2.45</td>\n",
       "      <td>2.597</td>\n",
       "      <td>0.008395</td>\n",
       "      <td>87.88</td>\n",
       "      <td>-0.000</td>\n",
       "    </tr>\n",
       "  </tbody>\n",
       "</table>\n",
       "</div>"
      ],
      "text/plain": [
       "               0silly_mean.rmse  0silly_mean.timet  1viewcount.rmse  \\\n",
       "Economics              0.037792               0.46         0.037722   \n",
       "Buddhism               0.015749               0.17         0.015799   \n",
       "Fitness                0.020767               0.19         0.020627   \n",
       "Health                 0.040167               0.17         0.040102   \n",
       "Interpersonal          0.008395               0.21         0.008177   \n",
       "\n",
       "               1viewcount.timet  1viewcount.v.imprv  2tokens.rmse  \\\n",
       "Economics                  5.91               0.185      0.037769   \n",
       "Buddhism                   3.59              -0.317      0.015749   \n",
       "Fitness                    3.35               0.674      0.020767   \n",
       "Health                     2.54               0.162      0.040057   \n",
       "Interpersonal              2.45               2.597      0.008395   \n",
       "\n",
       "               2tokens.timet  2tokens.v.imprv  \n",
       "Economics             115.50            0.061  \n",
       "Buddhism               76.51           -0.000  \n",
       "Fitness               114.40           -0.000  \n",
       "Health                 67.47            0.274  \n",
       "Interpersonal          87.88           -0.000  "
      ]
     },
     "metadata": {},
     "output_type": "display_data"
    },
    {
     "name": "stdout",
     "output_type": "stream",
     "text": [
      "\\begin{tabular}{lrrrrrrrr}\n",
      "\\toprule\n",
      "{} &  0silly\\_mean.rmse &  0silly\\_mean.timet &  1viewcount.rmse &  1viewcount.timet &  1viewcount.v.imprv &  2tokens.rmse &  2tokens.timet &  2tokens.v.imprv \\\\\n",
      "\\midrule\n",
      "Economics     &          0.037792 &               0.46 &         0.037722 &              5.91 &               0.185 &      0.037769 &         115.50 &            0.061 \\\\\n",
      "Buddhism      &          0.015749 &               0.17 &         0.015799 &              3.59 &              -0.317 &      0.015749 &          76.51 &           -0.000 \\\\\n",
      "Fitness       &          0.020767 &               0.19 &         0.020627 &              3.35 &               0.674 &      0.020767 &         114.40 &           -0.000 \\\\\n",
      "Health        &          0.040167 &               0.17 &         0.040102 &              2.54 &               0.162 &      0.040057 &          67.47 &            0.274 \\\\\n",
      "Interpersonal &          0.008395 &               0.21 &         0.008177 &              2.45 &               2.597 &      0.008395 &          87.88 &           -0.000 \\\\\n",
      "\\bottomrule\n",
      "\\end{tabular}\n",
      "\n",
      "CPU times: user 1.73 s, sys: 436 ms, total: 2.16 s\n",
      "Wall time: 7min 41s\n"
     ]
    }
   ],
   "source": [
    "%%time\n",
    "print(datetime.now().time())\n",
    "# ENGLISH\n",
    "# 8min 56s for no CV and no GRIDSEARCH\n",
    "# 17min 10s for 3-CV and no GRIDSEARCH\n",
    "# SMALL DATASETS\n",
    "# 36min 55s for no CV and no GRIDSEARCH\n",
    "# 12min 35s for 3-CV and no GRIDSEARCH\n",
    "# 8min 32s for 2-CV and no GRIDSEARCH\n",
    "\n",
    "from pyspark.ml.pipeline import Pipeline\n",
    "from pyspark.ml.feature import CountVectorizer, StandardScaler, VectorAssembler, VectorSlicer\n",
    "\n",
    "########################\n",
    "##### CHOOSE FEATS ##### can't get date right\n",
    "########################\n",
    "\n",
    "## define features to predict on\n",
    "target = 'y_ravi'\n",
    "textt_variables = ['title', 'clean_body']\n",
    "datet_variables = ['clean_date']\n",
    "\n",
    "## date columns\n",
    "datet_assembler = VectorAssembler(inputCols=datet_variables, outputCol='datet_data')\n",
    "\n",
    "## textual columns\n",
    "# tokenising text cols with custom transformer\n",
    "nltk_tokeniser_body = NLTKWordPunctTokeniser(\n",
    "    inputCol='clean_body', outputCol='body_words',  \n",
    "    stopwords=set(nltk.corpus.stopwords.words('english')))\n",
    "\n",
    "nltk_tokeniser_title = NLTKWordPunctTokeniser(\n",
    "    inputCol='title', outputCol='titl_words',  \n",
    "    stopwords=set(nltk.corpus.stopwords.words('english')))\n",
    "\n",
    "# count occurence of tokens, i.e. create dfm\n",
    "cnt_vectrizr_body = CountVectorizer(inputCol='body_words', outputCol='body_feats', minDF=2)\n",
    "cnt_vectrizr_title = CountVectorizer(inputCol='titl_words', outputCol='titl_feats', minDF=2)\n",
    "\n",
    "## create processing pipeline\n",
    "process_assembler = VectorAssembler(inputCols=['body_feats', 'titl_feats'], #inputCols=['datet_data']\n",
    "                                    outputCol='features') \n",
    "process_pipeline = Pipeline(stages=[  #inputCols=['datet_data']\n",
    "    nltk_tokeniser_body, \n",
    "    nltk_tokeniser_title,\n",
    "    #token_counter_body,\n",
    "    #token_counter_title,\n",
    "    cnt_vectrizr_body,\n",
    "    cnt_vectrizr_title,\n",
    "    process_assembler\n",
    "])\n",
    "\n",
    "########################\n",
    "##### CHOOSE MODEL #####\n",
    "########################\n",
    "\n",
    "## linear regression on just viewcount\n",
    "from pyspark.ml.regression import LinearRegression\n",
    "    \n",
    "lr = LinearRegression(maxIter=100,\n",
    "                      regParam=1,\n",
    "                      elasticNetParam=0.001,\n",
    "                      featuresCol='features',\n",
    "                      labelCol=target,\n",
    "                      predictionCol='tokens_pred')\n",
    "\n",
    "## make final pipeline\n",
    "final_pipeline = Pipeline(stages=[process_pipeline, lr])\n",
    "\n",
    "## import methods for tuning\n",
    "from pyspark.ml.tuning import CrossValidator, ParamGridBuilder\n",
    "\n",
    "## set up grid for parameter tuning: \n",
    "'''NEEDED, BUT IMMENSELY SLOWING DOWN'''\n",
    "# Ravi et al use L2, aka ridge, aka elasticNetParam=0\n",
    "# regParam is the value of lambda\n",
    "#.addGrid(lr.elasticNetParam, [1e-3, 1.])\n",
    "#.addGrid(lr.regParam, [1e-3, 1.])\n",
    "paramGrid = ParamGridBuilder() \\\n",
    "    .build()\n",
    "\n",
    "\n",
    "## set up rmse evaluator\n",
    "evaluator = RegressionEvaluator(metricName='rmse', labelCol='y_ravi', predictionCol='tokens_pred')\n",
    "\n",
    "## set up cross validation for parameter tuning\n",
    "'''DEFINITELY SLOWING DOWN'''\n",
    "crossval = CrossValidator(estimator=final_pipeline,\n",
    "                          estimatorParamMaps=paramGrid,\n",
    "                          evaluator=evaluator,\n",
    "                          numFolds=2)\n",
    "models = {}\n",
    "\n",
    "## modelling\n",
    "for i in data_array:\n",
    "    \n",
    "    ## initial variable for timing\n",
    "    t0 = time.time()\n",
    "    \n",
    "    ## fit on training set with CV, store model and parameters, predict on test set\n",
    "    cvmodel = crossval.fit(train[i])\n",
    "    models[i] = cvmodel\n",
    "    rmse = round( evaluator.evaluate(cvmodel.transform(test[i])), 6)\n",
    "    \n",
    "    print(f\"The root-mean-square error of \\033[94m{i}'s\\033[0m\\033[92m tokens\\033[0m model is {rmse}\")\n",
    "\n",
    "    ## calculate improvement over median baseline\n",
    "    impr = round( (rmse/base[i] - 1)*-100, 3 )\n",
    "    \n",
    "    ## record time taken\n",
    "    timt = round( time.time() - t0, 2 )\n",
    "\n",
    "    ## store as dictionary inside RESULTS dictionary\n",
    "    RESULTS[i.title()]['2tokens.rmse'] = rmse\n",
    "    RESULTS[i.title()]['2tokens.v.imprv'] = impr\n",
    "    RESULTS[i.title()]['2tokens.timet'] = timt\n",
    "    \n",
    "## record results\n",
    "show_save_results(RESULTS, '2cv-0.001elastic-1reg.csv')"
   ]
  },
  {
   "cell_type": "code",
   "execution_count": 53,
   "metadata": {},
   "outputs": [
    {
     "data": {
      "text/plain": [
       "[Row(tokens_pred=0.034058891041456055),\n",
       " Row(tokens_pred=0.03405929314867255),\n",
       " Row(tokens_pred=0.034079450138317174),\n",
       " Row(tokens_pred=0.0337468957965947),\n",
       " Row(tokens_pred=0.034174996262087545),\n",
       " Row(tokens_pred=0.03462413748313258),\n",
       " Row(tokens_pred=0.03393305826306672),\n",
       " Row(tokens_pred=0.03410357979472746),\n",
       " Row(tokens_pred=0.03410431747270664),\n",
       " Row(tokens_pred=0.03411632288668403)]"
      ]
     },
     "execution_count": 53,
     "metadata": {},
     "output_type": "execute_result"
    }
   ],
   "source": [
    "## check predictions aren't constant\n",
    "models['health'].transform(test['health']).select('tokens_pred').take(10)"
   ]
  },
  {
   "cell_type": "code",
   "execution_count": null,
   "metadata": {},
   "outputs": [],
   "source": [
    "\"\"\"why the heck do fitness and interpersonal have constant predictions - it's not the parameters or the size of the data\"\"\""
   ]
  },
  {
   "cell_type": "code",
   "execution_count": 56,
   "metadata": {},
   "outputs": [
    {
     "data": {
      "text/plain": [
       "[(0.035319195593229886, {})]"
      ]
     },
     "execution_count": 56,
     "metadata": {},
     "output_type": "execute_result"
    }
   ],
   "source": [
    "## have a look at CV models params\n",
    "list(zip(models['health'].avgMetrics, paramGrid))"
   ]
  },
  {
   "cell_type": "code",
   "execution_count": 92,
   "metadata": {},
   "outputs": [],
   "source": [
    "## extract best parameters\n",
    "for i in data_array:\n",
    "    # elasticnet\n",
    "    ela_key = list(models[i].bestModel.stages[-1].extractParamMap().keys())[1]\n",
    "    ela_param = models[i].bestModel.stages[-1].extractParamMap()[ela_key]\n",
    "    # reg'sation\n",
    "    reg_key = list(models[i].bestModel.stages[-1].extractParamMap().keys())[9]\n",
    "    reg_param = models[i].bestModel.stages[-1].extractParamMap()[reg_key]\n",
    "    print(i)\n",
    "    print(f'elastic net: {ela_param})\n",
    "    "
   ]
  },
  {
   "cell_type": "code",
   "execution_count": 93,
   "metadata": {},
   "outputs": [
    {
     "data": {
      "text/plain": [
       "[Param(parent='LinearRegression_33b24407825c', name='aggregationDepth', doc='suggested depth for treeAggregate (>= 2)'),\n",
       " Param(parent='LinearRegression_33b24407825c', name='elasticNetParam', doc='the ElasticNet mixing parameter, in range [0, 1]. For alpha = 0, the penalty is an L2 penalty. For alpha = 1, it is an L1 penalty'),\n",
       " Param(parent='LinearRegression_33b24407825c', name='epsilon', doc='The shape parameter to control the amount of robustness. Must be > 1.0.'),\n",
       " Param(parent='LinearRegression_33b24407825c', name='featuresCol', doc='features column name'),\n",
       " Param(parent='LinearRegression_33b24407825c', name='fitIntercept', doc='whether to fit an intercept term'),\n",
       " Param(parent='LinearRegression_33b24407825c', name='labelCol', doc='label column name'),\n",
       " Param(parent='LinearRegression_33b24407825c', name='loss', doc='The loss function to be optimized. Supported options: squaredError, huber. (Default squaredError)'),\n",
       " Param(parent='LinearRegression_33b24407825c', name='maxIter', doc='maximum number of iterations (>= 0)'),\n",
       " Param(parent='LinearRegression_33b24407825c', name='predictionCol', doc='prediction column name'),\n",
       " Param(parent='LinearRegression_33b24407825c', name='regParam', doc='regularization parameter (>= 0)'),\n",
       " Param(parent='LinearRegression_33b24407825c', name='solver', doc='The solver algorithm for optimization. Supported options: auto, normal, l-bfgs. (Default auto)'),\n",
       " Param(parent='LinearRegression_33b24407825c', name='standardization', doc='whether to standardize the training features before fitting the model'),\n",
       " Param(parent='LinearRegression_33b24407825c', name='tol', doc='the convergence tolerance for iterative algorithms (>= 0)')]"
      ]
     },
     "execution_count": 93,
     "metadata": {},
     "output_type": "execute_result"
    }
   ],
   "source": [
    "list(models['economics'].bestModel.stages[-1].extractParamMap().keys())"
   ]
  },
  {
   "cell_type": "code",
   "execution_count": null,
   "metadata": {},
   "outputs": [],
   "source": []
  },
  {
   "cell_type": "code",
   "execution_count": null,
   "metadata": {},
   "outputs": [],
   "source": []
  },
  {
   "cell_type": "code",
   "execution_count": null,
   "metadata": {},
   "outputs": [],
   "source": []
  },
  {
   "cell_type": "code",
   "execution_count": null,
   "metadata": {},
   "outputs": [],
   "source": [
    "models['economics'].bestModel.stages[1].extractParamMap().items()[0]"
   ]
  },
  {
   "cell_type": "code",
   "execution_count": 63,
   "metadata": {},
   "outputs": [
    {
     "name": "stdout",
     "output_type": "stream",
     "text": [
      "The best model parameters for \u001b[94meconomics\u001b[0m are     {Param(parent='LinearRegression_33b24407825c', name='aggregationDepth', doc='suggested depth for treeAggregate (>= 2)'): 2, Param(parent='LinearRegression_33b24407825c', name='elasticNetParam', doc='the ElasticNet mixing parameter, in range [0, 1]. For alpha = 0, the penalty is an L2 penalty. For alpha = 1, it is an L1 penalty'): 0.001, Param(parent='LinearRegression_33b24407825c', name='epsilon', doc='The shape parameter to control the amount of robustness. Must be > 1.0.'): 1.35, Param(parent='LinearRegression_33b24407825c', name='featuresCol', doc='features column name'): 'features', Param(parent='LinearRegression_33b24407825c', name='fitIntercept', doc='whether to fit an intercept term'): True, Param(parent='LinearRegression_33b24407825c', name='labelCol', doc='label column name'): 'y_ravi', Param(parent='LinearRegression_33b24407825c', name='loss', doc='The loss function to be optimized. Supported options: squaredError, huber. (Default squaredError)'): 'squaredError', Param(parent='LinearRegression_33b24407825c', name='maxIter', doc='maximum number of iterations (>= 0)'): 100, Param(parent='LinearRegression_33b24407825c', name='predictionCol', doc='prediction column name'): 'tokens_pred', Param(parent='LinearRegression_33b24407825c', name='regParam', doc='regularization parameter (>= 0)'): 1.0, Param(parent='LinearRegression_33b24407825c', name='solver', doc='The solver algorithm for optimization. Supported options: auto, normal, l-bfgs. (Default auto)'): 'auto', Param(parent='LinearRegression_33b24407825c', name='standardization', doc='whether to standardize the training features before fitting the model'): True, Param(parent='LinearRegression_33b24407825c', name='tol', doc='the convergence tolerance for iterative algorithms (>= 0)'): 1e-06}\n",
      "The best model parameters for \u001b[94mbuddhism\u001b[0m are     {Param(parent='LinearRegression_33b24407825c', name='aggregationDepth', doc='suggested depth for treeAggregate (>= 2)'): 2, Param(parent='LinearRegression_33b24407825c', name='elasticNetParam', doc='the ElasticNet mixing parameter, in range [0, 1]. For alpha = 0, the penalty is an L2 penalty. For alpha = 1, it is an L1 penalty'): 0.001, Param(parent='LinearRegression_33b24407825c', name='epsilon', doc='The shape parameter to control the amount of robustness. Must be > 1.0.'): 1.35, Param(parent='LinearRegression_33b24407825c', name='featuresCol', doc='features column name'): 'features', Param(parent='LinearRegression_33b24407825c', name='fitIntercept', doc='whether to fit an intercept term'): True, Param(parent='LinearRegression_33b24407825c', name='labelCol', doc='label column name'): 'y_ravi', Param(parent='LinearRegression_33b24407825c', name='loss', doc='The loss function to be optimized. Supported options: squaredError, huber. (Default squaredError)'): 'squaredError', Param(parent='LinearRegression_33b24407825c', name='maxIter', doc='maximum number of iterations (>= 0)'): 100, Param(parent='LinearRegression_33b24407825c', name='predictionCol', doc='prediction column name'): 'tokens_pred', Param(parent='LinearRegression_33b24407825c', name='regParam', doc='regularization parameter (>= 0)'): 1.0, Param(parent='LinearRegression_33b24407825c', name='solver', doc='The solver algorithm for optimization. Supported options: auto, normal, l-bfgs. (Default auto)'): 'auto', Param(parent='LinearRegression_33b24407825c', name='standardization', doc='whether to standardize the training features before fitting the model'): True, Param(parent='LinearRegression_33b24407825c', name='tol', doc='the convergence tolerance for iterative algorithms (>= 0)'): 1e-06}\n",
      "The best model parameters for \u001b[94mfitness\u001b[0m are     {Param(parent='LinearRegression_33b24407825c', name='aggregationDepth', doc='suggested depth for treeAggregate (>= 2)'): 2, Param(parent='LinearRegression_33b24407825c', name='elasticNetParam', doc='the ElasticNet mixing parameter, in range [0, 1]. For alpha = 0, the penalty is an L2 penalty. For alpha = 1, it is an L1 penalty'): 0.001, Param(parent='LinearRegression_33b24407825c', name='epsilon', doc='The shape parameter to control the amount of robustness. Must be > 1.0.'): 1.35, Param(parent='LinearRegression_33b24407825c', name='featuresCol', doc='features column name'): 'features', Param(parent='LinearRegression_33b24407825c', name='fitIntercept', doc='whether to fit an intercept term'): True, Param(parent='LinearRegression_33b24407825c', name='labelCol', doc='label column name'): 'y_ravi', Param(parent='LinearRegression_33b24407825c', name='loss', doc='The loss function to be optimized. Supported options: squaredError, huber. (Default squaredError)'): 'squaredError', Param(parent='LinearRegression_33b24407825c', name='maxIter', doc='maximum number of iterations (>= 0)'): 100, Param(parent='LinearRegression_33b24407825c', name='predictionCol', doc='prediction column name'): 'tokens_pred', Param(parent='LinearRegression_33b24407825c', name='regParam', doc='regularization parameter (>= 0)'): 1.0, Param(parent='LinearRegression_33b24407825c', name='solver', doc='The solver algorithm for optimization. Supported options: auto, normal, l-bfgs. (Default auto)'): 'auto', Param(parent='LinearRegression_33b24407825c', name='standardization', doc='whether to standardize the training features before fitting the model'): True, Param(parent='LinearRegression_33b24407825c', name='tol', doc='the convergence tolerance for iterative algorithms (>= 0)'): 1e-06}\n",
      "The best model parameters for \u001b[94mhealth\u001b[0m are     {Param(parent='LinearRegression_33b24407825c', name='aggregationDepth', doc='suggested depth for treeAggregate (>= 2)'): 2, Param(parent='LinearRegression_33b24407825c', name='elasticNetParam', doc='the ElasticNet mixing parameter, in range [0, 1]. For alpha = 0, the penalty is an L2 penalty. For alpha = 1, it is an L1 penalty'): 0.001, Param(parent='LinearRegression_33b24407825c', name='epsilon', doc='The shape parameter to control the amount of robustness. Must be > 1.0.'): 1.35, Param(parent='LinearRegression_33b24407825c', name='featuresCol', doc='features column name'): 'features', Param(parent='LinearRegression_33b24407825c', name='fitIntercept', doc='whether to fit an intercept term'): True, Param(parent='LinearRegression_33b24407825c', name='labelCol', doc='label column name'): 'y_ravi', Param(parent='LinearRegression_33b24407825c', name='loss', doc='The loss function to be optimized. Supported options: squaredError, huber. (Default squaredError)'): 'squaredError', Param(parent='LinearRegression_33b24407825c', name='maxIter', doc='maximum number of iterations (>= 0)'): 100, Param(parent='LinearRegression_33b24407825c', name='predictionCol', doc='prediction column name'): 'tokens_pred', Param(parent='LinearRegression_33b24407825c', name='regParam', doc='regularization parameter (>= 0)'): 1.0, Param(parent='LinearRegression_33b24407825c', name='solver', doc='The solver algorithm for optimization. Supported options: auto, normal, l-bfgs. (Default auto)'): 'auto', Param(parent='LinearRegression_33b24407825c', name='standardization', doc='whether to standardize the training features before fitting the model'): True, Param(parent='LinearRegression_33b24407825c', name='tol', doc='the convergence tolerance for iterative algorithms (>= 0)'): 1e-06}\n",
      "The best model parameters for \u001b[94minterpersonal\u001b[0m are     {Param(parent='LinearRegression_33b24407825c', name='aggregationDepth', doc='suggested depth for treeAggregate (>= 2)'): 2, Param(parent='LinearRegression_33b24407825c', name='elasticNetParam', doc='the ElasticNet mixing parameter, in range [0, 1]. For alpha = 0, the penalty is an L2 penalty. For alpha = 1, it is an L1 penalty'): 0.001, Param(parent='LinearRegression_33b24407825c', name='epsilon', doc='The shape parameter to control the amount of robustness. Must be > 1.0.'): 1.35, Param(parent='LinearRegression_33b24407825c', name='featuresCol', doc='features column name'): 'features', Param(parent='LinearRegression_33b24407825c', name='fitIntercept', doc='whether to fit an intercept term'): True, Param(parent='LinearRegression_33b24407825c', name='labelCol', doc='label column name'): 'y_ravi', Param(parent='LinearRegression_33b24407825c', name='loss', doc='The loss function to be optimized. Supported options: squaredError, huber. (Default squaredError)'): 'squaredError', Param(parent='LinearRegression_33b24407825c', name='maxIter', doc='maximum number of iterations (>= 0)'): 100, Param(parent='LinearRegression_33b24407825c', name='predictionCol', doc='prediction column name'): 'tokens_pred', Param(parent='LinearRegression_33b24407825c', name='regParam', doc='regularization parameter (>= 0)'): 1.0, Param(parent='LinearRegression_33b24407825c', name='solver', doc='The solver algorithm for optimization. Supported options: auto, normal, l-bfgs. (Default auto)'): 'auto', Param(parent='LinearRegression_33b24407825c', name='standardization', doc='whether to standardize the training features before fitting the model'): True, Param(parent='LinearRegression_33b24407825c', name='tol', doc='the convergence tolerance for iterative algorithms (>= 0)'): 1e-06}\n"
     ]
    }
   ],
   "source": [
    "## look at the best parameters\n",
    "for i in data_array:\n",
    "    print(f'The best model parameters for \\033[94m{i}\\033[0m are \\\n",
    "    {models[i].bestModel.stages[1].extractParamMap()}')"
   ]
  },
  {
   "cell_type": "code",
   "execution_count": 71,
   "metadata": {},
   "outputs": [
    {
     "name": "stdout",
     "output_type": "stream",
     "text": [
      "LinearRegression_33b24407825c__aggregationDepth\n",
      "LinearRegression_33b24407825c__elasticNetParam\n",
      "LinearRegression_33b24407825c__epsilon\n",
      "LinearRegression_33b24407825c__featuresCol\n",
      "LinearRegression_33b24407825c__fitIntercept\n",
      "LinearRegression_33b24407825c__labelCol\n",
      "LinearRegression_33b24407825c__loss\n",
      "LinearRegression_33b24407825c__maxIter\n",
      "LinearRegression_33b24407825c__predictionCol\n",
      "LinearRegression_33b24407825c__regParam\n",
      "LinearRegression_33b24407825c__solver\n",
      "LinearRegression_33b24407825c__standardization\n",
      "LinearRegression_33b24407825c__tol\n",
      "LinearRegression_33b24407825c__aggregationDepth\n",
      "LinearRegression_33b24407825c__elasticNetParam\n",
      "LinearRegression_33b24407825c__epsilon\n",
      "LinearRegression_33b24407825c__featuresCol\n",
      "LinearRegression_33b24407825c__fitIntercept\n",
      "LinearRegression_33b24407825c__labelCol\n",
      "LinearRegression_33b24407825c__loss\n",
      "LinearRegression_33b24407825c__maxIter\n",
      "LinearRegression_33b24407825c__predictionCol\n",
      "LinearRegression_33b24407825c__regParam\n",
      "LinearRegression_33b24407825c__solver\n",
      "LinearRegression_33b24407825c__standardization\n",
      "LinearRegression_33b24407825c__tol\n",
      "LinearRegression_33b24407825c__aggregationDepth\n",
      "LinearRegression_33b24407825c__elasticNetParam\n",
      "LinearRegression_33b24407825c__epsilon\n",
      "LinearRegression_33b24407825c__featuresCol\n",
      "LinearRegression_33b24407825c__fitIntercept\n",
      "LinearRegression_33b24407825c__labelCol\n",
      "LinearRegression_33b24407825c__loss\n",
      "LinearRegression_33b24407825c__maxIter\n",
      "LinearRegression_33b24407825c__predictionCol\n",
      "LinearRegression_33b24407825c__regParam\n",
      "LinearRegression_33b24407825c__solver\n",
      "LinearRegression_33b24407825c__standardization\n",
      "LinearRegression_33b24407825c__tol\n",
      "LinearRegression_33b24407825c__aggregationDepth\n",
      "LinearRegression_33b24407825c__elasticNetParam\n",
      "LinearRegression_33b24407825c__epsilon\n",
      "LinearRegression_33b24407825c__featuresCol\n",
      "LinearRegression_33b24407825c__fitIntercept\n",
      "LinearRegression_33b24407825c__labelCol\n",
      "LinearRegression_33b24407825c__loss\n",
      "LinearRegression_33b24407825c__maxIter\n",
      "LinearRegression_33b24407825c__predictionCol\n",
      "LinearRegression_33b24407825c__regParam\n",
      "LinearRegression_33b24407825c__solver\n",
      "LinearRegression_33b24407825c__standardization\n",
      "LinearRegression_33b24407825c__tol\n",
      "LinearRegression_33b24407825c__aggregationDepth\n",
      "LinearRegression_33b24407825c__elasticNetParam\n",
      "LinearRegression_33b24407825c__epsilon\n",
      "LinearRegression_33b24407825c__featuresCol\n",
      "LinearRegression_33b24407825c__fitIntercept\n",
      "LinearRegression_33b24407825c__labelCol\n",
      "LinearRegression_33b24407825c__loss\n",
      "LinearRegression_33b24407825c__maxIter\n",
      "LinearRegression_33b24407825c__predictionCol\n",
      "LinearRegression_33b24407825c__regParam\n",
      "LinearRegression_33b24407825c__solver\n",
      "LinearRegression_33b24407825c__standardization\n",
      "LinearRegression_33b24407825c__tol\n"
     ]
    }
   ],
   "source": [
    "for i in data_array:\n",
    "    for key, value in models[i].bestModel.stages[1].extractParamMap().items():\n",
    "        print (key)"
   ]
  },
  {
   "cell_type": "code",
   "execution_count": null,
   "metadata": {},
   "outputs": [],
   "source": [
    "param_dict['economics'].bestModel.stages[1].extractParamMap()"
   ]
  },
  {
   "cell_type": "code",
   "execution_count": null,
   "metadata": {},
   "outputs": [],
   "source": []
  },
  {
   "cell_type": "code",
   "execution_count": null,
   "metadata": {},
   "outputs": [],
   "source": []
  },
  {
   "cell_type": "code",
   "execution_count": null,
   "metadata": {},
   "outputs": [],
   "source": []
  },
  {
   "cell_type": "code",
   "execution_count": null,
   "metadata": {},
   "outputs": [],
   "source": [
    "df_ = spark.createDataFrame(datasets['economics'].take(5))"
   ]
  },
  {
   "cell_type": "code",
   "execution_count": null,
   "metadata": {},
   "outputs": [],
   "source": [
    "show_spark_df(df_)"
   ]
  },
  {
   "cell_type": "code",
   "execution_count": null,
   "metadata": {},
   "outputs": [],
   "source": [
    "word_feat_list = tester4.transform( tester3.fit(tester.transform(df_)).transform(tester.transform(df_)) )"
   ]
  },
  {
   "cell_type": "code",
   "execution_count": null,
   "metadata": {},
   "outputs": [],
   "source": [
    "word_feat_list"
   ]
  },
  {
   "cell_type": "code",
   "execution_count": null,
   "metadata": {
    "scrolled": false
   },
   "outputs": [],
   "source": [
    "word_feat_list.select('features').collect()"
   ]
  },
  {
   "cell_type": "code",
   "execution_count": null,
   "metadata": {
    "scrolled": false
   },
   "outputs": [],
   "source": [
    "show_spark_df(word_feat_list)"
   ]
  },
  {
   "cell_type": "code",
   "execution_count": null,
   "metadata": {},
   "outputs": [],
   "source": [
    "from pyspark.mllib.linalg import Vectors\n",
    "def as_mllib_vector(v):\n",
    "    return Vectors.sparse(v.size, v.indices, v.values)"
   ]
  },
  {
   "cell_type": "code",
   "execution_count": null,
   "metadata": {},
   "outputs": [],
   "source": [
    "word_feat_list.select(\"features\").rdd.map(lambda r: r[0][0]).collect()"
   ]
  },
  {
   "cell_type": "code",
   "execution_count": null,
   "metadata": {},
   "outputs": [],
   "source": [
    "word_feat_list.select(\"features\").rdd.map(lambda r: r[0]).map(lambda r: (r,1)).reduceByKey(lambda a,b: a+b).collect()"
   ]
  },
  {
   "cell_type": "code",
   "execution_count": null,
   "metadata": {},
   "outputs": [],
   "source": []
  },
  {
   "cell_type": "code",
   "execution_count": null,
   "metadata": {},
   "outputs": [],
   "source": [
    "tester = NLTKWordPunctTokeniser(\n",
    "    inputCol='title', outputCol='title_words',  \n",
    "    stopwords=set(nltk.corpus.stopwords.words('english')))\n",
    "\n",
    "tester2 = NLTKWordPunctTokeniser(\n",
    "    inputCol='clean_body', outputCol='body_words',  \n",
    "    stopwords=set(nltk.corpus.stopwords.words('english')))"
   ]
  },
  {
   "cell_type": "code",
   "execution_count": null,
   "metadata": {},
   "outputs": [],
   "source": [
    "tester3 = CountVectorizer(inputCol=\"title_words\", outputCol=\"features\")"
   ]
  },
  {
   "cell_type": "code",
   "execution_count": null,
   "metadata": {},
   "outputs": [],
   "source": [
    "tester4 = NLTKCounter(inputCol='features', outputCol='final_features')"
   ]
  },
  {
   "cell_type": "code",
   "execution_count": null,
   "metadata": {},
   "outputs": [],
   "source": []
  },
  {
   "cell_type": "code",
   "execution_count": null,
   "metadata": {},
   "outputs": [],
   "source": []
  },
  {
   "cell_type": "code",
   "execution_count": null,
   "metadata": {},
   "outputs": [],
   "source": [
    "########################\n",
    "###### SENTENISER ######\n",
    "########################\n",
    "\n",
    "import nltk\n",
    "from nltk.stem import PorterStemmer\n",
    "ps = PorterStemmer()\n",
    "from pyspark import keyword_only  ## < 2.0 -> pyspark.ml.util.keyword_only\n",
    "from pyspark.ml import Transformer\n",
    "from pyspark.ml.param.shared import HasInputCol, HasOutputCol, Param\n",
    "from pyspark.sql.functions import udf\n",
    "from pyspark.sql.types import ArrayType, StringType\n",
    "\n",
    "## custom transformer for nltk tokenisation\n",
    "class NLTKSenteniser(Transformer, HasInputCol, HasOutputCol):\n",
    "\n",
    "    @keyword_only\n",
    "    def __init__(self, inputCol=None, outputCol=None, stopwords=None):\n",
    "        super(NLTKWordPunctTokenizer, self).__init__()\n",
    "        self.stopwords = Param(self, \"stopwords\", \"\")\n",
    "        self._setDefault(stopwords=set())\n",
    "        kwargs = self._input_kwargs\n",
    "        self.setParams(**kwargs)\n",
    "\n",
    "    @keyword_only\n",
    "    def setParams(self, inputCol=None, outputCol=None, stopwords=None):\n",
    "        kwargs = self._input_kwargs\n",
    "        return self._set(**kwargs)\n",
    "\n",
    "    def setStopwords(self, value):\n",
    "        self._paramMap[self.stopwords] = value\n",
    "        return self\n",
    "\n",
    "    def getStopwords(self):\n",
    "        return self.getOrDefault(self.stopwords)\n",
    "\n",
    "    def _transform(self, dataset):\n",
    "        stopwords = self.getStopwords()\n",
    "\n",
    "        def f(s):\n",
    "            # get tokens with separate punctuation\n",
    "            tokens = nltk.tokenize.wordpunct_tokenize(s)\n",
    "            # sort out russian stopwords\n",
    "            if ('я' in tokens):\n",
    "                tokens = [t for t in tokens if t not in nltk.corpus.stopwords.words('russian')]\n",
    "            # remove english stopwords\n",
    "            tokens = [t for t in tokens if t not in stopwords]\n",
    "            # remove single letters\n",
    "            tokens = [t for t in tokens if not len(t)==1]\n",
    "            # stemming the words\n",
    "            tokens = [ps.stem(t) for t in tokens]\n",
    "            # convert to lower case\n",
    "            return [t.lower() for t in tokens]\n",
    "    \n",
    "        t = ArrayType(StringType())\n",
    "        out_col = self.getOutputCol()\n",
    "        in_col = dataset[self.getInputCol()]\n",
    "        return dataset.withColumn(out_col, udf(f, t)(in_col))"
   ]
  },
  {
   "cell_type": "code",
   "execution_count": null,
   "metadata": {},
   "outputs": [],
   "source": [
    "#######################\n",
    "####### COUNTER #######\n",
    "#######################\n",
    "\n",
    "import nltk\n",
    "from pyspark import keyword_only  ## < 2.0 -> pyspark.ml.util.keyword_only\n",
    "from pyspark.ml import Transformer\n",
    "from pyspark.ml.param.shared import HasInputCol, HasOutputCol, Param\n",
    "from pyspark.sql.functions import udf\n",
    "from pyspark.sql.types import ArrayType, StringType\n",
    "\n",
    "## custom transformer for nltk tokenisation\n",
    "class NLTKCounter(Transformer, HasInputCol, HasOutputCol):\n",
    "    '''\n",
    "    Takes in cnt_vectrizr to count number of tokens per question\n",
    "    '''\n",
    "\n",
    "    @keyword_only\n",
    "    def __init__(self, inputCol=None, outputCol=None):\n",
    "        super(NLTKCounter, self).__init__()\n",
    "        kwargs = self._input_kwargs\n",
    "        self.setParams(**kwargs)\n",
    "\n",
    "    @keyword_only\n",
    "    def setParams(self, inputCol=None, outputCol=None):\n",
    "        kwargs = self._input_kwargs\n",
    "        return self._set(**kwargs)\n",
    "\n",
    "    def _transform(self, dataset):\n",
    "\n",
    "        def f(s):\n",
    "            return 1\n",
    "    \n",
    "        t = ArrayType(StringType())\n",
    "        out_col = self.getOutputCol()\n",
    "        in_col = dataset[self.getInputCol()]\n",
    "        return dataset.withColumn(out_col, udf(f, t)(in_col))"
   ]
  },
  {
   "cell_type": "code",
   "execution_count": null,
   "metadata": {},
   "outputs": [],
   "source": []
  },
  {
   "cell_type": "code",
   "execution_count": null,
   "metadata": {},
   "outputs": [],
   "source": []
  },
  {
   "cell_type": "code",
   "execution_count": null,
   "metadata": {},
   "outputs": [],
   "source": []
  },
  {
   "cell_type": "code",
   "execution_count": null,
   "metadata": {},
   "outputs": [],
   "source": []
  },
  {
   "cell_type": "code",
   "execution_count": null,
   "metadata": {},
   "outputs": [],
   "source": []
  },
  {
   "cell_type": "code",
   "execution_count": null,
   "metadata": {},
   "outputs": [],
   "source": []
  },
  {
   "cell_type": "code",
   "execution_count": null,
   "metadata": {},
   "outputs": [],
   "source": []
  },
  {
   "cell_type": "code",
   "execution_count": null,
   "metadata": {},
   "outputs": [],
   "source": [
    "a"
   ]
  },
  {
   "cell_type": "code",
   "execution_count": null,
   "metadata": {},
   "outputs": [],
   "source": []
  },
  {
   "cell_type": "code",
   "execution_count": null,
   "metadata": {},
   "outputs": [],
   "source": []
  },
  {
   "cell_type": "code",
   "execution_count": null,
   "metadata": {},
   "outputs": [],
   "source": [
    "## import elements from natural language toolkit\n",
    "import nltk\n",
    "#nltk.download('all') # uncomment after first run as admin check\n",
    "from nltk.tokenize import sent_tokenize, word_tokenize\n",
    "from nltk.corpus import stopwords\n",
    "from nltk.stem.wordnet import WordNetLemmatizer\n",
    "import string\n",
    "stop_words = set(stopwords.words('english'))\n",
    "table = str.maketrans('', '', string.punctuation)\n",
    "lmtzr = WordNetLemmatizer()\n",
    "\n",
    "def get_tokens(line):\n",
    "    '''\n",
    "    Function to parse text features\n",
    "    '''\n",
    "    tokens = word_tokenize(line)\n",
    "    # convert to lower case\n",
    "    tokens = [w.lower() for w in tokens]\n",
    "    # remove punctuations from each word\n",
    "    stripped = [w.translate(table) for w in tokens]\n",
    "    # remove remaining tokens that are not alphabetic\n",
    "    words = [word for word in stripped if word.isalpha()]\n",
    "    # filter out stopwords\n",
    "    words = [w for w in words if not w in stop_words]\n",
    "    # lemmatizing the words, see https://en.wikipedia.org/wiki/Lemmatisation\n",
    "    '''lemmatise or stem???'''\n",
    "    words = [lmtzr.lemmatize(w) for w in words]\n",
    "    # remove single letters\n",
    "    words = [word for word in words if not len(word)==1]\n",
    "    return (words)"
   ]
  },
  {
   "cell_type": "code",
   "execution_count": null,
   "metadata": {},
   "outputs": [],
   "source": []
  },
  {
   "cell_type": "code",
   "execution_count": null,
   "metadata": {},
   "outputs": [],
   "source": [
    "import pyspark.sql.functions as F\n",
    "from pyspark.ml import Pipeline, Transformer\n",
    "from pyspark.ml.feature import Bucketizer\n",
    "from pyspark.sql import DataFrame\n",
    "from typing import Iterable\n",
    "import pandas as pd\n",
    "\n",
    "## custom transformer to spread sparse vectors into individual columns\n",
    "class VectorMLliber(Transformer):\n",
    "    \"\"\"\n",
    "    A custom Transformer which converts a column of pyspark.ml vectors to multiple pyspark.mllib vectors.\n",
    "    \"\"\"\n",
    "\n",
    "    def __init__(self, inputCol=None):\n",
    "        super(VectorMLliber, self).__init__()\n",
    "\n",
    "    def _transform(self, df: DataFrame) -> DataFrame:\n",
    "        \n",
    "        def f(v):\n",
    "            return Vectors.sparse(v.size, v.indices, v.values)\n",
    "        \n",
    "        df = df.rdd.map(lambda r: as_mllib_vector(r[0]))\n",
    "        return df"
   ]
  },
  {
   "cell_type": "code",
   "execution_count": null,
   "metadata": {},
   "outputs": [],
   "source": [
    "# ???????????\n",
    "VectorMLliber_body = VectorMLliber(inputCol='body_features')\n",
    "VectorMLliber_title = VectorMLliber(inputCol='titl_features')"
   ]
  },
  {
   "cell_type": "code",
   "execution_count": null,
   "metadata": {},
   "outputs": [],
   "source": [
    "'''def as_mllib_vector(v):\n",
    "    return Vectors.sparse(v.size, v.indices, v.values)\n",
    "\n",
    "features = {}\n",
    "feature_vec_list = {}\n",
    "for i in data_array:\n",
    "    features[i] = word_feat_list[i].select(\"features\")\n",
    "    feature_vec_list[i] = features[i].rdd.map(lambda r: as_mllib_vector(r[0]))\n",
    "    feature_vec_list[i].cache()\n",
    "'''"
   ]
  },
  {
   "cell_type": "code",
   "execution_count": null,
   "metadata": {},
   "outputs": [],
   "source": [
    "\n",
    "\n",
    "\n",
    "\n"
   ]
  },
  {
   "cell_type": "code",
   "execution_count": null,
   "metadata": {},
   "outputs": [],
   "source": []
  },
  {
   "cell_type": "code",
   "execution_count": null,
   "metadata": {},
   "outputs": [],
   "source": [
    "(trained_pipeline\n",
    " .transform(datasets['english'])\n",
    " .select(\n",
    "    indep_text_variables + [\"prediction\"]\n",
    " )\n",
    " .write\n",
    " .parquet(\"linreg_prediction.parquet\")\n",
    ")"
   ]
  },
  {
   "cell_type": "code",
   "execution_count": null,
   "metadata": {},
   "outputs": [],
   "source": [
    "linreg_predictions = spark.read.parquet(\"linreg_prediction.parquet\")"
   ]
  },
  {
   "cell_type": "code",
   "execution_count": null,
   "metadata": {},
   "outputs": [],
   "source": [
    "linreg_predictions.toPandas().head()"
   ]
  },
  {
   "cell_type": "code",
   "execution_count": null,
   "metadata": {},
   "outputs": [],
   "source": [
    "linreg_predictions.select(\"prediction\").describe().toPandas()"
   ]
  },
  {
   "cell_type": "code",
   "execution_count": null,
   "metadata": {},
   "outputs": [],
   "source": []
  },
  {
   "cell_type": "code",
   "execution_count": null,
   "metadata": {},
   "outputs": [],
   "source": []
  },
  {
   "cell_type": "markdown",
   "metadata": {},
   "source": [
    "# Save pipelines"
   ]
  },
  {
   "cell_type": "code",
   "execution_count": null,
   "metadata": {},
   "outputs": [],
   "source": [
    "from joblib import dump, load\n",
    "dump(estimator_pipeline, 'pipeline.joblib') \n",
    "\n",
    "reloaded = load(\"pipeline.joblib\")\n",
    "\n",
    "#Now we can predict directly!\n",
    "\n",
    "reloaded.predict(X)[:10]"
   ]
  },
  {
   "cell_type": "code",
   "execution_count": null,
   "metadata": {
    "scrolled": true
   },
   "outputs": [],
   "source": [
    "## save models DOESN'T WORK BECAUSE: 'NLTKWordPunctTokenizer' object has no attribute '_to_java'\n",
    "for i in data_array:\n",
    "    param_dict[i].save(f'{i}-pipeline') "
   ]
  },
  {
   "cell_type": "markdown",
   "metadata": {},
   "source": [
    "# Convert notebook to python file"
   ]
  },
  {
   "cell_type": "code",
   "execution_count": null,
   "metadata": {},
   "outputs": [],
   "source": [
    "!jupyter nbconvert --to script 0-master-notebook-pipelines.ipynb"
   ]
  }
 ],
 "metadata": {
  "kernelspec": {
   "display_name": "Python 3",
   "language": "python",
   "name": "python3"
  },
  "language_info": {
   "codemirror_mode": {
    "name": "ipython",
    "version": 3
   },
   "file_extension": ".py",
   "mimetype": "text/x-python",
   "name": "python",
   "nbconvert_exporter": "python",
   "pygments_lexer": "ipython3",
   "version": "3.6.7"
  }
 },
 "nbformat": 4,
 "nbformat_minor": 2
}

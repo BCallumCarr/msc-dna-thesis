{
 "cells": [
  {
   "cell_type": "markdown",
   "metadata": {},
   "source": [
    "# Recoding xmls to jsons"
   ]
  },
  {
   "cell_type": "code",
   "execution_count": null,
   "metadata": {},
   "outputs": [],
   "source": [
    "## use com.databricks package specified when spinning up cluster\n",
    "import os ## restart kernel\n",
    "#os._exit(00)\n",
    "os.environ['PYSPARK_SUBMIT_ARGS'] = '--packages com.databricks:spark-xml_2.11:0.4.1 pyspark-shell'\n",
    "\n",
    "## import standard libraries\n",
    "import re\n",
    "import time\n",
    "import numpy as np\n",
    "import matplotlib.pyplot as plt\n",
    "%matplotlib inline\n",
    "from datetime import datetime\n",
    "\n",
    "## import pyspark elements\n",
    "from pyspark.sql import SQLContext\n",
    "sqlContext = SQLContext(sc)\n",
    "from pyspark.sql.functions import col, lit, when\n",
    "from pyspark.sql import Row\n",
    "\n",
    "## set checkpoint directory\n",
    "sc.setCheckpointDir(\"gs://bucket-brad-project/tmp/\")"
   ]
  },
  {
   "cell_type": "code",
   "execution_count": null,
   "metadata": {},
   "outputs": [],
   "source": [
    "## choose datasets to compare\n",
    "data_array = [\n",
    "\"english\",\n",
    "\"maths\",\n",
    "\"rus_stackoverflow\",\n",
    "\"superuser\",\n",
    "]"
   ]
  },
  {
   "cell_type": "code",
   "execution_count": null,
   "metadata": {},
   "outputs": [],
   "source": [
    "## point to right directory\n",
    "fpath = 'gs://bucket-brad-project/datasets/large-datasets/'\n",
    "\n",
    "## function to extract data from xml files\n",
    "def load_all_xml(table_name):\n",
    "    # create dataframe list skeleton\n",
    "    dfs = {}\n",
    "    xml_name = table_name.capitalize()\n",
    "    for i in data_array:\n",
    "        table = sqlContext.read.format('com.databricks.spark.xml').options(rowTag=table_name).load(fpath+i+'.stackexchange.com/'+xml_name+'.xml')\n",
    "        rdd_table = table.rdd.flatMap(lambda x: x).flatMap(lambda x: x).repartition(96) # key step\n",
    "        # assign dataframe to list entry\n",
    "        dfs[i] = sqlContext.createDataFrame(rdd_table, table.schema.fields[0].dataType.elementType)\n",
    "        dfs[i].createOrReplaceTempView(table_name)\n",
    "    return dfs"
   ]
  },
  {
   "cell_type": "markdown",
   "metadata": {},
   "source": [
    "### Load xmls into pyspark dataframes"
   ]
  },
  {
   "cell_type": "code",
   "execution_count": null,
   "metadata": {},
   "outputs": [],
   "source": [
    "## start time\n",
    "t0 = time.time()\n",
    "print(\"Start time:\", datetime.now().time())\n",
    "\n",
    "## extract all datasets and store in list of dataframes\n",
    "posts_dfs = load_all_xml(\"posts\")\n",
    "\n",
    "## end time\n",
    "T = time.time() - t0;\n",
    "print(\"Time taken:\", round(T/60), \"minutes.\") "
   ]
  },
  {
   "cell_type": "code",
   "execution_count": null,
   "metadata": {},
   "outputs": [],
   "source": [
    "# print type of posts_dfs\n",
    "print(type(posts_dfs))\n",
    "print('\\n')\n",
    "\n",
    "# print type of first dataframe\n",
    "print(type(posts_dfs[\"codereview\"]))\n",
    "print('\\n')\n",
    "\n",
    "# schema of first dataframe\n",
    "posts_dfs[\"codereview\"].printSchema()"
   ]
  },
  {
   "cell_type": "markdown",
   "metadata": {},
   "source": [
    "### Write to json"
   ]
  },
  {
   "cell_type": "code",
   "execution_count": null,
   "metadata": {},
   "outputs": [],
   "source": [
    "df_final.coalesce(1).write.format('json').save(data_output_file+\"createjson.json\", overwrite=True)"
   ]
  },
  {
   "cell_type": "code",
   "execution_count": null,
   "metadata": {},
   "outputs": [],
   "source": [
    "import json\n",
    "collected_df = df_final.collect()\n",
    "with open(data_output_file + 'createjson.json', 'w') as outfile:\n",
    "    json.dump(data, outfile)"
   ]
  }
 ],
 "metadata": {
  "kernelspec": {
   "display_name": "Python 3",
   "language": "python",
   "name": "python3"
  },
  "language_info": {
   "codemirror_mode": {
    "name": "ipython",
    "version": 3
   },
   "file_extension": ".py",
   "mimetype": "text/x-python",
   "name": "python",
   "nbconvert_exporter": "python",
   "pygments_lexer": "ipython3",
   "version": "3.7.0"
  }
 },
 "nbformat": 4,
 "nbformat_minor": 2
}

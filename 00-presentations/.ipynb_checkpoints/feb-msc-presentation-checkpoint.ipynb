{
 "cells": [
  {
   "cell_type": "markdown",
   "metadata": {
    "slideshow": {
     "slide_type": "slide"
    }
   },
   "source": [
    "# ST499 Assisting online Q&A users in improving the signal of their questions\n",
    "\n",
    "## LSE\n",
    "\n",
    "### Brad Carruthers\n",
    "\n",
    "---"
   ]
  },
  {
   "cell_type": "code",
   "execution_count": 1,
   "metadata": {
    "slideshow": {
     "slide_type": "notes"
    }
   },
   "outputs": [],
   "source": [
    "# I want to nudge users to improve their quesstions online to address this kind of issue:"
   ]
  },
  {
   "cell_type": "markdown",
   "metadata": {
    "slideshow": {
     "slide_type": "slide"
    }
   },
   "source": [
    "<img src=\"img/bad-question.png\" style=\"width: 780px;\" alt=\"stack exchange bad question\"> "
   ]
  },
  {
   "cell_type": "markdown",
   "metadata": {
    "slideshow": {
     "slide_type": "slide"
    }
   },
   "source": [
    "## My goal\n",
    "\n",
    "<!--_To what extent can we automatically inform a user of the probability that their question will be answered across disciplines?_-->\n",
    "\n",
    "Practical value: Nudging users into improving their questions before matching with expert resources online:\n",
    "\n",
    "---\n",
    "\n",
    "<img src=\"img/dupe-question.png\" style=\"width: 800px;\" alt=\"stack exchange duplicate question\">"
   ]
  },
  {
   "cell_type": "markdown",
   "metadata": {
    "slideshow": {
     "slide_type": "slide"
    }
   },
   "source": [
    "## Overview of problem\n",
    "\n",
    "<!--_“All happy families are alike; each unhappy family is unhappy in its own way.”_\n",
    "― Leo Tolstoy\n",
    "I am interested in increasing question \"quality\" or clarity for users online. All good questions are similar in that they are legible, relevant, not too difficult and maybe latently \"good\", and each bad question will be bad in its own way.-->\n",
    "\n",
    "Empirically, question \"quality\" or clarity has only recently been addressed (Li et al. 2012; Bian et al. 2009; Agichtein et al. 2008).\n",
    "\n",
    "Question quality significantly impacts quality of answers (Anderson et al. 2012).\n",
    "\n",
    "Previous work has however been limited in terms of data and performance of models:\n",
    "\n",
    "Ravi et al. (2014) use question content and topic models of StackOverflow question-and-answer data with voting over questions to capture a notion of question \"quality\" extending beyond popularity.\n",
    "\n",
    "I plan to replicate the methodology of Ravi et al. (2014) for comparison across diverse StackExchange communities (Maths, Gaming, English-use), and potentially broader Q&A platforms, to ascertain if this notion of \"quality\" extends across disciplines."
   ]
  },
  {
   "cell_type": "markdown",
   "metadata": {
    "slideshow": {
     "slide_type": "slide"
    }
   },
   "source": [
    "## Methodology and Data Analysis\n",
    "\n",
    "### Latent Dirichlet Allocation (LDA)\n",
    "\n",
    "A topic model introduced by Blei et al. (2003) for text which plainly put models hidden topics as probability distributions over words.\n",
    "\n",
    "### The state of the art\n",
    "\n",
    "Ravi et al. (2014) choose the total number of views and vote score as a representation of question quality and normalise this metric to address popularity bias. They classify questions as _bad_ or _good_ using a threshold close the average of this measure.\n",
    "\n",
    "This binary classifier is trained based of three LDA levels - one globally for capturing topics for the entire question, one locally for topics at sentence level, and a global topic structure (Mallows) model laid out by Fligner & Verducci (1986)."
   ]
  },
  {
   "cell_type": "markdown",
   "metadata": {
    "slideshow": {
     "slide_type": "slide"
    }
   },
   "source": [
    "## The state of the art (cont.)\n",
    "\n",
    "The model in Ravi et al. (2014) beats the classification performance of just using viewcounts (i.e. popularity) by more than 10%, suggesting that their notion of quality is capturing more than popularity.\n",
    "\n",
    "It is clear therefore, that large StackExchange (SE) datasets provide opportunities to discover something resembling question quality, and it remains to be seen if this can be done across disciplines and communities."
   ]
  },
  {
   "cell_type": "markdown",
   "metadata": {
    "slideshow": {
     "slide_type": "slide"
    }
   },
   "source": [
    "## Timetable for remainder of project\n",
    "\n",
    "| Month-end | Goal |\n",
    "| ---- | ---- |\n",
    "| March & April | Exploratory analysis of multiple SE communities and building understanding of underlying model |\n",
    "| May | Begin implementation and validation of text-only model on StackOverflow data |\n",
    "| June | Validation of StackOverflow model across multiple SE fora |\n",
    "| July & August | Finalise writing up results |"
   ]
  },
  {
   "cell_type": "markdown",
   "metadata": {
    "slideshow": {
     "slide_type": "slide"
    }
   },
   "source": [
    "## Thank you"
   ]
  },
  {
   "cell_type": "markdown",
   "metadata": {
    "slideshow": {
     "slide_type": "slide"
    }
   },
   "source": [
    "## References\n",
    "\n",
    "Agichtein, E., Castillo, C., Donato, D., Gionis, A. and Mishne, G., 2008, February. Finding high-quality content in social media. In Proceedings of the 2008 international conference on web search and data mining (pp. 183-194). ACM.\n",
    "\n",
    "Anderson, A., Huttenlocher, D., Kleinberg, J. and Leskovec, J., 2012, August. Discovering value from community activity on focused question answering sites: a case study of stack overflow. In Proceedings of the 18th ACM SIGKDD international conference on Knowledge discovery and data mining (pp. 850-858). ACM.\n",
    "\n",
    "Bian, J., Liu, Y., Zhou, D., Agichtein, E. and Zha, H., 2009, April. Learning to recognize reliable users and content in social media with coupled mutual reinforcement. In Proceedings of the 18th international conference on World wide web (pp. 51-60). ACM.\n",
    "\n",
    "Blei, D.M., Ng, A.Y. and Jordan, M.I., 2003. Latent dirichlet allocation. Journal of machine Learning research, 3(Jan), pp.993-1022.\n",
    "\n",
    "Fligner, M.A. and Verducci, J.S., 1986. Distance based ranking models. Journal of the Royal Statistical Society: Series B (Methodological), 48(3), pp.359-369."
   ]
  },
  {
   "cell_type": "markdown",
   "metadata": {
    "slideshow": {
     "slide_type": "slide"
    }
   },
   "source": [
    "## References (cont.)\n",
    "\n",
    "Li, B., Jin, T., Lyu, M.R., King, I. and Mak, B., 2012, April. Analyzing and predicting question quality in community question answering services. In Proceedings of the 21st International Conference on World Wide Web (pp. 775-782). ACM.\n",
    "\n",
    "Ravi, S., Pang, B., Rastogi, V. and Kumar, R., 2014, May. Great question! question quality in community q&a. In _Eighth International AAAI Conference on Weblogs and Social Media._"
   ]
  },
  {
   "cell_type": "markdown",
   "metadata": {
    "slideshow": {
     "slide_type": "slide"
    }
   },
   "source": [
    "## Learning Framework\n",
    "\n",
    "<img src=\"img/learning-framework.png\" style=\"width: 580px;\" alt=\"learning framework\"> "
   ]
  },
  {
   "cell_type": "markdown",
   "metadata": {
    "slideshow": {
     "slide_type": "slide"
    }
   },
   "source": [
    "<img src=\"img/se-limiting-bad-questions.png\" style=\"width: 700px;\" alt=\"stack exchange bad question\">"
   ]
  },
  {
   "cell_type": "markdown",
   "metadata": {
    "slideshow": {
     "slide_type": "slide"
    }
   },
   "source": [
    "<img src=\"img/nudges-to-improve-question.png\" style=\"width: 700px;\" alt=\"stack exchange bad question\">"
   ]
  },
  {
   "cell_type": "markdown",
   "metadata": {
    "slideshow": {
     "slide_type": "slide"
    }
   },
   "source": [
    "<img src=\"img/question-suggestions.png\" style=\"width: 700px;\" alt=\"stack exchange bad question\">"
   ]
  },
  {
   "cell_type": "markdown",
   "metadata": {
    "slideshow": {
     "slide_type": "slide"
    }
   },
   "source": [
    "#### Discussion quality in the digital public square\n",
    "\n",
    "Berry2017 found that ranking Facebook comments by quality rather than temporally lead to higher discussion quality.\n",
    "\n",
    "* They lay groundwork for studying comment-quality and show that text-only models can predict and measure quality.\n",
    "* They evaluate methods to rank the dimension of quality depicted to users and show how depicted higher quality comments can improve user experience\n",
    "* They are careful about distinguishing between social feedback changing _who_ participates versus _how_ participants participate\n"
   ]
  },
  {
   "cell_type": "markdown",
   "metadata": {
    "slideshow": {
     "slide_type": "slide"
    }
   },
   "source": [
    "#### Learning Analytics Application\n",
    "\n",
    "Brinton2014 address the issue of information overload on Massive Open Online Courses (too few answerers for the sheer volume of questions).\n",
    "\n",
    "They propose a unified generative model for discussion threads that consist of \"small-talk\" and course relevant posts, allowing them to choose efficient thread classifiers as well as design an effective algorithm to rank relevance.\n",
    "\n",
    "Their methodology for addressing information overload:s\n",
    "* First few days see a lot of small-talk in forums which need to be classified and filtered out\n",
    "* Small talk then fades away, thus need to rank relevance of new threads over time\n",
    "\n",
    "Therefore need effective classifier for discussion-thread and algorithm for ranking relevance."
   ]
  },
  {
   "cell_type": "markdown",
   "metadata": {
    "slideshow": {
     "slide_type": "slide"
    }
   },
   "source": [
    "#### Bag of Tricks for Efficient Text Classification\n",
    "Joulin2016 come up with a classifier, `fasttext`, which can compete with deep learning classifiers in terms of accuracy while being many orders of magnitude faster.\n",
    "#### Enriching Word Vectors with Subword Information\n",
    "Bojanowski2017 state that popular models that assign a distinct vector to each word for learning continous word representations trained on large unlabeled corpora ignore how words relate to one another. This is especially problematic for languages with large vocabularies and lots of rare words. They propose a new approach based on the skipgram model. Their method is fast, is able to work with words not appearing in training data and achieves state of the art performance.\n",
    "#### Latent Dirichlet Allocation\n",
    "Blei2003 basically invent latent Dirichlet allocation - a generative probabilistic model for collections of discrete data like text corpora. LDA is a three-level hierarchical Bayesian model - each item of a collection is modeled as a finite mixture over an underlying set of topics. Each topic is, as well, modeled as an infinite mixture over an underlying set of topic probabilities. The topic probabilities explicitly represent the document."
   ]
  },
  {
   "cell_type": "markdown",
   "metadata": {
    "slideshow": {
     "slide_type": "slide"
    }
   },
   "source": [
    "__Why is the problem a non-trivial problem?__\n",
    "\n",
    "Question quality has a number of dimensions (legibility, relevance) and very nuanced dimensions (furthering productive discussion etc.). The data is messy and developing a model that performs well on multiple response-variables while also not being computationally burdensome is non-trivial.\n",
    "\n",
    "__Who cares and who would benefit? What are use cases/application scenarios?__\n",
    "\n",
    "Suggestions/nudges to multi-disciplinary users to improve the quality of their question before they issue a task to the task-completion system - social Q&A fora (StackExchange and Quora), Massive Open Online Courses or wherever there is community feedback on user-interactions.\n",
    "\n",
    "There is research that the matching-mechanism in two-sided online markets is sub-optimal (Milan reference), thus ideally this model would assist questioners in identifying deficiencies in their questions before matching takes place.\n",
    "\n",
    "__Top marks if I can pinpoint to the questioner where they need to improve their question.__"
   ]
  }
 ],
 "metadata": {
  "celltoolbar": "Slideshow",
  "kernelspec": {
   "display_name": "Python 3",
   "language": "python",
   "name": "python3"
  },
  "language_info": {
   "codemirror_mode": {
    "name": "ipython",
    "version": 3
   },
   "file_extension": ".py",
   "mimetype": "text/x-python",
   "name": "python",
   "nbconvert_exporter": "python",
   "pygments_lexer": "ipython3",
   "version": "3.7.0"
  }
 },
 "nbformat": 4,
 "nbformat_minor": 2
}
